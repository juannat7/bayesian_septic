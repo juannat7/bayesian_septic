{
 "cells": [
  {
   "cell_type": "markdown",
   "id": "bc250ff4",
   "metadata": {
    "slideshow": {
     "slide_type": "skip"
    }
   },
   "source": [
    "This notebook applies hierarchical bayesian modeling using topographical remote sensing product"
   ]
  },
  {
   "cell_type": "code",
   "execution_count": 1,
   "id": "368f0d8f",
   "metadata": {},
   "outputs": [],
   "source": [
    "%load_ext autoreload\n",
    "%autoreload 2"
   ]
  },
  {
   "cell_type": "code",
   "execution_count": 2,
   "id": "5b6f49d6",
   "metadata": {
    "slideshow": {
     "slide_type": "skip"
    }
   },
   "outputs": [
    {
     "name": "stderr",
     "output_type": "stream",
     "text": [
      "/Users/juannat/opt/anaconda3/envs/septic/lib/python3.9/site-packages/tqdm/auto.py:22: TqdmWarning: IProgress not found. Please update jupyter and ipywidgets. See https://ipywidgets.readthedocs.io/en/stable/user_install.html\n",
      "  from .autonotebook import tqdm as notebook_tqdm\n"
     ]
    }
   ],
   "source": [
    "import sys\n",
    "sys.path.append('..')\n",
    "import pymc3 as pm\n",
    "from tqdm import tqdm\n",
    "from sklearn.metrics import *\n",
    "import numpy as np\n",
    "\n",
    "import optuna\n",
    "import sklearn\n",
    "from sklearn.ensemble import RandomForestClassifier\n",
    "from sklearn.svm import SVC\n",
    "import xgboost as xgb\n",
    "from sklearn.model_selection import train_test_split\n",
    "\n",
    "from src.utils import *\n",
    "from src.params import *\n",
    "tqdm.pandas()\n",
    "\n",
    "%matplotlib inline"
   ]
  },
  {
   "cell_type": "markdown",
   "id": "0d6cf41c",
   "metadata": {},
   "source": [
    "# Data Pre-Processing"
   ]
  },
  {
   "cell_type": "code",
   "execution_count": 3,
   "id": "baa29f99",
   "metadata": {},
   "outputs": [
    {
     "name": "stdout",
     "output_type": "stream",
     "text": [
      "balancing...\n",
      "non-repairs: 15.574291158976727%, repairs: 84.42570884102327%\n"
     ]
    },
    {
     "name": "stderr",
     "output_type": "stream",
     "text": [
      "/Users/juannat/Documents/research/septic/bayesian_septic/notebooks/../src/utils.py:76: DtypeWarning: Columns (21) have mixed types. Specify dtype option on import or set low_memory=False.\n",
      "  df = pd.read_csv(file_dir)\n"
     ]
    }
   ],
   "source": [
    "df, basin_idx, basins, coords = read_data(file_dir='../data/hierarchical_septics_v4.csv',\n",
    "        cols=['ppt_2021', 'hydraulic_c','median_hse', 'dem'], is_balanced=True)"
   ]
  },
  {
   "cell_type": "markdown",
   "id": "52640296",
   "metadata": {},
   "source": [
    "# Baseline Comparison"
   ]
  },
  {
   "cell_type": "code",
   "execution_count": 4,
   "id": "d51da4bb",
   "metadata": {},
   "outputs": [],
   "source": [
    "train_x, test_x, train_y, test_y = train_test_split(df[['ppt_2021_norm', 'hydraulic_c_norm', 'median_hse_norm', 'dem_norm']], \n",
    "                                                    df['sewageSystem_enc'], \n",
    "                                                    test_size=0.8, \n",
    "                                                    random_state=0)"
   ]
  },
  {
   "cell_type": "markdown",
   "id": "885294cc",
   "metadata": {},
   "source": [
    "### a) Aggregate Bayesian"
   ]
  },
  {
   "cell_type": "markdown",
   "id": "4a61d4bf",
   "metadata": {},
   "source": [
    "\\begin{equation*}\n",
    "Y \\sim Bernoulli(\\theta)\\tag{1}\n",
    "\\end{equation*}\n",
    "\n",
    "\\begin{equation*}\n",
    "\\theta = \\sigma(\\beta_{c} + \\beta_{w}.waterdist + \\beta_{p}.precip + \\beta_{h}.hydraulics + \\beta_{s}.hseval + \\beta_{t}.elev) \\tag{2}\n",
    "\\end{equation*}\n",
    "\n",
    "\\begin{equation*}\n",
    "\\textbf{Intercept parameters}\\\\\n",
    "    \\beta_{c} \\sim N_{c}(\\mu=\\mu_{c}, \\sigma=\\theta_{c})\\\\\n",
    "    \\text{where }\\mu_{c} \\sim N(\\mu=0, \\sigma=10) \\quad and \\quad \\theta_{c} \\sim HN(\\sigma=10) \\tag{3}\n",
    "\\end{equation*}\n",
    "\n",
    "\\begin{equation*}\n",
    "\\textbf{Precipitation parameters}\\\\\n",
    "    \\beta_{p} \\sim N_{p}(\\mu=\\mu_{p}, \\sigma=\\sigma_p)\\\\\n",
    "    \\text{where }\\mu_{p} \\sim N(\\mu=0, \\sigma=10) \\quad and \\quad \\sigma_p \\sim HN(\\sigma=10) \\tag{4}\n",
    "\\end{equation*}\n",
    "\n",
    "\\begin{equation*}\n",
    "\\textbf{Soil hydraulic conductivity parameters}\\\\\n",
    "    \\beta_{h} \\sim N_{h}(\\mu=\\mu_h,\\sigma=\\sigma_h)\\\\\n",
    "    \\text{where }\\mu_h \\sim N(\\mu=0, \\sigma=10) \\quad \\sigma_h \\sim HN(\\sigma=10) \\tag{5}\n",
    "\\end{equation*}\n",
    "\n",
    "\\begin{equation*}\n",
    "\\textbf{Socio-economic parameters}\\\\\n",
    "    \\beta_{s} \\sim N_{s}(\\mu=0, \\sigma=\\sigma_s)\\\\\n",
    "    \\text{where }\\sigma_s \\sim HN(\\sigma=10) \\tag{6}\n",
    "\\end{equation*}\n",
    "\n",
    "\\begin{equation*}\n",
    "\\textbf{Topography (elevation) parameters}\\\\\n",
    "    \\beta_{t} \\sim Exp_{t}(\\lambda=\\lambda_t)\\\\\n",
    "    \\text{where }\\lambda_t \\sim HN(\\sigma=10) \\tag{7}\n",
    "\\end{equation*}"
   ]
  },
  {
   "cell_type": "code",
   "execution_count": 5,
   "id": "53b84818",
   "metadata": {},
   "outputs": [],
   "source": [
    "rs = 100\n",
    "tune = 1000"
   ]
  },
  {
   "cell_type": "markdown",
   "id": "aa1adae8",
   "metadata": {},
   "source": [
    "1. Water model: precipitation and distance to water bodies"
   ]
  },
  {
   "cell_type": "code",
   "execution_count": 6,
   "id": "8750328d",
   "metadata": {},
   "outputs": [
    {
     "name": "stderr",
     "output_type": "stream",
     "text": [
      "Only 100 samples in chain.\n",
      "Auto-assigning NUTS sampler...\n",
      "Initializing NUTS using jitter+adapt_diag...\n",
      "Multiprocess sampling (3 chains in 3 jobs)\n",
      "NUTS: [c, ppt, sigma_c, mu_c, ppt_sig, ppt_mu]\n"
     ]
    },
    {
     "data": {
      "text/html": [
       "\n",
       "    <div>\n",
       "        <style>\n",
       "            /* Turns off some styling */\n",
       "            progress {\n",
       "                /* gets rid of default border in Firefox and Opera. */\n",
       "                border: none;\n",
       "                /* Needs to be in here for Safari polyfill so background images work as expected. */\n",
       "                background-size: auto;\n",
       "            }\n",
       "            .progress-bar-interrupted, .progress-bar-interrupted::-webkit-progress-bar {\n",
       "                background: #F44336;\n",
       "            }\n",
       "        </style>\n",
       "      <progress value='3300' class='' max='3300' style='width:300px; height:20px; vertical-align: middle;'></progress>\n",
       "      100.00% [3300/3300 02:37<00:00 Sampling 3 chains, 1 divergences]\n",
       "    </div>\n",
       "    "
      ],
      "text/plain": [
       "<IPython.core.display.HTML object>"
      ]
     },
     "metadata": {},
     "output_type": "display_data"
    },
    {
     "name": "stderr",
     "output_type": "stream",
     "text": [
      "/Users/juannat/opt/anaconda3/envs/septic/lib/python3.9/site-packages/scipy/stats/_continuous_distns.py:624: RuntimeWarning: overflow encountered in _beta_ppf\n",
      "  return _boost._beta_ppf(q, a, b)\n",
      "/Users/juannat/opt/anaconda3/envs/septic/lib/python3.9/site-packages/scipy/stats/_continuous_distns.py:624: RuntimeWarning: overflow encountered in _beta_ppf\n",
      "  return _boost._beta_ppf(q, a, b)\n",
      "/Users/juannat/opt/anaconda3/envs/septic/lib/python3.9/site-packages/scipy/stats/_continuous_distns.py:624: RuntimeWarning: overflow encountered in _beta_ppf\n",
      "  return _boost._beta_ppf(q, a, b)\n",
      "Sampling 3 chains for 1_000 tune and 100 draw iterations (3_000 + 300 draws total) took 180 seconds.\n",
      "There was 1 divergence after tuning. Increase `target_accept` or reparameterize.\n"
     ]
    }
   ],
   "source": [
    "with pm.Model(coords=coords) as model:\n",
    "    # constant data: basin information and variables\n",
    "    basin = pm.Data('basin', basin_idx)\n",
    "    # water_d = pm.Data('water_d', df.water_dist_norm.values)\n",
    "    ppt_d = pm.Data('ppt_d', df.ppt_2021_norm.values)\n",
    "\n",
    "    # global model parameters\n",
    "    # wtr_beta = pm.HalfNormal(\"wtr_beta\", sigma=10)\n",
    "    ppt_mu = pm.Normal(\"ppt_mu\", mu=0, sigma=10)\n",
    "    ppt_sig = pm.HalfNormal(\"ppt_sig\", sigma=10)\n",
    "    mu_c = pm.Normal('mu_c', mu=0, sigma=10)\n",
    "    sigma_c = pm.HalfNormal('sigma_c', sigma=10)\n",
    "\n",
    "    # septic-specific model parameters\n",
    "    # wtr_dist = pm.Exponential(\"wtr_dist\", lam=wtr_beta)\n",
    "    ppt = pm.Normal(\"ppt\", mu=ppt_mu, sigma=ppt_sig)\n",
    "    c = pm.Normal('c', mu=mu_c, sigma=sigma_c)\n",
    "    \n",
    "    # hierarchical bayesian formula\n",
    "    failure_theta = pm.math.sigmoid(c\n",
    "                                    # + wtr_dist * water_d \n",
    "                                    + ppt * ppt_d\n",
    "                                   )\n",
    "\n",
    "    # likelihood of observed data\n",
    "    failures = pm.Bernoulli('failures', failure_theta, observed=df['sewageSystem_enc'])\n",
    "    \n",
    "    # fitting using NUTS sampler\n",
    "    trace = pm.sample(100, tune=tune, cores=3, return_inferencedata=True, target_accept=0.99, random_seed=rs)"
   ]
  },
  {
   "cell_type": "code",
   "execution_count": 7,
   "id": "7c59b57d",
   "metadata": {},
   "outputs": [
    {
     "data": {
      "text/html": [
       "\n",
       "    <div>\n",
       "        <style>\n",
       "            /* Turns off some styling */\n",
       "            progress {\n",
       "                /* gets rid of default border in Firefox and Opera. */\n",
       "                border: none;\n",
       "                /* Needs to be in here for Safari polyfill so background images work as expected. */\n",
       "                background-size: auto;\n",
       "            }\n",
       "            .progress-bar-interrupted, .progress-bar-interrupted::-webkit-progress-bar {\n",
       "                background: #F44336;\n",
       "            }\n",
       "        </style>\n",
       "      <progress value='500' class='' max='500' style='width:300px; height:20px; vertical-align: middle;'></progress>\n",
       "      100.00% [500/500 00:00<00:00]\n",
       "    </div>\n",
       "    "
      ],
      "text/plain": [
       "<IPython.core.display.HTML object>"
      ]
     },
     "metadata": {},
     "output_type": "display_data"
    },
    {
     "data": {
      "text/html": [
       "\n",
       "    <div>\n",
       "        <style>\n",
       "            /* Turns off some styling */\n",
       "            progress {\n",
       "                /* gets rid of default border in Firefox and Opera. */\n",
       "                border: none;\n",
       "                /* Needs to be in here for Safari polyfill so background images work as expected. */\n",
       "                background-size: auto;\n",
       "            }\n",
       "            .progress-bar-interrupted, .progress-bar-interrupted::-webkit-progress-bar {\n",
       "                background: #F44336;\n",
       "            }\n",
       "        </style>\n",
       "      <progress value='500' class='' max='500' style='width:300px; height:20px; vertical-align: middle;'></progress>\n",
       "      100.00% [500/500 00:00<00:00]\n",
       "    </div>\n",
       "    "
      ],
      "text/plain": [
       "<IPython.core.display.HTML object>"
      ]
     },
     "metadata": {},
     "output_type": "display_data"
    },
    {
     "data": {
      "text/html": [
       "\n",
       "    <div>\n",
       "        <style>\n",
       "            /* Turns off some styling */\n",
       "            progress {\n",
       "                /* gets rid of default border in Firefox and Opera. */\n",
       "                border: none;\n",
       "                /* Needs to be in here for Safari polyfill so background images work as expected. */\n",
       "                background-size: auto;\n",
       "            }\n",
       "            .progress-bar-interrupted, .progress-bar-interrupted::-webkit-progress-bar {\n",
       "                background: #F44336;\n",
       "            }\n",
       "        </style>\n",
       "      <progress value='500' class='' max='500' style='width:300px; height:20px; vertical-align: middle;'></progress>\n",
       "      100.00% [500/500 00:00<00:00]\n",
       "    </div>\n",
       "    "
      ],
      "text/plain": [
       "<IPython.core.display.HTML object>"
      ]
     },
     "metadata": {},
     "output_type": "display_data"
    },
    {
     "data": {
      "text/html": [
       "\n",
       "    <div>\n",
       "        <style>\n",
       "            /* Turns off some styling */\n",
       "            progress {\n",
       "                /* gets rid of default border in Firefox and Opera. */\n",
       "                border: none;\n",
       "                /* Needs to be in here for Safari polyfill so background images work as expected. */\n",
       "                background-size: auto;\n",
       "            }\n",
       "            .progress-bar-interrupted, .progress-bar-interrupted::-webkit-progress-bar {\n",
       "                background: #F44336;\n",
       "            }\n",
       "        </style>\n",
       "      <progress value='500' class='' max='500' style='width:300px; height:20px; vertical-align: middle;'></progress>\n",
       "      100.00% [500/500 00:00<00:00]\n",
       "    </div>\n",
       "    "
      ],
      "text/plain": [
       "<IPython.core.display.HTML object>"
      ]
     },
     "metadata": {},
     "output_type": "display_data"
    },
    {
     "data": {
      "text/html": [
       "\n",
       "    <div>\n",
       "        <style>\n",
       "            /* Turns off some styling */\n",
       "            progress {\n",
       "                /* gets rid of default border in Firefox and Opera. */\n",
       "                border: none;\n",
       "                /* Needs to be in here for Safari polyfill so background images work as expected. */\n",
       "                background-size: auto;\n",
       "            }\n",
       "            .progress-bar-interrupted, .progress-bar-interrupted::-webkit-progress-bar {\n",
       "                background: #F44336;\n",
       "            }\n",
       "        </style>\n",
       "      <progress value='500' class='' max='500' style='width:300px; height:20px; vertical-align: middle;'></progress>\n",
       "      100.00% [500/500 00:00<00:00]\n",
       "    </div>\n",
       "    "
      ],
      "text/plain": [
       "<IPython.core.display.HTML object>"
      ]
     },
     "metadata": {},
     "output_type": "display_data"
    },
    {
     "name": "stdout",
     "output_type": "stream",
     "text": [
      "accuracy is: 64.76355533547908 ± 0.19027111717594267%\n"
     ]
    }
   ],
   "source": [
    "# evaluate model\n",
    "y = df.sewageSystem_enc.to_list()\n",
    "accs = []\n",
    "for i in range(5):\n",
    "    acc, y_pred = evaluate_bayes(trace, model, y)\n",
    "    accs.append(acc)\n",
    "\n",
    "print(f'accuracy is: {np.array(accs).mean()} ± {np.array(accs).std()}%')"
   ]
  },
  {
   "cell_type": "markdown",
   "id": "e366c583",
   "metadata": {},
   "source": [
    "2. Soil model"
   ]
  },
  {
   "cell_type": "code",
   "execution_count": 6,
   "id": "63d53202",
   "metadata": {},
   "outputs": [
    {
     "name": "stderr",
     "output_type": "stream",
     "text": [
      "Only 100 samples in chain.\n",
      "Auto-assigning NUTS sampler...\n",
      "Initializing NUTS using jitter+adapt_diag...\n",
      "Multiprocess sampling (3 chains in 3 jobs)\n",
      "NUTS: [c, hydr, sigma_c, mu_c, hydr_sig, hydr_mu]\n"
     ]
    },
    {
     "data": {
      "text/html": [
       "\n",
       "    <div>\n",
       "        <style>\n",
       "            /* Turns off some styling */\n",
       "            progress {\n",
       "                /* gets rid of default border in Firefox and Opera. */\n",
       "                border: none;\n",
       "                /* Needs to be in here for Safari polyfill so background images work as expected. */\n",
       "                background-size: auto;\n",
       "            }\n",
       "            .progress-bar-interrupted, .progress-bar-interrupted::-webkit-progress-bar {\n",
       "                background: #F44336;\n",
       "            }\n",
       "        </style>\n",
       "      <progress value='3300' class='' max='3300' style='width:300px; height:20px; vertical-align: middle;'></progress>\n",
       "      100.00% [3300/3300 01:28<00:00 Sampling 3 chains, 1 divergences]\n",
       "    </div>\n",
       "    "
      ],
      "text/plain": [
       "<IPython.core.display.HTML object>"
      ]
     },
     "metadata": {},
     "output_type": "display_data"
    },
    {
     "name": "stderr",
     "output_type": "stream",
     "text": [
      "/Users/juannat/opt/anaconda3/envs/septic/lib/python3.9/site-packages/scipy/stats/_continuous_distns.py:624: RuntimeWarning: overflow encountered in _beta_ppf\n",
      "  return _boost._beta_ppf(q, a, b)\n",
      "/Users/juannat/opt/anaconda3/envs/septic/lib/python3.9/site-packages/scipy/stats/_continuous_distns.py:624: RuntimeWarning: overflow encountered in _beta_ppf\n",
      "  return _boost._beta_ppf(q, a, b)\n",
      "/Users/juannat/opt/anaconda3/envs/septic/lib/python3.9/site-packages/scipy/stats/_continuous_distns.py:624: RuntimeWarning: overflow encountered in _beta_ppf\n",
      "  return _boost._beta_ppf(q, a, b)\n",
      "Sampling 3 chains for 1_000 tune and 100 draw iterations (3_000 + 300 draws total) took 109 seconds.\n",
      "The acceptance probability does not match the target. It is 0.94520775394954, but should be close to 0.99. Try to increase the number of tuning steps.\n",
      "There was 1 divergence after tuning. Increase `target_accept` or reparameterize.\n",
      "The rhat statistic is larger than 1.05 for some parameters. This indicates slight problems during sampling.\n",
      "The number of effective samples is smaller than 25% for some parameters.\n"
     ]
    }
   ],
   "source": [
    "with pm.Model(coords=coords) as model:\n",
    "    # constant data: basin information and variables\n",
    "    basin = pm.Data('basin', basin_idx)\n",
    "    hydr_d = pm.Data('hydr_d', df.hydraulic_c_norm.values)\n",
    "\n",
    "    # global model parameters\n",
    "    hydr_mu = pm.Normal(\"hydr_mu\", mu=0, sigma=10)\n",
    "    hydr_sig = pm.HalfNormal('hydr_sig', sigma=10)\n",
    "    mu_c = pm.Normal('mu_c', mu=0, sigma=10)\n",
    "    sigma_c = pm.HalfNormal('sigma_c', sigma=10)\n",
    "\n",
    "    # septic-specific model parameters\n",
    "    hydr = pm.Normal('hydr', mu=hydr_mu, sigma=hydr_sig)\n",
    "    c = pm.Normal('c', mu=mu_c, sigma=sigma_c)\n",
    "    \n",
    "    # hierarchical bayesian formula\n",
    "    failure_theta = pm.math.sigmoid(c\n",
    "                                    + hydr * hydr_d\n",
    "                                   )\n",
    "\n",
    "    # likelihood of observed data\n",
    "    failures = pm.Bernoulli('failures', failure_theta, observed=df['sewageSystem_enc'])\n",
    "    \n",
    "    # fitting using NUTS sampler\n",
    "    trace = pm.sample(100, tune=tune, cores=3, return_inferencedata=True, target_accept=0.99, random_seed=rs)"
   ]
  },
  {
   "cell_type": "code",
   "execution_count": 7,
   "id": "3791c519",
   "metadata": {},
   "outputs": [
    {
     "data": {
      "text/html": [
       "\n",
       "    <div>\n",
       "        <style>\n",
       "            /* Turns off some styling */\n",
       "            progress {\n",
       "                /* gets rid of default border in Firefox and Opera. */\n",
       "                border: none;\n",
       "                /* Needs to be in here for Safari polyfill so background images work as expected. */\n",
       "                background-size: auto;\n",
       "            }\n",
       "            .progress-bar-interrupted, .progress-bar-interrupted::-webkit-progress-bar {\n",
       "                background: #F44336;\n",
       "            }\n",
       "        </style>\n",
       "      <progress value='500' class='' max='500' style='width:300px; height:20px; vertical-align: middle;'></progress>\n",
       "      100.00% [500/500 00:00<00:00]\n",
       "    </div>\n",
       "    "
      ],
      "text/plain": [
       "<IPython.core.display.HTML object>"
      ]
     },
     "metadata": {},
     "output_type": "display_data"
    },
    {
     "data": {
      "text/html": [
       "\n",
       "    <div>\n",
       "        <style>\n",
       "            /* Turns off some styling */\n",
       "            progress {\n",
       "                /* gets rid of default border in Firefox and Opera. */\n",
       "                border: none;\n",
       "                /* Needs to be in here for Safari polyfill so background images work as expected. */\n",
       "                background-size: auto;\n",
       "            }\n",
       "            .progress-bar-interrupted, .progress-bar-interrupted::-webkit-progress-bar {\n",
       "                background: #F44336;\n",
       "            }\n",
       "        </style>\n",
       "      <progress value='500' class='' max='500' style='width:300px; height:20px; vertical-align: middle;'></progress>\n",
       "      100.00% [500/500 00:00<00:00]\n",
       "    </div>\n",
       "    "
      ],
      "text/plain": [
       "<IPython.core.display.HTML object>"
      ]
     },
     "metadata": {},
     "output_type": "display_data"
    },
    {
     "data": {
      "text/html": [
       "\n",
       "    <div>\n",
       "        <style>\n",
       "            /* Turns off some styling */\n",
       "            progress {\n",
       "                /* gets rid of default border in Firefox and Opera. */\n",
       "                border: none;\n",
       "                /* Needs to be in here for Safari polyfill so background images work as expected. */\n",
       "                background-size: auto;\n",
       "            }\n",
       "            .progress-bar-interrupted, .progress-bar-interrupted::-webkit-progress-bar {\n",
       "                background: #F44336;\n",
       "            }\n",
       "        </style>\n",
       "      <progress value='500' class='' max='500' style='width:300px; height:20px; vertical-align: middle;'></progress>\n",
       "      100.00% [500/500 00:00<00:00]\n",
       "    </div>\n",
       "    "
      ],
      "text/plain": [
       "<IPython.core.display.HTML object>"
      ]
     },
     "metadata": {},
     "output_type": "display_data"
    },
    {
     "data": {
      "text/html": [
       "\n",
       "    <div>\n",
       "        <style>\n",
       "            /* Turns off some styling */\n",
       "            progress {\n",
       "                /* gets rid of default border in Firefox and Opera. */\n",
       "                border: none;\n",
       "                /* Needs to be in here for Safari polyfill so background images work as expected. */\n",
       "                background-size: auto;\n",
       "            }\n",
       "            .progress-bar-interrupted, .progress-bar-interrupted::-webkit-progress-bar {\n",
       "                background: #F44336;\n",
       "            }\n",
       "        </style>\n",
       "      <progress value='500' class='' max='500' style='width:300px; height:20px; vertical-align: middle;'></progress>\n",
       "      100.00% [500/500 00:00<00:00]\n",
       "    </div>\n",
       "    "
      ],
      "text/plain": [
       "<IPython.core.display.HTML object>"
      ]
     },
     "metadata": {},
     "output_type": "display_data"
    },
    {
     "data": {
      "text/html": [
       "\n",
       "    <div>\n",
       "        <style>\n",
       "            /* Turns off some styling */\n",
       "            progress {\n",
       "                /* gets rid of default border in Firefox and Opera. */\n",
       "                border: none;\n",
       "                /* Needs to be in here for Safari polyfill so background images work as expected. */\n",
       "                background-size: auto;\n",
       "            }\n",
       "            .progress-bar-interrupted, .progress-bar-interrupted::-webkit-progress-bar {\n",
       "                background: #F44336;\n",
       "            }\n",
       "        </style>\n",
       "      <progress value='500' class='' max='500' style='width:300px; height:20px; vertical-align: middle;'></progress>\n",
       "      100.00% [500/500 00:00<00:00]\n",
       "    </div>\n",
       "    "
      ],
      "text/plain": [
       "<IPython.core.display.HTML object>"
      ]
     },
     "metadata": {},
     "output_type": "display_data"
    },
    {
     "name": "stdout",
     "output_type": "stream",
     "text": [
      "accuracy is: 58.43649418172814 ± 0.06597134238412564%\n"
     ]
    }
   ],
   "source": [
    "# evaluate model\n",
    "y = df.sewageSystem_enc.to_list()\n",
    "accs = []\n",
    "for i in range(5):\n",
    "    acc, y_pred = evaluate_bayes(trace, model, y)\n",
    "    accs.append(acc)\n",
    "\n",
    "print(f'accuracy is: {np.array(accs).mean()} ± {np.array(accs).std()}%')"
   ]
  },
  {
   "cell_type": "markdown",
   "id": "9dff333b",
   "metadata": {},
   "source": [
    "3. Topo model: elevation"
   ]
  },
  {
   "cell_type": "code",
   "execution_count": 10,
   "id": "7b759451",
   "metadata": {},
   "outputs": [
    {
     "name": "stderr",
     "output_type": "stream",
     "text": [
      "Only 100 samples in chain.\n",
      "Auto-assigning NUTS sampler...\n",
      "Initializing NUTS using jitter+adapt_diag...\n",
      "Multiprocess sampling (3 chains in 3 jobs)\n",
      "NUTS: [c, dem, sigma_c, mu_c, dem_beta]\n"
     ]
    },
    {
     "data": {
      "text/html": [
       "\n",
       "    <div>\n",
       "        <style>\n",
       "            /* Turns off some styling */\n",
       "            progress {\n",
       "                /* gets rid of default border in Firefox and Opera. */\n",
       "                border: none;\n",
       "                /* Needs to be in here for Safari polyfill so background images work as expected. */\n",
       "                background-size: auto;\n",
       "            }\n",
       "            .progress-bar-interrupted, .progress-bar-interrupted::-webkit-progress-bar {\n",
       "                background: #F44336;\n",
       "            }\n",
       "        </style>\n",
       "      <progress value='3300' class='' max='3300' style='width:300px; height:20px; vertical-align: middle;'></progress>\n",
       "      100.00% [3300/3300 03:07<00:00 Sampling 3 chains, 2 divergences]\n",
       "    </div>\n",
       "    "
      ],
      "text/plain": [
       "<IPython.core.display.HTML object>"
      ]
     },
     "metadata": {},
     "output_type": "display_data"
    },
    {
     "name": "stderr",
     "output_type": "stream",
     "text": [
      "/Users/juannat/opt/anaconda3/envs/septic/lib/python3.9/site-packages/scipy/stats/_continuous_distns.py:624: RuntimeWarning: overflow encountered in _beta_ppf\n",
      "  return _boost._beta_ppf(q, a, b)\n",
      "/Users/juannat/opt/anaconda3/envs/septic/lib/python3.9/site-packages/scipy/stats/_continuous_distns.py:624: RuntimeWarning: overflow encountered in _beta_ppf\n",
      "  return _boost._beta_ppf(q, a, b)\n",
      "/Users/juannat/opt/anaconda3/envs/septic/lib/python3.9/site-packages/scipy/stats/_continuous_distns.py:624: RuntimeWarning: overflow encountered in _beta_ppf\n",
      "  return _boost._beta_ppf(q, a, b)\n",
      "Sampling 3 chains for 1_000 tune and 100 draw iterations (3_000 + 300 draws total) took 201 seconds.\n",
      "There was 1 divergence after tuning. Increase `target_accept` or reparameterize.\n",
      "There was 1 divergence after tuning. Increase `target_accept` or reparameterize.\n",
      "The number of effective samples is smaller than 25% for some parameters.\n"
     ]
    }
   ],
   "source": [
    "with pm.Model(coords=coords) as model:\n",
    "    # constant data: basin information and variables\n",
    "    basin = pm.Data('basin', basin_idx)\n",
    "    dem_d = pm.Data('dem_d', df.dem_norm.values)\n",
    "\n",
    "    # global model parameters\n",
    "    dem_beta = pm.HalfNormal('dem_beta', sigma=10)\n",
    "    mu_c = pm.Normal('mu_c', mu=0, sigma=10)\n",
    "    sigma_c = pm.HalfNormal('sigma_c', sigma=10)\n",
    "\n",
    "    # septic-specific model parameters\n",
    "    dem = pm.Exponential('dem', lam=dem_beta)\n",
    "    c = pm.Normal('c', mu=mu_c, sigma=sigma_c)\n",
    "    \n",
    "    # hierarchical bayesian formula\n",
    "    failure_theta = pm.math.sigmoid(c\n",
    "                                    + dem * dem_d\n",
    "                                   )\n",
    "\n",
    "    # likelihood of observed data\n",
    "    failures = pm.Bernoulli('failures', failure_theta, observed=df['sewageSystem_enc'])\n",
    "    \n",
    "    # fitting using NUTS sampler\n",
    "    trace = pm.sample(100, tune=tune, cores=3, return_inferencedata=True, target_accept=0.99, random_seed=rs)"
   ]
  },
  {
   "cell_type": "code",
   "execution_count": 11,
   "id": "f10a4e37",
   "metadata": {},
   "outputs": [
    {
     "data": {
      "text/html": [
       "\n",
       "    <div>\n",
       "        <style>\n",
       "            /* Turns off some styling */\n",
       "            progress {\n",
       "                /* gets rid of default border in Firefox and Opera. */\n",
       "                border: none;\n",
       "                /* Needs to be in here for Safari polyfill so background images work as expected. */\n",
       "                background-size: auto;\n",
       "            }\n",
       "            .progress-bar-interrupted, .progress-bar-interrupted::-webkit-progress-bar {\n",
       "                background: #F44336;\n",
       "            }\n",
       "        </style>\n",
       "      <progress value='500' class='' max='500' style='width:300px; height:20px; vertical-align: middle;'></progress>\n",
       "      100.00% [500/500 00:01<00:00]\n",
       "    </div>\n",
       "    "
      ],
      "text/plain": [
       "<IPython.core.display.HTML object>"
      ]
     },
     "metadata": {},
     "output_type": "display_data"
    },
    {
     "data": {
      "text/html": [
       "\n",
       "    <div>\n",
       "        <style>\n",
       "            /* Turns off some styling */\n",
       "            progress {\n",
       "                /* gets rid of default border in Firefox and Opera. */\n",
       "                border: none;\n",
       "                /* Needs to be in here for Safari polyfill so background images work as expected. */\n",
       "                background-size: auto;\n",
       "            }\n",
       "            .progress-bar-interrupted, .progress-bar-interrupted::-webkit-progress-bar {\n",
       "                background: #F44336;\n",
       "            }\n",
       "        </style>\n",
       "      <progress value='500' class='' max='500' style='width:300px; height:20px; vertical-align: middle;'></progress>\n",
       "      100.00% [500/500 00:01<00:00]\n",
       "    </div>\n",
       "    "
      ],
      "text/plain": [
       "<IPython.core.display.HTML object>"
      ]
     },
     "metadata": {},
     "output_type": "display_data"
    },
    {
     "data": {
      "text/html": [
       "\n",
       "    <div>\n",
       "        <style>\n",
       "            /* Turns off some styling */\n",
       "            progress {\n",
       "                /* gets rid of default border in Firefox and Opera. */\n",
       "                border: none;\n",
       "                /* Needs to be in here for Safari polyfill so background images work as expected. */\n",
       "                background-size: auto;\n",
       "            }\n",
       "            .progress-bar-interrupted, .progress-bar-interrupted::-webkit-progress-bar {\n",
       "                background: #F44336;\n",
       "            }\n",
       "        </style>\n",
       "      <progress value='500' class='' max='500' style='width:300px; height:20px; vertical-align: middle;'></progress>\n",
       "      100.00% [500/500 00:01<00:00]\n",
       "    </div>\n",
       "    "
      ],
      "text/plain": [
       "<IPython.core.display.HTML object>"
      ]
     },
     "metadata": {},
     "output_type": "display_data"
    },
    {
     "data": {
      "text/html": [
       "\n",
       "    <div>\n",
       "        <style>\n",
       "            /* Turns off some styling */\n",
       "            progress {\n",
       "                /* gets rid of default border in Firefox and Opera. */\n",
       "                border: none;\n",
       "                /* Needs to be in here for Safari polyfill so background images work as expected. */\n",
       "                background-size: auto;\n",
       "            }\n",
       "            .progress-bar-interrupted, .progress-bar-interrupted::-webkit-progress-bar {\n",
       "                background: #F44336;\n",
       "            }\n",
       "        </style>\n",
       "      <progress value='500' class='' max='500' style='width:300px; height:20px; vertical-align: middle;'></progress>\n",
       "      100.00% [500/500 00:01<00:00]\n",
       "    </div>\n",
       "    "
      ],
      "text/plain": [
       "<IPython.core.display.HTML object>"
      ]
     },
     "metadata": {},
     "output_type": "display_data"
    },
    {
     "data": {
      "text/html": [
       "\n",
       "    <div>\n",
       "        <style>\n",
       "            /* Turns off some styling */\n",
       "            progress {\n",
       "                /* gets rid of default border in Firefox and Opera. */\n",
       "                border: none;\n",
       "                /* Needs to be in here for Safari polyfill so background images work as expected. */\n",
       "                background-size: auto;\n",
       "            }\n",
       "            .progress-bar-interrupted, .progress-bar-interrupted::-webkit-progress-bar {\n",
       "                background: #F44336;\n",
       "            }\n",
       "        </style>\n",
       "      <progress value='500' class='' max='500' style='width:300px; height:20px; vertical-align: middle;'></progress>\n",
       "      100.00% [500/500 00:01<00:00]\n",
       "    </div>\n",
       "    "
      ],
      "text/plain": [
       "<IPython.core.display.HTML object>"
      ]
     },
     "metadata": {},
     "output_type": "display_data"
    },
    {
     "name": "stdout",
     "output_type": "stream",
     "text": [
      "accuracy is: 77.78286704629859 ± 0.05544490140272147%\n"
     ]
    }
   ],
   "source": [
    "# evaluate model\n",
    "y = df.sewageSystem_enc.to_list()\n",
    "accs = []\n",
    "for i in range(5):\n",
    "    acc, y_pred = evaluate_bayes(trace, model, y)\n",
    "    accs.append(acc)\n",
    "\n",
    "print(f'accuracy is: {np.array(accs).mean()} ± {np.array(accs).std()}%')"
   ]
  },
  {
   "cell_type": "markdown",
   "id": "25e7c823",
   "metadata": {},
   "source": [
    "4. Socio-economic model: median housing value"
   ]
  },
  {
   "cell_type": "code",
   "execution_count": 12,
   "id": "01fffe92",
   "metadata": {},
   "outputs": [
    {
     "name": "stderr",
     "output_type": "stream",
     "text": [
      "Only 100 samples in chain.\n",
      "Auto-assigning NUTS sampler...\n",
      "Initializing NUTS using jitter+adapt_diag...\n",
      "Multiprocess sampling (3 chains in 3 jobs)\n",
      "NUTS: [c, hse, sigma_c, mu_c, hse_sig]\n"
     ]
    },
    {
     "data": {
      "text/html": [
       "\n",
       "    <div>\n",
       "        <style>\n",
       "            /* Turns off some styling */\n",
       "            progress {\n",
       "                /* gets rid of default border in Firefox and Opera. */\n",
       "                border: none;\n",
       "                /* Needs to be in here for Safari polyfill so background images work as expected. */\n",
       "                background-size: auto;\n",
       "            }\n",
       "            .progress-bar-interrupted, .progress-bar-interrupted::-webkit-progress-bar {\n",
       "                background: #F44336;\n",
       "            }\n",
       "        </style>\n",
       "      <progress value='3300' class='' max='3300' style='width:300px; height:20px; vertical-align: middle;'></progress>\n",
       "      100.00% [3300/3300 01:42<00:00 Sampling 3 chains, 3 divergences]\n",
       "    </div>\n",
       "    "
      ],
      "text/plain": [
       "<IPython.core.display.HTML object>"
      ]
     },
     "metadata": {},
     "output_type": "display_data"
    },
    {
     "name": "stderr",
     "output_type": "stream",
     "text": [
      "/Users/juannat/opt/anaconda3/envs/septic/lib/python3.9/site-packages/scipy/stats/_continuous_distns.py:624: RuntimeWarning: overflow encountered in _beta_ppf\n",
      "  return _boost._beta_ppf(q, a, b)\n",
      "/Users/juannat/opt/anaconda3/envs/septic/lib/python3.9/site-packages/scipy/stats/_continuous_distns.py:624: RuntimeWarning: overflow encountered in _beta_ppf\n",
      "  return _boost._beta_ppf(q, a, b)\n",
      "/Users/juannat/opt/anaconda3/envs/septic/lib/python3.9/site-packages/scipy/stats/_continuous_distns.py:624: RuntimeWarning: overflow encountered in _beta_ppf\n",
      "  return _boost._beta_ppf(q, a, b)\n",
      "Sampling 3 chains for 1_000 tune and 100 draw iterations (3_000 + 300 draws total) took 119 seconds.\n",
      "The acceptance probability does not match the target. It is 0.9542177615182179, but should be close to 0.99. Try to increase the number of tuning steps.\n",
      "There were 2 divergences after tuning. Increase `target_accept` or reparameterize.\n",
      "There was 1 divergence after tuning. Increase `target_accept` or reparameterize.\n"
     ]
    }
   ],
   "source": [
    "with pm.Model(coords=coords) as model:\n",
    "    # constant data: basin information and variables\n",
    "    basin = pm.Data('basin', basin_idx)\n",
    "    hse_d = pm.Data('hse_d', df.median_hse_norm.values)\n",
    "\n",
    "    # global model parameters\n",
    "    hse_sig = pm.HalfNormal('hse_sig', sigma=10)\n",
    "    mu_c = pm.Normal('mu_c', mu=0, sigma=10)\n",
    "    sigma_c = pm.HalfNormal('sigma_c', sigma=10)\n",
    "\n",
    "    # septic-specific model parameters\n",
    "    hse = pm.Normal('hse', mu=0, sigma=hse_sig)\n",
    "    c = pm.Normal('c', mu=mu_c, sigma=sigma_c)\n",
    "    \n",
    "    # hierarchical bayesian formula\n",
    "    failure_theta = pm.math.sigmoid(c\n",
    "                                    + hse * hse_d\n",
    "                                   )\n",
    "\n",
    "    # likelihood of observed data\n",
    "    failures = pm.Bernoulli('failures', failure_theta, observed=df['sewageSystem_enc'])\n",
    "    \n",
    "    # fitting using NUTS sampler\n",
    "    trace = pm.sample(100, tune=tune, cores=3, return_inferencedata=True, target_accept=0.99, random_seed=rs)"
   ]
  },
  {
   "cell_type": "code",
   "execution_count": 13,
   "id": "61c8c4d2",
   "metadata": {},
   "outputs": [
    {
     "data": {
      "text/html": [
       "\n",
       "    <div>\n",
       "        <style>\n",
       "            /* Turns off some styling */\n",
       "            progress {\n",
       "                /* gets rid of default border in Firefox and Opera. */\n",
       "                border: none;\n",
       "                /* Needs to be in here for Safari polyfill so background images work as expected. */\n",
       "                background-size: auto;\n",
       "            }\n",
       "            .progress-bar-interrupted, .progress-bar-interrupted::-webkit-progress-bar {\n",
       "                background: #F44336;\n",
       "            }\n",
       "        </style>\n",
       "      <progress value='500' class='' max='500' style='width:300px; height:20px; vertical-align: middle;'></progress>\n",
       "      100.00% [500/500 00:00<00:00]\n",
       "    </div>\n",
       "    "
      ],
      "text/plain": [
       "<IPython.core.display.HTML object>"
      ]
     },
     "metadata": {},
     "output_type": "display_data"
    },
    {
     "data": {
      "text/html": [
       "\n",
       "    <div>\n",
       "        <style>\n",
       "            /* Turns off some styling */\n",
       "            progress {\n",
       "                /* gets rid of default border in Firefox and Opera. */\n",
       "                border: none;\n",
       "                /* Needs to be in here for Safari polyfill so background images work as expected. */\n",
       "                background-size: auto;\n",
       "            }\n",
       "            .progress-bar-interrupted, .progress-bar-interrupted::-webkit-progress-bar {\n",
       "                background: #F44336;\n",
       "            }\n",
       "        </style>\n",
       "      <progress value='500' class='' max='500' style='width:300px; height:20px; vertical-align: middle;'></progress>\n",
       "      100.00% [500/500 00:00<00:00]\n",
       "    </div>\n",
       "    "
      ],
      "text/plain": [
       "<IPython.core.display.HTML object>"
      ]
     },
     "metadata": {},
     "output_type": "display_data"
    },
    {
     "data": {
      "text/html": [
       "\n",
       "    <div>\n",
       "        <style>\n",
       "            /* Turns off some styling */\n",
       "            progress {\n",
       "                /* gets rid of default border in Firefox and Opera. */\n",
       "                border: none;\n",
       "                /* Needs to be in here for Safari polyfill so background images work as expected. */\n",
       "                background-size: auto;\n",
       "            }\n",
       "            .progress-bar-interrupted, .progress-bar-interrupted::-webkit-progress-bar {\n",
       "                background: #F44336;\n",
       "            }\n",
       "        </style>\n",
       "      <progress value='500' class='' max='500' style='width:300px; height:20px; vertical-align: middle;'></progress>\n",
       "      100.00% [500/500 00:00<00:00]\n",
       "    </div>\n",
       "    "
      ],
      "text/plain": [
       "<IPython.core.display.HTML object>"
      ]
     },
     "metadata": {},
     "output_type": "display_data"
    },
    {
     "data": {
      "text/html": [
       "\n",
       "    <div>\n",
       "        <style>\n",
       "            /* Turns off some styling */\n",
       "            progress {\n",
       "                /* gets rid of default border in Firefox and Opera. */\n",
       "                border: none;\n",
       "                /* Needs to be in here for Safari polyfill so background images work as expected. */\n",
       "                background-size: auto;\n",
       "            }\n",
       "            .progress-bar-interrupted, .progress-bar-interrupted::-webkit-progress-bar {\n",
       "                background: #F44336;\n",
       "            }\n",
       "        </style>\n",
       "      <progress value='500' class='' max='500' style='width:300px; height:20px; vertical-align: middle;'></progress>\n",
       "      100.00% [500/500 00:00<00:00]\n",
       "    </div>\n",
       "    "
      ],
      "text/plain": [
       "<IPython.core.display.HTML object>"
      ]
     },
     "metadata": {},
     "output_type": "display_data"
    },
    {
     "data": {
      "text/html": [
       "\n",
       "    <div>\n",
       "        <style>\n",
       "            /* Turns off some styling */\n",
       "            progress {\n",
       "                /* gets rid of default border in Firefox and Opera. */\n",
       "                border: none;\n",
       "                /* Needs to be in here for Safari polyfill so background images work as expected. */\n",
       "                background-size: auto;\n",
       "            }\n",
       "            .progress-bar-interrupted, .progress-bar-interrupted::-webkit-progress-bar {\n",
       "                background: #F44336;\n",
       "            }\n",
       "        </style>\n",
       "      <progress value='500' class='' max='500' style='width:300px; height:20px; vertical-align: middle;'></progress>\n",
       "      100.00% [500/500 00:00<00:00]\n",
       "    </div>\n",
       "    "
      ],
      "text/plain": [
       "<IPython.core.display.HTML object>"
      ]
     },
     "metadata": {},
     "output_type": "display_data"
    },
    {
     "name": "stdout",
     "output_type": "stream",
     "text": [
      "accuracy is: 62.337212181232985 ± 0.11171591158879339%\n"
     ]
    }
   ],
   "source": [
    "# evaluate model\n",
    "y = df.sewageSystem_enc.to_list()\n",
    "accs = []\n",
    "for i in range(5):\n",
    "    acc, y_pred = evaluate_bayes(trace, model, y)\n",
    "    accs.append(acc)\n",
    "\n",
    "print(f'accuracy is: {np.array(accs).mean()} ± {np.array(accs).std()}%')"
   ]
  },
  {
   "cell_type": "markdown",
   "id": "abbba0d4",
   "metadata": {},
   "source": [
    "5. Full model"
   ]
  },
  {
   "cell_type": "code",
   "execution_count": 8,
   "id": "92aa8ca5",
   "metadata": {},
   "outputs": [
    {
     "name": "stdout",
     "output_type": "stream",
     "text": [
      "fitting full pooled Bayesian model...\n"
     ]
    },
    {
     "name": "stderr",
     "output_type": "stream",
     "text": [
      "Only 100 samples in chain.\n",
      "Auto-assigning NUTS sampler...\n",
      "Initializing NUTS using jitter+adapt_diag...\n",
      "Multiprocess sampling (3 chains in 3 jobs)\n",
      "NUTS: [c, dem, hse, hydr, ppt, sigma_c, mu_c, dem_beta, hse_sig, hydr_sig, hydr_mu, ppt_sig, ppt_mu]\n"
     ]
    },
    {
     "data": {
      "text/html": [
       "\n",
       "    <div>\n",
       "        <style>\n",
       "            /* Turns off some styling */\n",
       "            progress {\n",
       "                /* gets rid of default border in Firefox and Opera. */\n",
       "                border: none;\n",
       "                /* Needs to be in here for Safari polyfill so background images work as expected. */\n",
       "                background-size: auto;\n",
       "            }\n",
       "            .progress-bar-interrupted, .progress-bar-interrupted::-webkit-progress-bar {\n",
       "                background: #F44336;\n",
       "            }\n",
       "        </style>\n",
       "      <progress value='3300' class='' max='3300' style='width:300px; height:20px; vertical-align: middle;'></progress>\n",
       "      100.00% [3300/3300 02:52<00:00 Sampling 3 chains, 2 divergences]\n",
       "    </div>\n",
       "    "
      ],
      "text/plain": [
       "<IPython.core.display.HTML object>"
      ]
     },
     "metadata": {},
     "output_type": "display_data"
    },
    {
     "name": "stderr",
     "output_type": "stream",
     "text": [
      "/Users/juannat/opt/anaconda3/envs/septic/lib/python3.9/site-packages/scipy/stats/_continuous_distns.py:624: RuntimeWarning: overflow encountered in _beta_ppf\n",
      "  return _boost._beta_ppf(q, a, b)\n",
      "/Users/juannat/opt/anaconda3/envs/septic/lib/python3.9/site-packages/scipy/stats/_continuous_distns.py:624: RuntimeWarning: overflow encountered in _beta_ppf\n",
      "  return _boost._beta_ppf(q, a, b)\n",
      "/Users/juannat/opt/anaconda3/envs/septic/lib/python3.9/site-packages/scipy/stats/_continuous_distns.py:624: RuntimeWarning: overflow encountered in _beta_ppf\n",
      "  return _boost._beta_ppf(q, a, b)\n",
      "Sampling 3 chains for 1_000 tune and 100 draw iterations (3_000 + 300 draws total) took 182 seconds.\n",
      "There was 1 divergence after tuning. Increase `target_accept` or reparameterize.\n",
      "There was 1 divergence after tuning. Increase `target_accept` or reparameterize.\n",
      "The number of effective samples is smaller than 25% for some parameters.\n"
     ]
    }
   ],
   "source": [
    "with pm.Model(coords=coords) as model:\n",
    "    print('fitting full pooled Bayesian model...')\n",
    "    # constant data: basin information and variables\n",
    "    basin = pm.Data('basin', basin_idx)\n",
    "    # water_d = pm.Data('water_d', df.water_dist_norm.values)\n",
    "    ppt_d = pm.Data('ppt_d', df.ppt_2021_norm.values)\n",
    "    hydr_d = pm.Data('hydr_d', df.hydraulic_c_norm.values)\n",
    "    hse_d = pm.Data('hse_d', df.median_hse_norm.values)\n",
    "    dem_d = pm.Data('dem_d', df.dem_norm.values)\n",
    "\n",
    "    # global model parameters\n",
    "    # wtr_beta = pm.HalfNormal(\"wtr_beta\", sigma=10)\n",
    "    ppt_mu = pm.Normal(\"ppt_mu\", mu=0, sigma=10)\n",
    "    ppt_sig = pm.HalfNormal(\"ppt_sig\", sigma=10)\n",
    "    hydr_mu = pm.Normal(\"hydr_mu\", mu=0, sigma=10)\n",
    "    hydr_sig = pm.HalfNormal('hydr_sig', sigma=10)\n",
    "    hse_sig = pm.HalfNormal('hse_sig', sigma=10)\n",
    "    dem_beta = pm.HalfNormal('dem_beta', sigma=10)\n",
    "    mu_c = pm.Normal('mu_c', mu=0, sigma=10)\n",
    "    sigma_c = pm.HalfNormal('sigma_c', sigma=10)\n",
    "\n",
    "    # septic-specific model parameters\n",
    "    # wtr_dist = pm.Exponential(\"wtr_dist\", lam=wtr_beta)\n",
    "    ppt = pm.Normal(\"ppt\", mu=ppt_mu, sigma=ppt_sig)\n",
    "    hydr = pm.Normal('hydr', mu=hydr_mu, sigma=hydr_sig)\n",
    "    hse = pm.Normal('hse', mu=0, sigma=hse_sig)\n",
    "    dem = pm.Exponential('dem', lam=dem_beta)\n",
    "    c = pm.Normal('c', mu=mu_c, sigma=sigma_c)\n",
    "    \n",
    "    # hierarchical bayesian formula\n",
    "    failure_theta = pm.math.sigmoid(c\n",
    "                                    # + wtr_dist * water_d \n",
    "                                    + ppt * ppt_d\n",
    "                                    + hydr * hydr_d\n",
    "                                    + hse * hse_d\n",
    "                                    + dem * dem_d\n",
    "                                   )\n",
    "\n",
    "    # likelihood of observed data\n",
    "    failures = pm.Bernoulli('failures', failure_theta, observed=df['sewageSystem_enc'])\n",
    "    \n",
    "    # fitting using NUTS sampler\n",
    "    trace = pm.sample(100, tune=tune, cores=3, return_inferencedata=True, target_accept=0.99, random_seed=rs)"
   ]
  },
  {
   "cell_type": "code",
   "execution_count": 9,
   "id": "d837f14c",
   "metadata": {},
   "outputs": [
    {
     "data": {
      "text/html": [
       "\n",
       "    <div>\n",
       "        <style>\n",
       "            /* Turns off some styling */\n",
       "            progress {\n",
       "                /* gets rid of default border in Firefox and Opera. */\n",
       "                border: none;\n",
       "                /* Needs to be in here for Safari polyfill so background images work as expected. */\n",
       "                background-size: auto;\n",
       "            }\n",
       "            .progress-bar-interrupted, .progress-bar-interrupted::-webkit-progress-bar {\n",
       "                background: #F44336;\n",
       "            }\n",
       "        </style>\n",
       "      <progress value='500' class='' max='500' style='width:300px; height:20px; vertical-align: middle;'></progress>\n",
       "      100.00% [500/500 00:00<00:00]\n",
       "    </div>\n",
       "    "
      ],
      "text/plain": [
       "<IPython.core.display.HTML object>"
      ]
     },
     "metadata": {},
     "output_type": "display_data"
    },
    {
     "data": {
      "text/html": [
       "\n",
       "    <div>\n",
       "        <style>\n",
       "            /* Turns off some styling */\n",
       "            progress {\n",
       "                /* gets rid of default border in Firefox and Opera. */\n",
       "                border: none;\n",
       "                /* Needs to be in here for Safari polyfill so background images work as expected. */\n",
       "                background-size: auto;\n",
       "            }\n",
       "            .progress-bar-interrupted, .progress-bar-interrupted::-webkit-progress-bar {\n",
       "                background: #F44336;\n",
       "            }\n",
       "        </style>\n",
       "      <progress value='500' class='' max='500' style='width:300px; height:20px; vertical-align: middle;'></progress>\n",
       "      100.00% [500/500 00:00<00:00]\n",
       "    </div>\n",
       "    "
      ],
      "text/plain": [
       "<IPython.core.display.HTML object>"
      ]
     },
     "metadata": {},
     "output_type": "display_data"
    },
    {
     "data": {
      "text/html": [
       "\n",
       "    <div>\n",
       "        <style>\n",
       "            /* Turns off some styling */\n",
       "            progress {\n",
       "                /* gets rid of default border in Firefox and Opera. */\n",
       "                border: none;\n",
       "                /* Needs to be in here for Safari polyfill so background images work as expected. */\n",
       "                background-size: auto;\n",
       "            }\n",
       "            .progress-bar-interrupted, .progress-bar-interrupted::-webkit-progress-bar {\n",
       "                background: #F44336;\n",
       "            }\n",
       "        </style>\n",
       "      <progress value='500' class='' max='500' style='width:300px; height:20px; vertical-align: middle;'></progress>\n",
       "      100.00% [500/500 00:00<00:00]\n",
       "    </div>\n",
       "    "
      ],
      "text/plain": [
       "<IPython.core.display.HTML object>"
      ]
     },
     "metadata": {},
     "output_type": "display_data"
    },
    {
     "data": {
      "text/html": [
       "\n",
       "    <div>\n",
       "        <style>\n",
       "            /* Turns off some styling */\n",
       "            progress {\n",
       "                /* gets rid of default border in Firefox and Opera. */\n",
       "                border: none;\n",
       "                /* Needs to be in here for Safari polyfill so background images work as expected. */\n",
       "                background-size: auto;\n",
       "            }\n",
       "            .progress-bar-interrupted, .progress-bar-interrupted::-webkit-progress-bar {\n",
       "                background: #F44336;\n",
       "            }\n",
       "        </style>\n",
       "      <progress value='500' class='' max='500' style='width:300px; height:20px; vertical-align: middle;'></progress>\n",
       "      100.00% [500/500 00:00<00:00]\n",
       "    </div>\n",
       "    "
      ],
      "text/plain": [
       "<IPython.core.display.HTML object>"
      ]
     },
     "metadata": {},
     "output_type": "display_data"
    },
    {
     "data": {
      "text/html": [
       "\n",
       "    <div>\n",
       "        <style>\n",
       "            /* Turns off some styling */\n",
       "            progress {\n",
       "                /* gets rid of default border in Firefox and Opera. */\n",
       "                border: none;\n",
       "                /* Needs to be in here for Safari polyfill so background images work as expected. */\n",
       "                background-size: auto;\n",
       "            }\n",
       "            .progress-bar-interrupted, .progress-bar-interrupted::-webkit-progress-bar {\n",
       "                background: #F44336;\n",
       "            }\n",
       "        </style>\n",
       "      <progress value='500' class='' max='500' style='width:300px; height:20px; vertical-align: middle;'></progress>\n",
       "      100.00% [500/500 00:00<00:00]\n",
       "    </div>\n",
       "    "
      ],
      "text/plain": [
       "<IPython.core.display.HTML object>"
      ]
     },
     "metadata": {},
     "output_type": "display_data"
    },
    {
     "name": "stdout",
     "output_type": "stream",
     "text": [
      "accuracy is: 81.95964347610796 ± 0.07020275750808866%\n"
     ]
    }
   ],
   "source": [
    "# evaluate model\n",
    "y = df.sewageSystem_enc.to_list()\n",
    "accs = []\n",
    "for i in range(5):\n",
    "    acc, y_pred = evaluate_bayes(trace, model, y)\n",
    "    accs.append(acc)\n",
    "\n",
    "print(f'accuracy is: {np.array(accs).mean()} ± {np.array(accs).std()}%')"
   ]
  },
  {
   "cell_type": "code",
   "execution_count": 10,
   "id": "ca573cba",
   "metadata": {},
   "outputs": [
    {
     "data": {
      "text/plain": [
       "'../docs/pooled.pdf'"
      ]
     },
     "execution_count": 10,
     "metadata": {},
     "output_type": "execute_result"
    }
   ],
   "source": [
    "graph = pm.model_graph.model_to_graphviz(model)\n",
    "graph.render(filename='../docs/pooled')"
   ]
  },
  {
   "cell_type": "code",
   "execution_count": 11,
   "id": "0c96ebac",
   "metadata": {},
   "outputs": [
    {
     "data": {
      "image/png": "[encoded data removed]",
      "text/plain": [
       "<Figure size 576x432 with 2 Axes>"
      ]
     },
     "metadata": {
      "needs_background": "light"
     },
     "output_type": "display_data"
    }
   ],
   "source": [
    "plot_confusion(y, y_pred, title='', savedir='../docs/confusion_l0.pdf')"
   ]
  },
  {
   "cell_type": "markdown",
   "id": "dd0fb60d",
   "metadata": {},
   "source": [
    "## Hyperparameter Optimization"
   ]
  },
  {
   "cell_type": "code",
   "execution_count": 9,
   "id": "d06a098e",
   "metadata": {
    "scrolled": true
   },
   "outputs": [],
   "source": [
    "# hyperparameter optimization with optuna\n",
    "def objective(trial, classifier_name):\n",
    "    assert classifier_name in ['SVC', 'RF', 'XGB', 'GBDT']\n",
    "    if classifier_name == 'SVC':\n",
    "        svc_deg = trial.suggest_int('svc_deg', 1, 10)\n",
    "        svc_c = trial.suggest\n",
    "        classifier_obj = SVC(degree=svc_deg, gamma='auto')\n",
    "        \n",
    "    elif classifier_name == 'RF':\n",
    "        rf_n_estimators = trial.suggest_int('n_estimators', 100, 1000)\n",
    "        classifier_obj = RandomForestClassifier(n_estimators=rf_n_estimators)\n",
    "    \n",
    "    elif classifier_name == 'XGB':\n",
    "        xgb_eta = trial.suggest_float('xgb_eta', 0., 1.)\n",
    "        xgb_max_depth = trial.suggest_int('xgb_max_depth', 1, 20)\n",
    "        classifier_obj = xgb.XGBClassifier(eta=xgb_eta, max_depth=xgb_max_depth,\n",
    "                                           enable_categorical=True, use_label_encoder=False)\n",
    "        \n",
    "    else:\n",
    "        gbdt_n_estimators = trial.suggest_int('gbdt_n_estimators', 100, 1000)\n",
    "        gbdt_lr = trial.suggest_float('gbdt_lr', 0.01, 1.)\n",
    "        classifier_obj = lgb.LGBMClassifier(n_estimators=gbdt_n_estimators, learning_rate=gbdt_lr)\n",
    "        \n",
    "    score = sklearn.model_selection.cross_val_score(classifier_obj, train_x, train_y, n_jobs=-1, cv=3)\n",
    "    accuracy = score.mean()\n",
    "    return accuracy"
   ]
  },
  {
   "cell_type": "code",
   "execution_count": null,
   "id": "eedc2403",
   "metadata": {
    "scrolled": true
   },
   "outputs": [],
   "source": [
    "# Optimize SVC\n",
    "study = optuna.create_study(direction='maximize')\n",
    "study.optimize(lambda trial: objective(trial, classifier_name='SVC'), n_trials=10)"
   ]
  },
  {
   "cell_type": "code",
   "execution_count": null,
   "id": "a101808c",
   "metadata": {
    "scrolled": true
   },
   "outputs": [],
   "source": [
    "# Optimize RF\n",
    "study = optuna.create_study(direction='maximize')\n",
    "study.optimize(lambda trial: objective(trial, classifier_name='RF'), n_trials=100)"
   ]
  },
  {
   "cell_type": "code",
   "execution_count": null,
   "id": "d3e1cdf2",
   "metadata": {
    "scrolled": true
   },
   "outputs": [],
   "source": [
    "# Optimize XGB\n",
    "study = optuna.create_study(direction='maximize')\n",
    "study.optimize(lambda trial: objective(trial, classifier_name='XGB'), n_trials=100)"
   ]
  },
  {
   "cell_type": "code",
   "execution_count": null,
   "id": "360e109e",
   "metadata": {
    "scrolled": true
   },
   "outputs": [],
   "source": [
    "# Optimize GBDT\n",
    "study = optuna.create_study(direction='maximize')\n",
    "study.optimize(lambda trial: objective(trial, classifier_name='GBDT'), n_trials=100)"
   ]
  },
  {
   "cell_type": "markdown",
   "id": "7873f258",
   "metadata": {},
   "source": [
    "## Optimized Baseline Analysis"
   ]
  },
  {
   "cell_type": "markdown",
   "id": "75743fa0",
   "metadata": {},
   "source": [
    "### b) Logistic Regressor"
   ]
  },
  {
   "cell_type": "code",
   "execution_count": 12,
   "id": "641d3bcd",
   "metadata": {},
   "outputs": [
    {
     "name": "stdout",
     "output_type": "stream",
     "text": [
      "accuracy for LR: 82.06576402321083%\n"
     ]
    },
    {
     "data": {
      "image/png": "[encoded data removed]",
      "text/plain": [
       "<Figure size 576x432 with 2 Axes>"
      ]
     },
     "metadata": {
      "needs_background": "light"
     },
     "output_type": "display_data"
    }
   ],
   "source": [
    "from sklearn.linear_model import LogisticRegression\n",
    "\n",
    "lr = LogisticRegression()\n",
    "lr.fit(train_x, train_y)\n",
    "pred = lr.predict(test_x)\n",
    "acc = (pred == test_y).sum() / len(pred)\n",
    "print(f'accuracy for LR: {acc * 100}%')\n",
    "\n",
    "plot_confusion(test_y, pred, title='', savedir='../docs/confusion_lr.pdf')"
   ]
  },
  {
   "cell_type": "markdown",
   "id": "a130cd0f",
   "metadata": {},
   "source": [
    "### c) SVC"
   ]
  },
  {
   "cell_type": "code",
   "execution_count": 13,
   "id": "26bcab30",
   "metadata": {},
   "outputs": [
    {
     "name": "stdout",
     "output_type": "stream",
     "text": [
      "accuracy for SVC: 84.84332688588007%\n"
     ]
    },
    {
     "data": {
      "image/png": "[encoded data removed]",
      "text/plain": [
       "<Figure size 576x432 with 2 Axes>"
      ]
     },
     "metadata": {
      "needs_background": "light"
     },
     "output_type": "display_data"
    }
   ],
   "source": [
    "# SVC\n",
    "svc_clf = SVC(degree=3)\n",
    "svc_clf.fit(train_x, train_y)\n",
    "acc = svc_clf.score(test_x, test_y)\n",
    "svc_y_pred = svc_clf.predict(test_x)\n",
    "print(f'accuracy for SVC: {acc * 100}%')\n",
    "\n",
    "plot_confusion(test_y, svc_y_pred, title='', savedir='../docs/confusion_svc.pdf')"
   ]
  }
 ],
 "metadata": {
  "celltoolbar": "Slideshow",
  "kernelspec": {
   "display_name": "Python 3.9.12 ('septic')",
   "language": "python",
   "name": "python3"
  },
  "language_info": {
   "codemirror_mode": {
    "name": "ipython",
    "version": 3
   },
   "file_extension": ".py",
   "mimetype": "text/x-python",
   "name": "python",
   "nbconvert_exporter": "python",
   "pygments_lexer": "ipython3",
   "version": "3.9.12"
  },
  "vscode": {
   "interpreter": {
    "hash": "d8da36faa6c94f2357043bbcae61484f1ae39aaf546ae8feb986ac87967df3e3"
   }
  }
 },
 "nbformat": 4,
 "nbformat_minor": 5
}
