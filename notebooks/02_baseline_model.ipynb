{
 "cells": [
  {
   "cell_type": "markdown",
   "id": "bc250ff4",
   "metadata": {
    "slideshow": {
     "slide_type": "skip"
    }
   },
   "source": [
    "This notebook applies hierarchical bayesian modeling using topographical remote sensing product"
   ]
  },
  {
   "cell_type": "code",
   "execution_count": 1,
   "id": "368f0d8f",
   "metadata": {},
   "outputs": [],
   "source": [
    "%load_ext autoreload\n",
    "%autoreload 2"
   ]
  },
  {
   "cell_type": "code",
   "execution_count": null,
   "id": "5b6f49d6",
   "metadata": {
    "slideshow": {
     "slide_type": "skip"
    }
   },
   "outputs": [],
   "source": [
    "import sys\n",
    "sys.path.append('..')\n",
    "\n",
    "import warnings\n",
    "warnings.filterwarnings(\"ignore\")\n",
    "\n",
    "import pymc3 as pm\n",
    "from tqdm import tqdm\n",
    "from sklearn.metrics import *\n",
    "import numpy as np\n",
    "import geopandas as gpd\n",
    "import rasterio as rio\n",
    "import censusdata\n",
    "from rasterstats import zonal_stats\n",
    "\n",
    "import optuna\n",
    "import sklearn\n",
    "from sklearn.svm import SVC, LinearSVC\n",
    "from sklearn.model_selection import train_test_split\n",
    "from scipy.interpolate import griddata\n",
    "\n",
    "from src.utils import *\n",
    "from src.params import *\n",
    "tqdm.pandas()\n",
    "\n",
    "%matplotlib inline"
   ]
  },
  {
   "cell_type": "markdown",
   "id": "0d6cf41c",
   "metadata": {},
   "source": [
    "# Data Pre-Processing"
   ]
  },
  {
   "cell_type": "code",
   "execution_count": 10,
   "id": "baa29f99",
   "metadata": {},
   "outputs": [
    {
     "name": "stdout",
     "output_type": "stream",
     "text": [
      "balancing...\n",
      "repairs: 27.73092578545258%, non-repairs: 72.26907421454743%\n"
     ]
    }
   ],
   "source": [
    "df, basin_idx, basins, coords = read_data(\n",
    "    file_dir='../data/hierarchical_septics_v7.csv',\n",
    "    cols=['ppt_2021', 'hydraulic_c','median_hse', 'slope'], \n",
    "    is_balanced=True, \n",
    "    hierarchy_type='county'\n",
    ")"
   ]
  },
  {
   "cell_type": "markdown",
   "id": "52640296",
   "metadata": {},
   "source": [
    "# Baseline Comparison"
   ]
  },
  {
   "cell_type": "code",
   "execution_count": 11,
   "id": "d51da4bb",
   "metadata": {},
   "outputs": [],
   "source": [
    "train_x, test_x, train_y, test_y = train_test_split(\n",
    "    df[['ppt_2021_norm', 'hydraulic_c_norm', 'median_hse_norm', 'slope_norm', 'age_median', 'income_median']], \n",
    "    df['sewageSystem_enc'], \n",
    "    test_size=0.2, \n",
    "    random_state=42\n",
    ")"
   ]
  },
  {
   "cell_type": "code",
   "execution_count": 12,
   "id": "53b84818",
   "metadata": {},
   "outputs": [],
   "source": [
    "rs = 100\n",
    "tune = 100"
   ]
  },
  {
   "cell_type": "markdown",
   "id": "aa1adae8",
   "metadata": {},
   "source": [
    "1. Water model: precipitation"
   ]
  },
  {
   "cell_type": "code",
   "execution_count": 6,
   "id": "8750328d",
   "metadata": {},
   "outputs": [
    {
     "name": "stderr",
     "output_type": "stream",
     "text": [
      "Only 100 samples in chain.\n",
      "Auto-assigning NUTS sampler...\n",
      "Initializing NUTS using jitter+adapt_diag...\n",
      "Multiprocess sampling (3 chains in 3 jobs)\n",
      "NUTS: [c, ppt, sigma_c, mu_c, ppt_sig, ppt_mu]\n"
     ]
    },
    {
     "data": {
      "text/html": [
       "\n",
       "    <div>\n",
       "        <style>\n",
       "            /* Turns off some styling */\n",
       "            progress {\n",
       "                /* gets rid of default border in Firefox and Opera. */\n",
       "                border: none;\n",
       "                /* Needs to be in here for Safari polyfill so background images work as expected. */\n",
       "                background-size: auto;\n",
       "            }\n",
       "            .progress-bar-interrupted, .progress-bar-interrupted::-webkit-progress-bar {\n",
       "                background: #F44336;\n",
       "            }\n",
       "        </style>\n",
       "      <progress value='600' class='' max='600' style='width:300px; height:20px; vertical-align: middle;'></progress>\n",
       "      100.00% [600/600 20:00<00:00 Sampling 3 chains, 0 divergences]\n",
       "    </div>\n",
       "    "
      ],
      "text/plain": [
       "<IPython.core.display.HTML object>"
      ]
     },
     "metadata": {},
     "output_type": "display_data"
    },
    {
     "name": "stderr",
     "output_type": "stream",
     "text": [
      "/Users/juannat/opt/anaconda3/envs/septic/lib/python3.9/site-packages/scipy/stats/_continuous_distns.py:624: RuntimeWarning: overflow encountered in _beta_ppf\n",
      "  return _boost._beta_ppf(q, a, b)\n",
      "/Users/juannat/opt/anaconda3/envs/septic/lib/python3.9/site-packages/scipy/stats/_continuous_distns.py:624: RuntimeWarning: overflow encountered in _beta_ppf\n",
      "  return _boost._beta_ppf(q, a, b)\n",
      "/Users/juannat/opt/anaconda3/envs/septic/lib/python3.9/site-packages/scipy/stats/_continuous_distns.py:624: RuntimeWarning: overflow encountered in _beta_ppf\n",
      "  return _boost._beta_ppf(q, a, b)\n",
      "Sampling 3 chains for 100 tune and 100 draw iterations (300 + 300 draws total) took 1215 seconds.\n",
      "The chain reached the maximum tree depth. Increase max_treedepth, increase target_accept or reparameterize.\n",
      "The chain reached the maximum tree depth. Increase max_treedepth, increase target_accept or reparameterize.\n",
      "The chain reached the maximum tree depth. Increase max_treedepth, increase target_accept or reparameterize.\n",
      "The rhat statistic is larger than 1.4 for some parameters. The sampler did not converge.\n",
      "The number of effective samples is smaller than 10% for some parameters.\n"
     ]
    }
   ],
   "source": [
    "with pm.Model(coords=coords) as model:\n",
    "    # constant data: basin information and variables\n",
    "    basin = pm.Data('basin', basin_idx)\n",
    "    ppt_d = pm.Data('ppt_d', df.ppt_2021_norm.values)\n",
    "\n",
    "    # global model parameters\n",
    "    ppt_mu = pm.Normal(\"ppt_mu\", mu=0, sigma=10)\n",
    "    ppt_sig = pm.HalfNormal(\"ppt_sig\", sigma=10)\n",
    "    mu_c = pm.Normal('mu_c', mu=0, sigma=10)\n",
    "    sigma_c = pm.HalfNormal('sigma_c', sigma=10)\n",
    "\n",
    "    # septic-specific model parameters\n",
    "    ppt = pm.Normal(\"ppt\", mu=ppt_mu, sigma=ppt_sig)\n",
    "    c = pm.Normal('c', mu=mu_c, sigma=sigma_c)\n",
    "    \n",
    "    # hierarchical bayesian formula\n",
    "    failure_theta = pm.math.sigmoid(c\n",
    "                                    + ppt * ppt_d\n",
    "                                   )\n",
    "\n",
    "    # likelihood of observed data\n",
    "    failures = pm.Bernoulli('failures', failure_theta, observed=df['sewageSystem_enc'])\n",
    "    \n",
    "    # fitting using NUTS sampler\n",
    "    trace = pm.sample(100, tune=tune, cores=3, return_inferencedata=True, target_accept=0.99, random_seed=rs)"
   ]
  },
  {
   "cell_type": "code",
   "execution_count": 7,
   "id": "7c59b57d",
   "metadata": {},
   "outputs": [
    {
     "data": {
      "text/html": [
       "\n",
       "    <div>\n",
       "        <style>\n",
       "            /* Turns off some styling */\n",
       "            progress {\n",
       "                /* gets rid of default border in Firefox and Opera. */\n",
       "                border: none;\n",
       "                /* Needs to be in here for Safari polyfill so background images work as expected. */\n",
       "                background-size: auto;\n",
       "            }\n",
       "            .progress-bar-interrupted, .progress-bar-interrupted::-webkit-progress-bar {\n",
       "                background: #F44336;\n",
       "            }\n",
       "        </style>\n",
       "      <progress value='500' class='' max='500' style='width:300px; height:20px; vertical-align: middle;'></progress>\n",
       "      100.00% [500/500 00:14<00:00]\n",
       "    </div>\n",
       "    "
      ],
      "text/plain": [
       "<IPython.core.display.HTML object>"
      ]
     },
     "metadata": {},
     "output_type": "display_data"
    },
    {
     "data": {
      "text/html": [
       "\n",
       "    <div>\n",
       "        <style>\n",
       "            /* Turns off some styling */\n",
       "            progress {\n",
       "                /* gets rid of default border in Firefox and Opera. */\n",
       "                border: none;\n",
       "                /* Needs to be in here for Safari polyfill so background images work as expected. */\n",
       "                background-size: auto;\n",
       "            }\n",
       "            .progress-bar-interrupted, .progress-bar-interrupted::-webkit-progress-bar {\n",
       "                background: #F44336;\n",
       "            }\n",
       "        </style>\n",
       "      <progress value='500' class='' max='500' style='width:300px; height:20px; vertical-align: middle;'></progress>\n",
       "      100.00% [500/500 00:06<00:00]\n",
       "    </div>\n",
       "    "
      ],
      "text/plain": [
       "<IPython.core.display.HTML object>"
      ]
     },
     "metadata": {},
     "output_type": "display_data"
    },
    {
     "data": {
      "text/html": [
       "\n",
       "    <div>\n",
       "        <style>\n",
       "            /* Turns off some styling */\n",
       "            progress {\n",
       "                /* gets rid of default border in Firefox and Opera. */\n",
       "                border: none;\n",
       "                /* Needs to be in here for Safari polyfill so background images work as expected. */\n",
       "                background-size: auto;\n",
       "            }\n",
       "            .progress-bar-interrupted, .progress-bar-interrupted::-webkit-progress-bar {\n",
       "                background: #F44336;\n",
       "            }\n",
       "        </style>\n",
       "      <progress value='500' class='' max='500' style='width:300px; height:20px; vertical-align: middle;'></progress>\n",
       "      100.00% [500/500 00:06<00:00]\n",
       "    </div>\n",
       "    "
      ],
      "text/plain": [
       "<IPython.core.display.HTML object>"
      ]
     },
     "metadata": {},
     "output_type": "display_data"
    },
    {
     "data": {
      "text/html": [
       "\n",
       "    <div>\n",
       "        <style>\n",
       "            /* Turns off some styling */\n",
       "            progress {\n",
       "                /* gets rid of default border in Firefox and Opera. */\n",
       "                border: none;\n",
       "                /* Needs to be in here for Safari polyfill so background images work as expected. */\n",
       "                background-size: auto;\n",
       "            }\n",
       "            .progress-bar-interrupted, .progress-bar-interrupted::-webkit-progress-bar {\n",
       "                background: #F44336;\n",
       "            }\n",
       "        </style>\n",
       "      <progress value='500' class='' max='500' style='width:300px; height:20px; vertical-align: middle;'></progress>\n",
       "      100.00% [500/500 00:06<00:00]\n",
       "    </div>\n",
       "    "
      ],
      "text/plain": [
       "<IPython.core.display.HTML object>"
      ]
     },
     "metadata": {},
     "output_type": "display_data"
    },
    {
     "data": {
      "text/html": [
       "\n",
       "    <div>\n",
       "        <style>\n",
       "            /* Turns off some styling */\n",
       "            progress {\n",
       "                /* gets rid of default border in Firefox and Opera. */\n",
       "                border: none;\n",
       "                /* Needs to be in here for Safari polyfill so background images work as expected. */\n",
       "                background-size: auto;\n",
       "            }\n",
       "            .progress-bar-interrupted, .progress-bar-interrupted::-webkit-progress-bar {\n",
       "                background: #F44336;\n",
       "            }\n",
       "        </style>\n",
       "      <progress value='500' class='' max='500' style='width:300px; height:20px; vertical-align: middle;'></progress>\n",
       "      100.00% [500/500 00:06<00:00]\n",
       "    </div>\n",
       "    "
      ],
      "text/plain": [
       "<IPython.core.display.HTML object>"
      ]
     },
     "metadata": {},
     "output_type": "display_data"
    },
    {
     "name": "stdout",
     "output_type": "stream",
     "text": [
      "accuracy is: 54.33905989024099 ± 0.044548762906507236%\n"
     ]
    }
   ],
   "source": [
    "# evaluate model\n",
    "y = df.sewageSystem_enc.to_list()\n",
    "accs = []\n",
    "for i in range(5):\n",
    "    acc, y_pred = evaluate_bayes(trace, model, y)\n",
    "    accs.append(acc)\n",
    "\n",
    "print(f'accuracy is: {np.array(accs).mean()} ± {np.array(accs).std()}%')"
   ]
  },
  {
   "cell_type": "markdown",
   "id": "e366c583",
   "metadata": {},
   "source": [
    "2. Soil model"
   ]
  },
  {
   "cell_type": "code",
   "execution_count": 8,
   "id": "63d53202",
   "metadata": {},
   "outputs": [
    {
     "name": "stderr",
     "output_type": "stream",
     "text": [
      "Only 100 samples in chain.\n",
      "Auto-assigning NUTS sampler...\n",
      "Initializing NUTS using jitter+adapt_diag...\n",
      "Multiprocess sampling (3 chains in 3 jobs)\n",
      "NUTS: [c, hydr, sigma_c, mu_c, hydr_sig, hydr_mu]\n"
     ]
    },
    {
     "data": {
      "text/html": [
       "\n",
       "    <div>\n",
       "        <style>\n",
       "            /* Turns off some styling */\n",
       "            progress {\n",
       "                /* gets rid of default border in Firefox and Opera. */\n",
       "                border: none;\n",
       "                /* Needs to be in here for Safari polyfill so background images work as expected. */\n",
       "                background-size: auto;\n",
       "            }\n",
       "            .progress-bar-interrupted, .progress-bar-interrupted::-webkit-progress-bar {\n",
       "                background: #F44336;\n",
       "            }\n",
       "        </style>\n",
       "      <progress value='600' class='' max='600' style='width:300px; height:20px; vertical-align: middle;'></progress>\n",
       "      100.00% [600/600 22:17<00:00 Sampling 3 chains, 0 divergences]\n",
       "    </div>\n",
       "    "
      ],
      "text/plain": [
       "<IPython.core.display.HTML object>"
      ]
     },
     "metadata": {},
     "output_type": "display_data"
    },
    {
     "name": "stderr",
     "output_type": "stream",
     "text": [
      "/Users/juannat/opt/anaconda3/envs/septic/lib/python3.9/site-packages/scipy/stats/_continuous_distns.py:624: RuntimeWarning: overflow encountered in _beta_ppf\n",
      "  return _boost._beta_ppf(q, a, b)\n",
      "/Users/juannat/opt/anaconda3/envs/septic/lib/python3.9/site-packages/scipy/stats/_continuous_distns.py:624: RuntimeWarning: overflow encountered in _beta_ppf\n",
      "  return _boost._beta_ppf(q, a, b)\n",
      "/Users/juannat/opt/anaconda3/envs/septic/lib/python3.9/site-packages/scipy/stats/_continuous_distns.py:624: RuntimeWarning: overflow encountered in _beta_ppf\n",
      "  return _boost._beta_ppf(q, a, b)\n",
      "Sampling 3 chains for 100 tune and 100 draw iterations (300 + 300 draws total) took 1351 seconds.\n",
      "The chain reached the maximum tree depth. Increase max_treedepth, increase target_accept or reparameterize.\n",
      "The chain reached the maximum tree depth. Increase max_treedepth, increase target_accept or reparameterize.\n",
      "The chain reached the maximum tree depth. Increase max_treedepth, increase target_accept or reparameterize.\n",
      "The rhat statistic is larger than 1.4 for some parameters. The sampler did not converge.\n",
      "The number of effective samples is smaller than 10% for some parameters.\n"
     ]
    }
   ],
   "source": [
    "with pm.Model(coords=coords) as model:\n",
    "    # constant data: basin information and variables\n",
    "    basin = pm.Data('basin', basin_idx)\n",
    "    hydr_d = pm.Data('hydr_d', df.hydraulic_c_norm.values)\n",
    "\n",
    "    # global model parameters\n",
    "    hydr_mu = pm.Normal(\"hydr_mu\", mu=0, sigma=10)\n",
    "    hydr_sig = pm.HalfNormal('hydr_sig', sigma=10)\n",
    "    mu_c = pm.Normal('mu_c', mu=0, sigma=10)\n",
    "    sigma_c = pm.HalfNormal('sigma_c', sigma=10)\n",
    "\n",
    "    # septic-specific model parameters\n",
    "    hydr = pm.Normal('hydr', mu=hydr_mu, sigma=hydr_sig)\n",
    "    c = pm.Normal('c', mu=mu_c, sigma=sigma_c)\n",
    "    \n",
    "    # hierarchical bayesian formula\n",
    "    failure_theta = pm.math.sigmoid(c\n",
    "                                    + hydr * hydr_d\n",
    "                                   )\n",
    "\n",
    "    # likelihood of observed data\n",
    "    failures = pm.Bernoulli('failures', failure_theta, observed=df['sewageSystem_enc'])\n",
    "    \n",
    "    # fitting using NUTS sampler\n",
    "    trace = pm.sample(100, tune=tune, cores=3, return_inferencedata=True, target_accept=0.99, random_seed=rs)"
   ]
  },
  {
   "cell_type": "code",
   "execution_count": 9,
   "id": "3791c519",
   "metadata": {},
   "outputs": [
    {
     "data": {
      "text/html": [
       "\n",
       "    <div>\n",
       "        <style>\n",
       "            /* Turns off some styling */\n",
       "            progress {\n",
       "                /* gets rid of default border in Firefox and Opera. */\n",
       "                border: none;\n",
       "                /* Needs to be in here for Safari polyfill so background images work as expected. */\n",
       "                background-size: auto;\n",
       "            }\n",
       "            .progress-bar-interrupted, .progress-bar-interrupted::-webkit-progress-bar {\n",
       "                background: #F44336;\n",
       "            }\n",
       "        </style>\n",
       "      <progress value='500' class='' max='500' style='width:300px; height:20px; vertical-align: middle;'></progress>\n",
       "      100.00% [500/500 00:06<00:00]\n",
       "    </div>\n",
       "    "
      ],
      "text/plain": [
       "<IPython.core.display.HTML object>"
      ]
     },
     "metadata": {},
     "output_type": "display_data"
    },
    {
     "data": {
      "text/html": [
       "\n",
       "    <div>\n",
       "        <style>\n",
       "            /* Turns off some styling */\n",
       "            progress {\n",
       "                /* gets rid of default border in Firefox and Opera. */\n",
       "                border: none;\n",
       "                /* Needs to be in here for Safari polyfill so background images work as expected. */\n",
       "                background-size: auto;\n",
       "            }\n",
       "            .progress-bar-interrupted, .progress-bar-interrupted::-webkit-progress-bar {\n",
       "                background: #F44336;\n",
       "            }\n",
       "        </style>\n",
       "      <progress value='500' class='' max='500' style='width:300px; height:20px; vertical-align: middle;'></progress>\n",
       "      100.00% [500/500 00:06<00:00]\n",
       "    </div>\n",
       "    "
      ],
      "text/plain": [
       "<IPython.core.display.HTML object>"
      ]
     },
     "metadata": {},
     "output_type": "display_data"
    },
    {
     "data": {
      "text/html": [
       "\n",
       "    <div>\n",
       "        <style>\n",
       "            /* Turns off some styling */\n",
       "            progress {\n",
       "                /* gets rid of default border in Firefox and Opera. */\n",
       "                border: none;\n",
       "                /* Needs to be in here for Safari polyfill so background images work as expected. */\n",
       "                background-size: auto;\n",
       "            }\n",
       "            .progress-bar-interrupted, .progress-bar-interrupted::-webkit-progress-bar {\n",
       "                background: #F44336;\n",
       "            }\n",
       "        </style>\n",
       "      <progress value='500' class='' max='500' style='width:300px; height:20px; vertical-align: middle;'></progress>\n",
       "      100.00% [500/500 00:06<00:00]\n",
       "    </div>\n",
       "    "
      ],
      "text/plain": [
       "<IPython.core.display.HTML object>"
      ]
     },
     "metadata": {},
     "output_type": "display_data"
    },
    {
     "data": {
      "text/html": [
       "\n",
       "    <div>\n",
       "        <style>\n",
       "            /* Turns off some styling */\n",
       "            progress {\n",
       "                /* gets rid of default border in Firefox and Opera. */\n",
       "                border: none;\n",
       "                /* Needs to be in here for Safari polyfill so background images work as expected. */\n",
       "                background-size: auto;\n",
       "            }\n",
       "            .progress-bar-interrupted, .progress-bar-interrupted::-webkit-progress-bar {\n",
       "                background: #F44336;\n",
       "            }\n",
       "        </style>\n",
       "      <progress value='500' class='' max='500' style='width:300px; height:20px; vertical-align: middle;'></progress>\n",
       "      100.00% [500/500 00:06<00:00]\n",
       "    </div>\n",
       "    "
      ],
      "text/plain": [
       "<IPython.core.display.HTML object>"
      ]
     },
     "metadata": {},
     "output_type": "display_data"
    },
    {
     "data": {
      "text/html": [
       "\n",
       "    <div>\n",
       "        <style>\n",
       "            /* Turns off some styling */\n",
       "            progress {\n",
       "                /* gets rid of default border in Firefox and Opera. */\n",
       "                border: none;\n",
       "                /* Needs to be in here for Safari polyfill so background images work as expected. */\n",
       "                background-size: auto;\n",
       "            }\n",
       "            .progress-bar-interrupted, .progress-bar-interrupted::-webkit-progress-bar {\n",
       "                background: #F44336;\n",
       "            }\n",
       "        </style>\n",
       "      <progress value='500' class='' max='500' style='width:300px; height:20px; vertical-align: middle;'></progress>\n",
       "      100.00% [500/500 00:06<00:00]\n",
       "    </div>\n",
       "    "
      ],
      "text/plain": [
       "<IPython.core.display.HTML object>"
      ]
     },
     "metadata": {},
     "output_type": "display_data"
    },
    {
     "name": "stdout",
     "output_type": "stream",
     "text": [
      "accuracy is: 54.51413743736579 ± 0.06003647171705542%\n"
     ]
    }
   ],
   "source": [
    "# evaluate model\n",
    "y = df.sewageSystem_enc.to_list()\n",
    "accs = []\n",
    "for i in range(5):\n",
    "    acc, y_pred = evaluate_bayes(trace, model, y)\n",
    "    accs.append(acc)\n",
    "\n",
    "print(f'accuracy is: {np.array(accs).mean()} ± {np.array(accs).std()}%')"
   ]
  },
  {
   "attachments": {},
   "cell_type": "markdown",
   "id": "9dff333b",
   "metadata": {},
   "source": [
    "3. Topo model: elevation/slope"
   ]
  },
  {
   "cell_type": "code",
   "execution_count": 6,
   "id": "7b759451",
   "metadata": {},
   "outputs": [
    {
     "name": "stderr",
     "output_type": "stream",
     "text": [
      "/Users/juannat/opt/anaconda3/envs/septic/lib/python3.9/site-packages/pymc/data.py:406: UserWarning: The `mutable` kwarg was not specified. Before v4.1.0 it defaulted to `pm.Data(mutable=True)`, which is equivalent to using `pm.MutableData()`. In v4.1.0 the default changed to `pm.Data(mutable=False)`, equivalent to `pm.ConstantData`. Use `pm.ConstantData`/`pm.MutableData` or pass `pm.Data(..., mutable=False/True)` to avoid this warning.\n",
      "  warnings.warn(\n",
      "Only 100 samples in chain.\n",
      "Auto-assigning NUTS sampler...\n",
      "Initializing NUTS using jitter+adapt_diag...\n",
      "Multiprocess sampling (3 chains in 3 jobs)\n",
      "NUTS: [slope_beta, mu_c, sigma_c, slope, c]\n"
     ]
    },
    {
     "name": "stderr",
     "output_type": "stream",
     "text": [
      "Sampling 3 chains for 100 tune and 100 draw iterations (300 + 300 draws total) took 2038 seconds.\n"
     ]
    }
   ],
   "source": [
    "with pm.Model(coords=coords) as model:\n",
    "    # constant data: basin information and variables\n",
    "    basin = pm.Data('basin', basin_idx)\n",
    "    slope_d = pm.Data('slope_d', df.slope_norm.values)\n",
    "\n",
    "    # global model parameters\n",
    "    slope_beta = pm.HalfNormal('slope_beta', sigma=10)\n",
    "    mu_c = pm.Normal('mu_c', mu=0, sigma=10)\n",
    "    sigma_c = pm.HalfNormal('sigma_c', sigma=10)\n",
    "\n",
    "    # septic-specific model parameters\n",
    "    slope = pm.Exponential('slope', lam=slope_beta)\n",
    "    c = pm.Normal('c', mu=mu_c, sigma=sigma_c)\n",
    "    \n",
    "    # hierarchical bayesian formula\n",
    "    failure_theta = pm.math.sigmoid(c\n",
    "                                    + slope * slope_d\n",
    "                                   )\n",
    "\n",
    "    # likelihood of observed data\n",
    "    failures = pm.Bernoulli('failures', failure_theta, observed=df['sewageSystem_enc'])\n",
    "    \n",
    "    # fitting using NUTS sampler\n",
    "    trace = pm.sample(100, tune=tune, cores=3, return_inferencedata=True, target_accept=0.99, random_seed=rs)"
   ]
  },
  {
   "cell_type": "code",
   "execution_count": 7,
   "id": "f10a4e37",
   "metadata": {},
   "outputs": [
    {
     "name": "stdout",
     "output_type": "stream",
     "text": [
      "accuracy is: 51.2486815658023 ± 0.09883223342198749%\n"
     ]
    }
   ],
   "source": [
    "# evaluate model\n",
    "y = df.sewageSystem_enc.to_list()\n",
    "accs = []\n",
    "for i in range(5):\n",
    "    acc, y_pred = evaluate_bayes(trace, model, y)\n",
    "    accs.append(acc)\n",
    "\n",
    "print(f'accuracy is: {np.array(accs).mean()} ± {np.array(accs).std()}%')"
   ]
  },
  {
   "cell_type": "markdown",
   "id": "25e7c823",
   "metadata": {},
   "source": [
    "4. Socio-economic model: median housing value"
   ]
  },
  {
   "cell_type": "code",
   "execution_count": 12,
   "id": "01fffe92",
   "metadata": {},
   "outputs": [
    {
     "name": "stderr",
     "output_type": "stream",
     "text": [
      "Only 100 samples in chain.\n",
      "Auto-assigning NUTS sampler...\n",
      "Initializing NUTS using jitter+adapt_diag...\n",
      "Multiprocess sampling (3 chains in 3 jobs)\n",
      "NUTS: [c, hse, sigma_c, mu_c, hse_sig]\n"
     ]
    },
    {
     "data": {
      "text/html": [
       "\n",
       "    <div>\n",
       "        <style>\n",
       "            /* Turns off some styling */\n",
       "            progress {\n",
       "                /* gets rid of default border in Firefox and Opera. */\n",
       "                border: none;\n",
       "                /* Needs to be in here for Safari polyfill so background images work as expected. */\n",
       "                background-size: auto;\n",
       "            }\n",
       "            .progress-bar-interrupted, .progress-bar-interrupted::-webkit-progress-bar {\n",
       "                background: #F44336;\n",
       "            }\n",
       "        </style>\n",
       "      <progress value='600' class='' max='600' style='width:300px; height:20px; vertical-align: middle;'></progress>\n",
       "      100.00% [600/600 18:18<00:00 Sampling 3 chains, 0 divergences]\n",
       "    </div>\n",
       "    "
      ],
      "text/plain": [
       "<IPython.core.display.HTML object>"
      ]
     },
     "metadata": {},
     "output_type": "display_data"
    },
    {
     "name": "stderr",
     "output_type": "stream",
     "text": [
      "/Users/juannat/opt/anaconda3/envs/septic/lib/python3.9/site-packages/scipy/stats/_continuous_distns.py:624: RuntimeWarning: overflow encountered in _beta_ppf\n",
      "  return _boost._beta_ppf(q, a, b)\n",
      "/Users/juannat/opt/anaconda3/envs/septic/lib/python3.9/site-packages/scipy/stats/_continuous_distns.py:624: RuntimeWarning: overflow encountered in _beta_ppf\n",
      "  return _boost._beta_ppf(q, a, b)\n",
      "/Users/juannat/opt/anaconda3/envs/septic/lib/python3.9/site-packages/scipy/stats/_continuous_distns.py:624: RuntimeWarning: overflow encountered in _beta_ppf\n",
      "  return _boost._beta_ppf(q, a, b)\n",
      "Sampling 3 chains for 100 tune and 100 draw iterations (300 + 300 draws total) took 1113 seconds.\n",
      "The chain reached the maximum tree depth. Increase max_treedepth, increase target_accept or reparameterize.\n",
      "The chain reached the maximum tree depth. Increase max_treedepth, increase target_accept or reparameterize.\n",
      "The chain reached the maximum tree depth. Increase max_treedepth, increase target_accept or reparameterize.\n",
      "The rhat statistic is larger than 1.2 for some parameters.\n",
      "The number of effective samples is smaller than 10% for some parameters.\n"
     ]
    }
   ],
   "source": [
    "with pm.Model(coords=coords) as model:\n",
    "    # constant data: basin information and variables\n",
    "    basin = pm.Data('basin', basin_idx)\n",
    "    hse_d = pm.Data('hse_d', df.median_hse_norm.values)\n",
    "\n",
    "    # global model parameters\n",
    "    hse_sig = pm.HalfNormal('hse_sig', sigma=10)\n",
    "    mu_c = pm.Normal('mu_c', mu=0, sigma=10)\n",
    "    sigma_c = pm.HalfNormal('sigma_c', sigma=10)\n",
    "\n",
    "    # septic-specific model parameters\n",
    "    hse = pm.Normal('hse', mu=0, sigma=hse_sig)\n",
    "    c = pm.Normal('c', mu=mu_c, sigma=sigma_c)\n",
    "    \n",
    "    # hierarchical bayesian formula\n",
    "    failure_theta = pm.math.sigmoid(c\n",
    "                                    + hse * hse_d\n",
    "                                   )\n",
    "\n",
    "    # likelihood of observed data\n",
    "    failures = pm.Bernoulli('failures', failure_theta, observed=df['sewageSystem_enc'])\n",
    "    \n",
    "    # fitting using NUTS sampler\n",
    "    trace = pm.sample(100, tune=tune, cores=3, return_inferencedata=True, target_accept=0.99, random_seed=rs)"
   ]
  },
  {
   "cell_type": "code",
   "execution_count": 13,
   "id": "61c8c4d2",
   "metadata": {},
   "outputs": [
    {
     "data": {
      "text/html": [
       "\n",
       "    <div>\n",
       "        <style>\n",
       "            /* Turns off some styling */\n",
       "            progress {\n",
       "                /* gets rid of default border in Firefox and Opera. */\n",
       "                border: none;\n",
       "                /* Needs to be in here for Safari polyfill so background images work as expected. */\n",
       "                background-size: auto;\n",
       "            }\n",
       "            .progress-bar-interrupted, .progress-bar-interrupted::-webkit-progress-bar {\n",
       "                background: #F44336;\n",
       "            }\n",
       "        </style>\n",
       "      <progress value='500' class='' max='500' style='width:300px; height:20px; vertical-align: middle;'></progress>\n",
       "      100.00% [500/500 00:05<00:00]\n",
       "    </div>\n",
       "    "
      ],
      "text/plain": [
       "<IPython.core.display.HTML object>"
      ]
     },
     "metadata": {},
     "output_type": "display_data"
    },
    {
     "data": {
      "text/html": [
       "\n",
       "    <div>\n",
       "        <style>\n",
       "            /* Turns off some styling */\n",
       "            progress {\n",
       "                /* gets rid of default border in Firefox and Opera. */\n",
       "                border: none;\n",
       "                /* Needs to be in here for Safari polyfill so background images work as expected. */\n",
       "                background-size: auto;\n",
       "            }\n",
       "            .progress-bar-interrupted, .progress-bar-interrupted::-webkit-progress-bar {\n",
       "                background: #F44336;\n",
       "            }\n",
       "        </style>\n",
       "      <progress value='500' class='' max='500' style='width:300px; height:20px; vertical-align: middle;'></progress>\n",
       "      100.00% [500/500 00:05<00:00]\n",
       "    </div>\n",
       "    "
      ],
      "text/plain": [
       "<IPython.core.display.HTML object>"
      ]
     },
     "metadata": {},
     "output_type": "display_data"
    },
    {
     "data": {
      "text/html": [
       "\n",
       "    <div>\n",
       "        <style>\n",
       "            /* Turns off some styling */\n",
       "            progress {\n",
       "                /* gets rid of default border in Firefox and Opera. */\n",
       "                border: none;\n",
       "                /* Needs to be in here for Safari polyfill so background images work as expected. */\n",
       "                background-size: auto;\n",
       "            }\n",
       "            .progress-bar-interrupted, .progress-bar-interrupted::-webkit-progress-bar {\n",
       "                background: #F44336;\n",
       "            }\n",
       "        </style>\n",
       "      <progress value='500' class='' max='500' style='width:300px; height:20px; vertical-align: middle;'></progress>\n",
       "      100.00% [500/500 00:05<00:00]\n",
       "    </div>\n",
       "    "
      ],
      "text/plain": [
       "<IPython.core.display.HTML object>"
      ]
     },
     "metadata": {},
     "output_type": "display_data"
    },
    {
     "data": {
      "text/html": [
       "\n",
       "    <div>\n",
       "        <style>\n",
       "            /* Turns off some styling */\n",
       "            progress {\n",
       "                /* gets rid of default border in Firefox and Opera. */\n",
       "                border: none;\n",
       "                /* Needs to be in here for Safari polyfill so background images work as expected. */\n",
       "                background-size: auto;\n",
       "            }\n",
       "            .progress-bar-interrupted, .progress-bar-interrupted::-webkit-progress-bar {\n",
       "                background: #F44336;\n",
       "            }\n",
       "        </style>\n",
       "      <progress value='500' class='' max='500' style='width:300px; height:20px; vertical-align: middle;'></progress>\n",
       "      100.00% [500/500 00:05<00:00]\n",
       "    </div>\n",
       "    "
      ],
      "text/plain": [
       "<IPython.core.display.HTML object>"
      ]
     },
     "metadata": {},
     "output_type": "display_data"
    },
    {
     "data": {
      "text/html": [
       "\n",
       "    <div>\n",
       "        <style>\n",
       "            /* Turns off some styling */\n",
       "            progress {\n",
       "                /* gets rid of default border in Firefox and Opera. */\n",
       "                border: none;\n",
       "                /* Needs to be in here for Safari polyfill so background images work as expected. */\n",
       "                background-size: auto;\n",
       "            }\n",
       "            .progress-bar-interrupted, .progress-bar-interrupted::-webkit-progress-bar {\n",
       "                background: #F44336;\n",
       "            }\n",
       "        </style>\n",
       "      <progress value='500' class='' max='500' style='width:300px; height:20px; vertical-align: middle;'></progress>\n",
       "      100.00% [500/500 00:05<00:00]\n",
       "    </div>\n",
       "    "
      ],
      "text/plain": [
       "<IPython.core.display.HTML object>"
      ]
     },
     "metadata": {},
     "output_type": "display_data"
    },
    {
     "name": "stdout",
     "output_type": "stream",
     "text": [
      "accuracy is: 51.79561361647975 ± 0.0614130242954866%\n"
     ]
    }
   ],
   "source": [
    "# evaluate model\n",
    "y = df.sewageSystem_enc.to_list()\n",
    "accs = []\n",
    "for i in range(5):\n",
    "    acc, y_pred = evaluate_bayes(trace, model, y)\n",
    "    accs.append(acc)\n",
    "\n",
    "print(f'accuracy is: {np.array(accs).mean()} ± {np.array(accs).std()}%')"
   ]
  },
  {
   "cell_type": "markdown",
   "id": "abbba0d4",
   "metadata": {},
   "source": [
    "5. Full model"
   ]
  },
  {
   "cell_type": "code",
   "execution_count": 5,
   "id": "92aa8ca5",
   "metadata": {},
   "outputs": [
    {
     "name": "stdout",
     "output_type": "stream",
     "text": [
      "fitting full pooled Bayesian model...\n"
     ]
    },
    {
     "name": "stderr",
     "output_type": "stream",
     "text": [
      "Only 100 samples in chain.\n",
      "Auto-assigning NUTS sampler...\n",
      "Initializing NUTS using jitter+adapt_diag...\n",
      "Multiprocess sampling (3 chains in 3 jobs)\n",
      "NUTS: [ppt_mu, ppt_sig, hydr_mu, hydr_sig, hse_sig, slope_beta, mu_c, sigma_c, ppt, hydr, hse, slope, c]\n"
     ]
    },
    {
     "data": {
      "text/html": [
       "\n",
       "    <div>\n",
       "        <style>\n",
       "            /* Turns off some styling */\n",
       "            progress {\n",
       "                /* gets rid of default border in Firefox and Opera. */\n",
       "                border: none;\n",
       "                /* Needs to be in here for Safari polyfill so background images work as expected. */\n",
       "                background-size: auto;\n",
       "            }\n",
       "            .progress-bar-interrupted, .progress-bar-interrupted::-webkit-progress-bar {\n",
       "                background: #F44336;\n",
       "            }\n",
       "        </style>\n",
       "      <progress value='600' class='' max='600' style='width:300px; height:20px; vertical-align: middle;'></progress>\n",
       "      100.00% [600/600 27:04<00:00 Sampling 3 chains, 0 divergences]\n",
       "    </div>\n",
       "    "
      ],
      "text/plain": [
       "<IPython.core.display.HTML object>"
      ]
     },
     "metadata": {},
     "output_type": "display_data"
    },
    {
     "name": "stderr",
     "output_type": "stream",
     "text": [
      "Sampling 3 chains for 100 tune and 100 draw iterations (300 + 300 draws total) took 1639 seconds.\n"
     ]
    }
   ],
   "source": [
    "with pm.Model(coords=coords) as model:\n",
    "    print('fitting full pooled Bayesian model...')\n",
    "    # constant data: basin information and variables\n",
    "    basin = pm.Data('basin', basin_idx)\n",
    "    # water_d = pm.Data('water_d', df.water_dist_norm.values)\n",
    "    ppt_d = pm.Data('ppt_d', df.ppt_2021_norm.values)\n",
    "    hydr_d = pm.Data('hydr_d', df.hydraulic_c_norm.values)\n",
    "    hse_d = pm.Data('hse_d', df.median_hse_norm.values)\n",
    "    slope_d = pm.Data('slope_d', df.slope_norm.values)\n",
    "\n",
    "    # global model parameters\n",
    "    # wtr_beta = pm.HalfNormal(\"wtr_beta\", sigma=10)\n",
    "    ppt_mu = pm.Normal(\"ppt_mu\", mu=0, sigma=10)\n",
    "    ppt_sig = pm.HalfNormal(\"ppt_sig\", sigma=10)\n",
    "    hydr_mu = pm.Normal(\"hydr_mu\", mu=0, sigma=10)\n",
    "    hydr_sig = pm.HalfNormal('hydr_sig', sigma=10)\n",
    "    hse_sig = pm.HalfNormal('hse_sig', sigma=10)\n",
    "    slope_beta = pm.HalfNormal('slope_beta', sigma=10)\n",
    "    mu_c = pm.Normal('mu_c', mu=0, sigma=10)\n",
    "    sigma_c = pm.HalfNormal('sigma_c', sigma=10)\n",
    "\n",
    "    # septic-specific model parameters\n",
    "    # wtr_dist = pm.Exponential(\"wtr_dist\", lam=wtr_beta)\n",
    "    ppt = pm.Normal(\"ppt\", mu=ppt_mu, sigma=ppt_sig)\n",
    "    hydr = pm.Normal('hydr', mu=hydr_mu, sigma=hydr_sig)\n",
    "    hse = pm.Normal('hse', mu=0, sigma=hse_sig)\n",
    "    slope = pm.Exponential('slope', lam=slope_beta)\n",
    "    c = pm.Normal('c', mu=mu_c, sigma=sigma_c)\n",
    "    \n",
    "    # hierarchical bayesian formula\n",
    "    failure_theta = pm.math.sigmoid(c\n",
    "                                    # + wtr_dist * water_d \n",
    "                                    + ppt * ppt_d\n",
    "                                    + hydr * hydr_d\n",
    "                                    + hse * hse_d\n",
    "                                    + slope * slope_d\n",
    "                                   )\n",
    "\n",
    "    # likelihood of observed data\n",
    "    failures = pm.Bernoulli('failures', failure_theta, observed=df['sewageSystem_enc'])\n",
    "    \n",
    "    # fitting using NUTS sampler\n",
    "    trace = pm.sample(100, tune=tune, cores=3, return_inferencedata=True, target_accept=0.99, random_seed=rs)"
   ]
  },
  {
   "cell_type": "code",
   "execution_count": 7,
   "id": "d837f14c",
   "metadata": {},
   "outputs": [
    {
     "name": "stderr",
     "output_type": "stream",
     "text": [
      "Sampling: [failures]\n"
     ]
    },
    {
     "data": {
      "text/html": [
       "\n",
       "    <div>\n",
       "        <style>\n",
       "            /* Turns off some styling */\n",
       "            progress {\n",
       "                /* gets rid of default border in Firefox and Opera. */\n",
       "                border: none;\n",
       "                /* Needs to be in here for Safari polyfill so background images work as expected. */\n",
       "                background-size: auto;\n",
       "            }\n",
       "            .progress-bar-interrupted, .progress-bar-interrupted::-webkit-progress-bar {\n",
       "                background: #F44336;\n",
       "            }\n",
       "        </style>\n",
       "      <progress value='300' class='' max='300' style='width:300px; height:20px; vertical-align: middle;'></progress>\n",
       "      100.00% [300/300 00:04<00:00]\n",
       "    </div>\n",
       "    "
      ],
      "text/plain": [
       "<IPython.core.display.HTML object>"
      ]
     },
     "metadata": {},
     "output_type": "display_data"
    },
    {
     "name": "stderr",
     "output_type": "stream",
     "text": [
      "Sampling: [failures]\n"
     ]
    },
    {
     "data": {
      "text/html": [
       "\n",
       "    <div>\n",
       "        <style>\n",
       "            /* Turns off some styling */\n",
       "            progress {\n",
       "                /* gets rid of default border in Firefox and Opera. */\n",
       "                border: none;\n",
       "                /* Needs to be in here for Safari polyfill so background images work as expected. */\n",
       "                background-size: auto;\n",
       "            }\n",
       "            .progress-bar-interrupted, .progress-bar-interrupted::-webkit-progress-bar {\n",
       "                background: #F44336;\n",
       "            }\n",
       "        </style>\n",
       "      <progress value='300' class='' max='300' style='width:300px; height:20px; vertical-align: middle;'></progress>\n",
       "      100.00% [300/300 00:03<00:00]\n",
       "    </div>\n",
       "    "
      ],
      "text/plain": [
       "<IPython.core.display.HTML object>"
      ]
     },
     "metadata": {},
     "output_type": "display_data"
    },
    {
     "name": "stderr",
     "output_type": "stream",
     "text": [
      "Sampling: [failures]\n"
     ]
    },
    {
     "data": {
      "text/html": [
       "\n",
       "    <div>\n",
       "        <style>\n",
       "            /* Turns off some styling */\n",
       "            progress {\n",
       "                /* gets rid of default border in Firefox and Opera. */\n",
       "                border: none;\n",
       "                /* Needs to be in here for Safari polyfill so background images work as expected. */\n",
       "                background-size: auto;\n",
       "            }\n",
       "            .progress-bar-interrupted, .progress-bar-interrupted::-webkit-progress-bar {\n",
       "                background: #F44336;\n",
       "            }\n",
       "        </style>\n",
       "      <progress value='300' class='' max='300' style='width:300px; height:20px; vertical-align: middle;'></progress>\n",
       "      100.00% [300/300 00:03<00:00]\n",
       "    </div>\n",
       "    "
      ],
      "text/plain": [
       "<IPython.core.display.HTML object>"
      ]
     },
     "metadata": {},
     "output_type": "display_data"
    },
    {
     "name": "stderr",
     "output_type": "stream",
     "text": [
      "Sampling: [failures]\n"
     ]
    },
    {
     "data": {
      "text/html": [
       "\n",
       "    <div>\n",
       "        <style>\n",
       "            /* Turns off some styling */\n",
       "            progress {\n",
       "                /* gets rid of default border in Firefox and Opera. */\n",
       "                border: none;\n",
       "                /* Needs to be in here for Safari polyfill so background images work as expected. */\n",
       "                background-size: auto;\n",
       "            }\n",
       "            .progress-bar-interrupted, .progress-bar-interrupted::-webkit-progress-bar {\n",
       "                background: #F44336;\n",
       "            }\n",
       "        </style>\n",
       "      <progress value='300' class='' max='300' style='width:300px; height:20px; vertical-align: middle;'></progress>\n",
       "      100.00% [300/300 00:04<00:00]\n",
       "    </div>\n",
       "    "
      ],
      "text/plain": [
       "<IPython.core.display.HTML object>"
      ]
     },
     "metadata": {},
     "output_type": "display_data"
    },
    {
     "name": "stderr",
     "output_type": "stream",
     "text": [
      "Sampling: [failures]\n"
     ]
    },
    {
     "data": {
      "text/html": [
       "\n",
       "    <div>\n",
       "        <style>\n",
       "            /* Turns off some styling */\n",
       "            progress {\n",
       "                /* gets rid of default border in Firefox and Opera. */\n",
       "                border: none;\n",
       "                /* Needs to be in here for Safari polyfill so background images work as expected. */\n",
       "                background-size: auto;\n",
       "            }\n",
       "            .progress-bar-interrupted, .progress-bar-interrupted::-webkit-progress-bar {\n",
       "                background: #F44336;\n",
       "            }\n",
       "        </style>\n",
       "      <progress value='300' class='' max='300' style='width:300px; height:20px; vertical-align: middle;'></progress>\n",
       "      100.00% [300/300 00:03<00:00]\n",
       "    </div>\n",
       "    "
      ],
      "text/plain": [
       "<IPython.core.display.HTML object>"
      ]
     },
     "metadata": {},
     "output_type": "display_data"
    },
    {
     "name": "stdout",
     "output_type": "stream",
     "text": [
      "accuracy is: 55.08756393162052 ± 0.05988267824043235%\n"
     ]
    }
   ],
   "source": [
    "# evaluate model\n",
    "y = df.sewageSystem_enc.to_list()\n",
    "accs = []\n",
    "for i in range(5):\n",
    "    acc, y_pred = evaluate_bayes(trace, model, y)\n",
    "    accs.append(acc)\n",
    "\n",
    "print(f'accuracy is: {np.array(accs).mean()} ± {np.array(accs).std()}%')"
   ]
  },
  {
   "cell_type": "code",
   "execution_count": 37,
   "id": "e0700fee",
   "metadata": {},
   "outputs": [],
   "source": [
    "# Get inference data for each state\n",
    "def get_inference_data(indep_srcs, state_id):\n",
    "    state_id = str(state_id)\n",
    "\n",
    "    # Get boundary\n",
    "    bdry = gpd.read_file(indep_srcs['bdry'])\n",
    "    state_bdry = bdry[bdry['STATEFP'] == state_id].reset_index(drop=True)\n",
    "    outer_bdry = state_bdry.dissolve()\n",
    "    del indep_srcs['bdry']\n",
    "\n",
    "    # Get raster mean value for each county\n",
    "    for indep_var in indep_srcs.keys():\n",
    "        filename = indep_srcs[indep_var]\n",
    "        with rio.open(filename) as src:\n",
    "            affine = src.transform\n",
    "            array = src.read(1)\n",
    "            \n",
    "            # convert to slope\n",
    "            if indep_var == 'slope':\n",
    "                array = np.where(array == 32767, np.nan, array)\n",
    "                res = src.res[0]  # pixel resolution in degrees\n",
    "                elevation_deg = np.degrees(np.arctan(array / np.sqrt(res**2 + res**2)))\n",
    "                slope_x, slope_y = np.gradient(elevation_deg, res, res)\n",
    "                array = np.degrees(np.arctan(np.sqrt(slope_x**2 + slope_y**2)))\n",
    "\n",
    "            zones = pd.DataFrame(zonal_stats(state_bdry, array, affine=affine, stats='median'))\n",
    "        \n",
    "        var_name = f'{indep_var}_median'\n",
    "        state_bdry[var_name] = zones['median']\n",
    "\n",
    "    # Get housing value\n",
    "    acs_dict_list = [\n",
    "        {'type': 'acs5','year': 2021,'state': state_id,'code': 'B25077_001E','col_name': 'hse_median'},\n",
    "        {'type': 'acs5','year': 2021,'state': state_id,'code': 'B06002_001E','col_name': 'age_median'},\n",
    "        {'type': 'acs5','year': 2021,'state': state_id,'code': 'B07411_001E','col_name': 'income_median'}\n",
    "    ]    \n",
    "\n",
    "    for acs_dict in acs_dict_list:\n",
    "        acs = (censusdata.download(\n",
    "            acs_dict['type'],\n",
    "            acs_dict['year'], \n",
    "            censusdata.censusgeo([('state', acs_dict['state']), ('county', '*')]), [acs_dict['code']]\n",
    "        ).reset_index().rename(columns={acs_dict['code']: acs_dict['col_name']}))\n",
    "\n",
    "        for i, row in acs.iterrows():\n",
    "            county = (str(row['index'])\n",
    "                        .split(',')[0]\n",
    "                        .split('County')[0]\n",
    "                        .strip())\n",
    "\n",
    "            acs.loc[i, 'County'] = county\n",
    "        \n",
    "        for i, row in state_bdry.iterrows():\n",
    "            try:\n",
    "                mean = acs[acs['County'] == row['NAME']][acs_dict['col_name']].item()\n",
    "                state_bdry.loc[i, acs_dict['col_name']] = mean\n",
    "            except:\n",
    "                state_bdry.loc[i, acs_dict['col_name']] = 0\n",
    "\n",
    "    return state_bdry\n",
    "\n",
    "# Compute probability of failure for pooled model\n",
    "def compute_risk_probability_pooled(gdf, attr_params, sampling_sz=100, runs=5):\n",
    "    \"\"\"Compute risk probability (and its uncertainty) over (sampling_sz * n) runs\"\"\"\n",
    "    for i, row in tqdm(gdf.iterrows(), total=gdf.shape[0]):\n",
    "        \n",
    "        # Average across chains and draws\n",
    "        x_params = {\n",
    "            'ppt': pm.Normal.dist(mu=attr_params['ppt_mu'].mean().item(), sigma=pm.HalfNormal.dist(sigma=attr_params['ppt_sig'].mean().item())),\n",
    "            'hydr': pm.Normal.dist(mu=attr_params['hydr_mu'].mean().item(), sigma=pm.HalfNormal.dist(sigma=attr_params['hydr_sig'].mean().item())),\n",
    "            'hse': pm.Normal.dist(sigma=pm.HalfNormal.dist(sigma=attr_params['hse_sig'].mean().item())),\n",
    "            'slope': pm.Exponential.dist(lam=abs(attr_params['slope_beta'].mean().item()))\n",
    "        }\n",
    "        failure_theta = pm.math.sigmoid(\n",
    "            attr_params['c'].mean().item()\n",
    "            + pm.draw(x_params['ppt'], draws=sampling_sz).mean() * row['ppt_median']\n",
    "            + pm.draw(x_params['hydr'], draws=sampling_sz).mean() * row['soil_median']\n",
    "            + pm.draw(x_params['hse'], draws=sampling_sz).mean() * row['hse_median']\n",
    "            + pm.draw(x_params['slope'], draws=sampling_sz).mean() * row['slope_median']\n",
    "        )\n",
    "        \n",
    "        risks = []\n",
    "        failures = pm.Bernoulli.dist(failure_theta)\n",
    "        for j in range(runs):\n",
    "            risk = pm.draw(failures, draws=sampling_sz)\n",
    "            risks.append(risk.mean())\n",
    "        \n",
    "        risk_mean = np.array(risks).mean()\n",
    "        risk_std = np.array(risks).std()\n",
    "        gdf.loc[i, 'risk_mean'] = risk_mean\n",
    "        gdf.loc[i, 'risk_std'] = risk_std\n",
    "    \n",
    "    return gdf"
   ]
  },
  {
   "cell_type": "code",
   "execution_count": 18,
   "id": "9c0408a8",
   "metadata": {},
   "outputs": [
    {
     "data": {
      "image/png": "[encoded data removed]",
      "text/plain": [
       "<Figure size 1080x288 with 5 Axes>"
      ]
     },
     "metadata": {
      "needs_background": "light"
     },
     "output_type": "display_data"
    }
   ],
   "source": [
    "# Plot posterior\n",
    "posterior_params = ['c', 'ppt', 'hydr', 'slope', 'hse']\n",
    "f, ax = plt.subplots(1,5, figsize=(15,4))\n",
    "for posterior_idx, posterior_param in enumerate(posterior_params):\n",
    "    trace['posterior'][posterior_param].to_dataframe().hist(ax=ax[posterior_idx])\n",
    "    ax[posterior_idx].set_title(posterior_param)"
   ]
  },
  {
   "cell_type": "code",
   "execution_count": 9,
   "id": "7ebd99c9",
   "metadata": {},
   "outputs": [
    {
     "data": {
      "text/plain": [
       "'../docs/pooled.pdf'"
      ]
     },
     "execution_count": 9,
     "metadata": {},
     "output_type": "execute_result"
    }
   ],
   "source": [
    "# # Save graph for figure 8\n",
    "# graph = pm.model_graph.model_to_graphviz(model)\n",
    "# graph.render(filename='../docs/pooled')\n",
    "\n",
    "# # Edit the graph\n",
    "# from graphviz import Source\n",
    "# filename='../docs/pooled'\n",
    "# graph = Source.from_file(filename)\n",
    "# graph.render(filename=filename)"
   ]
  },
  {
   "cell_type": "code",
   "execution_count": 10,
   "id": "0c96ebac",
   "metadata": {},
   "outputs": [
    {
     "data": {
      "image/png": "[encoded data removed]",
      "text/plain": [
       "<Figure size 576x432 with 2 Axes>"
      ]
     },
     "metadata": {
      "needs_background": "light"
     },
     "output_type": "display_data"
    }
   ],
   "source": [
    "plot_confusion(y, y_pred, title='', savedir='../docs/confusion_l0.pdf')"
   ]
  },
  {
   "cell_type": "markdown",
   "id": "dd0fb60d",
   "metadata": {},
   "source": [
    "## Hyperparameter Optimization"
   ]
  },
  {
   "cell_type": "code",
   "execution_count": 10,
   "id": "d06a098e",
   "metadata": {
    "scrolled": true
   },
   "outputs": [],
   "source": [
    "# hyperparameter optimization with optuna\n",
    "def objective(trial, classifier_name):\n",
    "    assert classifier_name in ['SVC']\n",
    "    if classifier_name == 'SVC':\n",
    "        svc_deg = trial.suggest_int('svc_deg', 1, 10)\n",
    "        svc_c = trial.suggest\n",
    "        classifier_obj = SVC(degree=svc_deg, gamma='auto')\n",
    "        \n",
    "    score = sklearn.model_selection.cross_val_score(classifier_obj, train_x, train_y, n_jobs=-1, cv=3)\n",
    "    accuracy = score.mean()\n",
    "    return accuracy"
   ]
  },
  {
   "cell_type": "code",
   "execution_count": null,
   "id": "eedc2403",
   "metadata": {
    "scrolled": true
   },
   "outputs": [],
   "source": [
    "# Optimize SVC\n",
    "study = optuna.create_study(direction='maximize')\n",
    "study.optimize(lambda trial: objective(trial, classifier_name='SVC'), n_trials=10)"
   ]
  },
  {
   "cell_type": "markdown",
   "id": "7873f258",
   "metadata": {},
   "source": [
    "## Optimized Baseline Analysis"
   ]
  },
  {
   "cell_type": "markdown",
   "id": "75743fa0",
   "metadata": {},
   "source": [
    "### b) Logistic Regressor"
   ]
  },
  {
   "cell_type": "code",
   "execution_count": 11,
   "id": "641d3bcd",
   "metadata": {},
   "outputs": [
    {
     "name": "stdout",
     "output_type": "stream",
     "text": [
      "accuracy for LR: 57.37810945273631 ± 0.0 %\n"
     ]
    },
    {
     "data": {
      "image/png": "[encoded data removed]",
      "text/plain": [
       "<Figure size 576x432 with 2 Axes>"
      ]
     },
     "metadata": {
      "needs_background": "light"
     },
     "output_type": "display_data"
    }
   ],
   "source": [
    "from sklearn.linear_model import LogisticRegression\n",
    "\n",
    "accs = []\n",
    "for i in range(5):\n",
    "    lr = LogisticRegression()\n",
    "    lr.fit(train_x, train_y)\n",
    "    pred = lr.predict(test_x)\n",
    "    acc = (pred == test_y).sum() / len(pred)\n",
    "    accs.append(acc)\n",
    "\n",
    "print(f'accuracy for LR: {np.array(accs).mean() * 100} ± {np.array(accs).std() * 100} %')\n",
    "\n",
    "plot_confusion(test_y, pred, title='', savedir='../docs/confusion_lr.pdf')"
   ]
  },
  {
   "cell_type": "markdown",
   "id": "a130cd0f",
   "metadata": {},
   "source": [
    "### c) SVC"
   ]
  },
  {
   "cell_type": "code",
   "execution_count": 8,
   "id": "26bcab30",
   "metadata": {},
   "outputs": [
    {
     "name": "stdout",
     "output_type": "stream",
     "text": [
      "accuracy for SVC: 54.57462686567164 ± 0.0 %\n"
     ]
    },
    {
     "data": {
      "image/png": "[encoded data removed]",
      "text/plain": [
       "<Figure size 576x432 with 2 Axes>"
      ]
     },
     "metadata": {
      "needs_background": "light"
     },
     "output_type": "display_data"
    }
   ],
   "source": [
    "# SVC\n",
    "accs = []\n",
    "for i in range(5):\n",
    "    svc_clf = SVC(max_iter=100)\n",
    "    svc_clf.fit(train_x, train_y)\n",
    "    svc_y_pred = svc_clf.predict(test_x)\n",
    "    acc = (svc_y_pred == test_y).sum() / len(svc_y_pred)\n",
    "    accs.append(acc)\n",
    "\n",
    "print(f'accuracy for SVC: {np.array(accs).mean() * 100} ± {np.array(accs).std() * 100} %')\n",
    "\n",
    "plot_confusion(test_y, svc_y_pred, title='', savedir='../docs/confusion_svc.pdf')"
   ]
  },
  {
   "cell_type": "markdown",
   "id": "bf3e7394",
   "metadata": {},
   "source": [
    "### d) RF"
   ]
  },
  {
   "cell_type": "code",
   "execution_count": 13,
   "id": "91cf08e6",
   "metadata": {},
   "outputs": [
    {
     "name": "stdout",
     "output_type": "stream",
     "text": [
      "accuracy for RF: 62.600497512437805 ± 0.3000565114303147 %\n"
     ]
    },
    {
     "data": {
      "image/png": "[encoded data removed]",
      "text/plain": [
       "<Figure size 576x432 with 2 Axes>"
      ]
     },
     "metadata": {
      "needs_background": "light"
     },
     "output_type": "display_data"
    }
   ],
   "source": [
    "from sklearn.ensemble import RandomForestClassifier\n",
    "\n",
    "# RF\n",
    "accs = []\n",
    "for i in range(5):\n",
    "    rf_clf = RandomForestClassifier(max_depth=2)\n",
    "    rf_clf.fit(train_x, train_y)\n",
    "    rf_y_pred = rf_clf.predict(test_x)\n",
    "    acc = (rf_y_pred == test_y).sum() / len(rf_y_pred)\n",
    "    accs.append(acc)\n",
    "\n",
    "print(f'accuracy for RF: {np.array(accs).mean() * 100} ± {np.array(accs).std() * 100} %')\n",
    "\n",
    "plot_confusion(test_y, rf_y_pred, title='', savedir='../docs/confusion_rf.pdf')"
   ]
  },
  {
   "cell_type": "code",
   "execution_count": null,
   "id": "cb261b6b",
   "metadata": {},
   "outputs": [],
   "source": []
  }
 ],
 "metadata": {
  "celltoolbar": "Slideshow",
  "kernelspec": {
   "display_name": "septic",
   "language": "python",
   "name": "septic"
  },
  "language_info": {
   "codemirror_mode": {
    "name": "ipython",
    "version": 3
   },
   "file_extension": ".py",
   "mimetype": "text/x-python",
   "name": "python",
   "nbconvert_exporter": "python",
   "pygments_lexer": "ipython3",
   "version": "3.9.12"
  }
 },
 "nbformat": 4,
 "nbformat_minor": 5
}
