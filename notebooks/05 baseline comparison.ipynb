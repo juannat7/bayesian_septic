{
 "cells": [
  {
   "cell_type": "markdown",
   "metadata": {
    "slideshow": {
     "slide_type": "skip"
    }
   },
   "source": [
    "This notebook applies hierarchical bayesian modeling using topographical remote sensing product"
   ]
  },
  {
   "cell_type": "code",
   "execution_count": 1,
   "metadata": {
    "slideshow": {
     "slide_type": "skip"
    }
   },
   "outputs": [
    {
     "name": "stderr",
     "output_type": "stream",
     "text": [
      "WARNING (theano.tensor.blas): Using NumPy C-API based implementation for BLAS functions.\n"
     ]
    }
   ],
   "source": [
    "import arviz as az\n",
    "import matplotlib.pyplot as plt\n",
    "from matplotlib import colors\n",
    "import numpy as np\n",
    "import pandas as pd\n",
    "import pymc3 as pm\n",
    "from tqdm import tqdm\n",
    "from sklearn.metrics import *\n",
    "import theano.tensor as tt\n",
    "import scipy\n",
    "import scipy.stats as stats\n",
    "import seaborn as sns\n",
    "\n",
    "import rasterio as rio\n",
    "from rasterio import mask\n",
    "import geopandas as gpd\n",
    "from shapely.geometry import shape\n",
    "import xarray as xr\n",
    "import rioxarray\n",
    "import fiona\n",
    "\n",
    "import optuna\n",
    "import sklearn\n",
    "from sklearn.ensemble import RandomForestClassifier\n",
    "from sklearn.svm import SVC\n",
    "import xgboost as xgb\n",
    "import lightgbm as lgb\n",
    "from sklearn.model_selection import train_test_split\n",
    "\n",
    "from utils import *\n",
    "from params import *\n",
    "tqdm.pandas()\n",
    "\n",
    "%matplotlib inline"
   ]
  },
  {
   "cell_type": "markdown",
   "metadata": {},
   "source": [
    "# Data Pre-Processing"
   ]
  },
  {
   "cell_type": "code",
   "execution_count": 3,
   "metadata": {},
   "outputs": [
    {
     "name": "stdout",
     "output_type": "stream",
     "text": [
      "balancing...\n",
      "repairs: 7.6567198704603285%, non-repairs: 92.34328012953968%\n",
      "processing soil hydraulic data...\n",
      "acquiring housing information...\n",
      "processing DEM and flow information...\n"
     ]
    }
   ],
   "source": [
    "df, basin_idx, basins, coords = read_data(file_dir='../data/hierarchical_septics_v2.csv',\n",
    "        cols=['ppt_2013', 'water_dist', 'hydraulic_c','median_hse', 'dem', 'flow'], is_balanced=True)"
   ]
  },
  {
   "cell_type": "markdown",
   "metadata": {},
   "source": [
    "# Baseline Comparison"
   ]
  },
  {
   "cell_type": "code",
   "execution_count": 4,
   "metadata": {},
   "outputs": [],
   "source": [
    "train_x, test_x, train_y, test_y = train_test_split(df[['water_dist_norm', 'ppt_2013_norm', 'hydraulic_c_norm', 'median_hse_norm', 'flow_norm', 'dem_norm']], \n",
    "                                                    df['sewageSystem_enc'], \n",
    "                                                    test_size=0.1, \n",
    "                                                    random_state=42)"
   ]
  },
  {
   "cell_type": "markdown",
   "metadata": {},
   "source": [
    "### a) Aggregate Bayesian"
   ]
  },
  {
   "cell_type": "code",
   "execution_count": 4,
   "metadata": {},
   "outputs": [
    {
     "name": "stderr",
     "output_type": "stream",
     "text": [
      "Auto-assigning NUTS sampler...\n",
      "Initializing NUTS using jitter+adapt_diag...\n",
      "Multiprocess sampling (4 chains in 4 jobs)\n",
      "NUTS: [c, dem, flow, hse, hydr, ppt, wtr_dist, sigma_c, mu_c, dem_beta, dem_alpha, flow_beta, flow_alpha, hse_sig, hydr_sig, ppt_sig, ppt_mu, wtr_beta, wtr_alpha]\n"
     ]
    },
    {
     "data": {
      "text/html": [
       "\n",
       "    <div>\n",
       "        <style>\n",
       "            /* Turns off some styling */\n",
       "            progress {\n",
       "                /* gets rid of default border in Firefox and Opera. */\n",
       "                border: none;\n",
       "                /* Needs to be in here for Safari polyfill so background images work as expected. */\n",
       "                background-size: auto;\n",
       "            }\n",
       "            .progress-bar-interrupted, .progress-bar-interrupted::-webkit-progress-bar {\n",
       "                background: #F44336;\n",
       "            }\n",
       "        </style>\n",
       "      <progress value='2800' class='' max='2800' style='width:300px; height:20px; vertical-align: middle;'></progress>\n",
       "      100.00% [2800/2800 00:45<00:00 Sampling 4 chains, 0 divergences]\n",
       "    </div>\n",
       "    "
      ],
      "text/plain": [
       "<IPython.core.display.HTML object>"
      ]
     },
     "metadata": {},
     "output_type": "display_data"
    },
    {
     "name": "stderr",
     "output_type": "stream",
     "text": [
      "Sampling 4 chains for 200 tune and 500 draw iterations (800 + 2_000 draws total) took 47 seconds.\n",
      "The estimated number of effective samples is smaller than 200 for some parameters.\n"
     ]
    }
   ],
   "source": [
    "with pm.Model() as base_model:\n",
    "    # constant data inputs\n",
    "    water_d = pm.Data('water_d', df.water_dist_norm.values)\n",
    "    ppt_d = pm.Data('ppt_d', df.ppt_2013_norm.values)\n",
    "    hydr_d = pm.Data('hydr_d', df.hydraulic_c_norm.values)\n",
    "    hse_d = pm.Data('hse_d', df.median_hse_norm.values)\n",
    "    flow_d = pm.Data('flow_d', df.flow_norm.values)\n",
    "    dem_d = pm.Data('dem_d', df.dem_norm.values)\n",
    "\n",
    "    # global model priors\n",
    "    wtr_alpha = pm.HalfNormal('wtr_alpha', sigma=1.)\n",
    "    wtr_beta = pm.HalfNormal('wtr_beta', sigma=5)\n",
    "    ppt_mu = pm.HalfNormal('ppt_mu', sigma=10)\n",
    "    ppt_sig = pm.HalfNormal('ppt_sig', sigma=10)\n",
    "    hydr_sig = pm.HalfNormal('hydr_sig', sigma=10)\n",
    "    hse_sig = pm.HalfNormal('hse_sig', sigma=5)\n",
    "    flow_alpha = pm.HalfNormal('flow_alpha', sigma=1.)\n",
    "    flow_beta = pm.HalfNormal('flow_beta', sigma=5)\n",
    "    dem_alpha = pm.HalfNormal('dem_alpha', sigma=1.)\n",
    "    dem_beta = pm.HalfNormal('dem_beta', sigma=5)\n",
    "    mu_c = pm.HalfNormal('mu_c', sigma=10)\n",
    "    sigma_c = pm.HalfNormal('sigma_c', sigma=10)\n",
    "\n",
    "    # model parameters\n",
    "    wtr_dist = pm.Gamma('wtr_dist', alpha=wtr_alpha, beta=wtr_beta)\n",
    "    ppt = pm.HalfNormal('ppt', sigma=ppt_sig)\n",
    "    hydr = pm.Uniform('hydr', lower=0, upper=hydr_sig)\n",
    "    hse = pm.HalfNormal('hse', sigma=hse_sig)\n",
    "    flow = pm.Gamma('flow', alpha=flow_alpha, beta=flow_beta)\n",
    "    dem = pm.Gamma('dem', alpha=dem_alpha, beta=dem_beta)\n",
    "    c = pm.Normal('c', mu=mu_c, sigma=sigma_c)\n",
    "    \n",
    "    # complete bayesian formula\n",
    "    failure_theta = pm.math.sigmoid(c \n",
    "                                    + wtr_dist * water_d \n",
    "                                    + ppt * ppt_d\n",
    "                                    + hydr * hydr_d\n",
    "                                    + hse * hse_d\n",
    "                                    + flow * flow_d\n",
    "                                    + dem * dem_d\n",
    "                                   )\n",
    "\n",
    "    # likelihood of observed data\n",
    "    failures = pm.Bernoulli('failures', failure_theta, observed=df['sewageSystem_enc'])\n",
    "    \n",
    "    # fitting using NUTS sampler\n",
    "    trace = pm.sample(500, tune=200, cores=4, return_inferencedata=True, target_accept=0.99)"
   ]
  },
  {
   "cell_type": "code",
   "execution_count": 5,
   "metadata": {},
   "outputs": [
    {
     "name": "stderr",
     "output_type": "stream",
     "text": [
      "/home/user/anaconda3/envs/sentinel/lib/python3.8/site-packages/pymc3/sampling.py:1689: UserWarning: samples parameter is smaller than nchains times ndraws, some draws and/or chains may not be represented in the returned posterior predictive sample\n",
      "  warnings.warn(\n"
     ]
    },
    {
     "data": {
      "text/html": [
       "\n",
       "    <div>\n",
       "        <style>\n",
       "            /* Turns off some styling */\n",
       "            progress {\n",
       "                /* gets rid of default border in Firefox and Opera. */\n",
       "                border: none;\n",
       "                /* Needs to be in here for Safari polyfill so background images work as expected. */\n",
       "                background-size: auto;\n",
       "            }\n",
       "            .progress-bar-interrupted, .progress-bar-interrupted::-webkit-progress-bar {\n",
       "                background: #F44336;\n",
       "            }\n",
       "        </style>\n",
       "      <progress value='500' class='' max='500' style='width:300px; height:20px; vertical-align: middle;'></progress>\n",
       "      100.00% [500/500 00:01<00:00]\n",
       "    </div>\n",
       "    "
      ],
      "text/plain": [
       "<IPython.core.display.HTML object>"
      ]
     },
     "metadata": {},
     "output_type": "display_data"
    },
    {
     "name": "stdout",
     "output_type": "stream",
     "text": [
      "accuracy is: 59.161490683229815%\n"
     ]
    }
   ],
   "source": [
    "# evaluate baseline bayesian\n",
    "y = df.sewageSystem_enc.to_list()\n",
    "acc, y_pred = evaluate_bayes(trace, base_model, y)\n",
    "print(f'accuracy is: {acc}%')"
   ]
  },
  {
   "cell_type": "markdown",
   "metadata": {},
   "source": [
    "## Hyperparameter Optimization"
   ]
  },
  {
   "cell_type": "code",
   "execution_count": 21,
   "metadata": {
    "scrolled": true
   },
   "outputs": [],
   "source": [
    "# hyperparameter optimization with optuna\n",
    "def objective(trial, classifier_name):\n",
    "    assert classifier_name in ['SVC', 'RF', 'XGB', 'GBDT']\n",
    "    if classifier_name == 'SVC':\n",
    "        svc_deg = trial.suggest_int('svc_deg', 1, 10)\n",
    "        classifier_obj = SVC(C=svc_c, degree=svc_deg, gamma='auto')\n",
    "        \n",
    "    elif classifier_name == 'RF':\n",
    "        rf_n_estimators = trial.suggest_int('n_estimators', 100, 1000)\n",
    "        classifier_obj = RandomForestClassifier(n_estimators=rf_n_estimators)\n",
    "    \n",
    "    elif classifier_name == 'XGB':\n",
    "        xgb_eta = trial.suggest_float('xgb_eta', 0., 1.)\n",
    "        xgb_max_depth = trial.suggest_int('xgb_max_depth', 1, 20)\n",
    "        classifier_obj = xgb.XGBClassifier(eta=xgb_eta, max_depth=xgb_max_depth,\n",
    "                                           enable_categorical=True, use_label_encoder=False)\n",
    "        \n",
    "    else:\n",
    "        gbdt_n_estimators = trial.suggest_int('gbdt_n_estimators', 100, 1000)\n",
    "        gbdt_lr = trial.suggest_float('gbdt_lr', 0.01, 1.)\n",
    "        classifier_obj = lgb.LGBMClassifier(n_estimators=gbdt_n_estimators, learning_rate=gbdt_lr)\n",
    "        \n",
    "    score = sklearn.model_selection.cross_val_score(classifier_obj, train_x, train_y, n_jobs=-1, cv=3)\n",
    "    accuracy = score.mean()\n",
    "    return accuracy"
   ]
  },
  {
   "cell_type": "code",
   "execution_count": 95,
   "metadata": {
    "scrolled": true
   },
   "outputs": [
    {
     "name": "stderr",
     "output_type": "stream",
     "text": [
      "\u001b[32m[I 2022-04-19 22:32:54,956]\u001b[0m A new study created in memory with name: no-name-07609984-a138-4529-a1d0-8122ef33cbbe\u001b[0m\n",
      "\u001b[32m[I 2022-04-19 22:32:56,267]\u001b[0m Trial 0 finished with value: 0.6176434676434676 and parameters: {'svc_c': 371.6029208635379, 'svc_deg': 6}. Best is trial 0 with value: 0.6176434676434676.\u001b[0m\n",
      "\u001b[32m[I 2022-04-19 22:32:56,788]\u001b[0m Trial 1 finished with value: 0.5051194836909122 and parameters: {'svc_c': 5.211338796181748e-07, 'svc_deg': 6}. Best is trial 0 with value: 0.6176434676434676.\u001b[0m\n",
      "\u001b[32m[I 2022-04-19 22:32:57,302]\u001b[0m Trial 2 finished with value: 0.5682626896912611 and parameters: {'svc_c': 2.6210694837658473, 'svc_deg': 5}. Best is trial 0 with value: 0.6176434676434676.\u001b[0m\n",
      "\u001b[32m[I 2022-04-19 22:33:15,861]\u001b[0m Trial 3 finished with value: 0.6672422815279958 and parameters: {'svc_c': 2112343.8569213776, 'svc_deg': 7}. Best is trial 3 with value: 0.6672422815279958.\u001b[0m\n",
      "\u001b[32m[I 2022-04-19 22:33:47,988]\u001b[0m Trial 4 finished with value: 0.6774986917844061 and parameters: {'svc_c': 6864865.398448115, 'svc_deg': 9}. Best is trial 4 with value: 0.6774986917844061.\u001b[0m\n",
      "\u001b[32m[I 2022-04-19 22:34:22,897]\u001b[0m Trial 5 finished with value: 0.6365166579452294 and parameters: {'svc_c': 89847302.3253421, 'svc_deg': 6}. Best is trial 4 with value: 0.6774986917844061.\u001b[0m\n",
      "\u001b[32m[I 2022-04-19 22:34:22,927]\u001b[0m Trial 6 finished with value: 0.5051194836909122 and parameters: {'svc_c': 0.0002080177025902468, 'svc_deg': 6}. Best is trial 4 with value: 0.6774986917844061.\u001b[0m\n",
      "\u001b[32m[I 2022-04-19 22:34:22,951]\u001b[0m Trial 7 finished with value: 0.5051194836909122 and parameters: {'svc_c': 1.5735437343547406e-10, 'svc_deg': 6}. Best is trial 4 with value: 0.6774986917844061.\u001b[0m\n",
      "\u001b[32m[I 2022-04-19 22:34:31,257]\u001b[0m Trial 8 finished with value: 0.6843101343101342 and parameters: {'svc_c': 1176083.3923216586, 'svc_deg': 2}. Best is trial 8 with value: 0.6843101343101342.\u001b[0m\n",
      "\u001b[32m[I 2022-04-19 22:35:17,242]\u001b[0m Trial 9 finished with value: 0.6621664050235478 and parameters: {'svc_c': 17351625.1527703, 'svc_deg': 3}. Best is trial 8 with value: 0.6843101343101342.\u001b[0m\n",
      "\u001b[32m[I 2022-04-19 22:35:17,283]\u001b[0m Trial 10 finished with value: 0.6091313448456306 and parameters: {'svc_c': 805.2241789086403, 'svc_deg': 1}. Best is trial 8 with value: 0.6843101343101342.\u001b[0m\n",
      "\u001b[32m[I 2022-04-19 22:37:33,173]\u001b[0m Trial 11 finished with value: 0.6672771672771672 and parameters: {'svc_c': 9908964205.04501, 'svc_deg': 10}. Best is trial 8 with value: 0.6843101343101342.\u001b[0m\n",
      "\u001b[32m[I 2022-04-19 22:37:33,265]\u001b[0m Trial 12 finished with value: 0.624515960230246 and parameters: {'svc_c': 5486.090212440467, 'svc_deg': 10}. Best is trial 8 with value: 0.6843101343101342.\u001b[0m\n",
      "\u001b[32m[I 2022-04-19 22:37:34,474]\u001b[0m Trial 13 finished with value: 0.6604133961276818 and parameters: {'svc_c': 99649.84893788067, 'svc_deg': 8}. Best is trial 8 with value: 0.6843101343101342.\u001b[0m\n",
      "\u001b[32m[I 2022-04-19 22:37:34,512]\u001b[0m Trial 14 finished with value: 0.5051194836909122 and parameters: {'svc_c': 0.045400043732004985, 'svc_deg': 3}. Best is trial 8 with value: 0.6843101343101342.\u001b[0m\n",
      "\u001b[32m[I 2022-04-19 22:38:25,297]\u001b[0m Trial 15 finished with value: 0.6638758067329495 and parameters: {'svc_c': 6805701187.064319, 'svc_deg': 1}. Best is trial 8 with value: 0.6843101343101342.\u001b[0m\n",
      "\u001b[32m[I 2022-04-19 22:38:25,334]\u001b[0m Trial 16 finished with value: 0.5802023373451944 and parameters: {'svc_c': 13.263337190119076, 'svc_deg': 4}. Best is trial 8 with value: 0.6843101343101342.\u001b[0m\n",
      "\u001b[32m[I 2022-04-19 22:38:26,821]\u001b[0m Trial 17 finished with value: 0.6604133961276818 and parameters: {'svc_c': 96269.15389060798, 'svc_deg': 8}. Best is trial 8 with value: 0.6843101343101342.\u001b[0m\n",
      "\u001b[32m[I 2022-04-19 22:39:08,766]\u001b[0m Trial 18 finished with value: 0.6416361416361417 and parameters: {'svc_c': 75131541.03380498, 'svc_deg': 2}. Best is trial 8 with value: 0.6843101343101342.\u001b[0m\n",
      "\u001b[32m[I 2022-04-19 22:39:08,806]\u001b[0m Trial 19 finished with value: 0.5051194836909122 and parameters: {'svc_c': 0.018156614399348747, 'svc_deg': 9}. Best is trial 8 with value: 0.6843101343101342.\u001b[0m\n",
      "\u001b[32m[I 2022-04-19 22:39:11,041]\u001b[0m Trial 20 finished with value: 0.6620966335252049 and parameters: {'svc_c': 197484.15558308025, 'svc_deg': 3}. Best is trial 8 with value: 0.6843101343101342.\u001b[0m\n",
      "\u001b[32m[I 2022-04-19 22:41:27,857]\u001b[0m Trial 21 finished with value: 0.6570381998953427 and parameters: {'svc_c': 6979421936.88919, 'svc_deg': 10}. Best is trial 8 with value: 0.6843101343101342.\u001b[0m\n",
      "\u001b[32m[I 2022-04-19 22:44:31,903]\u001b[0m Trial 22 finished with value: 0.6689691261119832 and parameters: {'svc_c': 9252503586.90548, 'svc_deg': 9}. Best is trial 8 with value: 0.6843101343101342.\u001b[0m\n",
      "\u001b[32m[I 2022-04-19 22:46:18,343]\u001b[0m Trial 23 finished with value: 0.6416710273853131 and parameters: {'svc_c': 216904667.53577328, 'svc_deg': 8}. Best is trial 8 with value: 0.6843101343101342.\u001b[0m\n",
      "\u001b[32m[I 2022-04-19 22:46:23,050]\u001b[0m Trial 24 finished with value: 0.6706523635095064 and parameters: {'svc_c': 561384.4832132718, 'svc_deg': 9}. Best is trial 8 with value: 0.6843101343101342.\u001b[0m\n",
      "\u001b[32m[I 2022-04-19 22:46:46,702]\u001b[0m Trial 25 finished with value: 0.6723617652189081 and parameters: {'svc_c': 1403099.6520239357, 'svc_deg': 9}. Best is trial 8 with value: 0.6843101343101342.\u001b[0m\n",
      "\u001b[32m[I 2022-04-19 22:46:47,404]\u001b[0m Trial 26 finished with value: 0.6330542473399617 and parameters: {'svc_c': 8762.643533214576, 'svc_deg': 7}. Best is trial 8 with value: 0.6843101343101342.\u001b[0m\n",
      "\u001b[32m[I 2022-04-19 22:46:47,993]\u001b[0m Trial 27 finished with value: 0.6159340659340659 and parameters: {'svc_c': 403.7970194077558, 'svc_deg': 4}. Best is trial 8 with value: 0.6843101343101342.\u001b[0m\n",
      "\u001b[32m[I 2022-04-19 22:47:11,679]\u001b[0m Trial 28 finished with value: 0.6757718472004187 and parameters: {'svc_c': 6520042.880505559, 'svc_deg': 7}. Best is trial 8 with value: 0.6843101343101342.\u001b[0m\n",
      "\u001b[32m[I 2022-04-19 22:47:11,724]\u001b[0m Trial 29 finished with value: 0.6313622885051456 and parameters: {'svc_c': 99.66109172178723, 'svc_deg': 7}. Best is trial 8 with value: 0.6843101343101342.\u001b[0m\n",
      "\u001b[32m[I 2022-04-19 22:47:11,846]\u001b[0m Trial 30 finished with value: 0.6330542473399617 and parameters: {'svc_c': 8450.200908606774, 'svc_deg': 5}. Best is trial 8 with value: 0.6843101343101342.\u001b[0m\n",
      "\u001b[32m[I 2022-04-19 22:47:32,540]\u001b[0m Trial 31 finished with value: 0.6774899703471132 and parameters: {'svc_c': 4691084.533297371, 'svc_deg': 9}. Best is trial 8 with value: 0.6843101343101342.\u001b[0m\n",
      "\u001b[32m[I 2022-04-19 22:48:14,977]\u001b[0m Trial 32 finished with value: 0.6757980115122972 and parameters: {'svc_c': 6369165.609869417, 'svc_deg': 8}. Best is trial 8 with value: 0.6843101343101342.\u001b[0m\n",
      "\u001b[32m[I 2022-04-19 22:49:20,589]\u001b[0m Trial 33 finished with value: 0.6348159776731205 and parameters: {'svc_c': 109568995.1509174, 'svc_deg': 8}. Best is trial 8 with value: 0.6843101343101342.\u001b[0m\n",
      "\u001b[32m[I 2022-04-19 22:51:25,229]\u001b[0m Trial 34 finished with value: 0.6740973312401884 and parameters: {'svc_c': 398157343.99444026, 'svc_deg': 9}. Best is trial 8 with value: 0.6843101343101342.\u001b[0m\n",
      "\u001b[32m[I 2022-04-19 22:51:59,743]\u001b[0m Trial 35 finished with value: 0.6792080934938077 and parameters: {'svc_c': 4487842.040195347, 'svc_deg': 10}. Best is trial 8 with value: 0.6843101343101342.\u001b[0m\n",
      "\u001b[32m[I 2022-04-19 22:51:59,782]\u001b[0m Trial 36 finished with value: 0.532382696668411 and parameters: {'svc_c': 0.2966487535207306, 'svc_deg': 10}. Best is trial 8 with value: 0.6843101343101342.\u001b[0m\n",
      "\u001b[32m[I 2022-04-19 22:51:59,816]\u001b[0m Trial 37 finished with value: 0.5051194836909122 and parameters: {'svc_c': 6.11303033979597e-08, 'svc_deg': 10}. Best is trial 8 with value: 0.6843101343101342.\u001b[0m\n",
      "\u001b[32m[I 2022-04-19 22:51:59,847]\u001b[0m Trial 38 finished with value: 0.5051194836909122 and parameters: {'svc_c': 0.00012102804157317831, 'svc_deg': 5}. Best is trial 8 with value: 0.6843101343101342.\u001b[0m\n",
      "\u001b[32m[I 2022-04-19 22:52:00,316]\u001b[0m Trial 39 finished with value: 0.6569945927088784 and parameters: {'svc_c': 45441.26943784871, 'svc_deg': 2}. Best is trial 8 with value: 0.6843101343101342.\u001b[0m\n",
      "\u001b[32m[I 2022-04-19 22:52:00,350]\u001b[0m Trial 40 finished with value: 0.5938426652712366 and parameters: {'svc_c': 34.65538052476575, 'svc_deg': 9}. Best is trial 8 with value: 0.6843101343101342.\u001b[0m\n"
     ]
    },
    {
     "name": "stderr",
     "output_type": "stream",
     "text": [
      "\u001b[32m[I 2022-04-19 22:52:27,754]\u001b[0m Trial 41 finished with value: 0.6655416012558869 and parameters: {'svc_c': 7461422.694083228, 'svc_deg': 8}. Best is trial 8 with value: 0.6843101343101342.\u001b[0m\n",
      "\u001b[32m[I 2022-04-19 22:52:43,788]\u001b[0m Trial 42 finished with value: 0.6723704866562009 and parameters: {'svc_c': 1718157.5496380676, 'svc_deg': 10}. Best is trial 8 with value: 0.6843101343101342.\u001b[0m\n",
      "\u001b[32m[I 2022-04-19 22:53:51,646]\u001b[0m Trial 43 finished with value: 0.6552939124367696 and parameters: {'svc_c': 826471215.7204027, 'svc_deg': 9}. Best is trial 8 with value: 0.6843101343101342.\u001b[0m\n",
      "\u001b[32m[I 2022-04-19 22:54:36,520]\u001b[0m Trial 44 finished with value: 0.6690040118611548 and parameters: {'svc_c': 19365340.440191716, 'svc_deg': 7}. Best is trial 8 with value: 0.6843101343101342.\u001b[0m\n",
      "\u001b[32m[I 2022-04-19 22:55:26,753]\u001b[0m Trial 45 finished with value: 0.6758067329495901 and parameters: {'svc_c': 16080127.30509432, 'svc_deg': 8}. Best is trial 8 with value: 0.6843101343101342.\u001b[0m\n",
      "\u001b[32m[I 2022-04-19 22:55:26,811]\u001b[0m Trial 46 finished with value: 0.624507238792953 and parameters: {'svc_c': 1367.030150847823, 'svc_deg': 6}. Best is trial 8 with value: 0.6843101343101342.\u001b[0m\n",
      "\u001b[32m[I 2022-04-19 22:58:15,823]\u001b[0m Trial 47 finished with value: 0.6638409209837781 and parameters: {'svc_c': 1179347053.4422097, 'svc_deg': 10}. Best is trial 8 with value: 0.6843101343101342.\u001b[0m\n",
      "\u001b[32m[I 2022-04-19 22:59:55,285]\u001b[0m Trial 48 finished with value: 0.6621402407116693 and parameters: {'svc_c': 42208690.639727525, 'svc_deg': 9}. Best is trial 8 with value: 0.6843101343101342.\u001b[0m\n",
      "\u001b[32m[I 2022-04-19 22:59:55,629]\u001b[0m Trial 49 finished with value: 0.6569945927088784 and parameters: {'svc_c': 30094.248138286865, 'svc_deg': 4}. Best is trial 8 with value: 0.6843101343101342.\u001b[0m\n",
      "\u001b[32m[I 2022-04-19 23:00:12,483]\u001b[0m Trial 50 finished with value: 0.6808913308913308 and parameters: {'svc_c': 1210072.1405128974, 'svc_deg': 2}. Best is trial 8 with value: 0.6843101343101342.\u001b[0m\n",
      "\u001b[32m[I 2022-04-19 23:00:17,269]\u001b[0m Trial 51 finished with value: 0.6808738880167452 and parameters: {'svc_c': 696803.0351301574, 'svc_deg': 2}. Best is trial 8 with value: 0.6843101343101342.\u001b[0m\n",
      "\u001b[32m[I 2022-04-19 23:00:20,521]\u001b[0m Trial 52 finished with value: 0.6740362811791384 and parameters: {'svc_c': 331455.2156058635, 'svc_deg': 2}. Best is trial 8 with value: 0.6843101343101342.\u001b[0m\n",
      "\u001b[32m[I 2022-04-19 23:00:33,962]\u001b[0m Trial 53 finished with value: 0.6808826094540379 and parameters: {'svc_c': 759474.7483172289, 'svc_deg': 1}. Best is trial 8 with value: 0.6843101343101342.\u001b[0m\n",
      "\u001b[32m[I 2022-04-19 23:00:34,541]\u001b[0m Trial 54 finished with value: 0.6211233211233211 and parameters: {'svc_c': 2359.7966874501944, 'svc_deg': 1}. Best is trial 8 with value: 0.6843101343101342.\u001b[0m\n",
      "\u001b[32m[I 2022-04-19 23:00:37,277]\u001b[0m Trial 55 finished with value: 0.6706349206349206 and parameters: {'svc_c': 287017.0034342913, 'svc_deg': 2}. Best is trial 8 with value: 0.6843101343101342.\u001b[0m\n",
      "\u001b[32m[I 2022-04-19 23:00:37,507]\u001b[0m Trial 56 finished with value: 0.6467381824524682 and parameters: {'svc_c': 25484.566491228845, 'svc_deg': 1}. Best is trial 8 with value: 0.6843101343101342.\u001b[0m\n",
      "\u001b[32m[I 2022-04-19 23:01:00,741]\u001b[0m Trial 57 finished with value: 0.6792080934938077 and parameters: {'svc_c': 1586570.804895879, 'svc_deg': 3}. Best is trial 8 with value: 0.6843101343101342.\u001b[0m\n",
      "\u001b[32m[I 2022-04-19 23:01:12,830]\u001b[0m Trial 58 finished with value: 0.6860282574568289 and parameters: {'svc_c': 1070182.0477974147, 'svc_deg': 3}. Best is trial 58 with value: 0.6860282574568289.\u001b[0m\n",
      "\u001b[32m[I 2022-04-19 23:01:14,677]\u001b[0m Trial 59 finished with value: 0.6621053549624979 and parameters: {'svc_c': 124878.82456133535, 'svc_deg': 2}. Best is trial 58 with value: 0.6860282574568289.\u001b[0m\n",
      "\u001b[32m[I 2022-04-19 23:01:14,710]\u001b[0m Trial 60 finished with value: 0.634781091923949 and parameters: {'svc_c': 125.85230437942458, 'svc_deg': 1}. Best is trial 58 with value: 0.6860282574568289.\u001b[0m\n",
      "\u001b[32m[I 2022-04-19 23:01:30,076]\u001b[0m Trial 61 finished with value: 0.6774899703471132 and parameters: {'svc_c': 997570.6593002544, 'svc_deg': 3}. Best is trial 58 with value: 0.6860282574568289.\u001b[0m\n",
      "\u001b[32m[I 2022-04-19 23:01:47,158]\u001b[0m Trial 62 finished with value: 0.674062445491017 and parameters: {'svc_c': 1437822.9792158992, 'svc_deg': 3}. Best is trial 58 with value: 0.6860282574568289.\u001b[0m\n",
      "\u001b[32m[I 2022-04-19 23:02:55,237]\u001b[0m Trial 63 finished with value: 0.63992673992674 and parameters: {'svc_c': 75514653.04451634, 'svc_deg': 2}. Best is trial 58 with value: 0.6860282574568289.\u001b[0m\n",
      "\u001b[32m[I 2022-04-19 23:02:55,379]\u001b[0m Trial 64 finished with value: 0.6364643293214721 and parameters: {'svc_c': 11055.56518336001, 'svc_deg': 3}. Best is trial 58 with value: 0.6860282574568289.\u001b[0m\n",
      "\u001b[32m[I 2022-04-19 23:05:17,541]\u001b[0m Trial 65 finished with value: 0.6638409209837781 and parameters: {'svc_c': 1417830533.0498304, 'svc_deg': 1}. Best is trial 58 with value: 0.6860282574568289.\u001b[0m\n",
      "\u001b[32m[I 2022-04-19 23:05:18,540]\u001b[0m Trial 66 finished with value: 0.6604221175649747 and parameters: {'svc_c': 83639.02503868387, 'svc_deg': 4}. Best is trial 58 with value: 0.6860282574568289.\u001b[0m\n",
      "\u001b[32m[I 2022-04-19 23:05:27,738]\u001b[0m Trial 67 finished with value: 0.674062445491017 and parameters: {'svc_c': 612523.7284067328, 'svc_deg': 2}. Best is trial 58 with value: 0.6860282574568289.\u001b[0m\n",
      "\u001b[32m[I 2022-04-19 23:06:31,014]\u001b[0m Trial 68 finished with value: 0.6536019536019536 and parameters: {'svc_c': 24126284.690023866, 'svc_deg': 3}. Best is trial 58 with value: 0.6860282574568289.\u001b[0m\n",
      "\u001b[32m[I 2022-04-19 23:06:31,055]\u001b[0m Trial 69 finished with value: 0.5767660910518054 and parameters: {'svc_c': 6.536041681565315, 'svc_deg': 2}. Best is trial 58 with value: 0.6860282574568289.\u001b[0m\n",
      "\u001b[32m[I 2022-04-19 23:06:44,701]\u001b[0m Trial 70 finished with value: 0.6723443223443223 and parameters: {'svc_c': 3091693.5549076255, 'svc_deg': 1}. Best is trial 58 with value: 0.6860282574568289.\u001b[0m\n",
      "\u001b[32m[I 2022-04-19 23:07:40,299]\u001b[0m Trial 71 finished with value: 0.6279783708355137 and parameters: {'svc_c': 135443028.35618782, 'svc_deg': 3}. Best is trial 58 with value: 0.6860282574568289.\u001b[0m\n",
      "\u001b[32m[I 2022-04-19 23:07:47,160]\u001b[0m Trial 72 finished with value: 0.6723530437816153 and parameters: {'svc_c': 464669.2014302019, 'svc_deg': 2}. Best is trial 58 with value: 0.6860282574568289.\u001b[0m\n",
      "\u001b[32m[I 2022-04-19 23:08:32,098]\u001b[0m Trial 73 finished with value: 0.6791993720565149 and parameters: {'svc_c': 3567852.6872376194, 'svc_deg': 4}. Best is trial 58 with value: 0.6860282574568289.\u001b[0m\n",
      "\u001b[32m[I 2022-04-19 23:08:32,177]\u001b[0m Trial 74 finished with value: 0.615995115995116 and parameters: {'svc_c': 4519.349083684083, 'svc_deg': 4}. Best is trial 58 with value: 0.6860282574568289.\u001b[0m\n",
      "\u001b[32m[I 2022-04-19 23:08:48,288]\u001b[0m Trial 75 finished with value: 0.6791819291819291 and parameters: {'svc_c': 3399436.997016808, 'svc_deg': 3}. Best is trial 58 with value: 0.6860282574568289.\u001b[0m\n",
      "\u001b[32m[I 2022-04-19 23:11:11,497]\u001b[0m Trial 76 finished with value: 0.6536193964765393 and parameters: {'svc_c': 388936426.1837017, 'svc_deg': 3}. Best is trial 58 with value: 0.6860282574568289.\u001b[0m\n",
      "\u001b[32m[I 2022-04-19 23:12:03,330]\u001b[0m Trial 77 finished with value: 0.6758241758241758 and parameters: {'svc_c': 10833670.71332195, 'svc_deg': 2}. Best is trial 58 with value: 0.6860282574568289.\u001b[0m\n",
      "\u001b[32m[I 2022-04-19 23:12:04,980]\u001b[0m Trial 78 finished with value: 0.6689429618001047 and parameters: {'svc_c': 109803.31955055926, 'svc_deg': 5}. Best is trial 58 with value: 0.6860282574568289.\u001b[0m\n",
      "\u001b[32m[I 2022-04-19 23:13:18,301]\u001b[0m Trial 79 finished with value: 0.643362986220129 and parameters: {'svc_c': 2650753370.704137, 'svc_deg': 4}. Best is trial 58 with value: 0.6860282574568289.\u001b[0m\n",
      "\u001b[32m[I 2022-04-19 23:14:11,694]\u001b[0m Trial 80 finished with value: 0.663849642421071 and parameters: {'svc_c': 42790506.11422611, 'svc_deg': 1}. Best is trial 58 with value: 0.6860282574568289.\u001b[0m\n",
      "\u001b[32m[I 2022-04-19 23:14:24,990]\u001b[0m Trial 81 finished with value: 0.6740798883656026 and parameters: {'svc_c': 2339121.6178147355, 'svc_deg': 3}. Best is trial 58 with value: 0.6860282574568289.\u001b[0m\n",
      "\u001b[32m[I 2022-04-19 23:15:14,470]\u001b[0m Trial 82 finished with value: 0.6826094540380255 and parameters: {'svc_c': 4933211.261903305, 'svc_deg': 3}. Best is trial 58 with value: 0.6860282574568289.\u001b[0m\n"
     ]
    },
    {
     "name": "stderr",
     "output_type": "stream",
     "text": [
      "\u001b[32m[I 2022-04-19 23:15:14,705]\u001b[0m Trial 83 finished with value: 0.6416099773242631 and parameters: {'svc_c': 27702.864151351223, 'svc_deg': 4}. Best is trial 58 with value: 0.6860282574568289.\u001b[0m\n",
      "\u001b[32m[I 2022-04-19 23:15:17,230]\u001b[0m Trial 84 finished with value: 0.6638060352346066 and parameters: {'svc_c': 229125.76444782582, 'svc_deg': 2}. Best is trial 58 with value: 0.6860282574568289.\u001b[0m\n",
      "\u001b[32m[I 2022-04-19 23:15:25,319]\u001b[0m Trial 85 finished with value: 0.6808826094540379 and parameters: {'svc_c': 785441.864486189, 'svc_deg': 2}. Best is trial 58 with value: 0.6860282574568289.\u001b[0m\n",
      "\u001b[32m[I 2022-04-19 23:15:25,823]\u001b[0m Trial 86 finished with value: 0.5051194836909122 and parameters: {'svc_c': 0.0007568020474464676, 'svc_deg': 2}. Best is trial 58 with value: 0.6860282574568289.\u001b[0m\n",
      "\u001b[32m[I 2022-04-19 23:15:25,859]\u001b[0m Trial 87 finished with value: 0.5051194836909122 and parameters: {'svc_c': 1.9988323331827892e-09, 'svc_deg': 1}. Best is trial 58 with value: 0.6860282574568289.\u001b[0m\n",
      "\u001b[32m[I 2022-04-19 23:15:53,311]\u001b[0m Trial 88 finished with value: 0.6690040118611548 and parameters: {'svc_c': 16233628.342402436, 'svc_deg': 2}. Best is trial 58 with value: 0.6860282574568289.\u001b[0m\n",
      "\u001b[32m[I 2022-04-19 23:16:07,816]\u001b[0m Trial 89 finished with value: 0.6791906506192221 and parameters: {'svc_c': 967132.3128454663, 'svc_deg': 3}. Best is trial 58 with value: 0.6860282574568289.\u001b[0m\n",
      "\u001b[32m[I 2022-04-19 23:16:07,856]\u001b[0m Trial 90 finished with value: 0.6125327053898483 and parameters: {'svc_c': 482.4224348168418, 'svc_deg': 1}. Best is trial 58 with value: 0.6860282574568289.\u001b[0m\n",
      "\u001b[32m[I 2022-04-19 23:16:25,389]\u001b[0m Trial 91 finished with value: 0.6672771672771672 and parameters: {'svc_c': 6328173.801475796, 'svc_deg': 2}. Best is trial 58 with value: 0.6860282574568289.\u001b[0m\n",
      "\u001b[32m[I 2022-04-19 23:17:10,714]\u001b[0m Trial 92 finished with value: 0.6569858712715856 and parameters: {'svc_c': 276827610.12150633, 'svc_deg': 3}. Best is trial 58 with value: 0.6860282574568289.\u001b[0m\n",
      "\u001b[32m[I 2022-04-19 23:17:11,253]\u001b[0m Trial 93 finished with value: 0.6433455433455434 and parameters: {'svc_c': 60029.30624695372, 'svc_deg': 4}. Best is trial 58 with value: 0.6860282574568289.\u001b[0m\n",
      "\u001b[32m[I 2022-04-19 23:17:16,197]\u001b[0m Trial 94 finished with value: 0.6723617652189081 and parameters: {'svc_c': 588588.6997257372, 'svc_deg': 3}. Best is trial 58 with value: 0.6860282574568289.\u001b[0m\n",
      "\u001b[32m[I 2022-04-19 23:18:28,412]\u001b[0m Trial 95 finished with value: 0.6741060526774811 and parameters: {'svc_c': 45338462.11682511, 'svc_deg': 5}. Best is trial 58 with value: 0.6860282574568289.\u001b[0m\n",
      "\u001b[32m[I 2022-04-19 23:18:28,531]\u001b[0m Trial 96 finished with value: 0.643301936159079 and parameters: {'svc_c': 13079.85331779917, 'svc_deg': 2}. Best is trial 58 with value: 0.6860282574568289.\u001b[0m\n",
      "\u001b[32m[I 2022-04-19 23:18:31,283]\u001b[0m Trial 97 finished with value: 0.6655067155067155 and parameters: {'svc_c': 217131.57774973605, 'svc_deg': 1}. Best is trial 58 with value: 0.6860282574568289.\u001b[0m\n",
      "\u001b[32m[I 2022-04-19 23:18:57,162]\u001b[0m Trial 98 finished with value: 0.6723704866562009 and parameters: {'svc_c': 2348553.6287233112, 'svc_deg': 2}. Best is trial 58 with value: 0.6860282574568289.\u001b[0m\n",
      "\u001b[32m[I 2022-04-19 23:19:23,637]\u001b[0m Trial 99 finished with value: 0.6757892900750043 and parameters: {'svc_c': 6427904.720565519, 'svc_deg': 4}. Best is trial 58 with value: 0.6860282574568289.\u001b[0m\n"
     ]
    }
   ],
   "source": [
    "# Optimize SVC\n",
    "study = optuna.create_study(direction='maximize')\n",
    "study.optimize(lambda trial: objective(trial, classifier_name='SVC'), n_trials=10)"
   ]
  },
  {
   "cell_type": "code",
   "execution_count": 104,
   "metadata": {
    "scrolled": true
   },
   "outputs": [
    {
     "name": "stderr",
     "output_type": "stream",
     "text": [
      "\u001b[32m[I 2022-04-19 23:27:12,690]\u001b[0m A new study created in memory with name: no-name-d2c58c0c-3d8e-4765-b55a-f4cec163a8c9\u001b[0m\n",
      "\u001b[32m[I 2022-04-19 23:27:14,825]\u001b[0m Trial 0 finished with value: 0.7543694400837259 and parameters: {'n_estimators': 616}. Best is trial 0 with value: 0.7543694400837259.\u001b[0m\n",
      "\u001b[32m[I 2022-04-19 23:27:16,113]\u001b[0m Trial 1 finished with value: 0.7560962846677133 and parameters: {'n_estimators': 570}. Best is trial 1 with value: 0.7560962846677133.\u001b[0m\n",
      "\u001b[32m[I 2022-04-19 23:27:17,597]\u001b[0m Trial 2 finished with value: 0.7560701203558345 and parameters: {'n_estimators': 719}. Best is trial 1 with value: 0.7560962846677133.\u001b[0m\n",
      "\u001b[32m[I 2022-04-19 23:27:19,164]\u001b[0m Trial 3 finished with value: 0.7663003663003662 and parameters: {'n_estimators': 787}. Best is trial 3 with value: 0.7663003663003662.\u001b[0m\n",
      "\u001b[32m[I 2022-04-19 23:27:20,966]\u001b[0m Trial 4 finished with value: 0.7543694400837259 and parameters: {'n_estimators': 975}. Best is trial 3 with value: 0.7663003663003662.\u001b[0m\n",
      "\u001b[32m[I 2022-04-19 23:27:22,668]\u001b[0m Trial 5 finished with value: 0.7543694400837259 and parameters: {'n_estimators': 914}. Best is trial 3 with value: 0.7663003663003662.\u001b[0m\n",
      "\u001b[32m[I 2022-04-19 23:27:23,050]\u001b[0m Trial 6 finished with value: 0.7509680795395081 and parameters: {'n_estimators': 283}. Best is trial 3 with value: 0.7663003663003662.\u001b[0m\n",
      "\u001b[32m[I 2022-04-19 23:27:24,088]\u001b[0m Trial 7 finished with value: 0.7646171289028433 and parameters: {'n_estimators': 794}. Best is trial 3 with value: 0.7663003663003662.\u001b[0m\n",
      "\u001b[32m[I 2022-04-19 23:27:24,760]\u001b[0m Trial 8 finished with value: 0.7560701203558348 and parameters: {'n_estimators': 503}. Best is trial 3 with value: 0.7663003663003662.\u001b[0m\n",
      "\u001b[32m[I 2022-04-19 23:27:25,535]\u001b[0m Trial 9 finished with value: 0.7560788417931276 and parameters: {'n_estimators': 606}. Best is trial 3 with value: 0.7663003663003662.\u001b[0m\n",
      "\u001b[32m[I 2022-04-19 23:27:25,730]\u001b[0m Trial 10 finished with value: 0.7645735217163789 and parameters: {'n_estimators': 112}. Best is trial 3 with value: 0.7663003663003662.\u001b[0m\n",
      "\u001b[32m[I 2022-04-19 23:27:26,805]\u001b[0m Trial 11 finished with value: 0.7526774812489099 and parameters: {'n_estimators': 819}. Best is trial 3 with value: 0.7663003663003662.\u001b[0m\n",
      "\u001b[32m[I 2022-04-19 23:27:27,843]\u001b[0m Trial 12 finished with value: 0.7543694400837259 and parameters: {'n_estimators': 791}. Best is trial 3 with value: 0.7663003663003662.\u001b[0m\n",
      "\u001b[32m[I 2022-04-19 23:27:28,429]\u001b[0m Trial 13 finished with value: 0.7509680795395081 and parameters: {'n_estimators': 436}. Best is trial 3 with value: 0.7663003663003662.\u001b[0m\n",
      "\u001b[32m[I 2022-04-19 23:27:29,392]\u001b[0m Trial 14 finished with value: 0.7543694400837259 and parameters: {'n_estimators': 745}. Best is trial 3 with value: 0.7663003663003662.\u001b[0m\n",
      "\u001b[32m[I 2022-04-19 23:27:30,574]\u001b[0m Trial 15 finished with value: 0.7560613989185417 and parameters: {'n_estimators': 880}. Best is trial 3 with value: 0.7663003663003662.\u001b[0m\n",
      "\u001b[32m[I 2022-04-19 23:27:31,521]\u001b[0m Trial 16 finished with value: 0.7560701203558348 and parameters: {'n_estimators': 707}. Best is trial 3 with value: 0.7663003663003662.\u001b[0m\n",
      "\u001b[32m[I 2022-04-19 23:27:32,752]\u001b[0m Trial 17 finished with value: 0.7594889237746382 and parameters: {'n_estimators': 954}. Best is trial 3 with value: 0.7663003663003662.\u001b[0m\n",
      "\u001b[32m[I 2022-04-19 23:27:33,303]\u001b[0m Trial 18 finished with value: 0.7612157683586255 and parameters: {'n_estimators': 395}. Best is trial 3 with value: 0.7663003663003662.\u001b[0m\n",
      "\u001b[32m[I 2022-04-19 23:27:34,195]\u001b[0m Trial 19 finished with value: 0.7577882435025293 and parameters: {'n_estimators': 664}. Best is trial 3 with value: 0.7663003663003662.\u001b[0m\n",
      "\u001b[32m[I 2022-04-19 23:27:35,326]\u001b[0m Trial 20 finished with value: 0.7612070469213327 and parameters: {'n_estimators': 847}. Best is trial 3 with value: 0.7663003663003662.\u001b[0m\n",
      "\u001b[32m[I 2022-04-19 23:27:35,648]\u001b[0m Trial 21 finished with value: 0.747531833246119 and parameters: {'n_estimators': 232}. Best is trial 3 with value: 0.7663003663003662.\u001b[0m\n",
      "\u001b[32m[I 2022-04-19 23:27:35,826]\u001b[0m Trial 22 finished with value: 0.7492761207046921 and parameters: {'n_estimators': 116}. Best is trial 3 with value: 0.7663003663003662.\u001b[0m\n",
      "\u001b[32m[I 2022-04-19 23:27:36,498]\u001b[0m Trial 23 finished with value: 0.75435199720914 and parameters: {'n_estimators': 497}. Best is trial 3 with value: 0.7663003663003662.\u001b[0m\n",
      "\u001b[32m[I 2022-04-19 23:27:36,953]\u001b[0m Trial 24 finished with value: 0.7577708006279434 and parameters: {'n_estimators': 337}. Best is trial 3 with value: 0.7663003663003662.\u001b[0m\n",
      "\u001b[32m[I 2022-04-19 23:27:37,957]\u001b[0m Trial 25 finished with value: 0.7594802023373451 and parameters: {'n_estimators': 770}. Best is trial 3 with value: 0.7663003663003662.\u001b[0m\n",
      "\u001b[32m[I 2022-04-19 23:27:38,210]\u001b[0m Trial 26 finished with value: 0.7594802023373451 and parameters: {'n_estimators': 163}. Best is trial 3 with value: 0.7663003663003662.\u001b[0m\n",
      "\u001b[32m[I 2022-04-19 23:27:39,086]\u001b[0m Trial 27 finished with value: 0.7543607186464328 and parameters: {'n_estimators': 679}. Best is trial 3 with value: 0.7663003663003662.\u001b[0m\n",
      "\u001b[32m[I 2022-04-19 23:27:40,253]\u001b[0m Trial 28 finished with value: 0.7612070469213327 and parameters: {'n_estimators': 905}. Best is trial 3 with value: 0.7663003663003662.\u001b[0m\n",
      "\u001b[32m[I 2022-04-19 23:27:41,084]\u001b[0m Trial 29 finished with value: 0.7526862026862027 and parameters: {'n_estimators': 623}. Best is trial 3 with value: 0.7663003663003662.\u001b[0m\n",
      "\u001b[32m[I 2022-04-19 23:27:41,789]\u001b[0m Trial 30 finished with value: 0.7628902843188557 and parameters: {'n_estimators': 529}. Best is trial 3 with value: 0.7663003663003662.\u001b[0m\n",
      "\u001b[32m[I 2022-04-19 23:27:42,102]\u001b[0m Trial 31 finished with value: 0.7475579975579976 and parameters: {'n_estimators': 216}. Best is trial 3 with value: 0.7663003663003662.\u001b[0m\n",
      "\u001b[32m[I 2022-04-19 23:27:42,812]\u001b[0m Trial 32 finished with value: 0.7509593581022153 and parameters: {'n_estimators': 534}. Best is trial 3 with value: 0.7663003663003662.\u001b[0m\n",
      "\u001b[32m[I 2022-04-19 23:27:43,391]\u001b[0m Trial 33 finished with value: 0.7628815628815628 and parameters: {'n_estimators': 427}. Best is trial 3 with value: 0.7663003663003662.\u001b[0m\n",
      "\u001b[32m[I 2022-04-19 23:27:44,140]\u001b[0m Trial 34 finished with value: 0.7628815628815628 and parameters: {'n_estimators': 577}. Best is trial 3 with value: 0.7663003663003662.\u001b[0m\n",
      "\u001b[32m[I 2022-04-19 23:27:45,402]\u001b[0m Trial 35 finished with value: 0.7663090877376592 and parameters: {'n_estimators': 981}. Best is trial 35 with value: 0.7663090877376592.\u001b[0m\n",
      "\u001b[32m[I 2022-04-19 23:27:46,678]\u001b[0m Trial 36 finished with value: 0.7560875632304204 and parameters: {'n_estimators': 984}. Best is trial 35 with value: 0.7663090877376592.\u001b[0m\n",
      "\u001b[32m[I 2022-04-19 23:27:47,786]\u001b[0m Trial 37 finished with value: 0.7628990057561486 and parameters: {'n_estimators': 861}. Best is trial 35 with value: 0.7663090877376592.\u001b[0m\n",
      "\u001b[32m[I 2022-04-19 23:27:49,077]\u001b[0m Trial 38 finished with value: 0.7577969649398221 and parameters: {'n_estimators': 992}. Best is trial 35 with value: 0.7663090877376592.\u001b[0m\n",
      "\u001b[32m[I 2022-04-19 23:27:50,270]\u001b[0m Trial 39 finished with value: 0.7560875632304204 and parameters: {'n_estimators': 923}. Best is trial 35 with value: 0.7663090877376592.\u001b[0m\n",
      "\u001b[32m[I 2022-04-19 23:27:51,329]\u001b[0m Trial 40 finished with value: 0.7577969649398221 and parameters: {'n_estimators': 816}. Best is trial 35 with value: 0.7663090877376592.\u001b[0m\n",
      "\u001b[32m[I 2022-04-19 23:27:52,444]\u001b[0m Trial 41 finished with value: 0.7594714809000523 and parameters: {'n_estimators': 862}. Best is trial 35 with value: 0.7663090877376592.\u001b[0m\n",
      "\u001b[32m[I 2022-04-19 23:27:53,692]\u001b[0m Trial 42 finished with value: 0.7611896040467468 and parameters: {'n_estimators': 948}. Best is trial 35 with value: 0.7663090877376592.\u001b[0m\n",
      "\u001b[32m[I 2022-04-19 23:27:54,686]\u001b[0m Trial 43 finished with value: 0.7543868829583116 and parameters: {'n_estimators': 754}. Best is trial 35 with value: 0.7663090877376592.\u001b[0m\n",
      "\u001b[32m[I 2022-04-19 23:27:55,770]\u001b[0m Trial 44 finished with value: 0.7509593581022153 and parameters: {'n_estimators': 821}. Best is trial 35 with value: 0.7663090877376592.\u001b[0m\n",
      "\u001b[32m[I 2022-04-19 23:27:56,946]\u001b[0m Trial 45 finished with value: 0.7560701203558348 and parameters: {'n_estimators': 896}. Best is trial 35 with value: 0.7663090877376592.\u001b[0m\n"
     ]
    },
    {
     "name": "stderr",
     "output_type": "stream",
     "text": [
      "\u001b[32m[I 2022-04-19 23:27:57,876]\u001b[0m Trial 46 finished with value: 0.7629077271934416 and parameters: {'n_estimators': 707}. Best is trial 35 with value: 0.7663090877376592.\u001b[0m\n",
      "\u001b[32m[I 2022-04-19 23:27:58,827]\u001b[0m Trial 47 finished with value: 0.7628990057561486 and parameters: {'n_estimators': 719}. Best is trial 35 with value: 0.7663090877376592.\u001b[0m\n",
      "\u001b[32m[I 2022-04-19 23:27:59,709]\u001b[0m Trial 48 finished with value: 0.7492673992673993 and parameters: {'n_estimators': 661}. Best is trial 35 with value: 0.7663090877376592.\u001b[0m\n",
      "\u001b[32m[I 2022-04-19 23:28:00,511]\u001b[0m Trial 49 finished with value: 0.7526600383743242 and parameters: {'n_estimators': 618}. Best is trial 35 with value: 0.7663090877376592.\u001b[0m\n",
      "\u001b[32m[I 2022-04-19 23:28:01,553]\u001b[0m Trial 50 finished with value: 0.7560788417931276 and parameters: {'n_estimators': 801}. Best is trial 35 with value: 0.7663090877376592.\u001b[0m\n",
      "\u001b[32m[I 2022-04-19 23:28:02,645]\u001b[0m Trial 51 finished with value: 0.7509593581022153 and parameters: {'n_estimators': 859}. Best is trial 35 with value: 0.7663090877376592.\u001b[0m\n",
      "\u001b[32m[I 2022-04-19 23:28:03,566]\u001b[0m Trial 52 finished with value: 0.7594889237746382 and parameters: {'n_estimators': 693}. Best is trial 35 with value: 0.7663090877376592.\u001b[0m\n",
      "\u001b[32m[I 2022-04-19 23:28:04,514]\u001b[0m Trial 53 finished with value: 0.7594802023373451 and parameters: {'n_estimators': 717}. Best is trial 35 with value: 0.7663090877376592.\u001b[0m\n",
      "\u001b[32m[I 2022-04-19 23:28:05,500]\u001b[0m Trial 54 finished with value: 0.7560701203558348 and parameters: {'n_estimators': 737}. Best is trial 35 with value: 0.7663090877376592.\u001b[0m\n",
      "\u001b[32m[I 2022-04-19 23:28:06,727]\u001b[0m Trial 55 finished with value: 0.7560701203558345 and parameters: {'n_estimators': 937}. Best is trial 35 with value: 0.7663090877376592.\u001b[0m\n",
      "\u001b[32m[I 2022-04-19 23:28:07,612]\u001b[0m Trial 56 finished with value: 0.7543694400837259 and parameters: {'n_estimators': 649}. Best is trial 35 with value: 0.7663090877376592.\u001b[0m\n",
      "\u001b[32m[I 2022-04-19 23:28:08,652]\u001b[0m Trial 57 finished with value: 0.7492673992673993 and parameters: {'n_estimators': 781}. Best is trial 35 with value: 0.7663090877376592.\u001b[0m\n",
      "\u001b[32m[I 2022-04-19 23:28:09,742]\u001b[0m Trial 58 finished with value: 0.7645909645909645 and parameters: {'n_estimators': 839}. Best is trial 35 with value: 0.7663090877376592.\u001b[0m\n",
      "\u001b[32m[I 2022-04-19 23:28:10,196]\u001b[0m Trial 59 finished with value: 0.7543956043956044 and parameters: {'n_estimators': 326}. Best is trial 35 with value: 0.7663090877376592.\u001b[0m\n",
      "\u001b[32m[I 2022-04-19 23:28:11,312]\u001b[0m Trial 60 finished with value: 0.7560962846677133 and parameters: {'n_estimators': 840}. Best is trial 35 with value: 0.7663090877376592.\u001b[0m\n",
      "\u001b[32m[I 2022-04-19 23:28:12,494]\u001b[0m Trial 61 finished with value: 0.7629077271934416 and parameters: {'n_estimators': 889}. Best is trial 35 with value: 0.7663090877376592.\u001b[0m\n",
      "\u001b[32m[I 2022-04-19 23:28:13,678]\u001b[0m Trial 62 finished with value: 0.7509680795395081 and parameters: {'n_estimators': 891}. Best is trial 35 with value: 0.7663090877376592.\u001b[0m\n",
      "\u001b[32m[I 2022-04-19 23:28:14,947]\u001b[0m Trial 63 finished with value: 0.752668759811617 and parameters: {'n_estimators': 970}. Best is trial 35 with value: 0.7663090877376592.\u001b[0m\n",
      "\u001b[32m[I 2022-04-19 23:28:15,996]\u001b[0m Trial 64 finished with value: 0.7595063666492238 and parameters: {'n_estimators': 776}. Best is trial 35 with value: 0.7663090877376592.\u001b[0m\n",
      "\u001b[32m[I 2022-04-19 23:28:17,213]\u001b[0m Trial 65 finished with value: 0.7577882435025293 and parameters: {'n_estimators': 920}. Best is trial 35 with value: 0.7663090877376592.\u001b[0m\n",
      "\u001b[32m[I 2022-04-19 23:28:18,335]\u001b[0m Trial 66 finished with value: 0.759497645211931 and parameters: {'n_estimators': 832}. Best is trial 35 with value: 0.7663090877376592.\u001b[0m\n",
      "\u001b[32m[I 2022-04-19 23:28:19,397]\u001b[0m Trial 67 finished with value: 0.759497645211931 and parameters: {'n_estimators': 799}. Best is trial 35 with value: 0.7663090877376592.\u001b[0m\n",
      "\u001b[32m[I 2022-04-19 23:28:20,570]\u001b[0m Trial 68 finished with value: 0.7560788417931276 and parameters: {'n_estimators': 876}. Best is trial 35 with value: 0.7663090877376592.\u001b[0m\n",
      "\u001b[32m[I 2022-04-19 23:28:21,801]\u001b[0m Trial 69 finished with value: 0.7543607186464328 and parameters: {'n_estimators': 953}. Best is trial 35 with value: 0.7663090877376592.\u001b[0m\n",
      "\u001b[32m[I 2022-04-19 23:28:22,807]\u001b[0m Trial 70 finished with value: 0.7595063666492238 and parameters: {'n_estimators': 752}. Best is trial 35 with value: 0.7663090877376592.\u001b[0m\n",
      "\u001b[32m[I 2022-04-19 23:28:23,762]\u001b[0m Trial 71 finished with value: 0.7543607186464328 and parameters: {'n_estimators': 731}. Best is trial 35 with value: 0.7663090877376592.\u001b[0m\n",
      "\u001b[32m[I 2022-04-19 23:28:25,086]\u001b[0m Trial 72 finished with value: 0.7577969649398221 and parameters: {'n_estimators': 1000}. Best is trial 35 with value: 0.7663090877376592.\u001b[0m\n",
      "\u001b[32m[I 2022-04-19 23:28:25,722]\u001b[0m Trial 73 finished with value: 0.7577882435025293 and parameters: {'n_estimators': 470}. Best is trial 35 with value: 0.7663090877376592.\u001b[0m\n",
      "\u001b[32m[I 2022-04-19 23:28:26,495]\u001b[0m Trial 74 finished with value: 0.7646084074655503 and parameters: {'n_estimators': 591}. Best is trial 35 with value: 0.7663090877376592.\u001b[0m\n",
      "\u001b[32m[I 2022-04-19 23:28:27,272]\u001b[0m Trial 75 finished with value: 0.7577882435025293 and parameters: {'n_estimators': 580}. Best is trial 35 with value: 0.7663090877376592.\u001b[0m\n",
      "\u001b[32m[I 2022-04-19 23:28:28,203]\u001b[0m Trial 76 finished with value: 0.7509506366649225 and parameters: {'n_estimators': 695}. Best is trial 35 with value: 0.7663090877376592.\u001b[0m\n",
      "\u001b[32m[I 2022-04-19 23:28:28,943]\u001b[0m Trial 77 finished with value: 0.7646084074655503 and parameters: {'n_estimators': 557}. Best is trial 35 with value: 0.7663090877376592.\u001b[0m\n",
      "\u001b[32m[I 2022-04-19 23:28:29,697]\u001b[0m Trial 78 finished with value: 0.7577969649398221 and parameters: {'n_estimators': 547}. Best is trial 35 with value: 0.7663090877376592.\u001b[0m\n",
      "\u001b[32m[I 2022-04-19 23:28:30,367]\u001b[0m Trial 79 finished with value: 0.7577969649398221 and parameters: {'n_estimators': 493}. Best is trial 35 with value: 0.7663090877376592.\u001b[0m\n",
      "\u001b[32m[I 2022-04-19 23:28:31,155]\u001b[0m Trial 80 finished with value: 0.7543694400837259 and parameters: {'n_estimators': 599}. Best is trial 35 with value: 0.7663090877376592.\u001b[0m\n",
      "\u001b[32m[I 2022-04-19 23:28:32,000]\u001b[0m Trial 81 finished with value: 0.7543868829583116 and parameters: {'n_estimators': 641}. Best is trial 35 with value: 0.7663090877376592.\u001b[0m\n",
      "\u001b[32m[I 2022-04-19 23:28:32,559]\u001b[0m Trial 82 finished with value: 0.7560526774812489 and parameters: {'n_estimators': 402}. Best is trial 35 with value: 0.7663090877376592.\u001b[0m\n",
      "\u001b[32m[I 2022-04-19 23:28:33,187]\u001b[0m Trial 83 finished with value: 0.7526774812489099 and parameters: {'n_estimators': 465}. Best is trial 35 with value: 0.7663090877376592.\u001b[0m\n",
      "\u001b[32m[I 2022-04-19 23:28:33,536]\u001b[0m Trial 84 finished with value: 0.7543607186464328 and parameters: {'n_estimators': 252}. Best is trial 35 with value: 0.7663090877376592.\u001b[0m\n",
      "\u001b[32m[I 2022-04-19 23:28:34,581]\u001b[0m Trial 85 finished with value: 0.7560788417931276 and parameters: {'n_estimators': 804}. Best is trial 35 with value: 0.7663090877376592.\u001b[0m\n",
      "\u001b[32m[I 2022-04-19 23:28:35,729]\u001b[0m Trial 86 finished with value: 0.7594889237746382 and parameters: {'n_estimators': 877}. Best is trial 35 with value: 0.7663090877376592.\u001b[0m\n",
      "\u001b[32m[I 2022-04-19 23:28:35,908]\u001b[0m Trial 87 finished with value: 0.7560526774812488 and parameters: {'n_estimators': 115}. Best is trial 35 with value: 0.7663090877376592.\u001b[0m\n",
      "\u001b[32m[I 2022-04-19 23:28:36,139]\u001b[0m Trial 88 finished with value: 0.7594627594627594 and parameters: {'n_estimators': 147}. Best is trial 35 with value: 0.7663090877376592.\u001b[0m\n",
      "\u001b[32m[I 2022-04-19 23:28:36,848]\u001b[0m Trial 89 finished with value: 0.7577795220652365 and parameters: {'n_estimators': 523}. Best is trial 35 with value: 0.7663090877376592.\u001b[0m\n",
      "\u001b[32m[I 2022-04-19 23:28:37,846]\u001b[0m Trial 90 finished with value: 0.7611896040467468 and parameters: {'n_estimators': 763}. Best is trial 35 with value: 0.7663090877376592.\u001b[0m\n",
      "\u001b[32m[I 2022-04-19 23:28:38,746]\u001b[0m Trial 91 finished with value: 0.7628990057561486 and parameters: {'n_estimators': 679}. Best is trial 35 with value: 0.7663090877376592.\u001b[0m\n",
      "\u001b[32m[I 2022-04-19 23:28:39,490]\u001b[0m Trial 92 finished with value: 0.7560875632304204 and parameters: {'n_estimators': 563}. Best is trial 35 with value: 0.7663090877376592.\u001b[0m\n"
     ]
    },
    {
     "name": "stderr",
     "output_type": "stream",
     "text": [
      "\u001b[32m[I 2022-04-19 23:28:40,599]\u001b[0m Trial 93 finished with value: 0.7509593581022153 and parameters: {'n_estimators': 850}. Best is trial 35 with value: 0.7663090877376592.\u001b[0m\n",
      "\u001b[32m[I 2022-04-19 23:28:41,541]\u001b[0m Trial 94 finished with value: 0.750976800976801 and parameters: {'n_estimators': 714}. Best is trial 35 with value: 0.7663090877376592.\u001b[0m\n",
      "\u001b[32m[I 2022-04-19 23:28:42,735]\u001b[0m Trial 95 finished with value: 0.7577882435025293 and parameters: {'n_estimators': 908}. Best is trial 35 with value: 0.7663090877376592.\u001b[0m\n",
      "\u001b[32m[I 2022-04-19 23:28:43,820]\u001b[0m Trial 96 finished with value: 0.7560613989185417 and parameters: {'n_estimators': 829}. Best is trial 35 with value: 0.7663090877376592.\u001b[0m\n",
      "\u001b[32m[I 2022-04-19 23:28:44,602]\u001b[0m Trial 97 finished with value: 0.7577795220652362 and parameters: {'n_estimators': 597}. Best is trial 35 with value: 0.7663090877376592.\u001b[0m\n",
      "\u001b[32m[I 2022-04-19 23:28:45,524]\u001b[0m Trial 98 finished with value: 0.7577882435025293 and parameters: {'n_estimators': 681}. Best is trial 35 with value: 0.7663090877376592.\u001b[0m\n",
      "\u001b[32m[I 2022-04-19 23:28:46,374]\u001b[0m Trial 99 finished with value: 0.7492761207046921 and parameters: {'n_estimators': 632}. Best is trial 35 with value: 0.7663090877376592.\u001b[0m\n"
     ]
    }
   ],
   "source": [
    "# Optimize RF\n",
    "study = optuna.create_study(direction='maximize')\n",
    "study.optimize(lambda trial: objective(trial, classifier_name='RF'), n_trials=100)"
   ]
  },
  {
   "cell_type": "code",
   "execution_count": 21,
   "metadata": {
    "scrolled": true
   },
   "outputs": [
    {
     "name": "stderr",
     "output_type": "stream",
     "text": [
      "\u001b[32m[I 2022-04-20 17:43:04,502]\u001b[0m A new study created in memory with name: no-name-55215219-098d-4171-9fb2-10ba189e38d6\u001b[0m\n",
      "\u001b[32m[I 2022-04-20 17:43:11,824]\u001b[0m Trial 0 finished with value: 0.7406506192220478 and parameters: {'xgb_eta': 0.8183157513773635, 'xgb_max_depth': 19}. Best is trial 0 with value: 0.7406506192220478.\u001b[0m\n",
      "\u001b[32m[I 2022-04-20 17:43:16,978]\u001b[0m Trial 1 finished with value: 0.733813012384441 and parameters: {'xgb_eta': 0.38758934790341815, 'xgb_max_depth': 4}. Best is trial 0 with value: 0.7406506192220478.\u001b[0m\n",
      "\u001b[32m[I 2022-04-20 17:43:24,153]\u001b[0m Trial 2 finished with value: 0.7441043083900226 and parameters: {'xgb_eta': 0.9041868439215857, 'xgb_max_depth': 9}. Best is trial 2 with value: 0.7441043083900226.\u001b[0m\n",
      "\u001b[32m[I 2022-04-20 17:43:31,308]\u001b[0m Trial 3 finished with value: 0.7543345543345543 and parameters: {'xgb_eta': 0.7371050805752323, 'xgb_max_depth': 12}. Best is trial 3 with value: 0.7543345543345543.\u001b[0m\n",
      "\u001b[32m[I 2022-04-20 17:43:37,687]\u001b[0m Trial 4 finished with value: 0.7696842839699983 and parameters: {'xgb_eta': 0.8492581959141915, 'xgb_max_depth': 10}. Best is trial 4 with value: 0.7696842839699983.\u001b[0m\n",
      "\u001b[32m[I 2022-04-20 17:43:44,595]\u001b[0m Trial 5 finished with value: 0.7457701029129601 and parameters: {'xgb_eta': 0.7730876395657049, 'xgb_max_depth': 15}. Best is trial 4 with value: 0.7696842839699983.\u001b[0m\n",
      "\u001b[32m[I 2022-04-20 17:43:51,243]\u001b[0m Trial 6 finished with value: 0.7577184720041862 and parameters: {'xgb_eta': 0.15251724890669116, 'xgb_max_depth': 6}. Best is trial 4 with value: 0.7696842839699983.\u001b[0m\n",
      "\u001b[32m[I 2022-04-20 17:43:57,947]\u001b[0m Trial 7 finished with value: 0.738949938949939 and parameters: {'xgb_eta': 0.8354167188584419, 'xgb_max_depth': 16}. Best is trial 4 with value: 0.7696842839699983.\u001b[0m\n",
      "\u001b[32m[I 2022-04-20 17:44:04,144]\u001b[0m Trial 8 finished with value: 0.7679661608233036 and parameters: {'xgb_eta': 0.10061617257782385, 'xgb_max_depth': 5}. Best is trial 4 with value: 0.7696842839699983.\u001b[0m\n",
      "\u001b[32m[I 2022-04-20 17:44:11,844]\u001b[0m Trial 9 finished with value: 0.7526164311878598 and parameters: {'xgb_eta': 0.5811185900290101, 'xgb_max_depth': 20}. Best is trial 4 with value: 0.7696842839699983.\u001b[0m\n",
      "\u001b[32m[I 2022-04-20 17:44:19,909]\u001b[0m Trial 10 finished with value: 0.7372667015524158 and parameters: {'xgb_eta': 0.4948374510972478, 'xgb_max_depth': 10}. Best is trial 4 with value: 0.7696842839699983.\u001b[0m\n",
      "\u001b[32m[I 2022-04-20 17:44:23,033]\u001b[0m Trial 11 finished with value: 0.7645386359672074 and parameters: {'xgb_eta': 0.004324548481464283, 'xgb_max_depth': 2}. Best is trial 4 with value: 0.7696842839699983.\u001b[0m\n",
      "\u001b[32m[I 2022-04-20 17:44:30,643]\u001b[0m Trial 12 finished with value: 0.7440607012035584 and parameters: {'xgb_eta': 0.2632076272725431, 'xgb_max_depth': 7}. Best is trial 4 with value: 0.7696842839699983.\u001b[0m\n",
      "\u001b[32m[I 2022-04-20 17:44:38,172]\u001b[0m Trial 13 finished with value: 0.7457962672248386 and parameters: {'xgb_eta': 0.6197259383544015, 'xgb_max_depth': 13}. Best is trial 4 with value: 0.7696842839699983.\u001b[0m\n",
      "\u001b[32m[I 2022-04-20 17:44:40,053]\u001b[0m Trial 14 finished with value: 0.7679748822605966 and parameters: {'xgb_eta': 0.9728122133361491, 'xgb_max_depth': 1}. Best is trial 4 with value: 0.7696842839699983.\u001b[0m\n",
      "\u001b[32m[I 2022-04-20 17:44:41,942]\u001b[0m Trial 15 finished with value: 0.7645211930926217 and parameters: {'xgb_eta': 0.9545157613176831, 'xgb_max_depth': 1}. Best is trial 4 with value: 0.7696842839699983.\u001b[0m\n",
      "\u001b[32m[I 2022-04-20 17:44:47,464]\u001b[0m Trial 16 finished with value: 0.7389412175126461 and parameters: {'xgb_eta': 0.970863476475397, 'xgb_max_depth': 8}. Best is trial 4 with value: 0.7696842839699983.\u001b[0m\n",
      "\u001b[32m[I 2022-04-20 17:44:51,430]\u001b[0m Trial 17 finished with value: 0.7389412175126461 and parameters: {'xgb_eta': 0.652484085112117, 'xgb_max_depth': 3}. Best is trial 4 with value: 0.7696842839699983.\u001b[0m\n",
      "\u001b[32m[I 2022-04-20 17:44:59,739]\u001b[0m Trial 18 finished with value: 0.7491889063317635 and parameters: {'xgb_eta': 0.86880115651615, 'xgb_max_depth': 17}. Best is trial 4 with value: 0.7696842839699983.\u001b[0m\n",
      "\u001b[32m[I 2022-04-20 17:45:06,315]\u001b[0m Trial 19 finished with value: 0.7492237920809349 and parameters: {'xgb_eta': 0.9915820975413561, 'xgb_max_depth': 13}. Best is trial 4 with value: 0.7696842839699983.\u001b[0m\n",
      "\u001b[32m[I 2022-04-20 17:45:08,073]\u001b[0m Trial 20 finished with value: 0.7594278737135881 and parameters: {'xgb_eta': 0.7244145695669733, 'xgb_max_depth': 1}. Best is trial 4 with value: 0.7696842839699983.\u001b[0m\n",
      "\u001b[32m[I 2022-04-20 17:45:14,196]\u001b[0m Trial 21 finished with value: 0.747523111808826 and parameters: {'xgb_eta': 0.3376613305498348, 'xgb_max_depth': 5}. Best is trial 4 with value: 0.7696842839699983.\u001b[0m\n",
      "\u001b[32m[I 2022-04-20 17:45:21,101]\u001b[0m Trial 22 finished with value: 0.7594627594627594 and parameters: {'xgb_eta': 0.0017468333979942519, 'xgb_max_depth': 5}. Best is trial 4 with value: 0.7696842839699983.\u001b[0m\n",
      "\u001b[32m[I 2022-04-20 17:45:26,451]\u001b[0m Trial 23 finished with value: 0.7679399965114251 and parameters: {'xgb_eta': 0.13893679900007627, 'xgb_max_depth': 4}. Best is trial 4 with value: 0.7696842839699983.\u001b[0m\n",
      "\u001b[32m[I 2022-04-20 17:45:33,510]\u001b[0m Trial 24 finished with value: 0.7577271934414792 and parameters: {'xgb_eta': 0.49266520550106946, 'xgb_max_depth': 7}. Best is trial 4 with value: 0.7696842839699983.\u001b[0m\n",
      "\u001b[32m[I 2022-04-20 17:45:42,110]\u001b[0m Trial 25 finished with value: 0.7509506366649225 and parameters: {'xgb_eta': 0.39688135324277646, 'xgb_max_depth': 11}. Best is trial 4 with value: 0.7696842839699983.\u001b[0m\n",
      "\u001b[32m[I 2022-04-20 17:45:45,973]\u001b[0m Trial 26 finished with value: 0.750845979417408 and parameters: {'xgb_eta': 0.22749220102373824, 'xgb_max_depth': 3}. Best is trial 4 with value: 0.7696842839699983.\u001b[0m\n",
      "\u001b[32m[I 2022-04-20 17:45:47,473]\u001b[0m Trial 27 finished with value: 0.7628466771323913 and parameters: {'xgb_eta': 0.67941696103506, 'xgb_max_depth': 1}. Best is trial 4 with value: 0.7696842839699983.\u001b[0m\n",
      "\u001b[32m[I 2022-04-20 17:45:55,147]\u001b[0m Trial 28 finished with value: 0.7560265131693703 and parameters: {'xgb_eta': 0.5601779431655386, 'xgb_max_depth': 9}. Best is trial 4 with value: 0.7696842839699983.\u001b[0m\n",
      "\u001b[32m[I 2022-04-20 17:45:58,250]\u001b[0m Trial 29 finished with value: 0.7219082504796791 and parameters: {'xgb_eta': 0.8010935286294408, 'xgb_max_depth': 3}. Best is trial 4 with value: 0.7696842839699983.\u001b[0m\n",
      "\u001b[32m[I 2022-04-20 17:46:03,292]\u001b[0m Trial 30 finished with value: 0.7287284144427001 and parameters: {'xgb_eta': 0.9054529960773384, 'xgb_max_depth': 6}. Best is trial 4 with value: 0.7696842839699983.\u001b[0m\n",
      "\u001b[32m[I 2022-04-20 17:46:08,260]\u001b[0m Trial 31 finished with value: 0.7679399965114251 and parameters: {'xgb_eta': 0.12299063806175492, 'xgb_max_depth': 4}. Best is trial 4 with value: 0.7696842839699983.\u001b[0m\n",
      "\u001b[32m[I 2022-04-20 17:46:13,535]\u001b[0m Trial 32 finished with value: 0.7491540205825921 and parameters: {'xgb_eta': 0.10835207503048001, 'xgb_max_depth': 4}. Best is trial 4 with value: 0.7696842839699983.\u001b[0m\n",
      "\u001b[32m[I 2022-04-20 17:46:17,050]\u001b[0m Trial 33 finished with value: 0.7680010465724751 and parameters: {'xgb_eta': 0.06552634049980861, 'xgb_max_depth': 2}. Best is trial 4 with value: 0.7696842839699983.\u001b[0m\n",
      "\u001b[32m[I 2022-04-20 17:46:20,371]\u001b[0m Trial 34 finished with value: 0.7662916448630734 and parameters: {'xgb_eta': 0.07873023747538216, 'xgb_max_depth': 2}. Best is trial 4 with value: 0.7696842839699983.\u001b[0m\n",
      "\u001b[32m[I 2022-04-20 17:46:23,235]\u001b[0m Trial 35 finished with value: 0.7525641025641026 and parameters: {'xgb_eta': 0.27205698841838055, 'xgb_max_depth': 2}. Best is trial 4 with value: 0.7696842839699983.\u001b[0m\n",
      "\u001b[32m[I 2022-04-20 17:46:29,092]\u001b[0m Trial 36 finished with value: 0.7184981684981686 and parameters: {'xgb_eta': 0.9117992052726528, 'xgb_max_depth': 6}. Best is trial 4 with value: 0.7696842839699983.\u001b[0m\n",
      "\u001b[32m[I 2022-04-20 17:46:36,577]\u001b[0m Trial 37 finished with value: 0.7492325135182277 and parameters: {'xgb_eta': 0.40993670253273984, 'xgb_max_depth': 8}. Best is trial 4 with value: 0.7696842839699983.\u001b[0m\n",
      "\u001b[32m[I 2022-04-20 17:46:47,088]\u001b[0m Trial 38 finished with value: 0.7713936856794 and parameters: {'xgb_eta': 0.2209038304719173, 'xgb_max_depth': 14}. Best is trial 38 with value: 0.7713936856794.\u001b[0m\n"
     ]
    },
    {
     "name": "stderr",
     "output_type": "stream",
     "text": [
      "\u001b[32m[I 2022-04-20 17:46:58,680]\u001b[0m Trial 39 finished with value: 0.7645909645909645 and parameters: {'xgb_eta': 0.19312132639232693, 'xgb_max_depth': 18}. Best is trial 38 with value: 0.7713936856794.\u001b[0m\n",
      "\u001b[32m[I 2022-04-20 17:47:11,204]\u001b[0m Trial 40 finished with value: 0.7833333333333332 and parameters: {'xgb_eta': 0.042299312224789304, 'xgb_max_depth': 15}. Best is trial 40 with value: 0.7833333333333332.\u001b[0m\n",
      "\u001b[32m[I 2022-04-20 17:47:24,665]\u001b[0m Trial 41 finished with value: 0.778213849642421 and parameters: {'xgb_eta': 0.05668389195216907, 'xgb_max_depth': 15}. Best is trial 40 with value: 0.7833333333333332.\u001b[0m\n",
      "\u001b[32m[I 2022-04-20 17:47:38,015]\u001b[0m Trial 42 finished with value: 0.7730943659515089 and parameters: {'xgb_eta': 0.04435038899694205, 'xgb_max_depth': 15}. Best is trial 40 with value: 0.7833333333333332.\u001b[0m\n",
      "\u001b[32m[I 2022-04-20 17:47:51,281]\u001b[0m Trial 43 finished with value: 0.7833507762079192 and parameters: {'xgb_eta': 0.05444239998598849, 'xgb_max_depth': 15}. Best is trial 43 with value: 0.7833507762079192.\u001b[0m\n",
      "\u001b[32m[I 2022-04-20 17:48:04,521]\u001b[0m Trial 44 finished with value: 0.7765044479330193 and parameters: {'xgb_eta': 0.048809486484184254, 'xgb_max_depth': 15}. Best is trial 43 with value: 0.7833507762079192.\u001b[0m\n",
      "\u001b[32m[I 2022-04-20 17:48:19,261]\u001b[0m Trial 45 finished with value: 0.7765306122448979 and parameters: {'xgb_eta': 0.044291943981503476, 'xgb_max_depth': 15}. Best is trial 43 with value: 0.7833507762079192.\u001b[0m\n",
      "\u001b[32m[I 2022-04-20 17:48:29,867]\u001b[0m Trial 46 finished with value: 0.7748212105354962 and parameters: {'xgb_eta': 0.1649349345046785, 'xgb_max_depth': 16}. Best is trial 43 with value: 0.7833507762079192.\u001b[0m\n",
      "\u001b[32m[I 2022-04-20 17:48:43,100]\u001b[0m Trial 47 finished with value: 0.7833333333333333 and parameters: {'xgb_eta': 0.027350686905293728, 'xgb_max_depth': 19}. Best is trial 43 with value: 0.7833507762079192.\u001b[0m\n",
      "\u001b[32m[I 2022-04-20 17:48:56,394]\u001b[0m Trial 48 finished with value: 0.7833158904587476 and parameters: {'xgb_eta': 0.034379491932583106, 'xgb_max_depth': 19}. Best is trial 43 with value: 0.7833507762079192.\u001b[0m\n",
      "\u001b[32m[I 2022-04-20 17:49:08,161]\u001b[0m Trial 49 finished with value: 0.7611372754229896 and parameters: {'xgb_eta': 0.010971735062105331, 'xgb_max_depth': 20}. Best is trial 43 with value: 0.7833507762079192.\u001b[0m\n",
      "\u001b[32m[I 2022-04-20 17:49:20,364]\u001b[0m Trial 50 finished with value: 0.7679836036978894 and parameters: {'xgb_eta': 0.0957102887470877, 'xgb_max_depth': 19}. Best is trial 43 with value: 0.7833507762079192.\u001b[0m\n",
      "\u001b[32m[I 2022-04-20 17:49:33,381]\u001b[0m Trial 51 finished with value: 0.7850340136054422 and parameters: {'xgb_eta': 0.042950591604037115, 'xgb_max_depth': 18}. Best is trial 51 with value: 0.7850340136054422.\u001b[0m\n",
      "\u001b[32m[I 2022-04-20 17:49:43,567]\u001b[0m Trial 52 finished with value: 0.7697104482818768 and parameters: {'xgb_eta': 0.16762381489637362, 'xgb_max_depth': 18}. Best is trial 51 with value: 0.7850340136054422.\u001b[0m\n",
      "\u001b[32m[I 2022-04-20 17:49:55,603]\u001b[0m Trial 53 finished with value: 0.7833246118960404 and parameters: {'xgb_eta': 0.03151535210039024, 'xgb_max_depth': 19}. Best is trial 51 with value: 0.7850340136054422.\u001b[0m\n",
      "\u001b[32m[I 2022-04-20 17:50:07,749]\u001b[0m Trial 54 finished with value: 0.7748037676609104 and parameters: {'xgb_eta': 0.023597276856548527, 'xgb_max_depth': 19}. Best is trial 51 with value: 0.7850340136054422.\u001b[0m\n",
      "\u001b[32m[I 2022-04-20 17:50:20,073]\u001b[0m Trial 55 finished with value: 0.7714111285539857 and parameters: {'xgb_eta': 0.09741801197708075, 'xgb_max_depth': 17}. Best is trial 51 with value: 0.7850340136054422.\u001b[0m\n",
      "\u001b[32m[I 2022-04-20 17:50:31,937]\u001b[0m Trial 56 finished with value: 0.7406157334728762 and parameters: {'xgb_eta': 0.0018989703454932554, 'xgb_max_depth': 18}. Best is trial 51 with value: 0.7850340136054422.\u001b[0m\n",
      "\u001b[32m[I 2022-04-20 17:50:44,051]\u001b[0m Trial 57 finished with value: 0.7714198499912786 and parameters: {'xgb_eta': 0.1474552333580734, 'xgb_max_depth': 20}. Best is trial 51 with value: 0.7850340136054422.\u001b[0m\n",
      "\u001b[32m[I 2022-04-20 17:50:57,066]\u001b[0m Trial 58 finished with value: 0.7748037676609104 and parameters: {'xgb_eta': 0.08418735606217644, 'xgb_max_depth': 17}. Best is trial 51 with value: 0.7850340136054422.\u001b[0m\n",
      "\u001b[32m[I 2022-04-20 17:51:06,620]\u001b[0m Trial 59 finished with value: 0.756043956043956 and parameters: {'xgb_eta': 0.26533689978963926, 'xgb_max_depth': 19}. Best is trial 51 with value: 0.7850340136054422.\u001b[0m\n",
      "\u001b[32m[I 2022-04-20 17:51:17,928]\u001b[0m Trial 60 finished with value: 0.7645822431536717 and parameters: {'xgb_eta': 0.18484203854862877, 'xgb_max_depth': 16}. Best is trial 51 with value: 0.7850340136054422.\u001b[0m\n",
      "\u001b[32m[I 2022-04-20 17:51:29,697]\u001b[0m Trial 61 finished with value: 0.778222571079714 and parameters: {'xgb_eta': 0.04498502033235868, 'xgb_max_depth': 12}. Best is trial 51 with value: 0.7850340136054422.\u001b[0m\n",
      "\u001b[32m[I 2022-04-20 17:51:42,487]\u001b[0m Trial 62 finished with value: 0.7679836036978894 and parameters: {'xgb_eta': 0.12251404813503189, 'xgb_max_depth': 12}. Best is trial 51 with value: 0.7850340136054422.\u001b[0m\n",
      "\u001b[32m[I 2022-04-20 17:51:55,538]\u001b[0m Trial 63 finished with value: 0.7867259724402581 and parameters: {'xgb_eta': 0.03322305729462183, 'xgb_max_depth': 13}. Best is trial 63 with value: 0.7867259724402581.\u001b[0m\n",
      "\u001b[32m[I 2022-04-20 17:52:10,165]\u001b[0m Trial 64 finished with value: 0.7730856445142159 and parameters: {'xgb_eta': 0.023457915742932406, 'xgb_max_depth': 14}. Best is trial 63 with value: 0.7867259724402581.\u001b[0m\n",
      "\u001b[32m[I 2022-04-20 17:52:23,065]\u001b[0m Trial 65 finished with value: 0.7696842839699983 and parameters: {'xgb_eta': 0.07493862119053488, 'xgb_max_depth': 18}. Best is trial 63 with value: 0.7867259724402581.\u001b[0m\n",
      "\u001b[32m[I 2022-04-20 17:52:35,304]\u001b[0m Trial 66 finished with value: 0.7731118088260945 and parameters: {'xgb_eta': 0.13387615751595808, 'xgb_max_depth': 20}. Best is trial 63 with value: 0.7867259724402581.\u001b[0m\n",
      "\u001b[32m[I 2022-04-20 17:52:48,185]\u001b[0m Trial 67 finished with value: 0.744017094017094 and parameters: {'xgb_eta': 0.0020345780394885396, 'xgb_max_depth': 17}. Best is trial 63 with value: 0.7867259724402581.\u001b[0m\n",
      "\u001b[32m[I 2022-04-20 17:52:58,465]\u001b[0m Trial 68 finished with value: 0.76287284144427 and parameters: {'xgb_eta': 0.20718696868201203, 'xgb_max_depth': 14}. Best is trial 63 with value: 0.7867259724402581.\u001b[0m\n",
      "\u001b[32m[I 2022-04-20 17:53:07,480]\u001b[0m Trial 69 finished with value: 0.7577708006279434 and parameters: {'xgb_eta': 0.3168931158994282, 'xgb_max_depth': 16}. Best is trial 63 with value: 0.7867259724402581.\u001b[0m\n",
      "\u001b[32m[I 2022-04-20 17:53:19,480]\u001b[0m Trial 70 finished with value: 0.7662916448630734 and parameters: {'xgb_eta': 0.11138246611511105, 'xgb_max_depth': 13}. Best is trial 63 with value: 0.7867259724402581.\u001b[0m\n",
      "\u001b[32m[I 2022-04-20 17:53:31,936]\u001b[0m Trial 71 finished with value: 0.7935723007151578 and parameters: {'xgb_eta': 0.03875457352141243, 'xgb_max_depth': 12}. Best is trial 71 with value: 0.7935723007151578.\u001b[0m\n",
      "\u001b[32m[I 2022-04-20 17:53:44,270]\u001b[0m Trial 72 finished with value: 0.7901534972963544 and parameters: {'xgb_eta': 0.03546920814802402, 'xgb_max_depth': 11}. Best is trial 71 with value: 0.7935723007151578.\u001b[0m\n",
      "\u001b[32m[I 2022-04-20 17:53:56,410]\u001b[0m Trial 73 finished with value: 0.7645735217163788 and parameters: {'xgb_eta': 0.07195471858958942, 'xgb_max_depth': 11}. Best is trial 71 with value: 0.7935723007151578.\u001b[0m\n",
      "\u001b[32m[I 2022-04-20 17:54:09,733]\u001b[0m Trial 74 finished with value: 0.7748037676609106 and parameters: {'xgb_eta': 0.07359449107251959, 'xgb_max_depth': 13}. Best is trial 71 with value: 0.7935723007151578.\u001b[0m\n",
      "\u001b[32m[I 2022-04-20 17:54:19,266]\u001b[0m Trial 75 finished with value: 0.7799319727891157 and parameters: {'xgb_eta': 0.14727154932289807, 'xgb_max_depth': 10}. Best is trial 71 with value: 0.7935723007151578.\u001b[0m\n",
      "\u001b[32m[I 2022-04-20 17:54:30,545]\u001b[0m Trial 76 finished with value: 0.7731030873888017 and parameters: {'xgb_eta': 0.10380907005058415, 'xgb_max_depth': 13}. Best is trial 71 with value: 0.7935723007151578.\u001b[0m\n",
      "\u001b[32m[I 2022-04-20 17:54:38,424]\u001b[0m Trial 77 finished with value: 0.7492063492063492 and parameters: {'xgb_eta': 0.44599364429599564, 'xgb_max_depth': 10}. Best is trial 71 with value: 0.7935723007151578.\u001b[0m\n",
      "\u001b[32m[I 2022-04-20 17:54:50,836]\u001b[0m Trial 78 finished with value: 0.7816064887493459 and parameters: {'xgb_eta': 0.02811418167950723, 'xgb_max_depth': 11}. Best is trial 71 with value: 0.7935723007151578.\u001b[0m\n"
     ]
    },
    {
     "name": "stderr",
     "output_type": "stream",
     "text": [
      "\u001b[32m[I 2022-04-20 17:55:05,166]\u001b[0m Trial 79 finished with value: 0.7730943659515089 and parameters: {'xgb_eta': 0.058263018532507094, 'xgb_max_depth': 12}. Best is trial 71 with value: 0.7935723007151578.\u001b[0m\n",
      "\u001b[32m[I 2022-04-20 17:55:17,631]\u001b[0m Trial 80 finished with value: 0.7697104482818768 and parameters: {'xgb_eta': 0.12567928478780932, 'xgb_max_depth': 14}. Best is trial 71 with value: 0.7935723007151578.\u001b[0m\n",
      "\u001b[32m[I 2022-04-20 17:55:31,438]\u001b[0m Trial 81 finished with value: 0.786734693877551 and parameters: {'xgb_eta': 0.03483886598542405, 'xgb_max_depth': 19}. Best is trial 71 with value: 0.7935723007151578.\u001b[0m\n",
      "\u001b[32m[I 2022-04-20 17:55:45,563]\u001b[0m Trial 82 finished with value: 0.7833246118960405 and parameters: {'xgb_eta': 0.03718311433416151, 'xgb_max_depth': 18}. Best is trial 71 with value: 0.7935723007151578.\u001b[0m\n",
      "\u001b[32m[I 2022-04-20 17:55:58,079]\u001b[0m Trial 83 finished with value: 0.7731030873888017 and parameters: {'xgb_eta': 0.09436434949748461, 'xgb_max_depth': 17}. Best is trial 71 with value: 0.7935723007151578.\u001b[0m\n",
      "\u001b[32m[I 2022-04-20 17:56:11,270]\u001b[0m Trial 84 finished with value: 0.7355224140938427 and parameters: {'xgb_eta': 0.0005084534339276636, 'xgb_max_depth': 12}. Best is trial 71 with value: 0.7935723007151578.\u001b[0m\n",
      "\u001b[32m[I 2022-04-20 17:56:23,229]\u001b[0m Trial 85 finished with value: 0.7714198499912786 and parameters: {'xgb_eta': 0.05866173883459192, 'xgb_max_depth': 18}. Best is trial 71 with value: 0.7935723007151578.\u001b[0m\n",
      "\u001b[32m[I 2022-04-20 17:56:35,521]\u001b[0m Trial 86 finished with value: 0.7816239316239316 and parameters: {'xgb_eta': 0.0259656646242021, 'xgb_max_depth': 20}. Best is trial 71 with value: 0.7935723007151578.\u001b[0m\n",
      "\u001b[32m[I 2022-04-20 17:56:46,283]\u001b[0m Trial 87 finished with value: 0.7696930054072911 and parameters: {'xgb_eta': 0.17607249285447982, 'xgb_max_depth': 16}. Best is trial 71 with value: 0.7935723007151578.\u001b[0m\n",
      "\u001b[32m[I 2022-04-20 17:56:58,630]\u001b[0m Trial 88 finished with value: 0.7731030873888017 and parameters: {'xgb_eta': 0.08651991358750513, 'xgb_max_depth': 18}. Best is trial 71 with value: 0.7935723007151578.\u001b[0m\n",
      "\u001b[32m[I 2022-04-20 17:57:09,265]\u001b[0m Trial 89 finished with value: 0.7748299319727892 and parameters: {'xgb_eta': 0.05312269387064533, 'xgb_max_depth': 9}. Best is trial 71 with value: 0.7935723007151578.\u001b[0m\n",
      "\u001b[32m[I 2022-04-20 17:57:23,877]\u001b[0m Trial 90 finished with value: 0.7833333333333333 and parameters: {'xgb_eta': 0.025296107672200002, 'xgb_max_depth': 15}. Best is trial 71 with value: 0.7935723007151578.\u001b[0m\n",
      "\u001b[32m[I 2022-04-20 17:57:37,818]\u001b[0m Trial 91 finished with value: 0.7730856445142159 and parameters: {'xgb_eta': 0.02358182649600505, 'xgb_max_depth': 15}. Best is trial 71 with value: 0.7935723007151578.\u001b[0m\n",
      "\u001b[32m[I 2022-04-20 17:57:50,057]\u001b[0m Trial 92 finished with value: 0.769701726844584 and parameters: {'xgb_eta': 0.07454354885743095, 'xgb_max_depth': 11}. Best is trial 71 with value: 0.7935723007151578.\u001b[0m\n",
      "\u001b[32m[I 2022-04-20 17:58:04,026]\u001b[0m Trial 93 finished with value: 0.778222571079714 and parameters: {'xgb_eta': 0.04427809761172792, 'xgb_max_depth': 14}. Best is trial 71 with value: 0.7935723007151578.\u001b[0m\n",
      "\u001b[32m[I 2022-04-20 17:58:16,583]\u001b[0m Trial 94 finished with value: 0.7696755625327053 and parameters: {'xgb_eta': 0.11167909826840981, 'xgb_max_depth': 16}. Best is trial 71 with value: 0.7935723007151578.\u001b[0m\n",
      "\u001b[32m[I 2022-04-20 17:58:29,222]\u001b[0m Trial 95 finished with value: 0.7713936856794 and parameters: {'xgb_eta': 0.017702097685445117, 'xgb_max_depth': 19}. Best is trial 71 with value: 0.7935723007151578.\u001b[0m\n",
      "\u001b[32m[I 2022-04-20 17:58:39,822]\u001b[0m Trial 96 finished with value: 0.7731205302633875 and parameters: {'xgb_eta': 0.14099641624890688, 'xgb_max_depth': 17}. Best is trial 71 with value: 0.7935723007151578.\u001b[0m\n",
      "\u001b[32m[I 2022-04-20 17:58:52,726]\u001b[0m Trial 97 finished with value: 0.778222571079714 and parameters: {'xgb_eta': 0.0610443966801172, 'xgb_max_depth': 15}. Best is trial 71 with value: 0.7935723007151578.\u001b[0m\n",
      "\u001b[32m[I 2022-04-20 17:59:00,046]\u001b[0m Trial 98 finished with value: 0.7696842839699981 and parameters: {'xgb_eta': 0.5417749482161126, 'xgb_max_depth': 13}. Best is trial 71 with value: 0.7935723007151578.\u001b[0m\n",
      "\u001b[32m[I 2022-04-20 17:59:12,827]\u001b[0m Trial 99 finished with value: 0.7799232513518227 and parameters: {'xgb_eta': 0.0349428682759076, 'xgb_max_depth': 18}. Best is trial 71 with value: 0.7935723007151578.\u001b[0m\n"
     ]
    }
   ],
   "source": [
    "# Optimize XGB\n",
    "study = optuna.create_study(direction='maximize')\n",
    "study.optimize(lambda trial: objective(trial, classifier_name='XGB'), n_trials=100)"
   ]
  },
  {
   "cell_type": "code",
   "execution_count": 14,
   "metadata": {
    "scrolled": true
   },
   "outputs": [
    {
     "name": "stderr",
     "output_type": "stream",
     "text": [
      "\u001b[32m[I 2022-04-20 21:59:45,136]\u001b[0m A new study created in memory with name: no-name-690d9b79-63af-4ecb-99c2-0935966b1115\u001b[0m\n",
      "\u001b[32m[I 2022-04-20 21:59:45,269]\u001b[0m Trial 0 finished with value: 0.7132987910189982 and parameters: {'gbdt_n_estimators': 891, 'gbdt_lr': 0.3328460866720329}. Best is trial 0 with value: 0.7132987910189982.\u001b[0m\n",
      "\u001b[32m[I 2022-04-20 21:59:45,363]\u001b[0m Trial 1 finished with value: 0.7115716753022453 and parameters: {'gbdt_n_estimators': 629, 'gbdt_lr': 0.8088620388218714}. Best is trial 0 with value: 0.7132987910189982.\u001b[0m\n",
      "\u001b[32m[I 2022-04-20 21:59:45,583]\u001b[0m Trial 2 finished with value: 0.7564766839378239 and parameters: {'gbdt_n_estimators': 809, 'gbdt_lr': 0.01864227016860461}. Best is trial 2 with value: 0.7564766839378239.\u001b[0m\n",
      "\u001b[32m[I 2022-04-20 21:59:45,653]\u001b[0m Trial 3 finished with value: 0.7132987910189983 and parameters: {'gbdt_n_estimators': 276, 'gbdt_lr': 0.4424432424506073}. Best is trial 2 with value: 0.7564766839378239.\u001b[0m\n",
      "\u001b[32m[I 2022-04-20 21:59:45,765]\u001b[0m Trial 4 finished with value: 0.7184801381692574 and parameters: {'gbdt_n_estimators': 643, 'gbdt_lr': 0.6596169070751338}. Best is trial 2 with value: 0.7564766839378239.\u001b[0m\n",
      "\u001b[32m[I 2022-04-20 21:59:45,813]\u001b[0m Trial 5 finished with value: 0.7046632124352331 and parameters: {'gbdt_n_estimators': 126, 'gbdt_lr': 0.9800830638652596}. Best is trial 2 with value: 0.7564766839378239.\u001b[0m\n",
      "\u001b[32m[I 2022-04-20 21:59:45,869]\u001b[0m Trial 6 finished with value: 0.7219343696027632 and parameters: {'gbdt_n_estimators': 165, 'gbdt_lr': 0.33895385623377233}. Best is trial 2 with value: 0.7564766839378239.\u001b[0m\n",
      "\u001b[32m[I 2022-04-20 21:59:45,972]\u001b[0m Trial 7 finished with value: 0.699481865284974 and parameters: {'gbdt_n_estimators': 638, 'gbdt_lr': 0.8742546133028736}. Best is trial 2 with value: 0.7564766839378239.\u001b[0m\n",
      "\u001b[32m[I 2022-04-20 21:59:46,028]\u001b[0m Trial 8 finished with value: 0.6891191709844561 and parameters: {'gbdt_n_estimators': 271, 'gbdt_lr': 0.763973651897239}. Best is trial 2 with value: 0.7564766839378239.\u001b[0m\n",
      "\u001b[32m[I 2022-04-20 21:59:46,199]\u001b[0m Trial 9 finished with value: 0.7288428324697754 and parameters: {'gbdt_n_estimators': 615, 'gbdt_lr': 0.08297411273239103}. Best is trial 2 with value: 0.7564766839378239.\u001b[0m\n",
      "\u001b[32m[I 2022-04-20 21:59:46,463]\u001b[0m Trial 10 finished with value: 0.7443868739205527 and parameters: {'gbdt_n_estimators': 965, 'gbdt_lr': 0.02044480206934861}. Best is trial 2 with value: 0.7564766839378239.\u001b[0m\n",
      "\u001b[32m[I 2022-04-20 21:59:46,734]\u001b[0m Trial 11 finished with value: 0.7374784110535405 and parameters: {'gbdt_n_estimators': 985, 'gbdt_lr': 0.022253922746391742}. Best is trial 2 with value: 0.7564766839378239.\u001b[0m\n",
      "\u001b[32m[I 2022-04-20 21:59:46,925]\u001b[0m Trial 12 finished with value: 0.7219343696027635 and parameters: {'gbdt_n_estimators': 823, 'gbdt_lr': 0.18681608759262008}. Best is trial 2 with value: 0.7564766839378239.\u001b[0m\n",
      "\u001b[32m[I 2022-04-20 21:59:47,108]\u001b[0m Trial 13 finished with value: 0.7202072538860104 and parameters: {'gbdt_n_estimators': 832, 'gbdt_lr': 0.20165085453894155}. Best is trial 2 with value: 0.7564766839378239.\u001b[0m\n",
      "\u001b[32m[I 2022-04-20 21:59:47,333]\u001b[0m Trial 14 finished with value: 0.7167530224525044 and parameters: {'gbdt_n_estimators': 995, 'gbdt_lr': 0.16654686826282494}. Best is trial 2 with value: 0.7564766839378239.\u001b[0m\n",
      "\u001b[32m[I 2022-04-20 21:59:47,445]\u001b[0m Trial 15 finished with value: 0.7098445595854922 and parameters: {'gbdt_n_estimators': 747, 'gbdt_lr': 0.5206221858838058}. Best is trial 2 with value: 0.7564766839378239.\u001b[0m\n",
      "\u001b[32m[I 2022-04-20 21:59:47,575]\u001b[0m Trial 16 finished with value: 0.7340241796200345 and parameters: {'gbdt_n_estimators': 491, 'gbdt_lr': 0.05029910549109606}. Best is trial 2 with value: 0.7564766839378239.\u001b[0m\n",
      "\u001b[32m[I 2022-04-20 21:59:47,683]\u001b[0m Trial 17 finished with value: 0.7219343696027632 and parameters: {'gbdt_n_estimators': 431, 'gbdt_lr': 0.302654497768593}. Best is trial 2 with value: 0.7564766839378239.\u001b[0m\n",
      "\u001b[32m[I 2022-04-20 21:59:47,791]\u001b[0m Trial 18 finished with value: 0.7150259067357512 and parameters: {'gbdt_n_estimators': 729, 'gbdt_lr': 0.5673484874473593}. Best is trial 2 with value: 0.7564766839378239.\u001b[0m\n",
      "\u001b[32m[I 2022-04-20 21:59:48,009]\u001b[0m Trial 19 finished with value: 0.7150259067357513 and parameters: {'gbdt_n_estimators': 905, 'gbdt_lr': 0.13119535219888573}. Best is trial 2 with value: 0.7564766839378239.\u001b[0m\n",
      "\u001b[32m[I 2022-04-20 21:59:48,149]\u001b[0m Trial 20 finished with value: 0.7202072538860104 and parameters: {'gbdt_n_estimators': 745, 'gbdt_lr': 0.26264107194385233}. Best is trial 2 with value: 0.7564766839378239.\u001b[0m\n",
      "\u001b[32m[I 2022-04-20 21:59:48,405]\u001b[0m Trial 21 finished with value: 0.7219343696027635 and parameters: {'gbdt_n_estimators': 989, 'gbdt_lr': 0.035400918963965036}. Best is trial 2 with value: 0.7564766839378239.\u001b[0m\n",
      "\u001b[32m[I 2022-04-20 21:59:48,649]\u001b[0m Trial 22 finished with value: 0.7288428324697754 and parameters: {'gbdt_n_estimators': 915, 'gbdt_lr': 0.037273497105870024}. Best is trial 2 with value: 0.7564766839378239.\u001b[0m\n",
      "\u001b[32m[I 2022-04-20 21:59:48,877]\u001b[0m Trial 23 finished with value: 0.7530224525043178 and parameters: {'gbdt_n_estimators': 830, 'gbdt_lr': 0.01747905574696977}. Best is trial 2 with value: 0.7564766839378239.\u001b[0m\n",
      "\u001b[32m[I 2022-04-20 21:59:49,003]\u001b[0m Trial 24 finished with value: 0.7253886010362693 and parameters: {'gbdt_n_estimators': 825, 'gbdt_lr': 0.42148467938500517}. Best is trial 2 with value: 0.7564766839378239.\u001b[0m\n",
      "\u001b[32m[I 2022-04-20 21:59:49,198]\u001b[0m Trial 25 finished with value: 0.7202072538860104 and parameters: {'gbdt_n_estimators': 782, 'gbdt_lr': 0.1259006446931167}. Best is trial 2 with value: 0.7564766839378239.\u001b[0m\n",
      "\u001b[32m[I 2022-04-20 21:59:49,381]\u001b[0m Trial 26 finished with value: 0.7150259067357513 and parameters: {'gbdt_n_estimators': 911, 'gbdt_lr': 0.21211324980039015}. Best is trial 2 with value: 0.7564766839378239.\u001b[0m\n",
      "\u001b[32m[I 2022-04-20 21:59:49,558]\u001b[0m Trial 27 finished with value: 0.7150259067357513 and parameters: {'gbdt_n_estimators': 694, 'gbdt_lr': 0.11073064198353841}. Best is trial 2 with value: 0.7564766839378239.\u001b[0m\n",
      "\u001b[32m[I 2022-04-20 21:59:49,671]\u001b[0m Trial 28 finished with value: 0.7236614853195165 and parameters: {'gbdt_n_estimators': 555, 'gbdt_lr': 0.2509177905993932}. Best is trial 2 with value: 0.7564766839378239.\u001b[0m\n",
      "\u001b[32m[I 2022-04-20 21:59:49,830]\u001b[0m Trial 29 finished with value: 0.7132987910189983 and parameters: {'gbdt_n_estimators': 864, 'gbdt_lr': 0.35454691557263834}. Best is trial 2 with value: 0.7564766839378239.\u001b[0m\n",
      "\u001b[32m[I 2022-04-20 21:59:50,073]\u001b[0m Trial 30 finished with value: 0.7392055267702936 and parameters: {'gbdt_n_estimators': 939, 'gbdt_lr': 0.01727051045195349}. Best is trial 2 with value: 0.7564766839378239.\u001b[0m\n",
      "\u001b[32m[I 2022-04-20 21:59:50,314]\u001b[0m Trial 31 finished with value: 0.7443868739205527 and parameters: {'gbdt_n_estimators': 935, 'gbdt_lr': 0.019978135268886695}. Best is trial 2 with value: 0.7564766839378239.\u001b[0m\n",
      "\u001b[32m[I 2022-04-20 21:59:50,533]\u001b[0m Trial 32 finished with value: 0.7340241796200345 and parameters: {'gbdt_n_estimators': 872, 'gbdt_lr': 0.10094289278526927}. Best is trial 2 with value: 0.7564766839378239.\u001b[0m\n",
      "\u001b[32m[I 2022-04-20 21:59:50,770]\u001b[0m Trial 33 finished with value: 0.7202072538860104 and parameters: {'gbdt_n_estimators': 940, 'gbdt_lr': 0.09182960840492112}. Best is trial 2 with value: 0.7564766839378239.\u001b[0m\n",
      "\u001b[32m[I 2022-04-20 21:59:50,964]\u001b[0m Trial 34 finished with value: 0.7167530224525044 and parameters: {'gbdt_n_estimators': 791, 'gbdt_lr': 0.16030537520572263}. Best is trial 2 with value: 0.7564766839378239.\u001b[0m\n",
      "\u001b[32m[I 2022-04-20 21:59:51,162]\u001b[0m Trial 35 finished with value: 0.7564766839378239 and parameters: {'gbdt_n_estimators': 687, 'gbdt_lr': 0.012235574026129441}. Best is trial 2 with value: 0.7564766839378239.\u001b[0m\n",
      "\u001b[32m[I 2022-04-20 21:59:51,346]\u001b[0m Trial 36 finished with value: 0.7219343696027635 and parameters: {'gbdt_n_estimators': 699, 'gbdt_lr': 0.07813770744340034}. Best is trial 2 with value: 0.7564766839378239.\u001b[0m\n",
      "\u001b[32m[I 2022-04-20 21:59:51,435]\u001b[0m Trial 37 finished with value: 0.7202072538860103 and parameters: {'gbdt_n_estimators': 583, 'gbdt_lr': 0.6414127251286168}. Best is trial 2 with value: 0.7564766839378239.\u001b[0m\n"
     ]
    },
    {
     "name": "stderr",
     "output_type": "stream",
     "text": [
      "\u001b[32m[I 2022-04-20 21:59:51,551]\u001b[0m Trial 38 finished with value: 0.7184801381692573 and parameters: {'gbdt_n_estimators': 476, 'gbdt_lr': 0.14791314313172751}. Best is trial 2 with value: 0.7564766839378239.\u001b[0m\n",
      "\u001b[32m[I 2022-04-20 21:59:51,666]\u001b[0m Trial 39 finished with value: 0.7029360967184802 and parameters: {'gbdt_n_estimators': 665, 'gbdt_lr': 0.3784002013891583}. Best is trial 2 with value: 0.7564766839378239.\u001b[0m\n",
      "\u001b[32m[I 2022-04-20 21:59:51,782]\u001b[0m Trial 40 finished with value: 0.7115716753022453 and parameters: {'gbdt_n_estimators': 781, 'gbdt_lr': 0.2796685827495928}. Best is trial 2 with value: 0.7564766839378239.\u001b[0m\n",
      "\u001b[32m[I 2022-04-20 21:59:52,010]\u001b[0m Trial 41 finished with value: 0.7633851468048359 and parameters: {'gbdt_n_estimators': 849, 'gbdt_lr': 0.011464813403528895}. Best is trial 41 with value: 0.7633851468048359.\u001b[0m\n",
      "\u001b[32m[I 2022-04-20 21:59:52,246]\u001b[0m Trial 42 finished with value: 0.7202072538860104 and parameters: {'gbdt_n_estimators': 862, 'gbdt_lr': 0.08139171612870762}. Best is trial 41 with value: 0.7633851468048359.\u001b[0m\n",
      "\u001b[32m[I 2022-04-20 21:59:52,471]\u001b[0m Trial 43 finished with value: 0.7219343696027632 and parameters: {'gbdt_n_estimators': 821, 'gbdt_lr': 0.059414793543890634}. Best is trial 41 with value: 0.7633851468048359.\u001b[0m\n",
      "\u001b[32m[I 2022-04-20 21:59:52,693]\u001b[0m Trial 44 finished with value: 0.7530224525043178 and parameters: {'gbdt_n_estimators': 877, 'gbdt_lr': 0.017448077446140693}. Best is trial 41 with value: 0.7633851468048359.\u001b[0m\n",
      "\u001b[32m[I 2022-04-20 21:59:52,824]\u001b[0m Trial 45 finished with value: 0.7150259067357513 and parameters: {'gbdt_n_estimators': 774, 'gbdt_lr': 0.22781034460902191}. Best is trial 41 with value: 0.7633851468048359.\u001b[0m\n",
      "\u001b[32m[I 2022-04-20 21:59:52,924]\u001b[0m Trial 46 finished with value: 0.7098445595854922 and parameters: {'gbdt_n_estimators': 704, 'gbdt_lr': 0.8270838202874722}. Best is trial 41 with value: 0.7633851468048359.\u001b[0m\n",
      "\u001b[32m[I 2022-04-20 21:59:53,050]\u001b[0m Trial 47 finished with value: 0.7236614853195165 and parameters: {'gbdt_n_estimators': 622, 'gbdt_lr': 0.15689631316424252}. Best is trial 41 with value: 0.7633851468048359.\u001b[0m\n",
      "\u001b[32m[I 2022-04-20 21:59:53,275]\u001b[0m Trial 48 finished with value: 0.7167530224525044 and parameters: {'gbdt_n_estimators': 848, 'gbdt_lr': 0.06786124677608898}. Best is trial 41 with value: 0.7633851468048359.\u001b[0m\n",
      "\u001b[32m[I 2022-04-20 21:59:53,492]\u001b[0m Trial 49 finished with value: 0.7582037996545768 and parameters: {'gbdt_n_estimators': 806, 'gbdt_lr': 0.013059697517588089}. Best is trial 41 with value: 0.7633851468048359.\u001b[0m\n",
      "\u001b[32m[I 2022-04-20 21:59:53,624]\u001b[0m Trial 50 finished with value: 0.7219343696027635 and parameters: {'gbdt_n_estimators': 668, 'gbdt_lr': 0.2041294723375071}. Best is trial 41 with value: 0.7633851468048359.\u001b[0m\n",
      "\u001b[32m[I 2022-04-20 21:59:53,723]\u001b[0m Trial 51 finished with value: 0.7029360967184801 and parameters: {'gbdt_n_estimators': 744, 'gbdt_lr': 0.985369035049612}. Best is trial 41 with value: 0.7633851468048359.\u001b[0m\n",
      "\u001b[32m[I 2022-04-20 21:59:53,940]\u001b[0m Trial 52 finished with value: 0.7478411053540587 and parameters: {'gbdt_n_estimators': 799, 'gbdt_lr': 0.02165216767747455}. Best is trial 41 with value: 0.7633851468048359.\u001b[0m\n",
      "\u001b[32m[I 2022-04-20 21:59:54,154]\u001b[0m Trial 53 finished with value: 0.7253886010362693 and parameters: {'gbdt_n_estimators': 866, 'gbdt_lr': 0.12256586492454774}. Best is trial 41 with value: 0.7633851468048359.\u001b[0m\n",
      "\u001b[32m[I 2022-04-20 21:59:54,254]\u001b[0m Trial 54 finished with value: 0.7772020725388601 and parameters: {'gbdt_n_estimators': 269, 'gbdt_lr': 0.012824582344394916}. Best is trial 54 with value: 0.7772020725388601.\u001b[0m\n",
      "\u001b[32m[I 2022-04-20 21:59:54,329]\u001b[0m Trial 55 finished with value: 0.7478411053540587 and parameters: {'gbdt_n_estimators': 234, 'gbdt_lr': 0.06264611158971863}. Best is trial 54 with value: 0.7772020725388601.\u001b[0m\n",
      "\u001b[32m[I 2022-04-20 21:59:54,397]\u001b[0m Trial 56 finished with value: 0.7098445595854922 and parameters: {'gbdt_n_estimators': 339, 'gbdt_lr': 0.9157888542950042}. Best is trial 54 with value: 0.7772020725388601.\u001b[0m\n",
      "\u001b[32m[I 2022-04-20 21:59:54,468]\u001b[0m Trial 57 finished with value: 0.7582037996545768 and parameters: {'gbdt_n_estimators': 195, 'gbdt_lr': 0.05843513323183158}. Best is trial 54 with value: 0.7772020725388601.\u001b[0m\n",
      "\u001b[32m[I 2022-04-20 21:59:54,522]\u001b[0m Trial 58 finished with value: 0.7357512953367875 and parameters: {'gbdt_n_estimators': 106, 'gbdt_lr': 0.174026622301295}. Best is trial 54 with value: 0.7772020725388601.\u001b[0m\n",
      "\u001b[32m[I 2022-04-20 21:59:54,585]\u001b[0m Trial 59 finished with value: 0.7443868739205527 and parameters: {'gbdt_n_estimators': 182, 'gbdt_lr': 0.10652531764972317}. Best is trial 54 with value: 0.7772020725388601.\u001b[0m\n",
      "\u001b[32m[I 2022-04-20 21:59:54,661]\u001b[0m Trial 60 finished with value: 0.7236614853195164 and parameters: {'gbdt_n_estimators': 350, 'gbdt_lr': 0.7154426708707077}. Best is trial 54 with value: 0.7772020725388601.\u001b[0m\n",
      "\u001b[32m[I 2022-04-20 21:59:54,733]\u001b[0m Trial 61 finished with value: 0.7547495682210709 and parameters: {'gbdt_n_estimators': 218, 'gbdt_lr': 0.05478168736650384}. Best is trial 54 with value: 0.7772020725388601.\u001b[0m\n",
      "\u001b[32m[I 2022-04-20 21:59:54,802]\u001b[0m Trial 62 finished with value: 0.7495682210708118 and parameters: {'gbdt_n_estimators': 214, 'gbdt_lr': 0.0580972915783471}. Best is trial 54 with value: 0.7772020725388601.\u001b[0m\n",
      "\u001b[32m[I 2022-04-20 21:59:54,887]\u001b[0m Trial 63 finished with value: 0.7392055267702936 and parameters: {'gbdt_n_estimators': 299, 'gbdt_lr': 0.05336593304485179}. Best is trial 54 with value: 0.7772020725388601.\u001b[0m\n",
      "\u001b[32m[I 2022-04-20 21:59:54,947]\u001b[0m Trial 64 finished with value: 0.773747841105354 and parameters: {'gbdt_n_estimators': 163, 'gbdt_lr': 0.011436206332626733}. Best is trial 54 with value: 0.7772020725388601.\u001b[0m\n",
      "\u001b[32m[I 2022-04-20 21:59:55,029]\u001b[0m Trial 65 finished with value: 0.7737478411053541 and parameters: {'gbdt_n_estimators': 269, 'gbdt_lr': 0.012380121939587659}. Best is trial 54 with value: 0.7772020725388601.\u001b[0m\n",
      "\u001b[32m[I 2022-04-20 21:59:55,106]\u001b[0m Trial 66 finished with value: 0.7340241796200345 and parameters: {'gbdt_n_estimators': 176, 'gbdt_lr': 0.13050316475960702}. Best is trial 54 with value: 0.7772020725388601.\u001b[0m\n",
      "\u001b[32m[I 2022-04-20 21:59:55,183]\u001b[0m Trial 67 finished with value: 0.7443868739205527 and parameters: {'gbdt_n_estimators': 248, 'gbdt_lr': 0.10018270815747217}. Best is trial 54 with value: 0.7772020725388601.\u001b[0m\n",
      "\u001b[32m[I 2022-04-20 21:59:55,243]\u001b[0m Trial 68 finished with value: 0.7702936096718481 and parameters: {'gbdt_n_estimators': 136, 'gbdt_lr': 0.037130434039698984}. Best is trial 54 with value: 0.7772020725388601.\u001b[0m\n",
      "\u001b[32m[I 2022-04-20 21:59:55,304]\u001b[0m Trial 69 finished with value: 0.7098445595854922 and parameters: {'gbdt_n_estimators': 152, 'gbdt_lr': 0.4853294384289798}. Best is trial 54 with value: 0.7772020725388601.\u001b[0m\n",
      "\u001b[32m[I 2022-04-20 21:59:55,356]\u001b[0m Trial 70 finished with value: 0.765112262521589 and parameters: {'gbdt_n_estimators': 139, 'gbdt_lr': 0.04590632802508207}. Best is trial 54 with value: 0.7772020725388601.\u001b[0m\n",
      "\u001b[32m[I 2022-04-20 21:59:55,415]\u001b[0m Trial 71 finished with value: 0.7478411053540587 and parameters: {'gbdt_n_estimators': 139, 'gbdt_lr': 0.08184604799889363}. Best is trial 54 with value: 0.7772020725388601.\u001b[0m\n",
      "\u001b[32m[I 2022-04-20 21:59:55,479]\u001b[0m Trial 72 finished with value: 0.7582037996545768 and parameters: {'gbdt_n_estimators': 192, 'gbdt_lr': 0.04501719995581405}. Best is trial 54 with value: 0.7772020725388601.\u001b[0m\n",
      "\u001b[32m[I 2022-04-20 21:59:55,528]\u001b[0m Trial 73 finished with value: 0.7702936096718481 and parameters: {'gbdt_n_estimators': 110, 'gbdt_lr': 0.04232246288739285}. Best is trial 54 with value: 0.7772020725388601.\u001b[0m\n",
      "\u001b[32m[I 2022-04-20 21:59:55,577]\u001b[0m Trial 74 finished with value: 0.7409326424870466 and parameters: {'gbdt_n_estimators': 110, 'gbdt_lr': 0.14306091599225607}. Best is trial 54 with value: 0.7772020725388601.\u001b[0m\n",
      "\u001b[32m[I 2022-04-20 21:59:55,668]\u001b[0m Trial 75 finished with value: 0.7357512953367875 and parameters: {'gbdt_n_estimators': 287, 'gbdt_lr': 0.0977750095639068}. Best is trial 54 with value: 0.7772020725388601.\u001b[0m\n",
      "\u001b[32m[I 2022-04-20 21:59:55,720]\u001b[0m Trial 76 finished with value: 0.7616580310880829 and parameters: {'gbdt_n_estimators': 148, 'gbdt_lr': 0.03987444296150783}. Best is trial 54 with value: 0.7772020725388601.\u001b[0m\n"
     ]
    },
    {
     "name": "stderr",
     "output_type": "stream",
     "text": [
      "\u001b[32m[I 2022-04-20 21:59:55,777]\u001b[0m Trial 77 finished with value: 0.7512953367875648 and parameters: {'gbdt_n_estimators': 130, 'gbdt_lr': 0.18383820136358608}. Best is trial 54 with value: 0.7772020725388601.\u001b[0m\n",
      "\u001b[32m[I 2022-04-20 21:59:55,855]\u001b[0m Trial 78 finished with value: 0.7616580310880829 and parameters: {'gbdt_n_estimators': 256, 'gbdt_lr': 0.03422605501041903}. Best is trial 54 with value: 0.7772020725388601.\u001b[0m\n",
      "\u001b[32m[I 2022-04-20 21:59:55,960]\u001b[0m Trial 79 finished with value: 0.7236614853195164 and parameters: {'gbdt_n_estimators': 339, 'gbdt_lr': 0.11631459823306803}. Best is trial 54 with value: 0.7772020725388601.\u001b[0m\n",
      "\u001b[32m[I 2022-04-20 21:59:56,063]\u001b[0m Trial 80 finished with value: 0.7288428324697754 and parameters: {'gbdt_n_estimators': 372, 'gbdt_lr': 0.08172349510151374}. Best is trial 54 with value: 0.7772020725388601.\u001b[0m\n",
      "\u001b[32m[I 2022-04-20 21:59:56,118]\u001b[0m Trial 81 finished with value: 0.7633851468048359 and parameters: {'gbdt_n_estimators': 158, 'gbdt_lr': 0.03873794789577942}. Best is trial 54 with value: 0.7772020725388601.\u001b[0m\n",
      "\u001b[32m[I 2022-04-20 21:59:56,169]\u001b[0m Trial 82 finished with value: 0.766839378238342 and parameters: {'gbdt_n_estimators': 156, 'gbdt_lr': 0.039562923878322255}. Best is trial 54 with value: 0.7772020725388601.\u001b[0m\n",
      "\u001b[32m[I 2022-04-20 21:59:56,228]\u001b[0m Trial 83 finished with value: 0.7720207253886011 and parameters: {'gbdt_n_estimators': 165, 'gbdt_lr': 0.04032207669394124}. Best is trial 54 with value: 0.7772020725388601.\u001b[0m\n",
      "\u001b[32m[I 2022-04-20 21:59:56,279]\u001b[0m Trial 84 finished with value: 0.7633851468048359 and parameters: {'gbdt_n_estimators': 157, 'gbdt_lr': 0.036067068287759546}. Best is trial 54 with value: 0.7772020725388601.\u001b[0m\n",
      "\u001b[32m[I 2022-04-20 21:59:56,323]\u001b[0m Trial 85 finished with value: 0.75993091537133 and parameters: {'gbdt_n_estimators': 100, 'gbdt_lr': 0.08462248460550506}. Best is trial 54 with value: 0.7772020725388601.\u001b[0m\n",
      "\u001b[32m[I 2022-04-20 21:59:56,395]\u001b[0m Trial 86 finished with value: 0.7305699481865284 and parameters: {'gbdt_n_estimators': 210, 'gbdt_lr': 0.1281255491139934}. Best is trial 54 with value: 0.7772020725388601.\u001b[0m\n",
      "\u001b[32m[I 2022-04-20 21:59:56,455]\u001b[0m Trial 87 finished with value: 0.7720207253886011 and parameters: {'gbdt_n_estimators': 125, 'gbdt_lr': 0.042639831254410385}. Best is trial 54 with value: 0.7772020725388601.\u001b[0m\n",
      "\u001b[32m[I 2022-04-20 21:59:56,508]\u001b[0m Trial 88 finished with value: 0.765112262521589 and parameters: {'gbdt_n_estimators': 124, 'gbdt_lr': 0.07020237678405383}. Best is trial 54 with value: 0.7772020725388601.\u001b[0m\n",
      "\u001b[32m[I 2022-04-20 21:59:56,568]\u001b[0m Trial 89 finished with value: 0.7219343696027632 and parameters: {'gbdt_n_estimators': 116, 'gbdt_lr': 0.5942745238180643}. Best is trial 54 with value: 0.7772020725388601.\u001b[0m\n",
      "\u001b[32m[I 2022-04-20 21:59:56,632]\u001b[0m Trial 90 finished with value: 0.7582037996545768 and parameters: {'gbdt_n_estimators': 172, 'gbdt_lr': 0.0717810879402169}. Best is trial 54 with value: 0.7772020725388601.\u001b[0m\n",
      "\u001b[32m[I 2022-04-20 21:59:56,683]\u001b[0m Trial 91 finished with value: 0.775474956822107 and parameters: {'gbdt_n_estimators': 119, 'gbdt_lr': 0.011263575359045095}. Best is trial 54 with value: 0.7772020725388601.\u001b[0m\n",
      "\u001b[32m[I 2022-04-20 21:59:56,751]\u001b[0m Trial 92 finished with value: 0.7789291882556131 and parameters: {'gbdt_n_estimators': 127, 'gbdt_lr': 0.012855529187551739}. Best is trial 92 with value: 0.7789291882556131.\u001b[0m\n",
      "\u001b[32m[I 2022-04-20 21:59:56,819]\u001b[0m Trial 93 finished with value: 0.7806563039723661 and parameters: {'gbdt_n_estimators': 199, 'gbdt_lr': 0.012101757203216547}. Best is trial 93 with value: 0.7806563039723661.\u001b[0m\n",
      "\u001b[32m[I 2022-04-20 21:59:56,906]\u001b[0m Trial 94 finished with value: 0.773747841105354 and parameters: {'gbdt_n_estimators': 234, 'gbdt_lr': 0.010324340499124507}. Best is trial 93 with value: 0.7806563039723661.\u001b[0m\n",
      "\u001b[32m[I 2022-04-20 21:59:56,988]\u001b[0m Trial 95 finished with value: 0.7841105354058722 and parameters: {'gbdt_n_estimators': 302, 'gbdt_lr': 0.011684687770816824}. Best is trial 95 with value: 0.7841105354058722.\u001b[0m\n",
      "\u001b[32m[I 2022-04-20 21:59:57,078]\u001b[0m Trial 96 finished with value: 0.7702936096718481 and parameters: {'gbdt_n_estimators': 312, 'gbdt_lr': 0.012705364349346144}. Best is trial 95 with value: 0.7841105354058722.\u001b[0m\n",
      "\u001b[32m[I 2022-04-20 21:59:57,155]\u001b[0m Trial 97 finished with value: 0.7720207253886011 and parameters: {'gbdt_n_estimators': 267, 'gbdt_lr': 0.014227549566193324}. Best is trial 95 with value: 0.7841105354058722.\u001b[0m\n",
      "\u001b[32m[I 2022-04-20 21:59:57,229]\u001b[0m Trial 98 finished with value: 0.7357512953367875 and parameters: {'gbdt_n_estimators': 256, 'gbdt_lr': 0.10068227227168201}. Best is trial 95 with value: 0.7841105354058722.\u001b[0m\n",
      "\u001b[32m[I 2022-04-20 21:59:57,301]\u001b[0m Trial 99 finished with value: 0.7772020725388602 and parameters: {'gbdt_n_estimators': 232, 'gbdt_lr': 0.013129184448965969}. Best is trial 95 with value: 0.7841105354058722.\u001b[0m\n"
     ]
    }
   ],
   "source": [
    "# Optimize GBDT\n",
    "study = optuna.create_study(direction='maximize')\n",
    "study.optimize(lambda trial: objective(trial, classifier_name='GBDT'), n_trials=100)"
   ]
  },
  {
   "cell_type": "markdown",
   "metadata": {},
   "source": [
    "## Optimized Baseline Analysis"
   ]
  },
  {
   "cell_type": "markdown",
   "metadata": {},
   "source": [
    "### b) Random Forest"
   ]
  },
  {
   "cell_type": "code",
   "execution_count": 109,
   "metadata": {},
   "outputs": [
    {
     "name": "stdout",
     "output_type": "stream",
     "text": [
      "accuracy for random forerst: 81.81818181818183%\n"
     ]
    },
    {
     "data": {
      "image/png": "[encoded data removed]",
      "text/plain": [
       "<Figure size 432x288 with 2 Axes>"
      ]
     },
     "metadata": {
      "needs_background": "light"
     },
     "output_type": "display_data"
    }
   ],
   "source": [
    "# Random Forest\n",
    "rf_clf = RandomForestClassifier(n_estimators=98)\n",
    "rf_clf.fit(train_x, train_y)\n",
    "rf_y_pred = rf_clf.predict(test_x)\n",
    "acc = rf_clf.score(test_x, test_y)\n",
    "print(f'accuracy for random forerst: {acc * 100}%')\n",
    "\n",
    "plot_confusion(test_y, rf_y_pred)"
   ]
  },
  {
   "cell_type": "markdown",
   "metadata": {},
   "source": [
    "### c) SVC"
   ]
  },
  {
   "cell_type": "code",
   "execution_count": 111,
   "metadata": {},
   "outputs": [
    {
     "name": "stdout",
     "output_type": "stream",
     "text": [
      "accuracy for SVC: 69.6969696969697%\n"
     ]
    },
    {
     "data": {
      "image/png": "[encoded data removed]",
      "text/plain": [
       "<Figure size 432x288 with 2 Axes>"
      ]
     },
     "metadata": {
      "needs_background": "light"
     },
     "output_type": "display_data"
    }
   ],
   "source": [
    "# SVC\n",
    "svc_clf = SVC(degree=3)\n",
    "svc_clf.fit(train_x, train_y)\n",
    "acc = svc_clf.score(test_x, test_y)\n",
    "svc_y_pred = svc_clf.predict(test_x)\n",
    "print(f'accuracy for SVC: {acc * 100}%')\n",
    "\n",
    "plot_confusion(test_y, svc_y_pred)"
   ]
  },
  {
   "cell_type": "markdown",
   "metadata": {},
   "source": [
    "### d) XGBoost"
   ]
  },
  {
   "cell_type": "code",
   "execution_count": 22,
   "metadata": {
    "scrolled": true
   },
   "outputs": [
    {
     "name": "stdout",
     "output_type": "stream",
     "text": [
      "[17:59:12] WARNING: ../src/learner.cc:573: \n",
      "Parameters: { \"enable_categorical\" } might not be used.\n",
      "\n",
      "  This may not be accurate due to some parameters are only used in language bindings but\n",
      "  passed down to XGBoost core.  Or some parameters are not used but slip through this\n",
      "  verification. Please open an issue if you find above cases.\n",
      "\n",
      "\n",
      "[17:59:12] WARNING: ../src/learner.cc:1095: Starting in XGBoost 1.3.0, the default evaluation metric used with the objective 'binary:logistic' was changed from 'error' to 'logloss'. Explicitly set eval_metric if you'd like to restore the old behavior.\n",
      "accuracy for XGBoost: 83.33333333333334%\n"
     ]
    },
    {
     "data": {
      "image/png": "[encoded data removed]",
      "text/plain": [
       "<Figure size 432x288 with 2 Axes>"
      ]
     },
     "metadata": {
      "needs_background": "light"
     },
     "output_type": "display_data"
    }
   ],
   "source": [
    "# XGBoost\n",
    "xgb_clf = xgb.XGBClassifier(\n",
    "    eta=0.03875457352141243, max_depth=12, enable_categorical=True, use_label_encoder=False\n",
    ")\n",
    "\n",
    "xgb_clf.fit(train_x, train_y)\n",
    "acc = xgb_clf.score(test_x, test_y)\n",
    "xgb_y_pred = xgb_clf.predict(test_x)\n",
    "print(f'accuracy for XGBoost: {acc * 100}%')\n",
    "\n",
    "plot_confusion(test_y, xgb_y_pred)"
   ]
  },
  {
   "cell_type": "markdown",
   "metadata": {},
   "source": [
    "### e) Gradient Boosting Decision Tree (GBDT)"
   ]
  },
  {
   "cell_type": "code",
   "execution_count": 17,
   "metadata": {},
   "outputs": [
    {
     "name": "stdout",
     "output_type": "stream",
     "text": [
      "accuracy for GBDT: 73.84615384615385%\n"
     ]
    },
    {
     "data": {
      "image/png": "[encoded data removed]",
      "text/plain": [
       "<Figure size 432x288 with 2 Axes>"
      ]
     },
     "metadata": {
      "needs_background": "light"
     },
     "output_type": "display_data"
    }
   ],
   "source": [
    "# LightGBM\n",
    "gbdt_clf = lgb.LGBMClassifier(n_estimators=302, learning_rate=0.011684687770816824)\n",
    "gbdt_clf.fit(train_x, train_y)\n",
    "acc = gbdt_clf.score(test_x, test_y)\n",
    "gbdt_y_pred = gbdt_clf.predict(test_x)\n",
    "print(f'accuracy for GBDT: {acc * 100}%')\n",
    "\n",
    "plot_confusion(test_y, gbdt_y_pred)"
   ]
  }
 ],
 "metadata": {
  "celltoolbar": "Slideshow",
  "kernelspec": {
   "display_name": "sentinel",
   "language": "python",
   "name": "sentinel"
  },
  "language_info": {
   "codemirror_mode": {
    "name": "ipython",
    "version": 3
   },
   "file_extension": ".py",
   "mimetype": "text/x-python",
   "name": "python",
   "nbconvert_exporter": "python",
   "pygments_lexer": "ipython3",
   "version": "3.8.5"
  }
 },
 "nbformat": 4,
 "nbformat_minor": 5
}
