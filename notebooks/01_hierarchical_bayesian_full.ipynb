{
 "cells": [
  {
   "cell_type": "markdown",
   "id": "fcfd1ae9",
   "metadata": {
    "slideshow": {
     "slide_type": "skip"
    }
   },
   "source": [
    "This notebook applies hierarchical bayesian modeling using topographical remote sensing product"
   ]
  },
  {
   "cell_type": "code",
   "execution_count": 1,
   "id": "3786f5f4",
   "metadata": {},
   "outputs": [],
   "source": [
    "%load_ext autoreload\n",
    "%autoreload 2"
   ]
  },
  {
   "cell_type": "code",
   "execution_count": 5,
   "id": "428db1a0",
   "metadata": {
    "slideshow": {
     "slide_type": "skip"
    }
   },
   "outputs": [],
   "source": [
    "import sys\n",
    "sys.path.append('..')\n",
    "import pymc3 as pm\n",
    "from tqdm import tqdm\n",
    "from sklearn.metrics import *\n",
    "import numpy as np\n",
    "\n",
    "from src.utils import *\n",
    "from src.params import *\n",
    "tqdm.pandas()\n",
    "\n",
    "from statsmodels.stats.outliers_influence import variance_inflation_factor\n",
    "\n",
    "%matplotlib inline"
   ]
  },
  {
   "cell_type": "markdown",
   "id": "ce6b592e",
   "metadata": {},
   "source": [
    "# Data Pre-Processing"
   ]
  },
  {
   "cell_type": "code",
   "execution_count": 3,
   "id": "196e8e5b",
   "metadata": {},
   "outputs": [
    {
     "name": "stderr",
     "output_type": "stream",
     "text": [
      "/Users/juannat/Documents/research/septic/bayesian_septic/notebooks/../src/utils.py:76: DtypeWarning: Columns (8,11,13,15,18) have mixed types. Specify dtype option on import or set low_memory=False.\n",
      "  df = pd.read_csv(file_dir)\n"
     ]
    },
    {
     "name": "stdout",
     "output_type": "stream",
     "text": [
      "balancing...\n",
      "non-repairs: 30.010560290333615%, repairs: 69.98943970966639%\n"
     ]
    }
   ],
   "source": [
    "df, basin_idx, basins, coords = read_data(file_dir='../data/hierarchical_septics_v5.csv',\n",
    "        cols=['ppt_2021', 'hydraulic_c','median_hse', 'dem'], is_balanced=True)"
   ]
  },
  {
   "cell_type": "markdown",
   "id": "f727481e",
   "metadata": {},
   "source": [
    "# VIF Analysis"
   ]
  },
  {
   "cell_type": "code",
   "execution_count": 6,
   "id": "d5c5befa",
   "metadata": {},
   "outputs": [],
   "source": [
    "vif_data = pd.DataFrame()\n",
    "cluster_var = ['ppt_2021_norm', 'hydraulic_c_norm', 'median_hse_norm', 'dem_norm']\n",
    "X = df[cluster_var]\n",
    "vif_data['feature'] = cluster_var\n",
    "vif_data['VIF'] = [variance_inflation_factor(X.values, i) for i in range(len(cluster_var))]"
   ]
  },
  {
   "cell_type": "code",
   "execution_count": 7,
   "id": "f28edb04",
   "metadata": {},
   "outputs": [
    {
     "data": {
      "text/html": [
       "<div>\n",
       "<style scoped>\n",
       "    .dataframe tbody tr th:only-of-type {\n",
       "        vertical-align: middle;\n",
       "    }\n",
       "\n",
       "    .dataframe tbody tr th {\n",
       "        vertical-align: top;\n",
       "    }\n",
       "\n",
       "    .dataframe thead th {\n",
       "        text-align: right;\n",
       "    }\n",
       "</style>\n",
       "<table border=\"1\" class=\"dataframe\">\n",
       "  <thead>\n",
       "    <tr style=\"text-align: right;\">\n",
       "      <th></th>\n",
       "      <th>feature</th>\n",
       "      <th>VIF</th>\n",
       "    </tr>\n",
       "  </thead>\n",
       "  <tbody>\n",
       "    <tr>\n",
       "      <th>0</th>\n",
       "      <td>ppt_2021_norm</td>\n",
       "      <td>1.185951</td>\n",
       "    </tr>\n",
       "    <tr>\n",
       "      <th>1</th>\n",
       "      <td>hydraulic_c_norm</td>\n",
       "      <td>1.552911</td>\n",
       "    </tr>\n",
       "    <tr>\n",
       "      <th>2</th>\n",
       "      <td>median_hse_norm</td>\n",
       "      <td>1.092587</td>\n",
       "    </tr>\n",
       "    <tr>\n",
       "      <th>3</th>\n",
       "      <td>dem_norm</td>\n",
       "      <td>1.764910</td>\n",
       "    </tr>\n",
       "  </tbody>\n",
       "</table>\n",
       "</div>"
      ],
      "text/plain": [
       "            feature       VIF\n",
       "0     ppt_2021_norm  1.185951\n",
       "1  hydraulic_c_norm  1.552911\n",
       "2   median_hse_norm  1.092587\n",
       "3          dem_norm  1.764910"
      ]
     },
     "execution_count": 7,
     "metadata": {},
     "output_type": "execute_result"
    }
   ],
   "source": [
    "vif_data"
   ]
  },
  {
   "cell_type": "markdown",
   "id": "0586d483",
   "metadata": {
    "slideshow": {
     "slide_type": "slide"
    }
   },
   "source": [
    "# Hierarchical Bayesian Model\n",
    "\n",
    "- Group septic systems based on their basin (~1560 basins)\n",
    "- The effect of precipitation, distance to water bodies, soil characteristic, housing, topography to septic's status"
   ]
  },
  {
   "cell_type": "markdown",
   "id": "8af55c07",
   "metadata": {},
   "source": [
    "The new variable, flow accumulation or DEM ($f$):\n",
    "\n",
    "$$\n",
    "\\begin{align}\n",
    "    \\textbf{Flow or DEM parameters}\\\\\n",
    "    \\beta_{f,k} \\sim \\Gamma_{f,k}(\\alpha = \\alpha_f, \\beta=\\beta_f)\\\\\n",
    "    \\alpha_f \\sim HN_f(\\sigma=1)\\\\\n",
    "    \\beta_f \\sim HN_f(\\sigma=5)\\\\\n",
    "\\end{align}\n",
    "$$"
   ]
  },
  {
   "cell_type": "markdown",
   "id": "3655c20e",
   "metadata": {},
   "source": [
    "\\begin{equation*}\n",
    "Y_{i} \\sim Bernoulli(\\theta_{i})\\tag{1}\n",
    "\\end{equation*}\n",
    "\n",
    "\\begin{equation*}\n",
    "\\theta_{i} = \\sigma(\\beta_{c,i} + \\beta_{w,i}.waterdist + \\beta_{p,i}.precip + \\beta_{h,i}.hydraulics + \\beta_{s,i}.hseval + \\beta_{t,i}.elev) \\tag{2}\n",
    "\\end{equation*}\n",
    "\n",
    "\\begin{equation*}\n",
    "\\textbf{Intercept parameters}\\\\\n",
    "    \\beta_{c,i} \\sim N_{c,i}(\\mu=\\mu_{c}, \\sigma=\\theta_{c})\\\\\n",
    "    \\text{where }\\mu_{c} \\sim N_c(\\mu=0, \\sigma=10) \\quad and \\quad \\theta_{c} \\sim HN_c(\\sigma=10) \\tag{3}\n",
    "\\end{equation*}\n",
    "\n",
    "\\begin{equation*}\n",
    "\\textbf{Water distance parameters}\\\\\n",
    "    \\beta_{w,i} \\sim Exp_{w,i}(\\sigma=\\sigma_w)\\\\\n",
    "    \\text{where }\\quad \\sigma_w \\sim HN_p(\\sigma=10) \\tag{4}\n",
    "\\end{equation*}\n",
    "\n",
    "\\begin{equation*}\n",
    "\\textbf{Precipitation parameters}\\\\\n",
    "    \\beta_{p,i} \\sim N_{p,i}(\\mu=\\mu_{p}, \\sigma=\\sigma_p)\\\\\n",
    "    \\text{where }\\mu_{p} \\sim N_p(\\mu=0, \\sigma=10) \\quad and \\quad \\sigma_p \\sim HN_p(\\sigma=10) \\tag{4}\n",
    "\\end{equation*}\n",
    "\n",
    "\\begin{equation*}\n",
    "\\textbf{Soil hydraulic conductivity parameters}\\\\\n",
    "    \\beta_{h,i} \\sim N_{h,i}(\\mu=\\mu_{h},\\sigma=\\sigma_h)\\\\\n",
    "    \\text{where }\\mu_{h} \\sim N_h(\\mu=0, \\sigma=10) \\quad and \\quad \\sigma_h \\sim HN_h(\\sigma=10) \\tag{5}\n",
    "\\end{equation*}\n",
    "\n",
    "\\begin{equation*}\n",
    "\\textbf{Socio-economic parameters}\\\\\n",
    "    \\beta_{s,i} \\sim N_{s,i}(\\mu=0, \\sigma=\\sigma_s)\\\\\n",
    "    \\text{where }\\sigma_s \\sim HN_s(\\sigma=10) \\tag{6}\n",
    "\\end{equation*}\n",
    "\n",
    "\\begin{equation*}\n",
    "\\textbf{Topography (elevation) parameters}\\\\\n",
    "    \\beta_{t,i} \\sim Exp_{t,i}(\\lambda=\\lambda_t)\\\\\n",
    "    \\text{where }\\lambda_t \\sim HN_t(\\sigma=10) \\tag{7}\n",
    "\\end{equation*}"
   ]
  },
  {
   "cell_type": "code",
   "execution_count": 4,
   "id": "8aaa0965",
   "metadata": {},
   "outputs": [],
   "source": [
    "rs = 100\n",
    "tune = 350"
   ]
  },
  {
   "cell_type": "markdown",
   "id": "dbeab607",
   "metadata": {},
   "source": [
    "1. Water model: precipitation and distance to water bodies"
   ]
  },
  {
   "cell_type": "code",
   "execution_count": 5,
   "id": "9882acff",
   "metadata": {},
   "outputs": [
    {
     "name": "stderr",
     "output_type": "stream",
     "text": [
      "Only 100 samples in chain.\n",
      "Auto-assigning NUTS sampler...\n",
      "Initializing NUTS using jitter+adapt_diag...\n",
      "Multiprocess sampling (3 chains in 3 jobs)\n",
      "NUTS: [c, ppt, sigma_c, mu_c, ppt_sig, ppt_mu]\n"
     ]
    },
    {
     "data": {
      "text/html": [
       "\n",
       "    <div>\n",
       "        <style>\n",
       "            /* Turns off some styling */\n",
       "            progress {\n",
       "                /* gets rid of default border in Firefox and Opera. */\n",
       "                border: none;\n",
       "                /* Needs to be in here for Safari polyfill so background images work as expected. */\n",
       "                background-size: auto;\n",
       "            }\n",
       "            .progress-bar-interrupted, .progress-bar-interrupted::-webkit-progress-bar {\n",
       "                background: #F44336;\n",
       "            }\n",
       "        </style>\n",
       "      <progress value='1350' class='' max='1350' style='width:300px; height:20px; vertical-align: middle;'></progress>\n",
       "      100.00% [1350/1350 24:56<00:00 Sampling 3 chains, 0 divergences]\n",
       "    </div>\n",
       "    "
      ],
      "text/plain": [
       "<IPython.core.display.HTML object>"
      ]
     },
     "metadata": {},
     "output_type": "display_data"
    },
    {
     "name": "stderr",
     "output_type": "stream",
     "text": [
      "/Users/juannat/opt/anaconda3/envs/septic/lib/python3.9/site-packages/scipy/stats/_continuous_distns.py:624: RuntimeWarning: overflow encountered in _beta_ppf\n",
      "  return _boost._beta_ppf(q, a, b)\n",
      "/Users/juannat/opt/anaconda3/envs/septic/lib/python3.9/site-packages/scipy/stats/_continuous_distns.py:624: RuntimeWarning: overflow encountered in _beta_ppf\n",
      "  return _boost._beta_ppf(q, a, b)\n",
      "/Users/juannat/opt/anaconda3/envs/septic/lib/python3.9/site-packages/scipy/stats/_continuous_distns.py:624: RuntimeWarning: overflow encountered in _beta_ppf\n",
      "  return _boost._beta_ppf(q, a, b)\n",
      "Sampling 3 chains for 350 tune and 100 draw iterations (1_050 + 300 draws total) took 1519 seconds.\n",
      "The rhat statistic is larger than 1.05 for some parameters. This indicates slight problems during sampling.\n",
      "The number of effective samples is smaller than 10% for some parameters.\n"
     ]
    }
   ],
   "source": [
    "# Modeling (water)\n",
    "with pm.Model(coords=coords) as model:\n",
    "    # constant data: basin information and variables\n",
    "    basin = pm.Data('basin', basin_idx, dims='septic')\n",
    "    # water_d = pm.Data('water_d', df.water_dist_norm.values, dims='septic')\n",
    "    ppt_d = pm.Data('ppt_d', df.ppt_2021_norm.values, dims='septic')\n",
    "\n",
    "    # global model parameters\n",
    "    # wtr_beta = pm.HalfNormal('wtr_beta', sigma=10)\n",
    "    ppt_mu = pm.Normal('ppt_mu', mu=0, sigma=10)\n",
    "    ppt_sig = pm.HalfNormal('ppt_sig', sigma=10)\n",
    "    mu_c = pm.Normal('mu_c', mu=0, sigma=10)\n",
    "    sigma_c = pm.HalfNormal('sigma_c', sigma=10)\n",
    "\n",
    "    # septic-specific model parameters\n",
    "    # wtr_dist = pm.Exponential('wtr_dist', lam=wtr_beta, dims='basin')\n",
    "    ppt = pm.Normal('ppt', mu=ppt_mu, sigma=ppt_sig, dims='basin')\n",
    "    c = pm.Normal('c', mu=mu_c, sigma=sigma_c, dims='basin')\n",
    "    \n",
    "    # hierarchical bayesian formula\n",
    "    failure_theta = pm.math.sigmoid(c[basin] \n",
    "                                    # + wtr_dist[basin] * water_d \n",
    "                                    + ppt[basin] * ppt_d\n",
    "                                   )\n",
    "\n",
    "    # likelihood of observed data\n",
    "    failures = pm.Bernoulli('failures', failure_theta, observed=df['sewageSystem_enc'])\n",
    "    \n",
    "    # fitting using NUTS sampler\n",
    "    trace = pm.sample(100, tune=tune, cores=3, return_inferencedata=True, target_accept=0.99, random_seed=rs)"
   ]
  },
  {
   "cell_type": "code",
   "execution_count": 6,
   "id": "bf2f819f",
   "metadata": {},
   "outputs": [
    {
     "data": {
      "text/html": [
       "\n",
       "    <div>\n",
       "        <style>\n",
       "            /* Turns off some styling */\n",
       "            progress {\n",
       "                /* gets rid of default border in Firefox and Opera. */\n",
       "                border: none;\n",
       "                /* Needs to be in here for Safari polyfill so background images work as expected. */\n",
       "                background-size: auto;\n",
       "            }\n",
       "            .progress-bar-interrupted, .progress-bar-interrupted::-webkit-progress-bar {\n",
       "                background: #F44336;\n",
       "            }\n",
       "        </style>\n",
       "      <progress value='500' class='' max='500' style='width:300px; height:20px; vertical-align: middle;'></progress>\n",
       "      100.00% [500/500 00:03<00:00]\n",
       "    </div>\n",
       "    "
      ],
      "text/plain": [
       "<IPython.core.display.HTML object>"
      ]
     },
     "metadata": {},
     "output_type": "display_data"
    },
    {
     "data": {
      "text/html": [
       "\n",
       "    <div>\n",
       "        <style>\n",
       "            /* Turns off some styling */\n",
       "            progress {\n",
       "                /* gets rid of default border in Firefox and Opera. */\n",
       "                border: none;\n",
       "                /* Needs to be in here for Safari polyfill so background images work as expected. */\n",
       "                background-size: auto;\n",
       "            }\n",
       "            .progress-bar-interrupted, .progress-bar-interrupted::-webkit-progress-bar {\n",
       "                background: #F44336;\n",
       "            }\n",
       "        </style>\n",
       "      <progress value='500' class='' max='500' style='width:300px; height:20px; vertical-align: middle;'></progress>\n",
       "      100.00% [500/500 00:03<00:00]\n",
       "    </div>\n",
       "    "
      ],
      "text/plain": [
       "<IPython.core.display.HTML object>"
      ]
     },
     "metadata": {},
     "output_type": "display_data"
    },
    {
     "data": {
      "text/html": [
       "\n",
       "    <div>\n",
       "        <style>\n",
       "            /* Turns off some styling */\n",
       "            progress {\n",
       "                /* gets rid of default border in Firefox and Opera. */\n",
       "                border: none;\n",
       "                /* Needs to be in here for Safari polyfill so background images work as expected. */\n",
       "                background-size: auto;\n",
       "            }\n",
       "            .progress-bar-interrupted, .progress-bar-interrupted::-webkit-progress-bar {\n",
       "                background: #F44336;\n",
       "            }\n",
       "        </style>\n",
       "      <progress value='500' class='' max='500' style='width:300px; height:20px; vertical-align: middle;'></progress>\n",
       "      100.00% [500/500 00:03<00:00]\n",
       "    </div>\n",
       "    "
      ],
      "text/plain": [
       "<IPython.core.display.HTML object>"
      ]
     },
     "metadata": {},
     "output_type": "display_data"
    },
    {
     "data": {
      "text/html": [
       "\n",
       "    <div>\n",
       "        <style>\n",
       "            /* Turns off some styling */\n",
       "            progress {\n",
       "                /* gets rid of default border in Firefox and Opera. */\n",
       "                border: none;\n",
       "                /* Needs to be in here for Safari polyfill so background images work as expected. */\n",
       "                background-size: auto;\n",
       "            }\n",
       "            .progress-bar-interrupted, .progress-bar-interrupted::-webkit-progress-bar {\n",
       "                background: #F44336;\n",
       "            }\n",
       "        </style>\n",
       "      <progress value='500' class='' max='500' style='width:300px; height:20px; vertical-align: middle;'></progress>\n",
       "      100.00% [500/500 00:03<00:00]\n",
       "    </div>\n",
       "    "
      ],
      "text/plain": [
       "<IPython.core.display.HTML object>"
      ]
     },
     "metadata": {},
     "output_type": "display_data"
    },
    {
     "data": {
      "text/html": [
       "\n",
       "    <div>\n",
       "        <style>\n",
       "            /* Turns off some styling */\n",
       "            progress {\n",
       "                /* gets rid of default border in Firefox and Opera. */\n",
       "                border: none;\n",
       "                /* Needs to be in here for Safari polyfill so background images work as expected. */\n",
       "                background-size: auto;\n",
       "            }\n",
       "            .progress-bar-interrupted, .progress-bar-interrupted::-webkit-progress-bar {\n",
       "                background: #F44336;\n",
       "            }\n",
       "        </style>\n",
       "      <progress value='500' class='' max='500' style='width:300px; height:20px; vertical-align: middle;'></progress>\n",
       "      100.00% [500/500 00:03<00:00]\n",
       "    </div>\n",
       "    "
      ],
      "text/plain": [
       "<IPython.core.display.HTML object>"
      ]
     },
     "metadata": {},
     "output_type": "display_data"
    },
    {
     "name": "stdout",
     "output_type": "stream",
     "text": [
      "accuracy is: 89.44755725127662 ± 0.012932225403009128%\n"
     ]
    }
   ],
   "source": [
    "# evaluate model\n",
    "y = df.sewageSystem_enc.to_list()\n",
    "accs = []\n",
    "for i in range(5):\n",
    "    acc, y_pred = evaluate_bayes(trace, model, y)\n",
    "    accs.append(acc)\n",
    "\n",
    "print(f'accuracy is: {np.array(accs).mean()} ± {np.array(accs).std()}%')"
   ]
  },
  {
   "cell_type": "markdown",
   "id": "95dc2fb1",
   "metadata": {},
   "source": [
    "2. Soil model"
   ]
  },
  {
   "cell_type": "code",
   "execution_count": 7,
   "id": "e83e0dec",
   "metadata": {},
   "outputs": [
    {
     "name": "stderr",
     "output_type": "stream",
     "text": [
      "Only 100 samples in chain.\n",
      "Auto-assigning NUTS sampler...\n",
      "Initializing NUTS using jitter+adapt_diag...\n",
      "Multiprocess sampling (3 chains in 3 jobs)\n",
      "NUTS: [c, hydr, sigma_c, mu_c, hydr_sig, hydr_mu]\n"
     ]
    },
    {
     "data": {
      "text/html": [
       "\n",
       "    <div>\n",
       "        <style>\n",
       "            /* Turns off some styling */\n",
       "            progress {\n",
       "                /* gets rid of default border in Firefox and Opera. */\n",
       "                border: none;\n",
       "                /* Needs to be in here for Safari polyfill so background images work as expected. */\n",
       "                background-size: auto;\n",
       "            }\n",
       "            .progress-bar-interrupted, .progress-bar-interrupted::-webkit-progress-bar {\n",
       "                background: #F44336;\n",
       "            }\n",
       "        </style>\n",
       "      <progress value='1350' class='' max='1350' style='width:300px; height:20px; vertical-align: middle;'></progress>\n",
       "      100.00% [1350/1350 18:10<00:00 Sampling 3 chains, 0 divergences]\n",
       "    </div>\n",
       "    "
      ],
      "text/plain": [
       "<IPython.core.display.HTML object>"
      ]
     },
     "metadata": {},
     "output_type": "display_data"
    },
    {
     "name": "stderr",
     "output_type": "stream",
     "text": [
      "/Users/juannat/opt/anaconda3/envs/septic/lib/python3.9/site-packages/scipy/stats/_continuous_distns.py:624: RuntimeWarning: overflow encountered in _beta_ppf\n",
      "  return _boost._beta_ppf(q, a, b)\n",
      "/Users/juannat/opt/anaconda3/envs/septic/lib/python3.9/site-packages/scipy/stats/_continuous_distns.py:624: RuntimeWarning: overflow encountered in _beta_ppf\n",
      "  return _boost._beta_ppf(q, a, b)\n",
      "/Users/juannat/opt/anaconda3/envs/septic/lib/python3.9/site-packages/scipy/stats/_continuous_distns.py:624: RuntimeWarning: overflow encountered in _beta_ppf\n",
      "  return _boost._beta_ppf(q, a, b)\n",
      "Sampling 3 chains for 350 tune and 100 draw iterations (1_050 + 300 draws total) took 1103 seconds.\n",
      "The rhat statistic is larger than 1.05 for some parameters. This indicates slight problems during sampling.\n",
      "The number of effective samples is smaller than 25% for some parameters.\n"
     ]
    }
   ],
   "source": [
    "# Modeling (soil)\n",
    "with pm.Model(coords=coords) as model:\n",
    "    # constant data: basin information and variables\n",
    "    basin = pm.Data('basin', basin_idx, dims='septic')\n",
    "    hydr_d = pm.Data('hydr_d', df.hydraulic_c_norm.values, dims='septic')\n",
    "\n",
    "    # global model parameters\n",
    "    hydr_mu = pm.Normal('hydr_mu', mu=0, sigma=10)\n",
    "    hydr_sig = pm.HalfNormal('hydr_sig', sigma=10)\n",
    "    mu_c = pm.Normal('mu_c', mu=0, sigma=10)\n",
    "    sigma_c = pm.HalfNormal('sigma_c', sigma=10)\n",
    "\n",
    "    # septic-specific model parameters\n",
    "    hydr = pm.Normal('hydr', mu=hydr_mu, sigma=hydr_sig, dims='basin')\n",
    "    c = pm.Normal('c', mu=mu_c, sigma=sigma_c, dims='basin')\n",
    "    \n",
    "    # hierarchical bayesian formula\n",
    "    failure_theta = pm.math.sigmoid(c[basin] \n",
    "                                    + hydr[basin] * hydr_d\n",
    "                                   )\n",
    "\n",
    "    # likelihood of observed data\n",
    "    failures = pm.Bernoulli('failures', failure_theta, observed=df['sewageSystem_enc'])\n",
    "    \n",
    "    # fitting using NUTS sampler\n",
    "    trace = pm.sample(100, tune=tune, cores=3, return_inferencedata=True, target_accept=0.99, random_seed=rs)"
   ]
  },
  {
   "cell_type": "code",
   "execution_count": 8,
   "id": "78acf61c",
   "metadata": {},
   "outputs": [
    {
     "data": {
      "text/html": [
       "\n",
       "    <div>\n",
       "        <style>\n",
       "            /* Turns off some styling */\n",
       "            progress {\n",
       "                /* gets rid of default border in Firefox and Opera. */\n",
       "                border: none;\n",
       "                /* Needs to be in here for Safari polyfill so background images work as expected. */\n",
       "                background-size: auto;\n",
       "            }\n",
       "            .progress-bar-interrupted, .progress-bar-interrupted::-webkit-progress-bar {\n",
       "                background: #F44336;\n",
       "            }\n",
       "        </style>\n",
       "      <progress value='500' class='' max='500' style='width:300px; height:20px; vertical-align: middle;'></progress>\n",
       "      100.00% [500/500 00:02<00:00]\n",
       "    </div>\n",
       "    "
      ],
      "text/plain": [
       "<IPython.core.display.HTML object>"
      ]
     },
     "metadata": {},
     "output_type": "display_data"
    },
    {
     "data": {
      "text/html": [
       "\n",
       "    <div>\n",
       "        <style>\n",
       "            /* Turns off some styling */\n",
       "            progress {\n",
       "                /* gets rid of default border in Firefox and Opera. */\n",
       "                border: none;\n",
       "                /* Needs to be in here for Safari polyfill so background images work as expected. */\n",
       "                background-size: auto;\n",
       "            }\n",
       "            .progress-bar-interrupted, .progress-bar-interrupted::-webkit-progress-bar {\n",
       "                background: #F44336;\n",
       "            }\n",
       "        </style>\n",
       "      <progress value='500' class='' max='500' style='width:300px; height:20px; vertical-align: middle;'></progress>\n",
       "      100.00% [500/500 00:02<00:00]\n",
       "    </div>\n",
       "    "
      ],
      "text/plain": [
       "<IPython.core.display.HTML object>"
      ]
     },
     "metadata": {},
     "output_type": "display_data"
    },
    {
     "data": {
      "text/html": [
       "\n",
       "    <div>\n",
       "        <style>\n",
       "            /* Turns off some styling */\n",
       "            progress {\n",
       "                /* gets rid of default border in Firefox and Opera. */\n",
       "                border: none;\n",
       "                /* Needs to be in here for Safari polyfill so background images work as expected. */\n",
       "                background-size: auto;\n",
       "            }\n",
       "            .progress-bar-interrupted, .progress-bar-interrupted::-webkit-progress-bar {\n",
       "                background: #F44336;\n",
       "            }\n",
       "        </style>\n",
       "      <progress value='500' class='' max='500' style='width:300px; height:20px; vertical-align: middle;'></progress>\n",
       "      100.00% [500/500 00:02<00:00]\n",
       "    </div>\n",
       "    "
      ],
      "text/plain": [
       "<IPython.core.display.HTML object>"
      ]
     },
     "metadata": {},
     "output_type": "display_data"
    },
    {
     "data": {
      "text/html": [
       "\n",
       "    <div>\n",
       "        <style>\n",
       "            /* Turns off some styling */\n",
       "            progress {\n",
       "                /* gets rid of default border in Firefox and Opera. */\n",
       "                border: none;\n",
       "                /* Needs to be in here for Safari polyfill so background images work as expected. */\n",
       "                background-size: auto;\n",
       "            }\n",
       "            .progress-bar-interrupted, .progress-bar-interrupted::-webkit-progress-bar {\n",
       "                background: #F44336;\n",
       "            }\n",
       "        </style>\n",
       "      <progress value='500' class='' max='500' style='width:300px; height:20px; vertical-align: middle;'></progress>\n",
       "      100.00% [500/500 00:02<00:00]\n",
       "    </div>\n",
       "    "
      ],
      "text/plain": [
       "<IPython.core.display.HTML object>"
      ]
     },
     "metadata": {},
     "output_type": "display_data"
    },
    {
     "data": {
      "text/html": [
       "\n",
       "    <div>\n",
       "        <style>\n",
       "            /* Turns off some styling */\n",
       "            progress {\n",
       "                /* gets rid of default border in Firefox and Opera. */\n",
       "                border: none;\n",
       "                /* Needs to be in here for Safari polyfill so background images work as expected. */\n",
       "                background-size: auto;\n",
       "            }\n",
       "            .progress-bar-interrupted, .progress-bar-interrupted::-webkit-progress-bar {\n",
       "                background: #F44336;\n",
       "            }\n",
       "        </style>\n",
       "      <progress value='500' class='' max='500' style='width:300px; height:20px; vertical-align: middle;'></progress>\n",
       "      100.00% [500/500 00:02<00:00]\n",
       "    </div>\n",
       "    "
      ],
      "text/plain": [
       "<IPython.core.display.HTML object>"
      ]
     },
     "metadata": {},
     "output_type": "display_data"
    },
    {
     "name": "stdout",
     "output_type": "stream",
     "text": [
      "accuracy is: 89.39640974285548 ± 0.0056376095958434215%\n"
     ]
    }
   ],
   "source": [
    "# evaluate model\n",
    "y = df.sewageSystem_enc.to_list()\n",
    "accs = []\n",
    "for i in range(5):\n",
    "    acc, y_pred = evaluate_bayes(trace, model, y)\n",
    "    accs.append(acc)\n",
    "\n",
    "print(f'accuracy is: {np.array(accs).mean()} ± {np.array(accs).std()}%')"
   ]
  },
  {
   "cell_type": "markdown",
   "id": "69cee58c",
   "metadata": {},
   "source": [
    "3. Topo model: elevation"
   ]
  },
  {
   "cell_type": "code",
   "execution_count": 9,
   "id": "7f8e9fab",
   "metadata": {},
   "outputs": [
    {
     "name": "stderr",
     "output_type": "stream",
     "text": [
      "Only 100 samples in chain.\n",
      "Auto-assigning NUTS sampler...\n",
      "Initializing NUTS using jitter+adapt_diag...\n",
      "Multiprocess sampling (3 chains in 3 jobs)\n",
      "NUTS: [c, dem, sigma_c, mu_c, dem_beta]\n"
     ]
    },
    {
     "data": {
      "text/html": [
       "\n",
       "    <div>\n",
       "        <style>\n",
       "            /* Turns off some styling */\n",
       "            progress {\n",
       "                /* gets rid of default border in Firefox and Opera. */\n",
       "                border: none;\n",
       "                /* Needs to be in here for Safari polyfill so background images work as expected. */\n",
       "                background-size: auto;\n",
       "            }\n",
       "            .progress-bar-interrupted, .progress-bar-interrupted::-webkit-progress-bar {\n",
       "                background: #F44336;\n",
       "            }\n",
       "        </style>\n",
       "      <progress value='1350' class='' max='1350' style='width:300px; height:20px; vertical-align: middle;'></progress>\n",
       "      100.00% [1350/1350 58:43<00:00 Sampling 3 chains, 0 divergences]\n",
       "    </div>\n",
       "    "
      ],
      "text/plain": [
       "<IPython.core.display.HTML object>"
      ]
     },
     "metadata": {},
     "output_type": "display_data"
    },
    {
     "name": "stderr",
     "output_type": "stream",
     "text": [
      "/Users/juannat/opt/anaconda3/envs/septic/lib/python3.9/site-packages/scipy/stats/_continuous_distns.py:624: RuntimeWarning: overflow encountered in _beta_ppf\n",
      "  return _boost._beta_ppf(q, a, b)\n",
      "/Users/juannat/opt/anaconda3/envs/septic/lib/python3.9/site-packages/scipy/stats/_continuous_distns.py:624: RuntimeWarning: overflow encountered in _beta_ppf\n",
      "  return _boost._beta_ppf(q, a, b)\n",
      "/Users/juannat/opt/anaconda3/envs/septic/lib/python3.9/site-packages/scipy/stats/_continuous_distns.py:624: RuntimeWarning: overflow encountered in _beta_ppf\n",
      "  return _boost._beta_ppf(q, a, b)\n",
      "Sampling 3 chains for 350 tune and 100 draw iterations (1_050 + 300 draws total) took 3533 seconds.\n",
      "The rhat statistic is larger than 1.05 for some parameters. This indicates slight problems during sampling.\n",
      "The number of effective samples is smaller than 25% for some parameters.\n"
     ]
    }
   ],
   "source": [
    "# Modeling (topo)\n",
    "with pm.Model(coords=coords) as model:\n",
    "    # constant data: basin information and variables\n",
    "    basin = pm.Data('basin', basin_idx, dims='septic')\n",
    "    dem_d = pm.Data('dem_d', df.dem_norm.values, dims='septic')\n",
    "\n",
    "    # global model parameters\n",
    "    dem_beta = pm.HalfNormal('dem_beta', sigma=10)\n",
    "    mu_c = pm.Normal('mu_c', mu=0, sigma=10)\n",
    "    sigma_c = pm.HalfNormal('sigma_c', sigma=10)\n",
    "\n",
    "    # septic-specific model parameters\n",
    "    dem = pm.Exponential('dem', lam=dem_beta, dims='basin')\n",
    "    c = pm.Normal('c', mu=mu_c, sigma=sigma_c, dims='basin')\n",
    "    \n",
    "    # hierarchical bayesian formula\n",
    "    failure_theta = pm.math.sigmoid(c[basin] \n",
    "                                    + dem[basin] * dem_d\n",
    "                                   )\n",
    "\n",
    "    # likelihood of observed data\n",
    "    failures = pm.Bernoulli('failures', failure_theta, observed=df['sewageSystem_enc'])\n",
    "    \n",
    "    # fitting using NUTS sampler\n",
    "    trace = pm.sample(100, tune=tune, cores=3, return_inferencedata=True, target_accept=0.99, random_seed=rs)"
   ]
  },
  {
   "cell_type": "code",
   "execution_count": 10,
   "id": "06b61d25",
   "metadata": {},
   "outputs": [
    {
     "data": {
      "text/html": [
       "\n",
       "    <div>\n",
       "        <style>\n",
       "            /* Turns off some styling */\n",
       "            progress {\n",
       "                /* gets rid of default border in Firefox and Opera. */\n",
       "                border: none;\n",
       "                /* Needs to be in here for Safari polyfill so background images work as expected. */\n",
       "                background-size: auto;\n",
       "            }\n",
       "            .progress-bar-interrupted, .progress-bar-interrupted::-webkit-progress-bar {\n",
       "                background: #F44336;\n",
       "            }\n",
       "        </style>\n",
       "      <progress value='500' class='' max='500' style='width:300px; height:20px; vertical-align: middle;'></progress>\n",
       "      100.00% [500/500 00:03<00:00]\n",
       "    </div>\n",
       "    "
      ],
      "text/plain": [
       "<IPython.core.display.HTML object>"
      ]
     },
     "metadata": {},
     "output_type": "display_data"
    },
    {
     "data": {
      "text/html": [
       "\n",
       "    <div>\n",
       "        <style>\n",
       "            /* Turns off some styling */\n",
       "            progress {\n",
       "                /* gets rid of default border in Firefox and Opera. */\n",
       "                border: none;\n",
       "                /* Needs to be in here for Safari polyfill so background images work as expected. */\n",
       "                background-size: auto;\n",
       "            }\n",
       "            .progress-bar-interrupted, .progress-bar-interrupted::-webkit-progress-bar {\n",
       "                background: #F44336;\n",
       "            }\n",
       "        </style>\n",
       "      <progress value='500' class='' max='500' style='width:300px; height:20px; vertical-align: middle;'></progress>\n",
       "      100.00% [500/500 00:03<00:00]\n",
       "    </div>\n",
       "    "
      ],
      "text/plain": [
       "<IPython.core.display.HTML object>"
      ]
     },
     "metadata": {},
     "output_type": "display_data"
    },
    {
     "data": {
      "text/html": [
       "\n",
       "    <div>\n",
       "        <style>\n",
       "            /* Turns off some styling */\n",
       "            progress {\n",
       "                /* gets rid of default border in Firefox and Opera. */\n",
       "                border: none;\n",
       "                /* Needs to be in here for Safari polyfill so background images work as expected. */\n",
       "                background-size: auto;\n",
       "            }\n",
       "            .progress-bar-interrupted, .progress-bar-interrupted::-webkit-progress-bar {\n",
       "                background: #F44336;\n",
       "            }\n",
       "        </style>\n",
       "      <progress value='500' class='' max='500' style='width:300px; height:20px; vertical-align: middle;'></progress>\n",
       "      100.00% [500/500 00:03<00:00]\n",
       "    </div>\n",
       "    "
      ],
      "text/plain": [
       "<IPython.core.display.HTML object>"
      ]
     },
     "metadata": {},
     "output_type": "display_data"
    },
    {
     "data": {
      "text/html": [
       "\n",
       "    <div>\n",
       "        <style>\n",
       "            /* Turns off some styling */\n",
       "            progress {\n",
       "                /* gets rid of default border in Firefox and Opera. */\n",
       "                border: none;\n",
       "                /* Needs to be in here for Safari polyfill so background images work as expected. */\n",
       "                background-size: auto;\n",
       "            }\n",
       "            .progress-bar-interrupted, .progress-bar-interrupted::-webkit-progress-bar {\n",
       "                background: #F44336;\n",
       "            }\n",
       "        </style>\n",
       "      <progress value='500' class='' max='500' style='width:300px; height:20px; vertical-align: middle;'></progress>\n",
       "      100.00% [500/500 00:03<00:00]\n",
       "    </div>\n",
       "    "
      ],
      "text/plain": [
       "<IPython.core.display.HTML object>"
      ]
     },
     "metadata": {},
     "output_type": "display_data"
    },
    {
     "data": {
      "text/html": [
       "\n",
       "    <div>\n",
       "        <style>\n",
       "            /* Turns off some styling */\n",
       "            progress {\n",
       "                /* gets rid of default border in Firefox and Opera. */\n",
       "                border: none;\n",
       "                /* Needs to be in here for Safari polyfill so background images work as expected. */\n",
       "                background-size: auto;\n",
       "            }\n",
       "            .progress-bar-interrupted, .progress-bar-interrupted::-webkit-progress-bar {\n",
       "                background: #F44336;\n",
       "            }\n",
       "        </style>\n",
       "      <progress value='500' class='' max='500' style='width:300px; height:20px; vertical-align: middle;'></progress>\n",
       "      100.00% [500/500 00:03<00:00]\n",
       "    </div>\n",
       "    "
      ],
      "text/plain": [
       "<IPython.core.display.HTML object>"
      ]
     },
     "metadata": {},
     "output_type": "display_data"
    },
    {
     "name": "stdout",
     "output_type": "stream",
     "text": [
      "accuracy is: 89.61109685749047 ± 0.006592006009168298%\n"
     ]
    }
   ],
   "source": [
    "# evaluate model\n",
    "y = df.sewageSystem_enc.to_list()\n",
    "accs = []\n",
    "for i in range(5):\n",
    "    acc, y_pred = evaluate_bayes(trace, model, y)\n",
    "    accs.append(acc)\n",
    "\n",
    "print(f'accuracy is: {np.array(accs).mean()} ± {np.array(accs).std()}%')"
   ]
  },
  {
   "cell_type": "markdown",
   "id": "622f3df3",
   "metadata": {},
   "source": [
    "4. Socio-economic model: median housing value"
   ]
  },
  {
   "cell_type": "code",
   "execution_count": 11,
   "id": "e95df6c0",
   "metadata": {},
   "outputs": [
    {
     "name": "stderr",
     "output_type": "stream",
     "text": [
      "Only 100 samples in chain.\n",
      "Auto-assigning NUTS sampler...\n",
      "Initializing NUTS using jitter+adapt_diag...\n",
      "Multiprocess sampling (3 chains in 3 jobs)\n",
      "NUTS: [c, hse, sigma_c, mu_c, hse_sig]\n"
     ]
    },
    {
     "data": {
      "text/html": [
       "\n",
       "    <div>\n",
       "        <style>\n",
       "            /* Turns off some styling */\n",
       "            progress {\n",
       "                /* gets rid of default border in Firefox and Opera. */\n",
       "                border: none;\n",
       "                /* Needs to be in here for Safari polyfill so background images work as expected. */\n",
       "                background-size: auto;\n",
       "            }\n",
       "            .progress-bar-interrupted, .progress-bar-interrupted::-webkit-progress-bar {\n",
       "                background: #F44336;\n",
       "            }\n",
       "        </style>\n",
       "      <progress value='1350' class='' max='1350' style='width:300px; height:20px; vertical-align: middle;'></progress>\n",
       "      100.00% [1350/1350 34:04<00:00 Sampling 3 chains, 0 divergences]\n",
       "    </div>\n",
       "    "
      ],
      "text/plain": [
       "<IPython.core.display.HTML object>"
      ]
     },
     "metadata": {},
     "output_type": "display_data"
    },
    {
     "name": "stderr",
     "output_type": "stream",
     "text": [
      "/Users/juannat/opt/anaconda3/envs/septic/lib/python3.9/site-packages/scipy/stats/_continuous_distns.py:624: RuntimeWarning: overflow encountered in _beta_ppf\n",
      "  return _boost._beta_ppf(q, a, b)\n",
      "/Users/juannat/opt/anaconda3/envs/septic/lib/python3.9/site-packages/scipy/stats/_continuous_distns.py:624: RuntimeWarning: overflow encountered in _beta_ppf\n",
      "  return _boost._beta_ppf(q, a, b)\n",
      "/Users/juannat/opt/anaconda3/envs/septic/lib/python3.9/site-packages/scipy/stats/_continuous_distns.py:624: RuntimeWarning: overflow encountered in _beta_ppf\n",
      "  return _boost._beta_ppf(q, a, b)\n",
      "Sampling 3 chains for 350 tune and 100 draw iterations (1_050 + 300 draws total) took 2055 seconds.\n",
      "The rhat statistic is larger than 1.05 for some parameters. This indicates slight problems during sampling.\n",
      "The number of effective samples is smaller than 10% for some parameters.\n"
     ]
    }
   ],
   "source": [
    "# Modeling (socio)\n",
    "with pm.Model(coords=coords) as model:\n",
    "    # constant data: basin information and variables\n",
    "    basin = pm.Data('basin', basin_idx, dims='septic')\n",
    "    hse_d = pm.Data('hse_d', df.median_hse_norm.values, dims='septic')\n",
    "\n",
    "    # global model parameters\n",
    "    hse_sig = pm.HalfNormal('hse_sig', sigma=10)\n",
    "    mu_c = pm.Normal('mu_c', mu=0, sigma=10)\n",
    "    sigma_c = pm.HalfNormal('sigma_c', sigma=10)\n",
    "\n",
    "    # septic-specific model parameters\n",
    "    hse = pm.Normal('hse', mu=0, sigma=hse_sig, dims='basin')\n",
    "    c = pm.Normal('c', mu=mu_c, sigma=sigma_c, dims='basin')\n",
    "    \n",
    "    # hierarchical bayesian formula\n",
    "    failure_theta = pm.math.sigmoid(c[basin] \n",
    "                                    + hse[basin] * hse_d\n",
    "                                   )\n",
    "\n",
    "    # likelihood of observed data\n",
    "    failures = pm.Bernoulli('failures', failure_theta, observed=df['sewageSystem_enc'])\n",
    "    \n",
    "    # fitting using NUTS sampler\n",
    "    trace = pm.sample(100, tune=tune, cores=3, return_inferencedata=True, target_accept=0.99, random_seed=rs)"
   ]
  },
  {
   "cell_type": "code",
   "execution_count": 12,
   "id": "f41e159b",
   "metadata": {},
   "outputs": [
    {
     "data": {
      "text/html": [
       "\n",
       "    <div>\n",
       "        <style>\n",
       "            /* Turns off some styling */\n",
       "            progress {\n",
       "                /* gets rid of default border in Firefox and Opera. */\n",
       "                border: none;\n",
       "                /* Needs to be in here for Safari polyfill so background images work as expected. */\n",
       "                background-size: auto;\n",
       "            }\n",
       "            .progress-bar-interrupted, .progress-bar-interrupted::-webkit-progress-bar {\n",
       "                background: #F44336;\n",
       "            }\n",
       "        </style>\n",
       "      <progress value='500' class='' max='500' style='width:300px; height:20px; vertical-align: middle;'></progress>\n",
       "      100.00% [500/500 00:02<00:00]\n",
       "    </div>\n",
       "    "
      ],
      "text/plain": [
       "<IPython.core.display.HTML object>"
      ]
     },
     "metadata": {},
     "output_type": "display_data"
    },
    {
     "data": {
      "text/html": [
       "\n",
       "    <div>\n",
       "        <style>\n",
       "            /* Turns off some styling */\n",
       "            progress {\n",
       "                /* gets rid of default border in Firefox and Opera. */\n",
       "                border: none;\n",
       "                /* Needs to be in here for Safari polyfill so background images work as expected. */\n",
       "                background-size: auto;\n",
       "            }\n",
       "            .progress-bar-interrupted, .progress-bar-interrupted::-webkit-progress-bar {\n",
       "                background: #F44336;\n",
       "            }\n",
       "        </style>\n",
       "      <progress value='500' class='' max='500' style='width:300px; height:20px; vertical-align: middle;'></progress>\n",
       "      100.00% [500/500 00:02<00:00]\n",
       "    </div>\n",
       "    "
      ],
      "text/plain": [
       "<IPython.core.display.HTML object>"
      ]
     },
     "metadata": {},
     "output_type": "display_data"
    },
    {
     "data": {
      "text/html": [
       "\n",
       "    <div>\n",
       "        <style>\n",
       "            /* Turns off some styling */\n",
       "            progress {\n",
       "                /* gets rid of default border in Firefox and Opera. */\n",
       "                border: none;\n",
       "                /* Needs to be in here for Safari polyfill so background images work as expected. */\n",
       "                background-size: auto;\n",
       "            }\n",
       "            .progress-bar-interrupted, .progress-bar-interrupted::-webkit-progress-bar {\n",
       "                background: #F44336;\n",
       "            }\n",
       "        </style>\n",
       "      <progress value='500' class='' max='500' style='width:300px; height:20px; vertical-align: middle;'></progress>\n",
       "      100.00% [500/500 00:02<00:00]\n",
       "    </div>\n",
       "    "
      ],
      "text/plain": [
       "<IPython.core.display.HTML object>"
      ]
     },
     "metadata": {},
     "output_type": "display_data"
    },
    {
     "data": {
      "text/html": [
       "\n",
       "    <div>\n",
       "        <style>\n",
       "            /* Turns off some styling */\n",
       "            progress {\n",
       "                /* gets rid of default border in Firefox and Opera. */\n",
       "                border: none;\n",
       "                /* Needs to be in here for Safari polyfill so background images work as expected. */\n",
       "                background-size: auto;\n",
       "            }\n",
       "            .progress-bar-interrupted, .progress-bar-interrupted::-webkit-progress-bar {\n",
       "                background: #F44336;\n",
       "            }\n",
       "        </style>\n",
       "      <progress value='500' class='' max='500' style='width:300px; height:20px; vertical-align: middle;'></progress>\n",
       "      100.00% [500/500 00:02<00:00]\n",
       "    </div>\n",
       "    "
      ],
      "text/plain": [
       "<IPython.core.display.HTML object>"
      ]
     },
     "metadata": {},
     "output_type": "display_data"
    },
    {
     "data": {
      "text/html": [
       "\n",
       "    <div>\n",
       "        <style>\n",
       "            /* Turns off some styling */\n",
       "            progress {\n",
       "                /* gets rid of default border in Firefox and Opera. */\n",
       "                border: none;\n",
       "                /* Needs to be in here for Safari polyfill so background images work as expected. */\n",
       "                background-size: auto;\n",
       "            }\n",
       "            .progress-bar-interrupted, .progress-bar-interrupted::-webkit-progress-bar {\n",
       "                background: #F44336;\n",
       "            }\n",
       "        </style>\n",
       "      <progress value='500' class='' max='500' style='width:300px; height:20px; vertical-align: middle;'></progress>\n",
       "      100.00% [500/500 00:02<00:00]\n",
       "    </div>\n",
       "    "
      ],
      "text/plain": [
       "<IPython.core.display.HTML object>"
      ]
     },
     "metadata": {},
     "output_type": "display_data"
    },
    {
     "name": "stdout",
     "output_type": "stream",
     "text": [
      "accuracy is: 89.52038865485363 ± 0.01695651244735038%\n"
     ]
    }
   ],
   "source": [
    "# evaluate model\n",
    "y = df.sewageSystem_enc.to_list()\n",
    "accs = []\n",
    "for i in range(5):\n",
    "    acc, y_pred = evaluate_bayes(trace, model, y)\n",
    "    accs.append(acc)\n",
    "\n",
    "print(f'accuracy is: {np.array(accs).mean()} ± {np.array(accs).std()}%')"
   ]
  },
  {
   "cell_type": "markdown",
   "id": "a7807c08",
   "metadata": {},
   "source": [
    "5. Full model"
   ]
  },
  {
   "cell_type": "code",
   "execution_count": 5,
   "id": "9c00b33b",
   "metadata": {},
   "outputs": [
    {
     "name": "stderr",
     "output_type": "stream",
     "text": [
      "Only 100 samples in chain.\n",
      "Auto-assigning NUTS sampler...\n",
      "Initializing NUTS using jitter+adapt_diag...\n",
      "Multiprocess sampling (3 chains in 3 jobs)\n",
      "NUTS: [c, dem, hse, hydr, ppt, sigma_c, mu_c, dem_beta, hse_sig, hydr_sig, hydr_mu, ppt_sig, ppt_mu]\n"
     ]
    },
    {
     "data": {
      "text/html": [
       "\n",
       "    <div>\n",
       "        <style>\n",
       "            /* Turns off some styling */\n",
       "            progress {\n",
       "                /* gets rid of default border in Firefox and Opera. */\n",
       "                border: none;\n",
       "                /* Needs to be in here for Safari polyfill so background images work as expected. */\n",
       "                background-size: auto;\n",
       "            }\n",
       "            .progress-bar-interrupted, .progress-bar-interrupted::-webkit-progress-bar {\n",
       "                background: #F44336;\n",
       "            }\n",
       "        </style>\n",
       "      <progress value='1350' class='' max='1350' style='width:300px; height:20px; vertical-align: middle;'></progress>\n",
       "      100.00% [1350/1350 1:25:48<00:00 Sampling 3 chains, 0 divergences]\n",
       "    </div>\n",
       "    "
      ],
      "text/plain": [
       "<IPython.core.display.HTML object>"
      ]
     },
     "metadata": {},
     "output_type": "display_data"
    },
    {
     "name": "stderr",
     "output_type": "stream",
     "text": [
      "/Users/juannat/opt/anaconda3/envs/septic/lib/python3.9/site-packages/scipy/stats/_continuous_distns.py:624: RuntimeWarning: overflow encountered in _beta_ppf\n",
      "  return _boost._beta_ppf(q, a, b)\n",
      "/Users/juannat/opt/anaconda3/envs/septic/lib/python3.9/site-packages/scipy/stats/_continuous_distns.py:624: RuntimeWarning: overflow encountered in _beta_ppf\n",
      "  return _boost._beta_ppf(q, a, b)\n",
      "/Users/juannat/opt/anaconda3/envs/septic/lib/python3.9/site-packages/scipy/stats/_continuous_distns.py:624: RuntimeWarning: overflow encountered in _beta_ppf\n",
      "  return _boost._beta_ppf(q, a, b)\n",
      "Sampling 3 chains for 350 tune and 100 draw iterations (1_050 + 300 draws total) took 5165 seconds.\n",
      "The rhat statistic is larger than 1.05 for some parameters. This indicates slight problems during sampling.\n",
      "The number of effective samples is smaller than 10% for some parameters.\n"
     ]
    }
   ],
   "source": [
    "# Modeling (full)\n",
    "with pm.Model(coords=coords) as model:\n",
    "    # constant data: basin information and variables\n",
    "    basin = pm.Data('basin', basin_idx, dims='septic')\n",
    "    # water_d = pm.Data('water_d', df.water_dist_norm.values, dims='septic')\n",
    "    ppt_d = pm.Data('ppt_d', df.ppt_2021_norm.values, dims='septic')\n",
    "    hydr_d = pm.Data('hydr_d', df.hydraulic_c_norm.values, dims='septic')\n",
    "    hse_d = pm.Data('hse_d', df.median_hse_norm.values, dims='septic')\n",
    "    dem_d = pm.Data('dem_d', df.dem_norm.values, dims='septic')\n",
    "\n",
    "    # global model parameters\n",
    "    # wtr_beta = pm.HalfNormal('wtr_beta', sigma=10)\n",
    "    ppt_mu = pm.Normal('ppt_mu', mu=0, sigma=10)\n",
    "    ppt_sig = pm.HalfNormal('ppt_sig', sigma=10)\n",
    "    hydr_mu = pm.Normal('hydr_mu', mu=0, sigma=10)\n",
    "    hydr_sig = pm.HalfNormal('hydr_sig', sigma=10)\n",
    "    hse_sig = pm.HalfNormal('hse_sig', sigma=10)\n",
    "    dem_beta = pm.HalfNormal('dem_beta', sigma=10)\n",
    "    mu_c = pm.Normal('mu_c', mu=0, sigma=10)\n",
    "    sigma_c = pm.HalfNormal('sigma_c', sigma=10)\n",
    "\n",
    "    # septic-specific model parameters\n",
    "    # wtr_dist = pm.Exponential('wtr_dist', lam=wtr_beta, dims='basin')\n",
    "    ppt = pm.Normal('ppt', mu=ppt_mu, sigma=ppt_sig, dims='basin')\n",
    "    hydr = pm.Normal('hydr', mu=hydr_mu, sigma=hydr_sig, dims='basin')\n",
    "    hse = pm.Normal('hse', mu=0, sigma=hse_sig, dims='basin')\n",
    "    dem = pm.Exponential('dem', lam=dem_beta, dims='basin')\n",
    "    c = pm.Normal('c', mu=mu_c, sigma=sigma_c, dims='basin')\n",
    "    \n",
    "    # hierarchical bayesian formula\n",
    "    failure_theta = pm.math.sigmoid(c[basin] \n",
    "                                    # + wtr_dist[basin] * water_d \n",
    "                                    + ppt[basin] * ppt_d\n",
    "                                    + hydr[basin] * hydr_d\n",
    "                                    + hse[basin] * hse_d\n",
    "                                    + dem[basin] * dem_d\n",
    "                                   )\n",
    "\n",
    "    # likelihood of observed data\n",
    "    failures = pm.Bernoulli('failures', failure_theta, observed=df['sewageSystem_enc'])\n",
    "    \n",
    "    # fitting using NUTS sampler\n",
    "    trace = pm.sample(100, tune=tune, cores=3, return_inferencedata=True, target_accept=0.99, random_seed=rs)"
   ]
  },
  {
   "cell_type": "code",
   "execution_count": 6,
   "id": "4fe330e1",
   "metadata": {},
   "outputs": [
    {
     "data": {
      "text/html": [
       "\n",
       "    <div>\n",
       "        <style>\n",
       "            /* Turns off some styling */\n",
       "            progress {\n",
       "                /* gets rid of default border in Firefox and Opera. */\n",
       "                border: none;\n",
       "                /* Needs to be in here for Safari polyfill so background images work as expected. */\n",
       "                background-size: auto;\n",
       "            }\n",
       "            .progress-bar-interrupted, .progress-bar-interrupted::-webkit-progress-bar {\n",
       "                background: #F44336;\n",
       "            }\n",
       "        </style>\n",
       "      <progress value='500' class='' max='500' style='width:300px; height:20px; vertical-align: middle;'></progress>\n",
       "      100.00% [500/500 00:05<00:00]\n",
       "    </div>\n",
       "    "
      ],
      "text/plain": [
       "<IPython.core.display.HTML object>"
      ]
     },
     "metadata": {},
     "output_type": "display_data"
    },
    {
     "data": {
      "text/html": [
       "\n",
       "    <div>\n",
       "        <style>\n",
       "            /* Turns off some styling */\n",
       "            progress {\n",
       "                /* gets rid of default border in Firefox and Opera. */\n",
       "                border: none;\n",
       "                /* Needs to be in here for Safari polyfill so background images work as expected. */\n",
       "                background-size: auto;\n",
       "            }\n",
       "            .progress-bar-interrupted, .progress-bar-interrupted::-webkit-progress-bar {\n",
       "                background: #F44336;\n",
       "            }\n",
       "        </style>\n",
       "      <progress value='500' class='' max='500' style='width:300px; height:20px; vertical-align: middle;'></progress>\n",
       "      100.00% [500/500 00:05<00:00]\n",
       "    </div>\n",
       "    "
      ],
      "text/plain": [
       "<IPython.core.display.HTML object>"
      ]
     },
     "metadata": {},
     "output_type": "display_data"
    },
    {
     "data": {
      "text/html": [
       "\n",
       "    <div>\n",
       "        <style>\n",
       "            /* Turns off some styling */\n",
       "            progress {\n",
       "                /* gets rid of default border in Firefox and Opera. */\n",
       "                border: none;\n",
       "                /* Needs to be in here for Safari polyfill so background images work as expected. */\n",
       "                background-size: auto;\n",
       "            }\n",
       "            .progress-bar-interrupted, .progress-bar-interrupted::-webkit-progress-bar {\n",
       "                background: #F44336;\n",
       "            }\n",
       "        </style>\n",
       "      <progress value='500' class='' max='500' style='width:300px; height:20px; vertical-align: middle;'></progress>\n",
       "      100.00% [500/500 00:05<00:00]\n",
       "    </div>\n",
       "    "
      ],
      "text/plain": [
       "<IPython.core.display.HTML object>"
      ]
     },
     "metadata": {},
     "output_type": "display_data"
    },
    {
     "data": {
      "text/html": [
       "\n",
       "    <div>\n",
       "        <style>\n",
       "            /* Turns off some styling */\n",
       "            progress {\n",
       "                /* gets rid of default border in Firefox and Opera. */\n",
       "                border: none;\n",
       "                /* Needs to be in here for Safari polyfill so background images work as expected. */\n",
       "                background-size: auto;\n",
       "            }\n",
       "            .progress-bar-interrupted, .progress-bar-interrupted::-webkit-progress-bar {\n",
       "                background: #F44336;\n",
       "            }\n",
       "        </style>\n",
       "      <progress value='500' class='' max='500' style='width:300px; height:20px; vertical-align: middle;'></progress>\n",
       "      100.00% [500/500 00:05<00:00]\n",
       "    </div>\n",
       "    "
      ],
      "text/plain": [
       "<IPython.core.display.HTML object>"
      ]
     },
     "metadata": {},
     "output_type": "display_data"
    },
    {
     "data": {
      "text/html": [
       "\n",
       "    <div>\n",
       "        <style>\n",
       "            /* Turns off some styling */\n",
       "            progress {\n",
       "                /* gets rid of default border in Firefox and Opera. */\n",
       "                border: none;\n",
       "                /* Needs to be in here for Safari polyfill so background images work as expected. */\n",
       "                background-size: auto;\n",
       "            }\n",
       "            .progress-bar-interrupted, .progress-bar-interrupted::-webkit-progress-bar {\n",
       "                background: #F44336;\n",
       "            }\n",
       "        </style>\n",
       "      <progress value='500' class='' max='500' style='width:300px; height:20px; vertical-align: middle;'></progress>\n",
       "      100.00% [500/500 00:05<00:00]\n",
       "    </div>\n",
       "    "
      ],
      "text/plain": [
       "<IPython.core.display.HTML object>"
      ]
     },
     "metadata": {},
     "output_type": "display_data"
    },
    {
     "name": "stdout",
     "output_type": "stream",
     "text": [
      "accuracy is: 89.77927118938648 ± 0.009488548518441935%\n"
     ]
    }
   ],
   "source": [
    "# evaluate model\n",
    "y = df.sewageSystem_enc.to_list()\n",
    "accs = []\n",
    "for i in range(5):\n",
    "    acc, y_pred = evaluate_bayes(trace, model, y)\n",
    "    accs.append(acc)\n",
    "\n",
    "print(f'accuracy is: {np.array(accs).mean()} ± {np.array(accs).std()}%')"
   ]
  },
  {
   "cell_type": "code",
   "execution_count": 7,
   "id": "d075aa4f",
   "metadata": {},
   "outputs": [
    {
     "data": {
      "text/plain": [
       "'../docs/single_level.pdf'"
      ]
     },
     "execution_count": 7,
     "metadata": {},
     "output_type": "execute_result"
    }
   ],
   "source": [
    "graph = pm.model_graph.model_to_graphviz(model)\n",
    "graph.render(filename='../docs/single_level')"
   ]
  },
  {
   "cell_type": "markdown",
   "id": "1b254794",
   "metadata": {},
   "source": [
    "# Evaluation"
   ]
  },
  {
   "cell_type": "code",
   "execution_count": 8,
   "id": "875e2708",
   "metadata": {},
   "outputs": [
    {
     "data": {
      "image/png": "[encoded data removed]",
      "text/plain": [
       "<Figure size 576x432 with 2 Axes>"
      ]
     },
     "metadata": {
      "needs_background": "light"
     },
     "output_type": "display_data"
    }
   ],
   "source": [
    "plot_confusion(y, y_pred, title='', savedir='../docs/confusion_l1.pdf')"
   ]
  },
  {
   "cell_type": "code",
   "execution_count": 9,
   "id": "92eaff6d",
   "metadata": {},
   "outputs": [
    {
     "data": {
      "text/plain": [
       "{'c': 6.89667835344772,\n",
       " 'ppt': 0.15925588067118088,\n",
       " 'hydr': -0.05084010228148568,\n",
       " 'hse': -0.007153556957056333,\n",
       " 'dem': 2.782393162111132}"
      ]
     },
     "execution_count": 9,
     "metadata": {},
     "output_type": "execute_result"
    }
   ],
   "source": [
    "# Get all learned parameters\n",
    "hier_post = trace.posterior.stack(chain_draw=(\"chain\", \"draw\"))\n",
    "\n",
    "learned_params = dict()\n",
    "learned_params.update({\n",
    "    'c': hier_post['c'].mean().item(),\n",
    "    'ppt': hier_post['ppt'].mean().item(),\n",
    "    'hydr': hier_post['hydr'].mean().item(),\n",
    "    'hse': hier_post['hse'].mean().item(),\n",
    "    'dem': hier_post['dem'].mean().item()\n",
    "})\n",
    "\n",
    "learned_params"
   ]
  },
  {
   "cell_type": "markdown",
   "id": "1ca165fc",
   "metadata": {},
   "source": [
    "## Posterior Variance Check"
   ]
  },
  {
   "cell_type": "code",
   "execution_count": 10,
   "id": "e003c232",
   "metadata": {},
   "outputs": [
    {
     "data": {
      "text/html": [
       "\n",
       "    <div>\n",
       "        <style>\n",
       "            /* Turns off some styling */\n",
       "            progress {\n",
       "                /* gets rid of default border in Firefox and Opera. */\n",
       "                border: none;\n",
       "                /* Needs to be in here for Safari polyfill so background images work as expected. */\n",
       "                background-size: auto;\n",
       "            }\n",
       "            .progress-bar-interrupted, .progress-bar-interrupted::-webkit-progress-bar {\n",
       "                background: #F44336;\n",
       "            }\n",
       "        </style>\n",
       "      <progress value='300' class='' max='300' style='width:300px; height:20px; vertical-align: middle;'></progress>\n",
       "      100.00% [300/300 00:03<00:00]\n",
       "    </div>\n",
       "    "
      ],
      "text/plain": [
       "<IPython.core.display.HTML object>"
      ]
     },
     "metadata": {},
     "output_type": "display_data"
    }
   ],
   "source": [
    "with model:\n",
    "    ppc = pm.sample_posterior_predictive(\n",
    "        trace, var_names=['ppt', 'hydr', 'hse', 'dem', 'failures']\n",
    "    )"
   ]
  },
  {
   "cell_type": "code",
   "execution_count": 11,
   "id": "51ecaf2b",
   "metadata": {},
   "outputs": [],
   "source": [
    "# Compute aprior and fitted posterior SD\n",
    "var_dict = {'ppt': 10, 'hydr': 10, 'hse': 10, 'dem': 10}\n",
    "post_init_var = []\n",
    "post_fit_var = []\n",
    "for param, var in var_dict.items():\n",
    "    # post_init_var.append(round(np.sqrt(full_priors[param].var()), 2))\n",
    "    post_init_var.append(var_dict[param])\n",
    "    post_fit_var.append(round(np.sqrt(ppc[param].var()), 2))\n",
    "\n",
    "init_var_df = pd.DataFrame({'Params': var_dict.keys(), 'SD': post_init_var, 'Parameter': 'Prior'})\n",
    "fit_sig_df = pd.DataFrame({'Params': var_dict.keys(), 'SD': post_fit_var, 'Parameter': 'Fitted'})\n",
    "\n",
    "sig_df = pd.concat([init_var_df, fit_sig_df])"
   ]
  },
  {
   "cell_type": "code",
   "execution_count": 13,
   "id": "6fe394ab",
   "metadata": {},
   "outputs": [
    {
     "name": "stderr",
     "output_type": "stream",
     "text": [
      "/var/folders/3_/bdv8r_590xz8hvrnflbd7dxm0000gn/T/ipykernel_777/1279561997.py:15: MatplotlibDeprecationWarning: savefig() got unexpected keyword argument \"bbox_inces\" which is no longer supported as of 3.3 and will become an error in 3.6\n",
      "  f.savefig('../docs/posterior_var.pdf', dpi=300, bbox_inces='tight')\n"
     ]
    },
    {
     "data": {
      "image/png": "[encoded data removed]",
      "text/plain": [
       "<Figure size 1152x576 with 1 Axes>"
      ]
     },
     "metadata": {
      "needs_background": "light"
     },
     "output_type": "display_data"
    }
   ],
   "source": [
    "# Plotting\n",
    "f, ax = plt.subplots(figsize=(16, 8))\n",
    "ax = sns.barplot(x='SD', y='Params', hue='Parameter', data=sig_df, palette='Blues_r', orient='h')\n",
    "# ax.set_title('SD for Priori and Fitted Posterior', size=16)\n",
    "ax.set_xlabel('Standard Deviation, $\\sigma$', labelpad = 24, fontsize=20)\n",
    "ax.set_ylabel('Parameter', labelpad = 24, fontsize=20)\n",
    "labels = ['Precipitation', 'Soil Hydraulics', 'Housing Value', 'DEM']\n",
    "ax.set_yticklabels(labels)\n",
    "ax.tick_params(labelsize=16)\n",
    "plt.legend(fontsize=18, loc='lower right')\n",
    "plt.yticks(rotation = 45)\n",
    "for i in ax.containers:\n",
    "    ax.bar_label(i,size=16)\n",
    "\n",
    "f.savefig('../docs/posterior_var.pdf', dpi=300, bbox_inces='tight')"
   ]
  }
 ],
 "metadata": {
  "celltoolbar": "Slideshow",
  "kernelspec": {
   "display_name": "Python 3.9.12 ('septic')",
   "language": "python",
   "name": "python3"
  },
  "language_info": {
   "codemirror_mode": {
    "name": "ipython",
    "version": 3
   },
   "file_extension": ".py",
   "mimetype": "text/x-python",
   "name": "python",
   "nbconvert_exporter": "python",
   "pygments_lexer": "ipython3",
   "version": "3.9.12"
  },
  "vscode": {
   "interpreter": {
    "hash": "d8da36faa6c94f2357043bbcae61484f1ae39aaf546ae8feb986ac87967df3e3"
   }
  }
 },
 "nbformat": 4,
 "nbformat_minor": 5
}
