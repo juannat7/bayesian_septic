{
 "cells": [
  {
   "cell_type": "markdown",
   "id": "253ba22d",
   "metadata": {
    "slideshow": {
     "slide_type": "skip"
    }
   },
   "source": [
    "This notebook contains a collection of goodness-of-fit tests"
   ]
  },
  {
   "cell_type": "code",
   "execution_count": 22,
   "id": "0af19e1d",
   "metadata": {
    "slideshow": {
     "slide_type": "skip"
    }
   },
   "outputs": [],
   "source": [
    "import arviz as az\n",
    "import matplotlib.pyplot as plt\n",
    "from matplotlib import colors\n",
    "import numpy as np\n",
    "import pandas as pd\n",
    "import pymc3 as pm\n",
    "from tqdm import tqdm\n",
    "from sklearn.metrics import *\n",
    "import theano.tensor as tt\n",
    "import scipy\n",
    "import scipy.stats as stats\n",
    "import seaborn as sns\n",
    "sns.set(style=\"darkgrid\")\n",
    "\n",
    "import rasterio as rio\n",
    "from rasterio import mask\n",
    "import geopandas as gpd\n",
    "from shapely.geometry import shape\n",
    "import xarray as xr\n",
    "import rioxarray\n",
    "import fiona\n",
    "\n",
    "import optuna\n",
    "import sklearn\n",
    "from sklearn.ensemble import RandomForestClassifier\n",
    "from sklearn.svm import SVC\n",
    "import xgboost as xgb\n",
    "from sklearn.model_selection import train_test_split\n",
    "\n",
    "tqdm.pandas()\n",
    "\n",
    "import warnings\n",
    "warnings.filterwarnings('ignore')\n",
    "\n",
    "%matplotlib inline"
   ]
  },
  {
   "cell_type": "code",
   "execution_count": 2,
   "id": "ffa95fb7",
   "metadata": {
    "scrolled": true
   },
   "outputs": [
    {
     "name": "stdout",
     "output_type": "stream",
     "text": [
      "balancing...\n",
      "repairs: 7.6567198704603285%, non-repairs: 92.34328012953968%\n",
      "processing soil hydraulic data...\n",
      "acquiring housing information...\n",
      "processing DEM and flow information...\n",
      "fitting water model...\n"
     ]
    },
    {
     "name": "stderr",
     "output_type": "stream",
     "text": [
      "Auto-assigning NUTS sampler...\n",
      "Initializing NUTS using jitter+adapt_diag...\n",
      "Multiprocess sampling (4 chains in 4 jobs)\n",
      "NUTS: [c, ppt, wtr_dist, sigma_c, mu_c, ppt_sig, ppt_mu, wtr_beta, wtr_alpha]\n"
     ]
    },
    {
     "data": {
      "text/html": [
       "\n",
       "    <div>\n",
       "        <style>\n",
       "            /* Turns off some styling */\n",
       "            progress {\n",
       "                /* gets rid of default border in Firefox and Opera. */\n",
       "                border: none;\n",
       "                /* Needs to be in here for Safari polyfill so background images work as expected. */\n",
       "                background-size: auto;\n",
       "            }\n",
       "            .progress-bar-interrupted, .progress-bar-interrupted::-webkit-progress-bar {\n",
       "                background: #F44336;\n",
       "            }\n",
       "        </style>\n",
       "      <progress value='2800' class='' max='2800' style='width:300px; height:20px; vertical-align: middle;'></progress>\n",
       "      100.00% [2800/2800 00:34<00:00 Sampling 4 chains, 0 divergences]\n",
       "    </div>\n",
       "    "
      ],
      "text/plain": [
       "<IPython.core.display.HTML object>"
      ]
     },
     "metadata": {},
     "output_type": "display_data"
    },
    {
     "name": "stderr",
     "output_type": "stream",
     "text": [
      "Sampling 4 chains for 200 tune and 500 draw iterations (800 + 2_000 draws total) took 35 seconds.\n",
      "The rhat statistic is larger than 1.2 for some parameters.\n",
      "The estimated number of effective samples is smaller than 200 for some parameters.\n"
     ]
    },
    {
     "name": "stdout",
     "output_type": "stream",
     "text": [
      "fitting soil model...\n"
     ]
    },
    {
     "name": "stderr",
     "output_type": "stream",
     "text": [
      "Auto-assigning NUTS sampler...\n",
      "Initializing NUTS using jitter+adapt_diag...\n",
      "Multiprocess sampling (4 chains in 4 jobs)\n",
      "NUTS: [c, hydr, ppt, wtr_dist, sigma_c, mu_c, hydr_sig, ppt_sig, ppt_mu, wtr_beta, wtr_alpha]\n"
     ]
    },
    {
     "data": {
      "text/html": [
       "\n",
       "    <div>\n",
       "        <style>\n",
       "            /* Turns off some styling */\n",
       "            progress {\n",
       "                /* gets rid of default border in Firefox and Opera. */\n",
       "                border: none;\n",
       "                /* Needs to be in here for Safari polyfill so background images work as expected. */\n",
       "                background-size: auto;\n",
       "            }\n",
       "            .progress-bar-interrupted, .progress-bar-interrupted::-webkit-progress-bar {\n",
       "                background: #F44336;\n",
       "            }\n",
       "        </style>\n",
       "      <progress value='2800' class='' max='2800' style='width:300px; height:20px; vertical-align: middle;'></progress>\n",
       "      100.00% [2800/2800 01:40<00:00 Sampling 4 chains, 0 divergences]\n",
       "    </div>\n",
       "    "
      ],
      "text/plain": [
       "<IPython.core.display.HTML object>"
      ]
     },
     "metadata": {},
     "output_type": "display_data"
    },
    {
     "name": "stderr",
     "output_type": "stream",
     "text": [
      "Sampling 4 chains for 200 tune and 500 draw iterations (800 + 2_000 draws total) took 100 seconds.\n",
      "The chain reached the maximum tree depth. Increase max_treedepth, increase target_accept or reparameterize.\n",
      "The rhat statistic is larger than 1.4 for some parameters. The sampler did not converge.\n",
      "The estimated number of effective samples is smaller than 200 for some parameters.\n"
     ]
    },
    {
     "name": "stdout",
     "output_type": "stream",
     "text": [
      "fitting socio model...\n"
     ]
    },
    {
     "name": "stderr",
     "output_type": "stream",
     "text": [
      "Auto-assigning NUTS sampler...\n",
      "Initializing NUTS using jitter+adapt_diag...\n",
      "Multiprocess sampling (4 chains in 4 jobs)\n",
      "NUTS: [c, hse, hydr, ppt, wtr_dist, sigma_c, mu_c, hse_sig, hydr_sig, ppt_sig, ppt_mu, wtr_beta, wtr_alpha]\n"
     ]
    },
    {
     "data": {
      "text/html": [
       "\n",
       "    <div>\n",
       "        <style>\n",
       "            /* Turns off some styling */\n",
       "            progress {\n",
       "                /* gets rid of default border in Firefox and Opera. */\n",
       "                border: none;\n",
       "                /* Needs to be in here for Safari polyfill so background images work as expected. */\n",
       "                background-size: auto;\n",
       "            }\n",
       "            .progress-bar-interrupted, .progress-bar-interrupted::-webkit-progress-bar {\n",
       "                background: #F44336;\n",
       "            }\n",
       "        </style>\n",
       "      <progress value='2800' class='' max='2800' style='width:300px; height:20px; vertical-align: middle;'></progress>\n",
       "      100.00% [2800/2800 01:54<00:00 Sampling 4 chains, 0 divergences]\n",
       "    </div>\n",
       "    "
      ],
      "text/plain": [
       "<IPython.core.display.HTML object>"
      ]
     },
     "metadata": {},
     "output_type": "display_data"
    },
    {
     "name": "stderr",
     "output_type": "stream",
     "text": [
      "Sampling 4 chains for 200 tune and 500 draw iterations (800 + 2_000 draws total) took 115 seconds.\n",
      "The chain reached the maximum tree depth. Increase max_treedepth, increase target_accept or reparameterize.\n",
      "The rhat statistic is larger than 1.4 for some parameters. The sampler did not converge.\n",
      "The estimated number of effective samples is smaller than 200 for some parameters.\n"
     ]
    },
    {
     "name": "stdout",
     "output_type": "stream",
     "text": [
      "fitting topo model...\n"
     ]
    },
    {
     "name": "stderr",
     "output_type": "stream",
     "text": [
      "Auto-assigning NUTS sampler...\n",
      "Initializing NUTS using jitter+adapt_diag...\n",
      "Multiprocess sampling (4 chains in 4 jobs)\n",
      "NUTS: [c, dem, flow, hse, hydr, ppt, wtr_dist, sigma_c, mu_c, dem_beta, dem_alpha, flow_beta, flow_alpha, hse_sig, hydr_sig, ppt_sig, ppt_mu, wtr_beta, wtr_alpha]\n"
     ]
    },
    {
     "data": {
      "text/html": [
       "\n",
       "    <div>\n",
       "        <style>\n",
       "            /* Turns off some styling */\n",
       "            progress {\n",
       "                /* gets rid of default border in Firefox and Opera. */\n",
       "                border: none;\n",
       "                /* Needs to be in here for Safari polyfill so background images work as expected. */\n",
       "                background-size: auto;\n",
       "            }\n",
       "            .progress-bar-interrupted, .progress-bar-interrupted::-webkit-progress-bar {\n",
       "                background: #F44336;\n",
       "            }\n",
       "        </style>\n",
       "      <progress value='2800' class='' max='2800' style='width:300px; height:20px; vertical-align: middle;'></progress>\n",
       "      100.00% [2800/2800 02:56<00:00 Sampling 4 chains, 0 divergences]\n",
       "    </div>\n",
       "    "
      ],
      "text/plain": [
       "<IPython.core.display.HTML object>"
      ]
     },
     "metadata": {},
     "output_type": "display_data"
    },
    {
     "name": "stderr",
     "output_type": "stream",
     "text": [
      "Sampling 4 chains for 200 tune and 500 draw iterations (800 + 2_000 draws total) took 176 seconds.\n",
      "The chain reached the maximum tree depth. Increase max_treedepth, increase target_accept or reparameterize.\n",
      "The chain reached the maximum tree depth. Increase max_treedepth, increase target_accept or reparameterize.\n",
      "The rhat statistic is larger than 1.4 for some parameters. The sampler did not converge.\n",
      "The estimated number of effective samples is smaller than 200 for some parameters.\n"
     ]
    }
   ],
   "source": [
    "from models import *"
   ]
  },
  {
   "cell_type": "markdown",
   "id": "852bfd9a",
   "metadata": {},
   "source": [
    "# Goodness-of-Fit Analyses\n",
    "\n",
    "In general, GoF tests have the following form: $fit - penalty$ (where lower values mean imply better predictive models)\n",
    "\n",
    "Where the $fit$ typically measures how uncertain the prediction is to variation in parameters: $log(\\frac{1}{N}\\sum_{i=1}^NP(y|\\hat{\\theta_i}))$. If for all $\\theta_i$, the probability of predicting y is always 1 (certain), then $log(1) = 0$\n",
    "\n",
    "Where the $penalty$ typically measures the variance of the fitted posterior: $Var_{i=1}^nlog(P(y|\\hat{\\theta_i}))$"
   ]
  },
  {
   "cell_type": "markdown",
   "id": "7e9f1988",
   "metadata": {},
   "source": [
    "Models summary:\n",
    "1. _Water model_: __distance to water bodies, annual maxima precipitation__\n",
    "2. _Soil model_: distance to water bodies, annual maxima precipitation, __soil hydraulic conductivity__\n",
    "3. _Socio model_: distance to water bodies, annual maxima precipitation, soil hydraulic conductivity, __median housing value__\n",
    "4. _Topo model_: distance to water bodies, annual maxima precipitation, soil hydraulic conductivity, median housing value, __flow accumulation, elevation__"
   ]
  },
  {
   "cell_type": "markdown",
   "id": "9b15b3be",
   "metadata": {},
   "source": [
    "## 1. Widely Applicable Information Criterion (WAIC)\n",
    "$fit = \\sum_{i=1}^slog(\\frac{1}{n}\\sum_{j=1}^nP(y_i|\\hat{\\theta_j}))$ (for all points $s$)\n",
    "\n",
    "$penalty = \\sum_{i=1}^sVar_{j=1}^nlog(P(y_i|\\hat{\\theta_j}))$ (for all points $s$)"
   ]
  },
  {
   "cell_type": "code",
   "execution_count": 68,
   "id": "df1490ae",
   "metadata": {
    "scrolled": false
   },
   "outputs": [
    {
     "data": {
      "text/plain": [
       "Text(0, 0.5, 'WAIC')"
      ]
     },
     "execution_count": 68,
     "metadata": {},
     "output_type": "execute_result"
    },
    {
     "data": {
      "image/png": "[encoded data removed]",
      "text/plain": [
       "<Figure size 432x288 with 1 Axes>"
      ]
     },
     "metadata": {
      "needs_background": "light"
     },
     "output_type": "display_data"
    }
   ],
   "source": [
    "waic_df = pm.compare(traces_dict, ic='WAIC')\n",
    "waic_df.reset_index(inplace=True)\n",
    "\n",
    "# Plot WAIC (lower is better)\n",
    "ax = waic_df['waic'].plot.line(yerr=waic_df['se'], capsize=8)\n",
    "ax.set_xticks(range(len(waic_df)))\n",
    "ax.set_xticklabels(['Water', 'Soil', 'Socio', 'Topo'])\n",
    "ax.set_title('WAIC GoF')\n",
    "ax.set_xlabel('hierarchical bayesian models')\n",
    "ax.set_ylabel('WAIC')"
   ]
  },
  {
   "cell_type": "markdown",
   "id": "97ca8c30",
   "metadata": {},
   "source": [
    "## 2. Leave-one-out (LOO) Cross Validation\n",
    "Train model with (n-k) data points, and perform prediction on k data points. Do this multiple times and average the log likelihood (ie. $fit$).  "
   ]
  },
  {
   "cell_type": "code",
   "execution_count": 67,
   "id": "8ac9f4d9",
   "metadata": {},
   "outputs": [
    {
     "data": {
      "text/plain": [
       "Text(0, 0.5, 'LOO-CV')"
      ]
     },
     "execution_count": 67,
     "metadata": {},
     "output_type": "execute_result"
    },
    {
     "data": {
      "image/png": "[encoded data removed]",
      "text/plain": [
       "<Figure size 432x288 with 1 Axes>"
      ]
     },
     "metadata": {
      "needs_background": "light"
     },
     "output_type": "display_data"
    }
   ],
   "source": [
    "loo_df = pm.compare(traces_dict, ic='LOO')\n",
    "loo_df.reset_index(inplace=True)\n",
    "\n",
    "# Plot LOO-CV (lower is better)\n",
    "ax = loo_df['loo'].plot.line(yerr=loo_df['se'], capsize=8)\n",
    "ax.set_xticks(range(len(loo_df)))\n",
    "ax.set_xticklabels(['Water', 'Soil', 'Socio', 'Topo'])\n",
    "ax.set_title('LOO-CV GoF')\n",
    "ax.set_xlabel('hierarchical bayesian models')\n",
    "ax.set_ylabel('LOO-CV')"
   ]
  },
  {
   "cell_type": "markdown",
   "id": "49683e81",
   "metadata": {},
   "source": [
    "## 3. Posterior Variance Checks"
   ]
  },
  {
   "cell_type": "code",
   "execution_count": 15,
   "id": "c5d301c4",
   "metadata": {},
   "outputs": [
    {
     "data": {
      "text/html": [
       "\n",
       "    <div>\n",
       "        <style>\n",
       "            /* Turns off some styling */\n",
       "            progress {\n",
       "                /* gets rid of default border in Firefox and Opera. */\n",
       "                border: none;\n",
       "                /* Needs to be in here for Safari polyfill so background images work as expected. */\n",
       "                background-size: auto;\n",
       "            }\n",
       "            .progress-bar-interrupted, .progress-bar-interrupted::-webkit-progress-bar {\n",
       "                background: #F44336;\n",
       "            }\n",
       "        </style>\n",
       "      <progress value='2000' class='' max='2000' style='width:300px; height:20px; vertical-align: middle;'></progress>\n",
       "      100.00% [2000/2000 00:05<00:00]\n",
       "    </div>\n",
       "    "
      ],
      "text/plain": [
       "<IPython.core.display.HTML object>"
      ]
     },
     "metadata": {},
     "output_type": "display_data"
    }
   ],
   "source": [
    "with topo_model:\n",
    "    ppc = pm.sample_posterior_predictive(\n",
    "        topo_trace, var_names=['wtr_dist', 'ppt', 'hydr', 'hse', 'flow', 'dem', 'failures']\n",
    "    )"
   ]
  },
  {
   "cell_type": "code",
   "execution_count": 38,
   "id": "92032d30",
   "metadata": {},
   "outputs": [],
   "source": [
    "# Compute fitted posterior variance\n",
    "prior_var_df = pd.DataFrame({'params': var_dict.keys(), 'variance': var_dict.values(), 'type': 'prior'})\n",
    "\n",
    "post_hat_var = []\n",
    "for param, var in var_dict.items():\n",
    "    post_hat_var.append(ppc[param].var())\n",
    "\n",
    "fitted_var_df = pd.DataFrame({'params': var_dict.keys(), 'variance': post_hat_var, 'type': 'fitted'})\n",
    "var_df = pd.concat([prior_var_df, fitted_var_df])"
   ]
  },
  {
   "cell_type": "code",
   "execution_count": 58,
   "id": "53cd0b5c",
   "metadata": {},
   "outputs": [
    {
     "data": {
      "image/png": "[encoded data removed]",
      "text/plain": [
       "<Figure size 864x576 with 1 Axes>"
      ]
     },
     "metadata": {
      "needs_background": "light"
     },
     "output_type": "display_data"
    }
   ],
   "source": [
    "# Plotting\n",
    "plt.figure(figsize=(12, 8))\n",
    "ax = sns.barplot(x='variance', y='params', hue='type', data=var_df, ci=None, orient='h')\n",
    "ax.set_title('Priori and Fitted Posterior Variance')\n",
    "for i in ax.containers:\n",
    "    ax.bar_label(i,)"
   ]
  }
 ],
 "metadata": {
  "celltoolbar": "Slideshow",
  "kernelspec": {
   "display_name": "sentinel",
   "language": "python",
   "name": "sentinel"
  },
  "language_info": {
   "codemirror_mode": {
    "name": "ipython",
    "version": 3
   },
   "file_extension": ".py",
   "mimetype": "text/x-python",
   "name": "python",
   "nbconvert_exporter": "python",
   "pygments_lexer": "ipython3",
   "version": "3.8.5"
  }
 },
 "nbformat": 4,
 "nbformat_minor": 5
}
