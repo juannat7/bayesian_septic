{
 "cells": [
  {
   "cell_type": "markdown",
   "id": "1cf24626",
   "metadata": {
    "slideshow": {
     "slide_type": "skip"
    }
   },
   "source": [
    "This notebook applies hierarchical bayesian modeling using topographical remote sensing product"
   ]
  },
  {
   "cell_type": "code",
   "execution_count": 1,
   "id": "8117cd9d",
   "metadata": {
    "slideshow": {
     "slide_type": "skip"
    }
   },
   "outputs": [
    {
     "name": "stderr",
     "output_type": "stream",
     "text": [
      "WARNING (theano.tensor.blas): Using NumPy C-API based implementation for BLAS functions.\n"
     ]
    }
   ],
   "source": [
    "import sys\n",
    "sys.path.append('..')\n",
    "import pymc3 as pm\n",
    "from tqdm import tqdm\n",
    "from sklearn.metrics import *\n",
    "\n",
    "from src.utils import *\n",
    "from src.params import *\n",
    "tqdm.pandas()\n",
    "\n",
    "%matplotlib inline"
   ]
  },
  {
   "cell_type": "markdown",
   "id": "2d51c5ef",
   "metadata": {},
   "source": [
    "# Data Pre-Processing"
   ]
  },
  {
   "cell_type": "code",
   "execution_count": 2,
   "id": "52686754",
   "metadata": {},
   "outputs": [
    {
     "name": "stdout",
     "output_type": "stream",
     "text": [
      "balancing...\n",
      "repairs: 7.6567198704603285%, non-repairs: 92.34328012953968%\n",
      "processing soil hydraulic data...\n",
      "acquiring housing information...\n",
      "processing DEM and flow information...\n"
     ]
    }
   ],
   "source": [
    "df, basin_idx, catchment_idx, coords = read_data(file_dir='../data/hierarchical_septics_v3.csv',\n",
    "        cols=['ppt_2013', 'water_dist', 'hydraulic_c','median_hse', 'dem', 'flow'], is_balanced=True, is_multilevel=True)"
   ]
  },
  {
   "cell_type": "markdown",
   "id": "9b448fb3",
   "metadata": {
    "slideshow": {
     "slide_type": "slide"
    }
   },
   "source": [
    "# Multilevel Bayesian Model\n",
    "\n",
    "- Group septic systems based on their sub-basin (~1560) and basin (~380) levels\n",
    "- The effect of precipitation, distance to water bodies, soil characteristic, housing, topography to septic's status"
   ]
  },
  {
   "cell_type": "markdown",
   "id": "581d1cce",
   "metadata": {},
   "source": [
    "## Empirical Distributions\n",
    "Empirical analysis for \n",
    "\n",
    "1. distance to water bodies, precipitation: `01 hierarchical_bayesian_twovars`\n",
    "2. soil hydraulic conductivity: `02 hierarchical_bayesian_threevars`\n",
    "3. housing values: `03 hierarchical_bayesian_housing`"
   ]
  },
  {
   "cell_type": "markdown",
   "id": "f6fa011e",
   "metadata": {},
   "source": [
    "\n",
    "\\begin{equation*}\n",
    "Y_{i} \\sim Bernoulli(\\theta_{i})\\tag{8}\n",
    "\\end{equation*}\n",
    "\n",
    "\\begin{equation*}\n",
    "\\theta_{i} = \\sigma(\\beta_{c,i} + \\beta_{w,i}.waterdist + \\beta_{p,i}.precip + \\beta_{h,i}.hydraulics + \\beta_{s,i}.hseval + \\beta_{t,i}.elev) \\tag{9}\n",
    "\\end{equation*}\n",
    "\n",
    "\\begin{equation*}\n",
    "\\overline{f_{i}} = \\frac{\\sum_{j \\in J}f_{i,j}}{|J|} \\tag{10}\n",
    "\\end{equation*}\n",
    "\n",
    "\\begin{equation*}\n",
    "\\textbf{Intercept parameters}\\\\\n",
    "    \\beta_{c,i} \\sim N_{c,i}(\\mu=\\overline{\\mu_{c,i}}, \\sigma=\\overline{\\theta_{c,i}})\\\\\n",
    "    \\text{where }\\mu_{c,i,j} \\sim N_{c,i,j}(\\mu=\\mu_c, \\sigma=10) \\quad and \\quad \\theta_{c,i,j} \\sim HN_{c,i,j}(\\sigma=\\sigma_c)\\\\\n",
    "    \\text{with priors } \\mu_c \\sim N(\\mu = 0, \\sigma = 10) \\quad and \\quad \\sigma_c \\sim HN(\\sigma = 10)\\tag{11}\n",
    "\\end{equation*}\n",
    "\n",
    "\\begin{equation*}\n",
    "\\textbf{Precipitation parameters}\\\\\n",
    "    \\beta_{p,i} \\sim N_{p,i}(\\mu=\\overline{\\mu_{p,i}}, \\sigma=\\overline{\\sigma_{p,i}})\\\\\n",
    "    \\text{where }\\mu_{p,i,j} \\sim N_{p,i,j}(\\mu=\\mu_p, \\sigma=10)\\quad and \\quad \\sigma_{p,i,j} \\sim HN_{p,i,j}(\\sigma=\\sigma_p)\\\\\n",
    "    \\text{with priors } \\mu_p \\sim N(\\mu = 0, \\sigma = 10) \\quad and \\quad \\sigma_p \\sim HN(\\sigma = 10) \\tag{12}\n",
    "\\end{equation*}\n",
    "\n",
    "\\begin{equation*}\n",
    "\\textbf{Soil hydraulic conductivity parameters}\\\\\n",
    "    \\beta_{h,i} \\sim U_{h,i}(lower=-2,upper=\\overline{\\sigma_{h,i}})\\\\\n",
    "    \\text{where }\\sigma_{h,i,j} \\sim HN_{h,i,j}(\\sigma=\\sigma_h)\\\\\n",
    "    \\text{with priors } \\sigma_h \\sim HN(\\sigma = 10)\\tag{13}\n",
    "\\end{equation*}\n",
    "\n",
    "\\begin{equation*}\n",
    "\\textbf{Socio-economic parameters}\\\\\n",
    "    \\beta_{s,i} \\sim N_{s,i}(\\mu=0, \\sigma=\\overline{\\sigma_{s,i}})\\\\\n",
    "    \\text{where }\\sigma_{s,i,j} \\sim HN_{s,i,j}(\\sigma=\\sigma_s)\\\\\n",
    "    \\text{with priors } \\sigma_s \\sim HN(\\sigma = 5) \\tag{14}\n",
    "\\end{equation*}\n",
    "\n",
    "\\begin{equation*}\n",
    "\\textbf{Topography (elevation) parameters}\\\\\n",
    "    \\beta_{t,i} \\sim Exp_{t,i}(\\lambda=\\overline{\\lambda_{t,i}})\\\\\n",
    "    \\text{where }\\lambda_{t,i,j} \\sim HN_{t,i,j}(\\sigma=\\sigma_t)\\\\\n",
    "    \\text{with priors }\\sigma_t \\sim HN(\\sigma=5)\\tag{15}\n",
    "\\end{equation*}"
   ]
  },
  {
   "cell_type": "code",
   "execution_count": 4,
   "id": "ac3f37c7",
   "metadata": {},
   "outputs": [
    {
     "name": "stdout",
     "output_type": "stream",
     "text": [
      "fitting full 2-level Bayesian model...\n"
     ]
    },
    {
     "name": "stderr",
     "output_type": "stream",
     "text": [
      "/home/user/anaconda3/envs/sentinel/lib/python3.8/site-packages/pymc3/distributions/transforms.py:294: RuntimeWarning: invalid value encountered in log\n",
      "  return floatX(np.log(x - a) - np.log(b - x))\n",
      "Auto-assigning NUTS sampler...\n",
      "Initializing NUTS using jitter+adapt_diag...\n",
      "Multiprocess sampling (4 chains in 4 jobs)\n",
      "NUTS: [c, dem, hse, hydr, ppt, wtr_dist, sigma_inter_c, mu_inter_c, dem_beta_c, hse_sig_c, hydr_sig_c, ppt_sig_c, ppt_mu_c, wtr_beta_c, sigma_inter, mu_inter, dem_beta, hse_sig, hydr_sig, ppt_sig, ppt_mu, wtr_beta]\n"
     ]
    },
    {
     "data": {
      "text/html": [
       "\n",
       "    <div>\n",
       "        <style>\n",
       "            /* Turns off some styling */\n",
       "            progress {\n",
       "                /* gets rid of default border in Firefox and Opera. */\n",
       "                border: none;\n",
       "                /* Needs to be in here for Safari polyfill so background images work as expected. */\n",
       "                background-size: auto;\n",
       "            }\n",
       "            .progress-bar-interrupted, .progress-bar-interrupted::-webkit-progress-bar {\n",
       "                background: #F44336;\n",
       "            }\n",
       "        </style>\n",
       "      <progress value='3400' class='' max='3400' style='width:300px; height:20px; vertical-align: middle;'></progress>\n",
       "      100.00% [3400/3400 00:54<00:00 Sampling 4 chains, 2 divergences]\n",
       "    </div>\n",
       "    "
      ],
      "text/plain": [
       "<IPython.core.display.HTML object>"
      ]
     },
     "metadata": {},
     "output_type": "display_data"
    },
    {
     "name": "stderr",
     "output_type": "stream",
     "text": [
      "Sampling 4 chains for 350 tune and 500 draw iterations (1_400 + 2_000 draws total) took 55 seconds.\n",
      "There were 2 divergences after tuning. Increase `target_accept` or reparameterize.\n",
      "The acceptance probability does not match the target. It is 0.9662995980729361, but should be close to 0.99. Try to increase the number of tuning steps.\n",
      "The rhat statistic is larger than 1.2 for some parameters.\n",
      "The estimated number of effective samples is smaller than 200 for some parameters.\n"
     ]
    }
   ],
   "source": [
    "with pm.Model(coords=coords) as model:\n",
    "    print('fitting full 2-level Bayesian model...')\n",
    "    # constant data: basin information and variables\n",
    "    basin = pm.Data('basin', basin_idx, dims='septic')\n",
    "    catchment = pm.Data('catchment', catchment_idx, dims='septic')\n",
    "    water_d = pm.Data('water_d', df.water_dist_norm.values, dims='septic')\n",
    "    ppt_d = pm.Data('ppt_d', df.ppt_2013_norm.values, dims='septic')\n",
    "    hydr_d = pm.Data('hydr_d', df.hydraulic_c_norm.values, dims='septic')\n",
    "    hse_d = pm.Data('hse_d', df.median_hse_norm.values, dims='septic')\n",
    "    dem_d = pm.Data('dem_d', df.dem_norm.values, dims='septic')\n",
    "\n",
    "    # global model parameters\n",
    "    wtr_beta = pm.HalfNormal(\"wtr_beta\", sigma=10)\n",
    "    ppt_mu = pm.Normal(\"ppt_mu\", mu=0, sigma=10)\n",
    "    ppt_sig = pm.HalfNormal(\"ppt_sig\", sigma=10)\n",
    "    hydr_sig = pm.HalfNormal('hydr_sig', sigma=10)\n",
    "    hse_sig = pm.HalfNormal('hse_sig', sigma=5)\n",
    "    dem_beta = pm.HalfNormal('dem_beta', sigma=5)\n",
    "    mu_inter = pm.Normal('mu_inter', mu=0, sigma=10)\n",
    "    sigma_inter = pm.HalfNormal('sigma_inter', sigma=10)\n",
    "    \n",
    "    # catchment parameters\n",
    "    wtr_beta_c = pm.HalfNormal(\"wtr_beta_c\", sigma=wtr_beta, dims='catchment')\n",
    "    ppt_mu_c = pm.Normal(\"ppt_mu_c\", mu=ppt_mu, sigma=10, dims='catchment')\n",
    "    ppt_sig_c = pm.HalfNormal(\"ppt_sig_c\", sigma=ppt_sig, dims='catchment')\n",
    "    hydr_sig_c = pm.HalfNormal('hydr_sig_c', sigma=hydr_sig, dims='catchment')\n",
    "    hse_sig_c = pm.HalfNormal('hse_sig_c', sigma=hse_sig, dims='catchment')\n",
    "    dem_beta_c = pm.HalfNormal('dem_beta_c', sigma=dem_beta)\n",
    "    mu_inter_c = pm.Normal('mu_inter_c', mu=mu_inter, sigma=10, dims='catchment')\n",
    "    sigma_inter_c = pm.HalfNormal('sigma_inter_c', sigma=sigma_inter, dims='catchment')\n",
    "\n",
    "    # septic-specific model parameters\n",
    "    wtr_dist = pm.Exponential(\"wtr_dist\", lam=wtr_beta_c.mean(), dims=\"basin\")\n",
    "    ppt = pm.Normal(\"ppt\", mu=ppt_mu_c.mean(), sigma=ppt_sig_c.mean(), dims=\"basin\")\n",
    "    hydr = pm.Uniform('hydr', lower=-2, upper=hydr_sig_c.mean(), dims='basin')\n",
    "    hse = pm.Normal('hse', mu=0, sigma=hse_sig_c.mean(), dims='basin')\n",
    "    dem = pm.Exponential('dem', lam=dem_beta_c.mean(), dims='basin')\n",
    "    c = pm.Normal('c', mu=mu_inter_c.mean(), sigma=sigma_inter_c.mean(), dims=\"basin\")\n",
    "    \n",
    "    # hierarchical bayesian formula\n",
    "    failure_theta = pm.math.sigmoid(c[basin] \n",
    "                                    + wtr_dist[basin] * water_d \n",
    "                                    + ppt[basin] * ppt_d\n",
    "                                    + hydr[basin] * hydr_d\n",
    "                                    + hse[basin] * hse_d\n",
    "                                    + dem[basin] * dem_d\n",
    "                                   )\n",
    "\n",
    "    # likelihood of observed data\n",
    "    priors = pm.sample_prior_predictive(samples=500)\n",
    "    failures = pm.Bernoulli('failures', failure_theta, observed=df['sewageSystem_enc'])\n",
    "    \n",
    "    # fitting using NUTS sampler\n",
    "    trace = pm.sample(500, tune=350, cores=4, return_inferencedata=True, target_accept=0.99)"
   ]
  },
  {
   "cell_type": "code",
   "execution_count": 5,
   "id": "2379ae07",
   "metadata": {},
   "outputs": [
    {
     "data": {
      "text/plain": [
       "'../docs/double_level.pdf'"
      ]
     },
     "execution_count": 5,
     "metadata": {},
     "output_type": "execute_result"
    }
   ],
   "source": [
    "graph = pm.model_to_graphviz(model)\n",
    "graph.render(filename='../docs/double_level')"
   ]
  },
  {
   "cell_type": "code",
   "execution_count": 10,
   "id": "5f2e88f4",
   "metadata": {},
   "outputs": [
    {
     "data": {
      "text/html": [
       "\n",
       "    <div>\n",
       "        <style>\n",
       "            /* Turns off some styling */\n",
       "            progress {\n",
       "                /* gets rid of default border in Firefox and Opera. */\n",
       "                border: none;\n",
       "                /* Needs to be in here for Safari polyfill so background images work as expected. */\n",
       "                background-size: auto;\n",
       "            }\n",
       "            .progress-bar-interrupted, .progress-bar-interrupted::-webkit-progress-bar {\n",
       "                background: #F44336;\n",
       "            }\n",
       "        </style>\n",
       "      <progress value='500' class='' max='500' style='width:300px; height:20px; vertical-align: middle;'></progress>\n",
       "      100.00% [500/500 00:01<00:00]\n",
       "    </div>\n",
       "    "
      ],
      "text/plain": [
       "<IPython.core.display.HTML object>"
      ]
     },
     "metadata": {},
     "output_type": "display_data"
    },
    {
     "name": "stdout",
     "output_type": "stream",
     "text": [
      "accuracy is: 91.45962732919256%\n"
     ]
    }
   ],
   "source": [
    "# evaluate model (just dem)\n",
    "y = df.sewageSystem_enc.to_list()\n",
    "acc, y_pred = evaluate_bayes(trace, model, y)\n",
    "print(f'accuracy is: {acc}%')"
   ]
  },
  {
   "cell_type": "markdown",
   "id": "75246213",
   "metadata": {},
   "source": [
    "# Evaluation"
   ]
  },
  {
   "cell_type": "code",
   "execution_count": 11,
   "id": "5a6a2f1e",
   "metadata": {},
   "outputs": [
    {
     "data": {
      "image/png": "[encoded data removed]",
      "text/plain": [
       "<Figure size 432x288 with 2 Axes>"
      ]
     },
     "metadata": {
      "needs_background": "light"
     },
     "output_type": "display_data"
    }
   ],
   "source": [
    "plot_confusion(y, y_pred, title='Confusion Matrix of Two-Level Bayesian Model')"
   ]
  }
 ],
 "metadata": {
  "celltoolbar": "Slideshow",
  "kernelspec": {
   "display_name": "sentinel",
   "language": "python",
   "name": "sentinel"
  },
  "language_info": {
   "codemirror_mode": {
    "name": "ipython",
    "version": 3
   },
   "file_extension": ".py",
   "mimetype": "text/x-python",
   "name": "python",
   "nbconvert_exporter": "python",
   "pygments_lexer": "ipython3",
   "version": "3.8.5"
  }
 },
 "nbformat": 4,
 "nbformat_minor": 5
}
