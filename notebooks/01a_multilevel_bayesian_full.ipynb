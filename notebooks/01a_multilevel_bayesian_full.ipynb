{
 "cells": [
  {
   "cell_type": "markdown",
   "id": "1cf24626",
   "metadata": {
    "slideshow": {
     "slide_type": "skip"
    }
   },
   "source": [
    "This notebook applies hierarchical bayesian modeling using topographical remote sensing product"
   ]
  },
  {
   "cell_type": "code",
   "execution_count": 1,
   "id": "e7d038c8",
   "metadata": {},
   "outputs": [],
   "source": [
    "%load_ext autoreload\n",
    "%autoreload 2"
   ]
  },
  {
   "cell_type": "code",
   "execution_count": 2,
   "id": "8117cd9d",
   "metadata": {
    "slideshow": {
     "slide_type": "skip"
    }
   },
   "outputs": [],
   "source": [
    "import sys\n",
    "sys.path.append('..')\n",
    "import pymc3 as pm\n",
    "from tqdm import tqdm\n",
    "from sklearn.metrics import *\n",
    "import numpy as np\n",
    "\n",
    "from src.utils import *\n",
    "from src.params import *\n",
    "tqdm.pandas()\n",
    "\n",
    "%matplotlib inline"
   ]
  },
  {
   "cell_type": "markdown",
   "id": "2d51c5ef",
   "metadata": {},
   "source": [
    "# Data Pre-Processing"
   ]
  },
  {
   "cell_type": "code",
   "execution_count": 3,
   "id": "52686754",
   "metadata": {},
   "outputs": [
    {
     "name": "stdout",
     "output_type": "stream",
     "text": [
      "balancing...\n",
      "non-repairs: 15.574291158976727%, repairs: 84.42570884102327%\n"
     ]
    },
    {
     "name": "stderr",
     "output_type": "stream",
     "text": [
      "/Users/juannat/Documents/research/septic/bayesian_septic/notebooks/../src/utils.py:76: DtypeWarning: Columns (21) have mixed types. Specify dtype option on import or set low_memory=False.\n",
      "  df = pd.read_csv(file_dir)\n"
     ]
    }
   ],
   "source": [
    "df, basin_idx, catchment_idx, coords = read_data(file_dir='../data/hierarchical_septics_v4.csv',\n",
    "        cols=['ppt_2021', 'hydraulic_c','median_hse', 'dem'], is_balanced=True, is_multilevel=True)"
   ]
  },
  {
   "cell_type": "markdown",
   "id": "9b448fb3",
   "metadata": {
    "slideshow": {
     "slide_type": "slide"
    }
   },
   "source": [
    "# Multilevel Bayesian Model\n",
    "\n",
    "- Group septic systems based on their sub-basin (~1560) and basin (~380) levels\n",
    "- The effect of precipitation, distance to water bodies, soil characteristic, housing, topography to septic's status"
   ]
  },
  {
   "cell_type": "markdown",
   "id": "581d1cce",
   "metadata": {},
   "source": [
    "## Empirical Distributions\n",
    "Empirical analysis for \n",
    "\n",
    "1. distance to water bodies, precipitation: `01 hierarchical_bayesian_twovars`\n",
    "2. soil hydraulic conductivity: `02 hierarchical_bayesian_threevars`\n",
    "3. housing values: `03 hierarchical_bayesian_housing`"
   ]
  },
  {
   "cell_type": "markdown",
   "id": "f6fa011e",
   "metadata": {},
   "source": [
    "\n",
    "\\begin{equation*}\n",
    "Y_{i} \\sim Bernoulli(\\theta_{i})\\tag{8}\n",
    "\\end{equation*}\n",
    "\n",
    "\\begin{equation*}\n",
    "\\theta_{i} = \\sigma(\\beta_{c,i} + \\beta_{w,i}.waterdist + \\beta_{p,i}.precip + \\beta_{h,i}.hydraulics + \\beta_{s,i}.hseval + \\beta_{t,i}.elev) \\tag{9}\n",
    "\\end{equation*}\n",
    "\n",
    "\\begin{equation*}\n",
    "\\overline{f_{i}} = \\frac{\\sum_{j \\in J}f_{i,j}}{|J|} \\tag{10}\n",
    "\\end{equation*}\n",
    "\n",
    "\\begin{equation*}\n",
    "\\textbf{Intercept parameters}\\\\\n",
    "    \\beta_{c,i} \\sim N_{c,i}(\\mu=\\overline{\\mu_{c,i}}, \\sigma=\\overline{\\theta_{c,i}})\\\\\n",
    "    \\text{where }\\mu_{c,i,j} \\sim N_{c,i,j}(\\mu=\\mu_c, \\sigma=10) \\quad and \\quad \\theta_{c,i,j} \\sim HN_{c,i,j}(\\sigma=\\sigma_c)\\\\\n",
    "    \\text{with priors } \\mu_c \\sim N(\\mu = 0, \\sigma = 10) \\quad and \\quad \\sigma_c \\sim HN(\\sigma = 10)\\tag{11}\n",
    "\\end{equation*}\n",
    "\n",
    "\\begin{equation*}\n",
    "\\textbf{Precipitation parameters}\\\\\n",
    "    \\beta_{p,i} \\sim N_{p,i}(\\mu=\\overline{\\mu_{p,i}}, \\sigma=\\overline{\\sigma_{p,i}})\\\\\n",
    "    \\text{where }\\mu_{p,i,j} \\sim N_{p,i,j}(\\mu=\\mu_p, \\sigma=10)\\quad and \\quad \\sigma_{p,i,j} \\sim HN_{p,i,j}(\\sigma=\\sigma_p)\\\\\n",
    "    \\text{with priors } \\mu_p \\sim N(\\mu = 0, \\sigma = 10) \\quad and \\quad \\sigma_p \\sim HN(\\sigma = 10) \\tag{12}\n",
    "\\end{equation*}\n",
    "\n",
    "\\begin{equation*}\n",
    "\\textbf{Soil hydraulic conductivity parameters}\\\\\n",
    "    \\beta_{h,i} \\sim N_{h,i}(\\mu=\\overline{\\mu_{h,i}}, \\sigma=\\overline{\\sigma_{h,i}})\\\\\n",
    "    \\text{where }\\mu_{h,i,j} \\sim N_{h,i,j}(\\mu=\\mu_h, \\sigma=10)\\quad and \\quad \\sigma_{h,i,j} \\sim HN_{h,i,j}(\\sigma=\\sigma_h)\\\\\n",
    "    \\text{with priors } \\mu_h \\sim N(\\mu = 0, \\sigma = 10) \\quad and \\quad \\sigma_h \\sim HN(\\sigma = 10) \\tag{13}\n",
    "\\end{equation*}\n",
    "\n",
    "\\begin{equation*}\n",
    "\\textbf{Socio-economic parameters}\\\\\n",
    "    \\beta_{s,i} \\sim N_{s,i}(\\mu=0, \\sigma=\\overline{\\sigma_{s,i}})\\\\\n",
    "    \\text{where }\\sigma_{s,i,j} \\sim HN_{s,i,j}(\\sigma=\\sigma_s)\\\\\n",
    "    \\text{with priors } \\sigma_s \\sim HN(\\sigma = 5) \\tag{14}\n",
    "\\end{equation*}\n",
    "\n",
    "\\begin{equation*}\n",
    "\\textbf{Topography (elevation) parameters}\\\\\n",
    "    \\beta_{t,i} \\sim Exp_{t,i}(\\lambda=\\overline{\\lambda_{t,i}})\\\\\n",
    "    \\text{where }\\lambda_{t,i,j} \\sim HN_{t,i,j}(\\sigma=\\sigma_t)\\\\\n",
    "    \\text{with priors }\\sigma_t \\sim HN(\\sigma=5)\\tag{15}\n",
    "\\end{equation*}"
   ]
  },
  {
   "cell_type": "code",
   "execution_count": 4,
   "id": "8175c98b",
   "metadata": {},
   "outputs": [],
   "source": [
    "rs = 100\n",
    "tune = 1000"
   ]
  },
  {
   "cell_type": "markdown",
   "id": "22fb7707",
   "metadata": {},
   "source": [
    "1. Water model: precipitation and distance to water bodies"
   ]
  },
  {
   "cell_type": "code",
   "execution_count": 5,
   "id": "eccf45b3",
   "metadata": {},
   "outputs": [
    {
     "name": "stdout",
     "output_type": "stream",
     "text": [
      "fitting full 2-level Bayesian model...\n"
     ]
    },
    {
     "name": "stderr",
     "output_type": "stream",
     "text": [
      "Only 100 samples in chain.\n",
      "Auto-assigning NUTS sampler...\n",
      "Initializing NUTS using jitter+adapt_diag...\n",
      "Multiprocess sampling (3 chains in 3 jobs)\n",
      "NUTS: [c, ppt, sigma_inter_c, mu_inter_c, ppt_sig_c, ppt_mu_c, sigma_inter, mu_inter, ppt_sig, ppt_mu]\n"
     ]
    },
    {
     "data": {
      "text/html": [
       "\n",
       "    <div>\n",
       "        <style>\n",
       "            /* Turns off some styling */\n",
       "            progress {\n",
       "                /* gets rid of default border in Firefox and Opera. */\n",
       "                border: none;\n",
       "                /* Needs to be in here for Safari polyfill so background images work as expected. */\n",
       "                background-size: auto;\n",
       "            }\n",
       "            .progress-bar-interrupted, .progress-bar-interrupted::-webkit-progress-bar {\n",
       "                background: #F44336;\n",
       "            }\n",
       "        </style>\n",
       "      <progress value='3300' class='' max='3300' style='width:300px; height:20px; vertical-align: middle;'></progress>\n",
       "      100.00% [3300/3300 06:21<00:00 Sampling 3 chains, 0 divergences]\n",
       "    </div>\n",
       "    "
      ],
      "text/plain": [
       "<IPython.core.display.HTML object>"
      ]
     },
     "metadata": {},
     "output_type": "display_data"
    },
    {
     "name": "stderr",
     "output_type": "stream",
     "text": [
      "/Users/juannat/opt/anaconda3/envs/septic/lib/python3.9/site-packages/scipy/stats/_continuous_distns.py:624: RuntimeWarning: overflow encountered in _beta_ppf\n",
      "  return _boost._beta_ppf(q, a, b)\n",
      "/Users/juannat/opt/anaconda3/envs/septic/lib/python3.9/site-packages/scipy/stats/_continuous_distns.py:624: RuntimeWarning: overflow encountered in _beta_ppf\n",
      "  return _boost._beta_ppf(q, a, b)\n",
      "/Users/juannat/opt/anaconda3/envs/septic/lib/python3.9/site-packages/scipy/stats/_continuous_distns.py:624: RuntimeWarning: overflow encountered in _beta_ppf\n",
      "  return _boost._beta_ppf(q, a, b)\n",
      "Sampling 3 chains for 1_000 tune and 100 draw iterations (3_000 + 300 draws total) took 397 seconds.\n",
      "The rhat statistic is larger than 1.4 for some parameters. The sampler did not converge.\n",
      "The number of effective samples is smaller than 10% for some parameters.\n"
     ]
    }
   ],
   "source": [
    "# water model\n",
    "with pm.Model(coords=coords) as model:\n",
    "    # constant data: basin information and variables\n",
    "    basin = pm.Data('basin', basin_idx, dims='septic')\n",
    "    catchment = pm.Data('catchment', catchment_idx, dims='septic')\n",
    "    # water_d = pm.Data('water_d', df.water_dist_norm.values, dims='septic')\n",
    "    ppt_d = pm.Data('ppt_d', df.ppt_2021_norm.values, dims='septic')\n",
    "\n",
    "    # global model parameters\n",
    "    # wtr_beta = pm.HalfNormal(\"wtr_beta\", sigma=10)\n",
    "    ppt_mu = pm.Normal(\"ppt_mu\", mu=0, sigma=10)\n",
    "    ppt_sig = pm.HalfNormal(\"ppt_sig\", sigma=10)\n",
    "    mu_inter = pm.Normal('mu_inter', mu=0, sigma=10)\n",
    "    sigma_inter = pm.HalfNormal('sigma_inter', sigma=10)\n",
    "    \n",
    "    # catchment parameters\n",
    "    # wtr_beta_c = pm.HalfNormal(\"wtr_beta_c\", sigma=wtr_beta, dims='catchment')\n",
    "    ppt_mu_c = pm.Normal(\"ppt_mu_c\", mu=ppt_mu, sigma=10, dims='catchment')\n",
    "    ppt_sig_c = pm.HalfNormal(\"ppt_sig_c\", sigma=ppt_sig, dims='catchment')\n",
    "    \n",
    "    mu_inter_c = pm.Normal('mu_inter_c', mu=mu_inter, sigma=10, dims='catchment')\n",
    "    sigma_inter_c = pm.HalfNormal('sigma_inter_c', sigma=sigma_inter, dims='catchment')\n",
    "\n",
    "    # septic-specific model parameters\n",
    "    # wtr_dist = pm.Exponential(\"wtr_dist\", lam=wtr_beta_c.mean(), dims=\"basin\")\n",
    "    ppt = pm.Normal(\"ppt\", mu=ppt_mu_c.mean(), sigma=ppt_sig_c.mean(), dims=\"basin\")\n",
    "    c = pm.Normal('c', mu=mu_inter_c.mean(), sigma=sigma_inter_c.mean(), dims=\"basin\")\n",
    "    \n",
    "    # hierarchical bayesian formula\n",
    "    failure_theta = pm.math.sigmoid(c[basin] \n",
    "                                    # + wtr_dist[basin] * water_d \n",
    "                                    + ppt[basin] * ppt_d\n",
    "                                   )\n",
    "\n",
    "    # likelihood of observed data\n",
    "    failures = pm.Bernoulli('failures', failure_theta, observed=df['sewageSystem_enc'])\n",
    "    \n",
    "    # fitting using NUTS sampler\n",
    "    trace = pm.sample(100, tune=tune, cores=3, return_inferencedata=True, target_accept=0.99, random_seed=rs)"
   ]
  },
  {
   "cell_type": "code",
   "execution_count": 6,
   "id": "d071a69e",
   "metadata": {},
   "outputs": [
    {
     "data": {
      "text/html": [
       "\n",
       "    <div>\n",
       "        <style>\n",
       "            /* Turns off some styling */\n",
       "            progress {\n",
       "                /* gets rid of default border in Firefox and Opera. */\n",
       "                border: none;\n",
       "                /* Needs to be in here for Safari polyfill so background images work as expected. */\n",
       "                background-size: auto;\n",
       "            }\n",
       "            .progress-bar-interrupted, .progress-bar-interrupted::-webkit-progress-bar {\n",
       "                background: #F44336;\n",
       "            }\n",
       "        </style>\n",
       "      <progress value='500' class='' max='500' style='width:300px; height:20px; vertical-align: middle;'></progress>\n",
       "      100.00% [500/500 00:00<00:00]\n",
       "    </div>\n",
       "    "
      ],
      "text/plain": [
       "<IPython.core.display.HTML object>"
      ]
     },
     "metadata": {},
     "output_type": "display_data"
    },
    {
     "data": {
      "text/html": [
       "\n",
       "    <div>\n",
       "        <style>\n",
       "            /* Turns off some styling */\n",
       "            progress {\n",
       "                /* gets rid of default border in Firefox and Opera. */\n",
       "                border: none;\n",
       "                /* Needs to be in here for Safari polyfill so background images work as expected. */\n",
       "                background-size: auto;\n",
       "            }\n",
       "            .progress-bar-interrupted, .progress-bar-interrupted::-webkit-progress-bar {\n",
       "                background: #F44336;\n",
       "            }\n",
       "        </style>\n",
       "      <progress value='500' class='' max='500' style='width:300px; height:20px; vertical-align: middle;'></progress>\n",
       "      100.00% [500/500 00:00<00:00]\n",
       "    </div>\n",
       "    "
      ],
      "text/plain": [
       "<IPython.core.display.HTML object>"
      ]
     },
     "metadata": {},
     "output_type": "display_data"
    },
    {
     "data": {
      "text/html": [
       "\n",
       "    <div>\n",
       "        <style>\n",
       "            /* Turns off some styling */\n",
       "            progress {\n",
       "                /* gets rid of default border in Firefox and Opera. */\n",
       "                border: none;\n",
       "                /* Needs to be in here for Safari polyfill so background images work as expected. */\n",
       "                background-size: auto;\n",
       "            }\n",
       "            .progress-bar-interrupted, .progress-bar-interrupted::-webkit-progress-bar {\n",
       "                background: #F44336;\n",
       "            }\n",
       "        </style>\n",
       "      <progress value='500' class='' max='500' style='width:300px; height:20px; vertical-align: middle;'></progress>\n",
       "      100.00% [500/500 00:00<00:00]\n",
       "    </div>\n",
       "    "
      ],
      "text/plain": [
       "<IPython.core.display.HTML object>"
      ]
     },
     "metadata": {},
     "output_type": "display_data"
    },
    {
     "data": {
      "text/html": [
       "\n",
       "    <div>\n",
       "        <style>\n",
       "            /* Turns off some styling */\n",
       "            progress {\n",
       "                /* gets rid of default border in Firefox and Opera. */\n",
       "                border: none;\n",
       "                /* Needs to be in here for Safari polyfill so background images work as expected. */\n",
       "                background-size: auto;\n",
       "            }\n",
       "            .progress-bar-interrupted, .progress-bar-interrupted::-webkit-progress-bar {\n",
       "                background: #F44336;\n",
       "            }\n",
       "        </style>\n",
       "      <progress value='500' class='' max='500' style='width:300px; height:20px; vertical-align: middle;'></progress>\n",
       "      100.00% [500/500 00:00<00:00]\n",
       "    </div>\n",
       "    "
      ],
      "text/plain": [
       "<IPython.core.display.HTML object>"
      ]
     },
     "metadata": {},
     "output_type": "display_data"
    },
    {
     "data": {
      "text/html": [
       "\n",
       "    <div>\n",
       "        <style>\n",
       "            /* Turns off some styling */\n",
       "            progress {\n",
       "                /* gets rid of default border in Firefox and Opera. */\n",
       "                border: none;\n",
       "                /* Needs to be in here for Safari polyfill so background images work as expected. */\n",
       "                background-size: auto;\n",
       "            }\n",
       "            .progress-bar-interrupted, .progress-bar-interrupted::-webkit-progress-bar {\n",
       "                background: #F44336;\n",
       "            }\n",
       "        </style>\n",
       "      <progress value='500' class='' max='500' style='width:300px; height:20px; vertical-align: middle;'></progress>\n",
       "      100.00% [500/500 00:00<00:00]\n",
       "    </div>\n",
       "    "
      ],
      "text/plain": [
       "<IPython.core.display.HTML object>"
      ]
     },
     "metadata": {},
     "output_type": "display_data"
    },
    {
     "name": "stdout",
     "output_type": "stream",
     "text": [
      "accuracy is: 86.04357514236196 ± 0.03213853673123858%\n"
     ]
    }
   ],
   "source": [
    "# evaluate model\n",
    "y = df.sewageSystem_enc.to_list()\n",
    "accs = []\n",
    "for i in range(5):\n",
    "    acc, y_pred = evaluate_bayes(trace, model, y)\n",
    "    accs.append(acc)\n",
    "\n",
    "print(f'accuracy is: {np.array(accs).mean()} ± {np.array(accs).std()}%')"
   ]
  },
  {
   "cell_type": "markdown",
   "id": "50f3d485",
   "metadata": {},
   "source": [
    "2. Soil model"
   ]
  },
  {
   "cell_type": "code",
   "execution_count": 7,
   "id": "adcba9a5",
   "metadata": {},
   "outputs": [
    {
     "name": "stderr",
     "output_type": "stream",
     "text": [
      "Only 100 samples in chain.\n",
      "Auto-assigning NUTS sampler...\n",
      "Initializing NUTS using jitter+adapt_diag...\n",
      "Multiprocess sampling (3 chains in 3 jobs)\n",
      "NUTS: [c, hydr, sigma_inter_c, mu_inter_c, hydr_sig_c, hydr_mu_c, sigma_inter, mu_inter, hydr_sig, hydr_mu]\n"
     ]
    },
    {
     "data": {
      "text/html": [
       "\n",
       "    <div>\n",
       "        <style>\n",
       "            /* Turns off some styling */\n",
       "            progress {\n",
       "                /* gets rid of default border in Firefox and Opera. */\n",
       "                border: none;\n",
       "                /* Needs to be in here for Safari polyfill so background images work as expected. */\n",
       "                background-size: auto;\n",
       "            }\n",
       "            .progress-bar-interrupted, .progress-bar-interrupted::-webkit-progress-bar {\n",
       "                background: #F44336;\n",
       "            }\n",
       "        </style>\n",
       "      <progress value='3300' class='' max='3300' style='width:300px; height:20px; vertical-align: middle;'></progress>\n",
       "      100.00% [3300/3300 05:12<00:00 Sampling 3 chains, 0 divergences]\n",
       "    </div>\n",
       "    "
      ],
      "text/plain": [
       "<IPython.core.display.HTML object>"
      ]
     },
     "metadata": {},
     "output_type": "display_data"
    },
    {
     "name": "stderr",
     "output_type": "stream",
     "text": [
      "/Users/juannat/opt/anaconda3/envs/septic/lib/python3.9/site-packages/scipy/stats/_continuous_distns.py:624: RuntimeWarning: overflow encountered in _beta_ppf\n",
      "  return _boost._beta_ppf(q, a, b)\n",
      "/Users/juannat/opt/anaconda3/envs/septic/lib/python3.9/site-packages/scipy/stats/_continuous_distns.py:624: RuntimeWarning: overflow encountered in _beta_ppf\n",
      "  return _boost._beta_ppf(q, a, b)\n",
      "/Users/juannat/opt/anaconda3/envs/septic/lib/python3.9/site-packages/scipy/stats/_continuous_distns.py:624: RuntimeWarning: overflow encountered in _beta_ppf\n",
      "  return _boost._beta_ppf(q, a, b)\n",
      "Sampling 3 chains for 1_000 tune and 100 draw iterations (3_000 + 300 draws total) took 324 seconds.\n",
      "The rhat statistic is larger than 1.4 for some parameters. The sampler did not converge.\n",
      "The number of effective samples is smaller than 10% for some parameters.\n"
     ]
    }
   ],
   "source": [
    "# soil model\n",
    "with pm.Model(coords=coords) as model:\n",
    "    # constant data: basin information and variables\n",
    "    basin = pm.Data('basin', basin_idx, dims='septic')\n",
    "    catchment = pm.Data('catchment', catchment_idx, dims='septic')\n",
    "    hydr_d = pm.Data('hydr_d', df.hydraulic_c_norm.values, dims='septic')\n",
    "\n",
    "    # global model parameters\n",
    "    hydr_mu = pm.Normal('hydr_mu', mu=0, sigma=10)\n",
    "    hydr_sig = pm.HalfNormal('hydr_sig', sigma=10)\n",
    "    mu_inter = pm.Normal('mu_inter', mu=0, sigma=10)\n",
    "    sigma_inter = pm.HalfNormal('sigma_inter', sigma=10)\n",
    "    \n",
    "    # catchment parameters\n",
    "    hydr_mu_c = pm.Normal('hydr_mu_c', mu=hydr_mu, sigma=10, dims='catchment')\n",
    "    hydr_sig_c = pm.HalfNormal('hydr_sig_c', sigma=hydr_sig, dims='catchment')\n",
    "    mu_inter_c = pm.Normal('mu_inter_c', mu=mu_inter, sigma=10, dims='catchment')\n",
    "    sigma_inter_c = pm.HalfNormal('sigma_inter_c', sigma=sigma_inter, dims='catchment')\n",
    "\n",
    "    # septic-specific model parameters\n",
    "    hydr = pm.Normal('hydr', mu=hydr_mu_c.mean(), sigma=hydr_sig_c.mean(), dims='basin')\n",
    "    c = pm.Normal('c', mu=mu_inter_c.mean(), sigma=sigma_inter_c.mean(), dims=\"basin\")\n",
    "    \n",
    "    # hierarchical bayesian formula\n",
    "    failure_theta = pm.math.sigmoid(c[basin] \n",
    "                                    + hydr[basin] * hydr_d\n",
    "                                   )\n",
    "\n",
    "    # likelihood of observed data\n",
    "    failures = pm.Bernoulli('failures', failure_theta, observed=df['sewageSystem_enc'])\n",
    "    \n",
    "    # fitting using NUTS sampler\n",
    "    trace = pm.sample(100, tune=tune, cores=3, return_inferencedata=True, target_accept=0.99, random_seed=rs)"
   ]
  },
  {
   "cell_type": "code",
   "execution_count": 8,
   "id": "58f76885",
   "metadata": {},
   "outputs": [
    {
     "data": {
      "text/html": [
       "\n",
       "    <div>\n",
       "        <style>\n",
       "            /* Turns off some styling */\n",
       "            progress {\n",
       "                /* gets rid of default border in Firefox and Opera. */\n",
       "                border: none;\n",
       "                /* Needs to be in here for Safari polyfill so background images work as expected. */\n",
       "                background-size: auto;\n",
       "            }\n",
       "            .progress-bar-interrupted, .progress-bar-interrupted::-webkit-progress-bar {\n",
       "                background: #F44336;\n",
       "            }\n",
       "        </style>\n",
       "      <progress value='500' class='' max='500' style='width:300px; height:20px; vertical-align: middle;'></progress>\n",
       "      100.00% [500/500 00:00<00:00]\n",
       "    </div>\n",
       "    "
      ],
      "text/plain": [
       "<IPython.core.display.HTML object>"
      ]
     },
     "metadata": {},
     "output_type": "display_data"
    },
    {
     "data": {
      "text/html": [
       "\n",
       "    <div>\n",
       "        <style>\n",
       "            /* Turns off some styling */\n",
       "            progress {\n",
       "                /* gets rid of default border in Firefox and Opera. */\n",
       "                border: none;\n",
       "                /* Needs to be in here for Safari polyfill so background images work as expected. */\n",
       "                background-size: auto;\n",
       "            }\n",
       "            .progress-bar-interrupted, .progress-bar-interrupted::-webkit-progress-bar {\n",
       "                background: #F44336;\n",
       "            }\n",
       "        </style>\n",
       "      <progress value='500' class='' max='500' style='width:300px; height:20px; vertical-align: middle;'></progress>\n",
       "      100.00% [500/500 00:00<00:00]\n",
       "    </div>\n",
       "    "
      ],
      "text/plain": [
       "<IPython.core.display.HTML object>"
      ]
     },
     "metadata": {},
     "output_type": "display_data"
    },
    {
     "data": {
      "text/html": [
       "\n",
       "    <div>\n",
       "        <style>\n",
       "            /* Turns off some styling */\n",
       "            progress {\n",
       "                /* gets rid of default border in Firefox and Opera. */\n",
       "                border: none;\n",
       "                /* Needs to be in here for Safari polyfill so background images work as expected. */\n",
       "                background-size: auto;\n",
       "            }\n",
       "            .progress-bar-interrupted, .progress-bar-interrupted::-webkit-progress-bar {\n",
       "                background: #F44336;\n",
       "            }\n",
       "        </style>\n",
       "      <progress value='500' class='' max='500' style='width:300px; height:20px; vertical-align: middle;'></progress>\n",
       "      100.00% [500/500 00:00<00:00]\n",
       "    </div>\n",
       "    "
      ],
      "text/plain": [
       "<IPython.core.display.HTML object>"
      ]
     },
     "metadata": {},
     "output_type": "display_data"
    },
    {
     "data": {
      "text/html": [
       "\n",
       "    <div>\n",
       "        <style>\n",
       "            /* Turns off some styling */\n",
       "            progress {\n",
       "                /* gets rid of default border in Firefox and Opera. */\n",
       "                border: none;\n",
       "                /* Needs to be in here for Safari polyfill so background images work as expected. */\n",
       "                background-size: auto;\n",
       "            }\n",
       "            .progress-bar-interrupted, .progress-bar-interrupted::-webkit-progress-bar {\n",
       "                background: #F44336;\n",
       "            }\n",
       "        </style>\n",
       "      <progress value='500' class='' max='500' style='width:300px; height:20px; vertical-align: middle;'></progress>\n",
       "      100.00% [500/500 00:00<00:00]\n",
       "    </div>\n",
       "    "
      ],
      "text/plain": [
       "<IPython.core.display.HTML object>"
      ]
     },
     "metadata": {},
     "output_type": "display_data"
    },
    {
     "data": {
      "text/html": [
       "\n",
       "    <div>\n",
       "        <style>\n",
       "            /* Turns off some styling */\n",
       "            progress {\n",
       "                /* gets rid of default border in Firefox and Opera. */\n",
       "                border: none;\n",
       "                /* Needs to be in here for Safari polyfill so background images work as expected. */\n",
       "                background-size: auto;\n",
       "            }\n",
       "            .progress-bar-interrupted, .progress-bar-interrupted::-webkit-progress-bar {\n",
       "                background: #F44336;\n",
       "            }\n",
       "        </style>\n",
       "      <progress value='500' class='' max='500' style='width:300px; height:20px; vertical-align: middle;'></progress>\n",
       "      100.00% [500/500 00:00<00:00]\n",
       "    </div>\n",
       "    "
      ],
      "text/plain": [
       "<IPython.core.display.HTML object>"
      ]
     },
     "metadata": {},
     "output_type": "display_data"
    },
    {
     "name": "stdout",
     "output_type": "stream",
     "text": [
      "accuracy is: 86.49789551869273 ± 0.050528179331412064%\n"
     ]
    }
   ],
   "source": [
    "# evaluate model\n",
    "y = df.sewageSystem_enc.to_list()\n",
    "accs = []\n",
    "for i in range(5):\n",
    "    acc, y_pred = evaluate_bayes(trace, model, y)\n",
    "    accs.append(acc)\n",
    "\n",
    "print(f'accuracy is: {np.array(accs).mean()} ± {np.array(accs).std()}%')"
   ]
  },
  {
   "cell_type": "markdown",
   "id": "e8916471",
   "metadata": {},
   "source": [
    "3. Topo model: elevation"
   ]
  },
  {
   "cell_type": "code",
   "execution_count": 9,
   "id": "81daeaaf",
   "metadata": {},
   "outputs": [
    {
     "ename": "MissingInputError",
     "evalue": "Input 0 of the graph (indices start from 0), used to compute AdvancedSubtensor1(hydr, basin), was not provided and not given a value. Use the Theano flag exception_verbosity='high', for more information on this error.",
     "output_type": "error",
     "traceback": [
      "\u001b[0;31m---------------------------------------------------------------------------\u001b[0m",
      "\u001b[0;31mMissingInputError\u001b[0m                         Traceback (most recent call last)",
      "\u001b[1;32m/Users/juannat/Documents/research/septic/bayesian_septic/notebooks/01a_multilevel_bayesian_full.ipynb Cell 17\u001b[0m in \u001b[0;36m<cell line: 2>\u001b[0;34m()\u001b[0m\n\u001b[1;32m     <a href='vscode-notebook-cell:/Users/juannat/Documents/research/septic/bayesian_septic/notebooks/01a_multilevel_bayesian_full.ipynb#X22sZmlsZQ%3D%3D?line=28'>29</a>\u001b[0m failures \u001b[39m=\u001b[39m pm\u001b[39m.\u001b[39mBernoulli(\u001b[39m'\u001b[39m\u001b[39mfailures\u001b[39m\u001b[39m'\u001b[39m, failure_theta, observed\u001b[39m=\u001b[39mdf[\u001b[39m'\u001b[39m\u001b[39msewageSystem_enc\u001b[39m\u001b[39m'\u001b[39m])\n\u001b[1;32m     <a href='vscode-notebook-cell:/Users/juannat/Documents/research/septic/bayesian_septic/notebooks/01a_multilevel_bayesian_full.ipynb#X22sZmlsZQ%3D%3D?line=30'>31</a>\u001b[0m \u001b[39m# fitting using NUTS sampler\u001b[39;00m\n\u001b[0;32m---> <a href='vscode-notebook-cell:/Users/juannat/Documents/research/septic/bayesian_septic/notebooks/01a_multilevel_bayesian_full.ipynb#X22sZmlsZQ%3D%3D?line=31'>32</a>\u001b[0m trace \u001b[39m=\u001b[39m pm\u001b[39m.\u001b[39;49msample(\u001b[39m100\u001b[39;49m, tune\u001b[39m=\u001b[39;49mtune, cores\u001b[39m=\u001b[39;49m\u001b[39m3\u001b[39;49m, return_inferencedata\u001b[39m=\u001b[39;49m\u001b[39mTrue\u001b[39;49;00m, target_accept\u001b[39m=\u001b[39;49m\u001b[39m0.99\u001b[39;49m, random_seed\u001b[39m=\u001b[39;49mrs)\n",
      "File \u001b[0;32m~/opt/anaconda3/envs/septic/lib/python3.9/site-packages/pymc3/sampling.py:428\u001b[0m, in \u001b[0;36msample\u001b[0;34m(draws, step, init, n_init, start, trace, chain_idx, chains, cores, tune, progressbar, model, random_seed, discard_tuned_samples, compute_convergence_checks, callback, jitter_max_retries, return_inferencedata, idata_kwargs, mp_ctx, pickle_backend, **kwargs)\u001b[0m\n\u001b[1;32m    426\u001b[0m start \u001b[39m=\u001b[39m deepcopy(start)\n\u001b[1;32m    427\u001b[0m \u001b[39mif\u001b[39;00m start \u001b[39mis\u001b[39;00m \u001b[39mNone\u001b[39;00m:\n\u001b[0;32m--> 428\u001b[0m     check_start_vals(model\u001b[39m.\u001b[39;49mtest_point, model)\n\u001b[1;32m    429\u001b[0m \u001b[39melse\u001b[39;00m:\n\u001b[1;32m    430\u001b[0m     \u001b[39mif\u001b[39;00m \u001b[39misinstance\u001b[39m(start, \u001b[39mdict\u001b[39m):\n",
      "File \u001b[0;32m~/opt/anaconda3/envs/septic/lib/python3.9/site-packages/pymc3/util.py:234\u001b[0m, in \u001b[0;36mcheck_start_vals\u001b[0;34m(start, model)\u001b[0m\n\u001b[1;32m    228\u001b[0m     valid_keys \u001b[39m=\u001b[39m \u001b[39m\"\u001b[39m\u001b[39m, \u001b[39m\u001b[39m\"\u001b[39m\u001b[39m.\u001b[39mjoin(model\u001b[39m.\u001b[39mnamed_vars\u001b[39m.\u001b[39mkeys())\n\u001b[1;32m    229\u001b[0m     \u001b[39mraise\u001b[39;00m \u001b[39mKeyError\u001b[39;00m(\n\u001b[1;32m    230\u001b[0m         \u001b[39m\"\u001b[39m\u001b[39mSome start parameters do not appear in the model!\u001b[39m\u001b[39m\\n\u001b[39;00m\u001b[39m\"\u001b[39m\n\u001b[1;32m    231\u001b[0m         \u001b[39m\"\u001b[39m\u001b[39mValid keys are: \u001b[39m\u001b[39m{}\u001b[39;00m\u001b[39m, but \u001b[39m\u001b[39m{}\u001b[39;00m\u001b[39m was supplied\u001b[39m\u001b[39m\"\u001b[39m\u001b[39m.\u001b[39mformat(valid_keys, extra_keys)\n\u001b[1;32m    232\u001b[0m     )\n\u001b[0;32m--> 234\u001b[0m initial_eval \u001b[39m=\u001b[39m model\u001b[39m.\u001b[39;49mcheck_test_point(test_point\u001b[39m=\u001b[39;49melem)\n\u001b[1;32m    236\u001b[0m \u001b[39mif\u001b[39;00m \u001b[39mnot\u001b[39;00m np\u001b[39m.\u001b[39mall(np\u001b[39m.\u001b[39misfinite(initial_eval)):\n\u001b[1;32m    237\u001b[0m     \u001b[39mraise\u001b[39;00m SamplingError(\n\u001b[1;32m    238\u001b[0m         \u001b[39m\"\u001b[39m\u001b[39mInitial evaluation of model at starting point failed!\u001b[39m\u001b[39m\\n\u001b[39;00m\u001b[39m\"\u001b[39m\n\u001b[1;32m    239\u001b[0m         \u001b[39m\"\u001b[39m\u001b[39mStarting values:\u001b[39m\u001b[39m\\n\u001b[39;00m\u001b[39m{}\u001b[39;00m\u001b[39m\\n\u001b[39;00m\u001b[39m\\n\u001b[39;00m\u001b[39m\"\u001b[39m\n\u001b[1;32m    240\u001b[0m         \u001b[39m\"\u001b[39m\u001b[39mInitial evaluation results:\u001b[39m\u001b[39m\\n\u001b[39;00m\u001b[39m{}\u001b[39;00m\u001b[39m\"\u001b[39m\u001b[39m.\u001b[39mformat(elem, \u001b[39mstr\u001b[39m(initial_eval))\n\u001b[1;32m    241\u001b[0m     )\n",
      "File \u001b[0;32m~/opt/anaconda3/envs/septic/lib/python3.9/site-packages/pymc3/model.py:1384\u001b[0m, in \u001b[0;36mModel.check_test_point\u001b[0;34m(self, test_point, round_vals)\u001b[0m\n\u001b[1;32m   1380\u001b[0m \u001b[39mif\u001b[39;00m test_point \u001b[39mis\u001b[39;00m \u001b[39mNone\u001b[39;00m:\n\u001b[1;32m   1381\u001b[0m     test_point \u001b[39m=\u001b[39m \u001b[39mself\u001b[39m\u001b[39m.\u001b[39mtest_point\n\u001b[1;32m   1383\u001b[0m \u001b[39mreturn\u001b[39;00m Series(\n\u001b[0;32m-> 1384\u001b[0m     {RV\u001b[39m.\u001b[39mname: np\u001b[39m.\u001b[39mround(RV\u001b[39m.\u001b[39mlogp(test_point), round_vals) \u001b[39mfor\u001b[39;00m RV \u001b[39min\u001b[39;00m \u001b[39mself\u001b[39m\u001b[39m.\u001b[39mbasic_RVs},\n\u001b[1;32m   1385\u001b[0m     name\u001b[39m=\u001b[39m\u001b[39m\"\u001b[39m\u001b[39mLog-probability of test_point\u001b[39m\u001b[39m\"\u001b[39m,\n\u001b[1;32m   1386\u001b[0m )\n",
      "File \u001b[0;32m~/opt/anaconda3/envs/septic/lib/python3.9/site-packages/pymc3/model.py:1384\u001b[0m, in \u001b[0;36m<dictcomp>\u001b[0;34m(.0)\u001b[0m\n\u001b[1;32m   1380\u001b[0m \u001b[39mif\u001b[39;00m test_point \u001b[39mis\u001b[39;00m \u001b[39mNone\u001b[39;00m:\n\u001b[1;32m   1381\u001b[0m     test_point \u001b[39m=\u001b[39m \u001b[39mself\u001b[39m\u001b[39m.\u001b[39mtest_point\n\u001b[1;32m   1383\u001b[0m \u001b[39mreturn\u001b[39;00m Series(\n\u001b[0;32m-> 1384\u001b[0m     {RV\u001b[39m.\u001b[39mname: np\u001b[39m.\u001b[39mround(RV\u001b[39m.\u001b[39;49mlogp(test_point), round_vals) \u001b[39mfor\u001b[39;00m RV \u001b[39min\u001b[39;00m \u001b[39mself\u001b[39m\u001b[39m.\u001b[39mbasic_RVs},\n\u001b[1;32m   1385\u001b[0m     name\u001b[39m=\u001b[39m\u001b[39m\"\u001b[39m\u001b[39mLog-probability of test_point\u001b[39m\u001b[39m\"\u001b[39m,\n\u001b[1;32m   1386\u001b[0m )\n",
      "File \u001b[0;32m~/opt/anaconda3/envs/septic/lib/python3.9/site-packages/pymc3/model.py:417\u001b[0m, in \u001b[0;36mFactor.logp\u001b[0;34m(self)\u001b[0m\n\u001b[1;32m    414\u001b[0m \u001b[39m@property\u001b[39m\n\u001b[1;32m    415\u001b[0m \u001b[39mdef\u001b[39;00m \u001b[39mlogp\u001b[39m(\u001b[39mself\u001b[39m):\n\u001b[1;32m    416\u001b[0m     \u001b[39m\"\"\"Compiled log probability density function\"\"\"\u001b[39;00m\n\u001b[0;32m--> 417\u001b[0m     \u001b[39mreturn\u001b[39;00m \u001b[39mself\u001b[39;49m\u001b[39m.\u001b[39;49mmodel\u001b[39m.\u001b[39;49mfn(\u001b[39mself\u001b[39;49m\u001b[39m.\u001b[39;49mlogpt)\n",
      "File \u001b[0;32m~/opt/anaconda3/envs/septic/lib/python3.9/site-packages/pymc3/model.py:1278\u001b[0m, in \u001b[0;36mModel.fn\u001b[0;34m(self, outs, mode, *args, **kwargs)\u001b[0m\n\u001b[1;32m   1265\u001b[0m \u001b[39mdef\u001b[39;00m \u001b[39mfn\u001b[39m(\u001b[39mself\u001b[39m, outs, mode\u001b[39m=\u001b[39m\u001b[39mNone\u001b[39;00m, \u001b[39m*\u001b[39margs, \u001b[39m*\u001b[39m\u001b[39m*\u001b[39mkwargs):\n\u001b[1;32m   1266\u001b[0m     \u001b[39m\"\"\"Compiles a Theano function which returns the values of ``outs``\u001b[39;00m\n\u001b[1;32m   1267\u001b[0m \u001b[39m    and takes values of model vars as arguments.\u001b[39;00m\n\u001b[1;32m   1268\u001b[0m \n\u001b[0;32m   (...)\u001b[0m\n\u001b[1;32m   1276\u001b[0m \u001b[39m    Compiled Theano function\u001b[39;00m\n\u001b[1;32m   1277\u001b[0m \u001b[39m    \"\"\"\u001b[39;00m\n\u001b[0;32m-> 1278\u001b[0m     \u001b[39mreturn\u001b[39;00m LoosePointFunc(\u001b[39mself\u001b[39;49m\u001b[39m.\u001b[39;49mmakefn(outs, mode, \u001b[39m*\u001b[39;49margs, \u001b[39m*\u001b[39;49m\u001b[39m*\u001b[39;49mkwargs), \u001b[39mself\u001b[39m)\n",
      "File \u001b[0;32m~/opt/anaconda3/envs/septic/lib/python3.9/site-packages/pymc3/model.py:1254\u001b[0m, in \u001b[0;36mModel.makefn\u001b[0;34m(self, outs, mode, *args, **kwargs)\u001b[0m\n\u001b[1;32m   1241\u001b[0m \u001b[39m\"\"\"Compiles a Theano function which returns ``outs`` and takes the variable\u001b[39;00m\n\u001b[1;32m   1242\u001b[0m \u001b[39mancestors of ``outs`` as inputs.\u001b[39;00m\n\u001b[1;32m   1243\u001b[0m \n\u001b[0;32m   (...)\u001b[0m\n\u001b[1;32m   1251\u001b[0m \u001b[39mCompiled Theano function\u001b[39;00m\n\u001b[1;32m   1252\u001b[0m \u001b[39m\"\"\"\u001b[39;00m\n\u001b[1;32m   1253\u001b[0m \u001b[39mwith\u001b[39;00m \u001b[39mself\u001b[39m:\n\u001b[0;32m-> 1254\u001b[0m     \u001b[39mreturn\u001b[39;00m theano\u001b[39m.\u001b[39;49mfunction(\n\u001b[1;32m   1255\u001b[0m         \u001b[39mself\u001b[39;49m\u001b[39m.\u001b[39;49mvars,\n\u001b[1;32m   1256\u001b[0m         outs,\n\u001b[1;32m   1257\u001b[0m         allow_input_downcast\u001b[39m=\u001b[39;49m\u001b[39mTrue\u001b[39;49;00m,\n\u001b[1;32m   1258\u001b[0m         on_unused_input\u001b[39m=\u001b[39;49m\u001b[39m\"\u001b[39;49m\u001b[39mignore\u001b[39;49m\u001b[39m\"\u001b[39;49m,\n\u001b[1;32m   1259\u001b[0m         accept_inplace\u001b[39m=\u001b[39;49m\u001b[39mTrue\u001b[39;49;00m,\n\u001b[1;32m   1260\u001b[0m         mode\u001b[39m=\u001b[39;49mmode,\n\u001b[1;32m   1261\u001b[0m         \u001b[39m*\u001b[39;49margs,\n\u001b[1;32m   1262\u001b[0m         \u001b[39m*\u001b[39;49m\u001b[39m*\u001b[39;49mkwargs,\n\u001b[1;32m   1263\u001b[0m     )\n",
      "File \u001b[0;32m~/opt/anaconda3/envs/septic/lib/python3.9/site-packages/theano/compile/function/__init__.py:337\u001b[0m, in \u001b[0;36mfunction\u001b[0;34m(inputs, outputs, mode, updates, givens, no_default_updates, accept_inplace, name, rebuild_strict, allow_input_downcast, profile, on_unused_input)\u001b[0m\n\u001b[1;32m    331\u001b[0m     fn \u001b[39m=\u001b[39m orig_function(\n\u001b[1;32m    332\u001b[0m         inputs, outputs, mode\u001b[39m=\u001b[39mmode, accept_inplace\u001b[39m=\u001b[39maccept_inplace, name\u001b[39m=\u001b[39mname\n\u001b[1;32m    333\u001b[0m     )\n\u001b[1;32m    334\u001b[0m \u001b[39melse\u001b[39;00m:\n\u001b[1;32m    335\u001b[0m     \u001b[39m# note: pfunc will also call orig_function -- orig_function is\u001b[39;00m\n\u001b[1;32m    336\u001b[0m     \u001b[39m#      a choke point that all compilation must pass through\u001b[39;00m\n\u001b[0;32m--> 337\u001b[0m     fn \u001b[39m=\u001b[39m pfunc(\n\u001b[1;32m    338\u001b[0m         params\u001b[39m=\u001b[39;49minputs,\n\u001b[1;32m    339\u001b[0m         outputs\u001b[39m=\u001b[39;49moutputs,\n\u001b[1;32m    340\u001b[0m         mode\u001b[39m=\u001b[39;49mmode,\n\u001b[1;32m    341\u001b[0m         updates\u001b[39m=\u001b[39;49mupdates,\n\u001b[1;32m    342\u001b[0m         givens\u001b[39m=\u001b[39;49mgivens,\n\u001b[1;32m    343\u001b[0m         no_default_updates\u001b[39m=\u001b[39;49mno_default_updates,\n\u001b[1;32m    344\u001b[0m         accept_inplace\u001b[39m=\u001b[39;49maccept_inplace,\n\u001b[1;32m    345\u001b[0m         name\u001b[39m=\u001b[39;49mname,\n\u001b[1;32m    346\u001b[0m         rebuild_strict\u001b[39m=\u001b[39;49mrebuild_strict,\n\u001b[1;32m    347\u001b[0m         allow_input_downcast\u001b[39m=\u001b[39;49mallow_input_downcast,\n\u001b[1;32m    348\u001b[0m         on_unused_input\u001b[39m=\u001b[39;49mon_unused_input,\n\u001b[1;32m    349\u001b[0m         profile\u001b[39m=\u001b[39;49mprofile,\n\u001b[1;32m    350\u001b[0m         output_keys\u001b[39m=\u001b[39;49moutput_keys,\n\u001b[1;32m    351\u001b[0m     )\n\u001b[1;32m    352\u001b[0m \u001b[39mreturn\u001b[39;00m fn\n",
      "File \u001b[0;32m~/opt/anaconda3/envs/septic/lib/python3.9/site-packages/theano/compile/function/pfunc.py:524\u001b[0m, in \u001b[0;36mpfunc\u001b[0;34m(params, outputs, mode, updates, givens, no_default_updates, accept_inplace, name, rebuild_strict, allow_input_downcast, profile, on_unused_input, output_keys)\u001b[0m\n\u001b[1;32m    519\u001b[0m         si \u001b[39m=\u001b[39m In(\n\u001b[1;32m    520\u001b[0m             variable\u001b[39m=\u001b[39msv, value\u001b[39m=\u001b[39msv\u001b[39m.\u001b[39mcontainer, mutable\u001b[39m=\u001b[39m\u001b[39mFalse\u001b[39;00m, borrow\u001b[39m=\u001b[39m\u001b[39mTrue\u001b[39;00m, shared\u001b[39m=\u001b[39m\u001b[39mTrue\u001b[39;00m\n\u001b[1;32m    521\u001b[0m         )\n\u001b[1;32m    522\u001b[0m     inputs\u001b[39m.\u001b[39mappend(si)\n\u001b[0;32m--> 524\u001b[0m \u001b[39mreturn\u001b[39;00m orig_function(\n\u001b[1;32m    525\u001b[0m     inputs,\n\u001b[1;32m    526\u001b[0m     cloned_outputs,\n\u001b[1;32m    527\u001b[0m     mode,\n\u001b[1;32m    528\u001b[0m     accept_inplace\u001b[39m=\u001b[39;49maccept_inplace,\n\u001b[1;32m    529\u001b[0m     name\u001b[39m=\u001b[39;49mname,\n\u001b[1;32m    530\u001b[0m     profile\u001b[39m=\u001b[39;49mprofile,\n\u001b[1;32m    531\u001b[0m     on_unused_input\u001b[39m=\u001b[39;49mon_unused_input,\n\u001b[1;32m    532\u001b[0m     output_keys\u001b[39m=\u001b[39;49moutput_keys,\n\u001b[1;32m    533\u001b[0m )\n",
      "File \u001b[0;32m~/opt/anaconda3/envs/septic/lib/python3.9/site-packages/theano/compile/function/types.py:1970\u001b[0m, in \u001b[0;36morig_function\u001b[0;34m(inputs, outputs, mode, accept_inplace, name, profile, on_unused_input, output_keys)\u001b[0m\n\u001b[1;32m   1968\u001b[0m \u001b[39mtry\u001b[39;00m:\n\u001b[1;32m   1969\u001b[0m     Maker \u001b[39m=\u001b[39m \u001b[39mgetattr\u001b[39m(mode, \u001b[39m\"\u001b[39m\u001b[39mfunction_maker\u001b[39m\u001b[39m\"\u001b[39m, FunctionMaker)\n\u001b[0;32m-> 1970\u001b[0m     m \u001b[39m=\u001b[39m Maker(\n\u001b[1;32m   1971\u001b[0m         inputs,\n\u001b[1;32m   1972\u001b[0m         outputs,\n\u001b[1;32m   1973\u001b[0m         mode,\n\u001b[1;32m   1974\u001b[0m         accept_inplace\u001b[39m=\u001b[39;49maccept_inplace,\n\u001b[1;32m   1975\u001b[0m         profile\u001b[39m=\u001b[39;49mprofile,\n\u001b[1;32m   1976\u001b[0m         on_unused_input\u001b[39m=\u001b[39;49mon_unused_input,\n\u001b[1;32m   1977\u001b[0m         output_keys\u001b[39m=\u001b[39;49moutput_keys,\n\u001b[1;32m   1978\u001b[0m         name\u001b[39m=\u001b[39;49mname,\n\u001b[1;32m   1979\u001b[0m     )\n\u001b[1;32m   1980\u001b[0m     \u001b[39mwith\u001b[39;00m config\u001b[39m.\u001b[39mchange_flags(compute_test_value\u001b[39m=\u001b[39m\u001b[39m\"\u001b[39m\u001b[39moff\u001b[39m\u001b[39m\"\u001b[39m):\n\u001b[1;32m   1981\u001b[0m         fn \u001b[39m=\u001b[39m m\u001b[39m.\u001b[39mcreate(defaults)\n",
      "File \u001b[0;32m~/opt/anaconda3/envs/septic/lib/python3.9/site-packages/theano/compile/function/types.py:1584\u001b[0m, in \u001b[0;36mFunctionMaker.__init__\u001b[0;34m(self, inputs, outputs, mode, accept_inplace, function_builder, profile, on_unused_input, fgraph, output_keys, name)\u001b[0m\n\u001b[1;32m   1581\u001b[0m     need_opt \u001b[39m=\u001b[39m \u001b[39mTrue\u001b[39;00m\n\u001b[1;32m   1582\u001b[0m     \u001b[39m# make the fgraph (copies the graph, creates NEW INPUT AND\u001b[39;00m\n\u001b[1;32m   1583\u001b[0m     \u001b[39m# OUTPUT VARIABLES)\u001b[39;00m\n\u001b[0;32m-> 1584\u001b[0m     fgraph, additional_outputs \u001b[39m=\u001b[39m std_fgraph(inputs, outputs, accept_inplace)\n\u001b[1;32m   1585\u001b[0m     fgraph\u001b[39m.\u001b[39mprofile \u001b[39m=\u001b[39m profile\n\u001b[1;32m   1586\u001b[0m \u001b[39melse\u001b[39;00m:\n\u001b[1;32m   1587\u001b[0m     \u001b[39m# fgraph is already an optimized one\u001b[39;00m\n",
      "File \u001b[0;32m~/opt/anaconda3/envs/septic/lib/python3.9/site-packages/theano/compile/function/types.py:188\u001b[0m, in \u001b[0;36mstd_fgraph\u001b[0;34m(input_specs, output_specs, accept_inplace)\u001b[0m\n\u001b[1;32m    184\u001b[0m         out_idx \u001b[39m+\u001b[39m\u001b[39m=\u001b[39m \u001b[39m1\u001b[39m\n\u001b[1;32m    186\u001b[0m orig_outputs \u001b[39m=\u001b[39m [spec\u001b[39m.\u001b[39mvariable \u001b[39mfor\u001b[39;00m spec \u001b[39min\u001b[39;00m output_specs] \u001b[39m+\u001b[39m updates\n\u001b[0;32m--> 188\u001b[0m fgraph \u001b[39m=\u001b[39m FunctionGraph(orig_inputs, orig_outputs, update_mapping\u001b[39m=\u001b[39;49mupdate_mapping)\n\u001b[1;32m    190\u001b[0m \u001b[39mfor\u001b[39;00m node \u001b[39min\u001b[39;00m fgraph\u001b[39m.\u001b[39mapply_nodes:\n\u001b[1;32m    191\u001b[0m     \u001b[39mif\u001b[39;00m \u001b[39mgetattr\u001b[39m(node\u001b[39m.\u001b[39mop, \u001b[39m\"\u001b[39m\u001b[39mdestroy_map\u001b[39m\u001b[39m\"\u001b[39m, \u001b[39mNone\u001b[39;00m):\n",
      "File \u001b[0;32m~/opt/anaconda3/envs/septic/lib/python3.9/site-packages/theano/graph/fg.py:162\u001b[0m, in \u001b[0;36mFunctionGraph.__init__\u001b[0;34m(self, inputs, outputs, features, clone, update_mapping)\u001b[0m\n\u001b[1;32m    159\u001b[0m     \u001b[39mself\u001b[39m\u001b[39m.\u001b[39madd_input(in_var, check\u001b[39m=\u001b[39m\u001b[39mFalse\u001b[39;00m)\n\u001b[1;32m    161\u001b[0m \u001b[39mfor\u001b[39;00m output \u001b[39min\u001b[39;00m outputs:\n\u001b[0;32m--> 162\u001b[0m     \u001b[39mself\u001b[39;49m\u001b[39m.\u001b[39;49mimport_var(output, reason\u001b[39m=\u001b[39;49m\u001b[39m\"\u001b[39;49m\u001b[39minit\u001b[39;49m\u001b[39m\"\u001b[39;49m)\n\u001b[1;32m    163\u001b[0m \u001b[39mfor\u001b[39;00m i, output \u001b[39min\u001b[39;00m \u001b[39menumerate\u001b[39m(outputs):\n\u001b[1;32m    164\u001b[0m     \u001b[39mself\u001b[39m\u001b[39m.\u001b[39mclients[output]\u001b[39m.\u001b[39mappend((\u001b[39m\"\u001b[39m\u001b[39moutput\u001b[39m\u001b[39m\"\u001b[39m, i))\n",
      "File \u001b[0;32m~/opt/anaconda3/envs/septic/lib/python3.9/site-packages/theano/graph/fg.py:330\u001b[0m, in \u001b[0;36mFunctionGraph.import_var\u001b[0;34m(self, var, reason)\u001b[0m\n\u001b[1;32m    328\u001b[0m \u001b[39m# Imports the owners of the variables\u001b[39;00m\n\u001b[1;32m    329\u001b[0m \u001b[39mif\u001b[39;00m var\u001b[39m.\u001b[39mowner \u001b[39mand\u001b[39;00m var\u001b[39m.\u001b[39mowner \u001b[39mnot\u001b[39;00m \u001b[39min\u001b[39;00m \u001b[39mself\u001b[39m\u001b[39m.\u001b[39mapply_nodes:\n\u001b[0;32m--> 330\u001b[0m     \u001b[39mself\u001b[39;49m\u001b[39m.\u001b[39;49mimport_node(var\u001b[39m.\u001b[39;49mowner, reason\u001b[39m=\u001b[39;49mreason)\n\u001b[1;32m    331\u001b[0m \u001b[39melif\u001b[39;00m (\n\u001b[1;32m    332\u001b[0m     var\u001b[39m.\u001b[39mowner \u001b[39mis\u001b[39;00m \u001b[39mNone\u001b[39;00m\n\u001b[1;32m    333\u001b[0m     \u001b[39mand\u001b[39;00m \u001b[39mnot\u001b[39;00m \u001b[39misinstance\u001b[39m(var, Constant)\n\u001b[1;32m    334\u001b[0m     \u001b[39mand\u001b[39;00m var \u001b[39mnot\u001b[39;00m \u001b[39min\u001b[39;00m \u001b[39mself\u001b[39m\u001b[39m.\u001b[39minputs\n\u001b[1;32m    335\u001b[0m ):\n\u001b[1;32m    336\u001b[0m     \u001b[39mfrom\u001b[39;00m \u001b[39mtheano\u001b[39;00m\u001b[39m.\u001b[39;00m\u001b[39mgraph\u001b[39;00m\u001b[39m.\u001b[39;00m\u001b[39mnull_type\u001b[39;00m \u001b[39mimport\u001b[39;00m NullType\n",
      "File \u001b[0;32m~/opt/anaconda3/envs/septic/lib/python3.9/site-packages/theano/graph/fg.py:383\u001b[0m, in \u001b[0;36mFunctionGraph.import_node\u001b[0;34m(self, apply_node, check, reason)\u001b[0m\n\u001b[1;32m    370\u001b[0m             \u001b[39mif\u001b[39;00m (\n\u001b[1;32m    371\u001b[0m                 var\u001b[39m.\u001b[39mowner \u001b[39mis\u001b[39;00m \u001b[39mNone\u001b[39;00m\n\u001b[1;32m    372\u001b[0m                 \u001b[39mand\u001b[39;00m \u001b[39mnot\u001b[39;00m \u001b[39misinstance\u001b[39m(var, Constant)\n\u001b[1;32m    373\u001b[0m                 \u001b[39mand\u001b[39;00m var \u001b[39mnot\u001b[39;00m \u001b[39min\u001b[39;00m \u001b[39mself\u001b[39m\u001b[39m.\u001b[39minputs\n\u001b[1;32m    374\u001b[0m             ):\n\u001b[1;32m    375\u001b[0m                 \u001b[39m# Standard error message\u001b[39;00m\n\u001b[1;32m    376\u001b[0m                 error_msg \u001b[39m=\u001b[39m (\n\u001b[1;32m    377\u001b[0m                     \u001b[39mf\u001b[39m\u001b[39m\"\u001b[39m\u001b[39mInput \u001b[39m\u001b[39m{\u001b[39;00m\u001b[39mint\u001b[39m(node\u001b[39m.\u001b[39minputs\u001b[39m.\u001b[39mindex(var))\u001b[39m}\u001b[39;00m\u001b[39m of the graph (indices start \u001b[39m\u001b[39m\"\u001b[39m\n\u001b[1;32m    378\u001b[0m                     \u001b[39mf\u001b[39m\u001b[39m\"\u001b[39m\u001b[39mfrom 0), used to compute \u001b[39m\u001b[39m{\u001b[39;00mnode\u001b[39m}\u001b[39;00m\u001b[39m, was not \u001b[39m\u001b[39m\"\u001b[39m\n\u001b[0;32m   (...)\u001b[0m\n\u001b[1;32m    381\u001b[0m                     \u001b[39m\"\u001b[39m\u001b[39mfor more information on this error.\u001b[39m\u001b[39m\"\u001b[39m\n\u001b[1;32m    382\u001b[0m                 )\n\u001b[0;32m--> 383\u001b[0m                 \u001b[39mraise\u001b[39;00m MissingInputError(error_msg, variable\u001b[39m=\u001b[39mvar)\n\u001b[1;32m    385\u001b[0m \u001b[39mfor\u001b[39;00m node \u001b[39min\u001b[39;00m new_nodes:\n\u001b[1;32m    386\u001b[0m     \u001b[39massert\u001b[39;00m node \u001b[39mnot\u001b[39;00m \u001b[39min\u001b[39;00m \u001b[39mself\u001b[39m\u001b[39m.\u001b[39mapply_nodes\n",
      "\u001b[0;31mMissingInputError\u001b[0m: Input 0 of the graph (indices start from 0), used to compute AdvancedSubtensor1(hydr, basin), was not provided and not given a value. Use the Theano flag exception_verbosity='high', for more information on this error."
     ]
    }
   ],
   "source": [
    "# topo model\n",
    "with pm.Model(coords=coords) as model:\n",
    "    # constant data: basin information and variables\n",
    "    basin = pm.Data('basin', basin_idx, dims='septic')\n",
    "    catchment = pm.Data('catchment', catchment_idx, dims='septic')\n",
    "    dem_d = pm.Data('dem_d', df.dem_norm.values, dims='septic')\n",
    "\n",
    "    # global model parameters\n",
    "    dem_beta = pm.HalfNormal('dem_beta', sigma=10)\n",
    "    mu_inter = pm.Normal('mu_inter', mu=0, sigma=10)\n",
    "    sigma_inter = pm.HalfNormal('sigma_inter', sigma=10)\n",
    "    \n",
    "    # catchment parameters\n",
    "    dem_beta_c = pm.HalfNormal('dem_beta_c', sigma=dem_beta)\n",
    "    mu_inter_c = pm.Normal('mu_inter_c', mu=mu_inter, sigma=10, dims='catchment')\n",
    "    sigma_inter_c = pm.HalfNormal('sigma_inter_c', sigma=sigma_inter, dims='catchment')\n",
    "\n",
    "    # septic-specific model parameters\n",
    "    dem = pm.Exponential('dem', lam=dem_beta_c.mean(), dims='basin')\n",
    "    c = pm.Normal('c', mu=mu_inter_c.mean(), sigma=sigma_inter_c.mean(), dims=\"basin\")\n",
    "    \n",
    "    # hierarchical bayesian formula\n",
    "    failure_theta = pm.math.sigmoid(c[basin] \n",
    "                                    + hydr[basin] * hydr_d\n",
    "                                    + dem[basin] * dem_d\n",
    "                                   )\n",
    "\n",
    "    # likelihood of observed data\n",
    "    failures = pm.Bernoulli('failures', failure_theta, observed=df['sewageSystem_enc'])\n",
    "    \n",
    "    # fitting using NUTS sampler\n",
    "    trace = pm.sample(100, tune=tune, cores=3, return_inferencedata=True, target_accept=0.99, random_seed=rs)"
   ]
  },
  {
   "cell_type": "code",
   "execution_count": null,
   "id": "a317be77",
   "metadata": {},
   "outputs": [
    {
     "name": "stderr",
     "output_type": "stream",
     "text": [
      "/Users/juannat/opt/anaconda3/envs/septic/lib/python3.9/site-packages/pymc3/sampling.py:1689: UserWarning: samples parameter is smaller than nchains times ndraws, some draws and/or chains may not be represented in the returned posterior predictive sample\n",
      "  warnings.warn(\n"
     ]
    },
    {
     "data": {
      "text/html": [
       "\n",
       "    <div>\n",
       "        <style>\n",
       "            /* Turns off some styling */\n",
       "            progress {\n",
       "                /* gets rid of default border in Firefox and Opera. */\n",
       "                border: none;\n",
       "                /* Needs to be in here for Safari polyfill so background images work as expected. */\n",
       "                background-size: auto;\n",
       "            }\n",
       "            .progress-bar-interrupted, .progress-bar-interrupted::-webkit-progress-bar {\n",
       "                background: #F44336;\n",
       "            }\n",
       "        </style>\n",
       "      <progress value='500' class='' max='500' style='width:300px; height:20px; vertical-align: middle;'></progress>\n",
       "      100.00% [500/500 00:02<00:00]\n",
       "    </div>\n",
       "    "
      ],
      "text/plain": [
       "<IPython.core.display.HTML object>"
      ]
     },
     "metadata": {},
     "output_type": "display_data"
    },
    {
     "name": "stdout",
     "output_type": "stream",
     "text": [
      "accuracy is: 90.21739130434783%\n"
     ]
    }
   ],
   "source": [
    "# evaluate model\n",
    "y = df.sewageSystem_enc.to_list()\n",
    "accs = []\n",
    "for i in range(5):\n",
    "    acc, y_pred = evaluate_bayes(trace, model, y)\n",
    "    accs.append(acc)\n",
    "\n",
    "print(f'accuracy is: {np.array(accs).mean()} ± {np.array(accs).std()}%')"
   ]
  },
  {
   "cell_type": "markdown",
   "id": "cc3f27b9",
   "metadata": {},
   "source": [
    "4. Socio-economic model: median housing value"
   ]
  },
  {
   "cell_type": "code",
   "execution_count": null,
   "id": "662af258",
   "metadata": {},
   "outputs": [],
   "source": [
    "# socio model\n",
    "with pm.Model(coords=coords) as model:\n",
    "    # constant data: basin information and variables\n",
    "    basin = pm.Data('basin', basin_idx, dims='septic')\n",
    "    catchment = pm.Data('catchment', catchment_idx, dims='septic')\n",
    "    hse_d = pm.Data('hse_d', df.median_hse_norm.values, dims='septic')\n",
    "\n",
    "    # global model parameters\n",
    "    hse_sig = pm.HalfNormal('hse_sig', sigma=10)\n",
    "    mu_inter = pm.Normal('mu_inter', mu=0, sigma=10)\n",
    "    sigma_inter = pm.HalfNormal('sigma_inter', sigma=10)\n",
    "    \n",
    "    # catchment parameters\n",
    "    hse_sig_c = pm.HalfNormal('hse_sig_c', sigma=hse_sig, dims='catchment')\n",
    "    mu_inter_c = pm.Normal('mu_inter_c', mu=mu_inter, sigma=10, dims='catchment')\n",
    "    sigma_inter_c = pm.HalfNormal('sigma_inter_c', sigma=sigma_inter, dims='catchment')\n",
    "\n",
    "    # septic-specific model parameters\n",
    "    hse = pm.Normal('hse', mu=0, sigma=hse_sig_c.mean(), dims='basin')\n",
    "    c = pm.Normal('c', mu=mu_inter_c.mean(), sigma=sigma_inter_c.mean(), dims=\"basin\")\n",
    "    \n",
    "    # hierarchical bayesian formula\n",
    "    failure_theta = pm.math.sigmoid(c[basin] \n",
    "                                    + hse[basin] * hse_d\n",
    "                                   )\n",
    "\n",
    "    # likelihood of observed data\n",
    "    failures = pm.Bernoulli('failures', failure_theta, observed=df['sewageSystem_enc'])\n",
    "    \n",
    "    # fitting using NUTS sampler\n",
    "    trace = pm.sample(100, tune=tune, cores=3, return_inferencedata=True, target_accept=0.99, random_seed=rs)"
   ]
  },
  {
   "cell_type": "code",
   "execution_count": null,
   "id": "8fd85bc4",
   "metadata": {},
   "outputs": [
    {
     "name": "stderr",
     "output_type": "stream",
     "text": [
      "/Users/juannat/opt/anaconda3/envs/septic/lib/python3.9/site-packages/pymc3/sampling.py:1689: UserWarning: samples parameter is smaller than nchains times ndraws, some draws and/or chains may not be represented in the returned posterior predictive sample\n",
      "  warnings.warn(\n"
     ]
    },
    {
     "data": {
      "text/html": [
       "\n",
       "    <div>\n",
       "        <style>\n",
       "            /* Turns off some styling */\n",
       "            progress {\n",
       "                /* gets rid of default border in Firefox and Opera. */\n",
       "                border: none;\n",
       "                /* Needs to be in here for Safari polyfill so background images work as expected. */\n",
       "                background-size: auto;\n",
       "            }\n",
       "            .progress-bar-interrupted, .progress-bar-interrupted::-webkit-progress-bar {\n",
       "                background: #F44336;\n",
       "            }\n",
       "        </style>\n",
       "      <progress value='500' class='' max='500' style='width:300px; height:20px; vertical-align: middle;'></progress>\n",
       "      100.00% [500/500 00:00<00:00]\n",
       "    </div>\n",
       "    "
      ],
      "text/plain": [
       "<IPython.core.display.HTML object>"
      ]
     },
     "metadata": {},
     "output_type": "display_data"
    },
    {
     "name": "stdout",
     "output_type": "stream",
     "text": [
      "accuracy is: 90.06211180124224%\n"
     ]
    }
   ],
   "source": [
    "# evaluate model\n",
    "y = df.sewageSystem_enc.to_list()\n",
    "accs = []\n",
    "for i in range(5):\n",
    "    acc, y_pred = evaluate_bayes(trace, model, y)\n",
    "    accs.append(acc)\n",
    "\n",
    "print(f'accuracy is: {np.array(accs).mean()} ± {np.array(accs).std()}%')"
   ]
  },
  {
   "cell_type": "markdown",
   "id": "3f30a646",
   "metadata": {},
   "source": [
    "5. Full model"
   ]
  },
  {
   "cell_type": "code",
   "execution_count": null,
   "id": "62b9afb8",
   "metadata": {},
   "outputs": [
    {
     "name": "stdout",
     "output_type": "stream",
     "text": [
      "fitting full 2-level Bayesian model...\n"
     ]
    },
    {
     "name": "stderr",
     "output_type": "stream",
     "text": [
      "/Users/juannat/opt/anaconda3/envs/septic/lib/python3.9/site-packages/pymc3/distributions/transforms.py:294: RuntimeWarning: invalid value encountered in log\n",
      "  return floatX(np.log(x - a) - np.log(b - x))\n",
      "Auto-assigning NUTS sampler...\n",
      "Initializing NUTS using jitter+adapt_diag...\n",
      "Multiprocess sampling (4 chains in 4 jobs)\n",
      "NUTS: [c, dem, hse, hydr, ppt, wtr_dist, sigma_inter_c, mu_inter_c, dem_beta_c, hse_sig_c, hydr_sig_c, ppt_sig_c, ppt_mu_c, wtr_beta_c, sigma_inter, mu_inter, dem_beta, hse_sig, hydr_sig, ppt_sig, ppt_mu, wtr_beta]\n"
     ]
    },
    {
     "data": {
      "text/html": [
       "\n",
       "    <div>\n",
       "        <style>\n",
       "            /* Turns off some styling */\n",
       "            progress {\n",
       "                /* gets rid of default border in Firefox and Opera. */\n",
       "                border: none;\n",
       "                /* Needs to be in here for Safari polyfill so background images work as expected. */\n",
       "                background-size: auto;\n",
       "            }\n",
       "            .progress-bar-interrupted, .progress-bar-interrupted::-webkit-progress-bar {\n",
       "                background: #F44336;\n",
       "            }\n",
       "        </style>\n",
       "      <progress value='3400' class='' max='3400' style='width:300px; height:20px; vertical-align: middle;'></progress>\n",
       "      100.00% [3400/3400 01:42<00:00 Sampling 4 chains, 0 divergences]\n",
       "    </div>\n",
       "    "
      ],
      "text/plain": [
       "<IPython.core.display.HTML object>"
      ]
     },
     "metadata": {},
     "output_type": "display_data"
    },
    {
     "name": "stderr",
     "output_type": "stream",
     "text": [
      "/Users/juannat/opt/anaconda3/envs/septic/lib/python3.9/site-packages/scipy/stats/_continuous_distns.py:624: RuntimeWarning: overflow encountered in _beta_ppf\n",
      "  return _boost._beta_ppf(q, a, b)\n",
      "/Users/juannat/opt/anaconda3/envs/septic/lib/python3.9/site-packages/scipy/stats/_continuous_distns.py:624: RuntimeWarning: overflow encountered in _beta_ppf\n",
      "  return _boost._beta_ppf(q, a, b)\n",
      "/Users/juannat/opt/anaconda3/envs/septic/lib/python3.9/site-packages/scipy/stats/_continuous_distns.py:624: RuntimeWarning: overflow encountered in _beta_ppf\n",
      "  return _boost._beta_ppf(q, a, b)\n",
      "/Users/juannat/opt/anaconda3/envs/septic/lib/python3.9/site-packages/scipy/stats/_continuous_distns.py:624: RuntimeWarning: overflow encountered in _beta_ppf\n",
      "  return _boost._beta_ppf(q, a, b)\n",
      "Sampling 4 chains for 350 tune and 500 draw iterations (1_400 + 2_000 draws total) took 120 seconds.\n",
      "The rhat statistic is larger than 1.4 for some parameters. The sampler did not converge.\n",
      "The estimated number of effective samples is smaller than 200 for some parameters.\n"
     ]
    }
   ],
   "source": [
    "# full model\n",
    "with pm.Model(coords=coords) as model:\n",
    "    print('fitting full 2-level Bayesian model...')\n",
    "    # constant data: basin information and variables\n",
    "    basin = pm.Data('basin', basin_idx, dims='septic')\n",
    "    catchment = pm.Data('catchment', catchment_idx, dims='septic')\n",
    "    # water_d = pm.Data('water_d', df.water_dist_norm.values, dims='septic')\n",
    "    ppt_d = pm.Data('ppt_d', df.ppt_2021_norm.values, dims='septic')\n",
    "    hydr_d = pm.Data('hydr_d', df.hydraulic_c_norm.values, dims='septic')\n",
    "    hse_d = pm.Data('hse_d', df.median_hse_norm.values, dims='septic')\n",
    "    dem_d = pm.Data('dem_d', df.dem_norm.values, dims='septic')\n",
    "\n",
    "    # global model parameters\n",
    "    # wtr_beta = pm.HalfNormal(\"wtr_beta\", sigma=10)\n",
    "    ppt_mu = pm.Normal(\"ppt_mu\", mu=0, sigma=10)\n",
    "    ppt_sig = pm.HalfNormal(\"ppt_sig\", sigma=10)\n",
    "    hydr_mu = pm.Normal('hydr_mu', mu=0, sigma=10)\n",
    "    hydr_sig = pm.HalfNormal('hydr_sig', sigma=10)\n",
    "    hse_sig = pm.HalfNormal('hse_sig', sigma=10)\n",
    "    dem_beta = pm.HalfNormal('dem_beta', sigma=10)\n",
    "    mu_inter = pm.Normal('mu_inter', mu=0, sigma=10)\n",
    "    sigma_inter = pm.HalfNormal('sigma_inter', sigma=10)\n",
    "    \n",
    "    # catchment parameters\n",
    "    # wtr_beta_c = pm.HalfNormal(\"wtr_beta_c\", sigma=wtr_beta, dims='catchment')\n",
    "    ppt_mu_c = pm.Normal(\"ppt_mu_c\", mu=ppt_mu, sigma=10, dims='catchment')\n",
    "    ppt_sig_c = pm.HalfNormal(\"ppt_sig_c\", sigma=ppt_sig, dims='catchment')\n",
    "    hydr_mu_c = pm.Normal('hydr_mu_c', mu=hydr_mu, sigma=10, dims='catchment')\n",
    "    hydr_sig_c = pm.HalfNormal('hydr_sig_c', sigma=hydr_sig, dims='catchment')\n",
    "    hse_sig_c = pm.HalfNormal('hse_sig_c', sigma=hse_sig, dims='catchment')\n",
    "    dem_beta_c = pm.HalfNormal('dem_beta_c', sigma=dem_beta)\n",
    "    mu_inter_c = pm.Normal('mu_inter_c', mu=mu_inter, sigma=10, dims='catchment')\n",
    "    sigma_inter_c = pm.HalfNormal('sigma_inter_c', sigma=sigma_inter, dims='catchment')\n",
    "\n",
    "    # septic-specific model parameters\n",
    "    # wtr_dist = pm.Exponential(\"wtr_dist\", lam=wtr_beta_c.mean(), dims=\"basin\")\n",
    "    ppt = pm.Normal(\"ppt\", mu=ppt_mu_c.mean(), sigma=ppt_sig_c.mean(), dims=\"basin\")\n",
    "    hydr = pm.Normal('hydr', mu=hydr_mu_c.mean(), sigma=hydr_sig_c.mean(), dims='basin')\n",
    "    hse = pm.Normal('hse', mu=0, sigma=hse_sig_c.mean(), dims='basin')\n",
    "    dem = pm.Exponential('dem', lam=dem_beta_c.mean(), dims='basin')\n",
    "    c = pm.Normal('c', mu=mu_inter_c.mean(), sigma=sigma_inter_c.mean(), dims=\"basin\")\n",
    "    \n",
    "    # hierarchical bayesian formula\n",
    "    failure_theta = pm.math.sigmoid(c[basin] \n",
    "                                    # + wtr_dist[basin] * water_d \n",
    "                                    + ppt[basin] * ppt_d\n",
    "                                    + hydr[basin] * hydr_d\n",
    "                                    + hse[basin] * hse_d\n",
    "                                    + dem[basin] * dem_d\n",
    "                                   )\n",
    "\n",
    "    # likelihood of observed data\n",
    "    failures = pm.Bernoulli('failures', failure_theta, observed=df['sewageSystem_enc'])\n",
    "    \n",
    "    # fitting using NUTS sampler\n",
    "    trace = pm.sample(100, tune=tune, cores=3, return_inferencedata=True, target_accept=0.99, random_seed=rs)"
   ]
  },
  {
   "cell_type": "code",
   "execution_count": null,
   "id": "415db974",
   "metadata": {},
   "outputs": [
    {
     "name": "stderr",
     "output_type": "stream",
     "text": [
      "/Users/juannat/opt/anaconda3/envs/septic/lib/python3.9/site-packages/pymc3/sampling.py:1689: UserWarning: samples parameter is smaller than nchains times ndraws, some draws and/or chains may not be represented in the returned posterior predictive sample\n",
      "  warnings.warn(\n"
     ]
    },
    {
     "data": {
      "text/html": [
       "\n",
       "    <div>\n",
       "        <style>\n",
       "            /* Turns off some styling */\n",
       "            progress {\n",
       "                /* gets rid of default border in Firefox and Opera. */\n",
       "                border: none;\n",
       "                /* Needs to be in here for Safari polyfill so background images work as expected. */\n",
       "                background-size: auto;\n",
       "            }\n",
       "            .progress-bar-interrupted, .progress-bar-interrupted::-webkit-progress-bar {\n",
       "                background: #F44336;\n",
       "            }\n",
       "        </style>\n",
       "      <progress value='500' class='' max='500' style='width:300px; height:20px; vertical-align: middle;'></progress>\n",
       "      100.00% [500/500 00:01<00:00]\n",
       "    </div>\n",
       "    "
      ],
      "text/plain": [
       "<IPython.core.display.HTML object>"
      ]
     },
     "metadata": {},
     "output_type": "display_data"
    },
    {
     "name": "stdout",
     "output_type": "stream",
     "text": [
      "accuracy is: 90.99378881987577%\n"
     ]
    }
   ],
   "source": [
    "# evaluate model\n",
    "y = df.sewageSystem_enc.to_list()\n",
    "accs = []\n",
    "for i in range(5):\n",
    "    acc, y_pred = evaluate_bayes(trace, model, y)\n",
    "    accs.append(acc)\n",
    "\n",
    "print(f'accuracy is: {np.array(accs).mean()} ± {np.array(accs).std()}%')"
   ]
  },
  {
   "cell_type": "code",
   "execution_count": null,
   "id": "2379ae07",
   "metadata": {},
   "outputs": [
    {
     "data": {
      "text/plain": [
       "'../docs/double_level.pdf'"
      ]
     },
     "execution_count": 8,
     "metadata": {},
     "output_type": "execute_result"
    }
   ],
   "source": [
    "graph = pm.model_to_graphviz(model)\n",
    "graph.render(filename='../docs/double_level')"
   ]
  },
  {
   "cell_type": "markdown",
   "id": "75246213",
   "metadata": {},
   "source": [
    "# Evaluation"
   ]
  },
  {
   "cell_type": "code",
   "execution_count": null,
   "id": "5a6a2f1e",
   "metadata": {},
   "outputs": [
    {
     "data": {
      "image/png": "[encoded data removed]",
      "text/plain": [
       "<Figure size 576x432 with 2 Axes>"
      ]
     },
     "metadata": {
      "needs_background": "light"
     },
     "output_type": "display_data"
    }
   ],
   "source": [
    "plot_confusion(y, y_pred, title='', savedir='../docs/confusion_l2.pdf')"
   ]
  },
  {
   "cell_type": "markdown",
   "id": "ff1235d2",
   "metadata": {},
   "source": [
    "# Inference\n",
    "\n",
    "Overall methods:\n",
    "1. Take the mean parameter across all basin and sub-basins, \n",
    "2. Compute $\\hat{y}$ from the GLM equations above,\n",
    "3. Randomly sample $n$ to get the mean and uncertainty range"
   ]
  },
  {
   "cell_type": "code",
   "execution_count": 35,
   "id": "2e21c4b9",
   "metadata": {},
   "outputs": [
    {
     "data": {
      "text/html": [
       "<div><svg style=\"position: absolute; width: 0; height: 0; overflow: hidden\">\n",
       "<defs>\n",
       "<symbol id=\"icon-database\" viewBox=\"0 0 32 32\">\n",
       "<path d=\"M16 0c-8.837 0-16 2.239-16 5v4c0 2.761 7.163 5 16 5s16-2.239 16-5v-4c0-2.761-7.163-5-16-5z\"></path>\n",
       "<path d=\"M16 17c-8.837 0-16-2.239-16-5v6c0 2.761 7.163 5 16 5s16-2.239 16-5v-6c0 2.761-7.163 5-16 5z\"></path>\n",
       "<path d=\"M16 26c-8.837 0-16-2.239-16-5v6c0 2.761 7.163 5 16 5s16-2.239 16-5v-6c0 2.761-7.163 5-16 5z\"></path>\n",
       "</symbol>\n",
       "<symbol id=\"icon-file-text2\" viewBox=\"0 0 32 32\">\n",
       "<path d=\"M28.681 7.159c-0.694-0.947-1.662-2.053-2.724-3.116s-2.169-2.030-3.116-2.724c-1.612-1.182-2.393-1.319-2.841-1.319h-15.5c-1.378 0-2.5 1.121-2.5 2.5v27c0 1.378 1.122 2.5 2.5 2.5h23c1.378 0 2.5-1.122 2.5-2.5v-19.5c0-0.448-0.137-1.23-1.319-2.841zM24.543 5.457c0.959 0.959 1.712 1.825 2.268 2.543h-4.811v-4.811c0.718 0.556 1.584 1.309 2.543 2.268zM28 29.5c0 0.271-0.229 0.5-0.5 0.5h-23c-0.271 0-0.5-0.229-0.5-0.5v-27c0-0.271 0.229-0.5 0.5-0.5 0 0 15.499-0 15.5 0v7c0 0.552 0.448 1 1 1h7v19.5z\"></path>\n",
       "<path d=\"M23 26h-14c-0.552 0-1-0.448-1-1s0.448-1 1-1h14c0.552 0 1 0.448 1 1s-0.448 1-1 1z\"></path>\n",
       "<path d=\"M23 22h-14c-0.552 0-1-0.448-1-1s0.448-1 1-1h14c0.552 0 1 0.448 1 1s-0.448 1-1 1z\"></path>\n",
       "<path d=\"M23 18h-14c-0.552 0-1-0.448-1-1s0.448-1 1-1h14c0.552 0 1 0.448 1 1s-0.448 1-1 1z\"></path>\n",
       "</symbol>\n",
       "</defs>\n",
       "</svg>\n",
       "<style>/* CSS stylesheet for displaying xarray objects in jupyterlab.\n",
       " *\n",
       " */\n",
       "\n",
       ":root {\n",
       "  --xr-font-color0: var(--jp-content-font-color0, rgba(0, 0, 0, 1));\n",
       "  --xr-font-color2: var(--jp-content-font-color2, rgba(0, 0, 0, 0.54));\n",
       "  --xr-font-color3: var(--jp-content-font-color3, rgba(0, 0, 0, 0.38));\n",
       "  --xr-border-color: var(--jp-border-color2, #e0e0e0);\n",
       "  --xr-disabled-color: var(--jp-layout-color3, #bdbdbd);\n",
       "  --xr-background-color: var(--jp-layout-color0, white);\n",
       "  --xr-background-color-row-even: var(--jp-layout-color1, white);\n",
       "  --xr-background-color-row-odd: var(--jp-layout-color2, #eeeeee);\n",
       "}\n",
       "\n",
       "html[theme=dark],\n",
       "body.vscode-dark {\n",
       "  --xr-font-color0: rgba(255, 255, 255, 1);\n",
       "  --xr-font-color2: rgba(255, 255, 255, 0.54);\n",
       "  --xr-font-color3: rgba(255, 255, 255, 0.38);\n",
       "  --xr-border-color: #1F1F1F;\n",
       "  --xr-disabled-color: #515151;\n",
       "  --xr-background-color: #111111;\n",
       "  --xr-background-color-row-even: #111111;\n",
       "  --xr-background-color-row-odd: #313131;\n",
       "}\n",
       "\n",
       ".xr-wrap {\n",
       "  display: block;\n",
       "  min-width: 300px;\n",
       "  max-width: 700px;\n",
       "}\n",
       "\n",
       ".xr-text-repr-fallback {\n",
       "  /* fallback to plain text repr when CSS is not injected (untrusted notebook) */\n",
       "  display: none;\n",
       "}\n",
       "\n",
       ".xr-header {\n",
       "  padding-top: 6px;\n",
       "  padding-bottom: 6px;\n",
       "  margin-bottom: 4px;\n",
       "  border-bottom: solid 1px var(--xr-border-color);\n",
       "}\n",
       "\n",
       ".xr-header > div,\n",
       ".xr-header > ul {\n",
       "  display: inline;\n",
       "  margin-top: 0;\n",
       "  margin-bottom: 0;\n",
       "}\n",
       "\n",
       ".xr-obj-type,\n",
       ".xr-array-name {\n",
       "  margin-left: 2px;\n",
       "  margin-right: 10px;\n",
       "}\n",
       "\n",
       ".xr-obj-type {\n",
       "  color: var(--xr-font-color2);\n",
       "}\n",
       "\n",
       ".xr-sections {\n",
       "  padding-left: 0 !important;\n",
       "  display: grid;\n",
       "  grid-template-columns: 150px auto auto 1fr 20px 20px;\n",
       "}\n",
       "\n",
       ".xr-section-item {\n",
       "  display: contents;\n",
       "}\n",
       "\n",
       ".xr-section-item input {\n",
       "  display: none;\n",
       "}\n",
       "\n",
       ".xr-section-item input + label {\n",
       "  color: var(--xr-disabled-color);\n",
       "}\n",
       "\n",
       ".xr-section-item input:enabled + label {\n",
       "  cursor: pointer;\n",
       "  color: var(--xr-font-color2);\n",
       "}\n",
       "\n",
       ".xr-section-item input:enabled + label:hover {\n",
       "  color: var(--xr-font-color0);\n",
       "}\n",
       "\n",
       ".xr-section-summary {\n",
       "  grid-column: 1;\n",
       "  color: var(--xr-font-color2);\n",
       "  font-weight: 500;\n",
       "}\n",
       "\n",
       ".xr-section-summary > span {\n",
       "  display: inline-block;\n",
       "  padding-left: 0.5em;\n",
       "}\n",
       "\n",
       ".xr-section-summary-in:disabled + label {\n",
       "  color: var(--xr-font-color2);\n",
       "}\n",
       "\n",
       ".xr-section-summary-in + label:before {\n",
       "  display: inline-block;\n",
       "  content: '►';\n",
       "  font-size: 11px;\n",
       "  width: 15px;\n",
       "  text-align: center;\n",
       "}\n",
       "\n",
       ".xr-section-summary-in:disabled + label:before {\n",
       "  color: var(--xr-disabled-color);\n",
       "}\n",
       "\n",
       ".xr-section-summary-in:checked + label:before {\n",
       "  content: '▼';\n",
       "}\n",
       "\n",
       ".xr-section-summary-in:checked + label > span {\n",
       "  display: none;\n",
       "}\n",
       "\n",
       ".xr-section-summary,\n",
       ".xr-section-inline-details {\n",
       "  padding-top: 4px;\n",
       "  padding-bottom: 4px;\n",
       "}\n",
       "\n",
       ".xr-section-inline-details {\n",
       "  grid-column: 2 / -1;\n",
       "}\n",
       "\n",
       ".xr-section-details {\n",
       "  display: none;\n",
       "  grid-column: 1 / -1;\n",
       "  margin-bottom: 5px;\n",
       "}\n",
       "\n",
       ".xr-section-summary-in:checked ~ .xr-section-details {\n",
       "  display: contents;\n",
       "}\n",
       "\n",
       ".xr-array-wrap {\n",
       "  grid-column: 1 / -1;\n",
       "  display: grid;\n",
       "  grid-template-columns: 20px auto;\n",
       "}\n",
       "\n",
       ".xr-array-wrap > label {\n",
       "  grid-column: 1;\n",
       "  vertical-align: top;\n",
       "}\n",
       "\n",
       ".xr-preview {\n",
       "  color: var(--xr-font-color3);\n",
       "}\n",
       "\n",
       ".xr-array-preview,\n",
       ".xr-array-data {\n",
       "  padding: 0 5px !important;\n",
       "  grid-column: 2;\n",
       "}\n",
       "\n",
       ".xr-array-data,\n",
       ".xr-array-in:checked ~ .xr-array-preview {\n",
       "  display: none;\n",
       "}\n",
       "\n",
       ".xr-array-in:checked ~ .xr-array-data,\n",
       ".xr-array-preview {\n",
       "  display: inline-block;\n",
       "}\n",
       "\n",
       ".xr-dim-list {\n",
       "  display: inline-block !important;\n",
       "  list-style: none;\n",
       "  padding: 0 !important;\n",
       "  margin: 0;\n",
       "}\n",
       "\n",
       ".xr-dim-list li {\n",
       "  display: inline-block;\n",
       "  padding: 0;\n",
       "  margin: 0;\n",
       "}\n",
       "\n",
       ".xr-dim-list:before {\n",
       "  content: '(';\n",
       "}\n",
       "\n",
       ".xr-dim-list:after {\n",
       "  content: ')';\n",
       "}\n",
       "\n",
       ".xr-dim-list li:not(:last-child):after {\n",
       "  content: ',';\n",
       "  padding-right: 5px;\n",
       "}\n",
       "\n",
       ".xr-has-index {\n",
       "  font-weight: bold;\n",
       "}\n",
       "\n",
       ".xr-var-list,\n",
       ".xr-var-item {\n",
       "  display: contents;\n",
       "}\n",
       "\n",
       ".xr-var-item > div,\n",
       ".xr-var-item label,\n",
       ".xr-var-item > .xr-var-name span {\n",
       "  background-color: var(--xr-background-color-row-even);\n",
       "  margin-bottom: 0;\n",
       "}\n",
       "\n",
       ".xr-var-item > .xr-var-name:hover span {\n",
       "  padding-right: 5px;\n",
       "}\n",
       "\n",
       ".xr-var-list > li:nth-child(odd) > div,\n",
       ".xr-var-list > li:nth-child(odd) > label,\n",
       ".xr-var-list > li:nth-child(odd) > .xr-var-name span {\n",
       "  background-color: var(--xr-background-color-row-odd);\n",
       "}\n",
       "\n",
       ".xr-var-name {\n",
       "  grid-column: 1;\n",
       "}\n",
       "\n",
       ".xr-var-dims {\n",
       "  grid-column: 2;\n",
       "}\n",
       "\n",
       ".xr-var-dtype {\n",
       "  grid-column: 3;\n",
       "  text-align: right;\n",
       "  color: var(--xr-font-color2);\n",
       "}\n",
       "\n",
       ".xr-var-preview {\n",
       "  grid-column: 4;\n",
       "}\n",
       "\n",
       ".xr-var-name,\n",
       ".xr-var-dims,\n",
       ".xr-var-dtype,\n",
       ".xr-preview,\n",
       ".xr-attrs dt {\n",
       "  white-space: nowrap;\n",
       "  overflow: hidden;\n",
       "  text-overflow: ellipsis;\n",
       "  padding-right: 10px;\n",
       "}\n",
       "\n",
       ".xr-var-name:hover,\n",
       ".xr-var-dims:hover,\n",
       ".xr-var-dtype:hover,\n",
       ".xr-attrs dt:hover {\n",
       "  overflow: visible;\n",
       "  width: auto;\n",
       "  z-index: 1;\n",
       "}\n",
       "\n",
       ".xr-var-attrs,\n",
       ".xr-var-data {\n",
       "  display: none;\n",
       "  background-color: var(--xr-background-color) !important;\n",
       "  padding-bottom: 5px !important;\n",
       "}\n",
       "\n",
       ".xr-var-attrs-in:checked ~ .xr-var-attrs,\n",
       ".xr-var-data-in:checked ~ .xr-var-data {\n",
       "  display: block;\n",
       "}\n",
       "\n",
       ".xr-var-data > table {\n",
       "  float: right;\n",
       "}\n",
       "\n",
       ".xr-var-name span,\n",
       ".xr-var-data,\n",
       ".xr-attrs {\n",
       "  padding-left: 25px !important;\n",
       "}\n",
       "\n",
       ".xr-attrs,\n",
       ".xr-var-attrs,\n",
       ".xr-var-data {\n",
       "  grid-column: 1 / -1;\n",
       "}\n",
       "\n",
       "dl.xr-attrs {\n",
       "  padding: 0;\n",
       "  margin: 0;\n",
       "  display: grid;\n",
       "  grid-template-columns: 125px auto;\n",
       "}\n",
       "\n",
       ".xr-attrs dt,\n",
       ".xr-attrs dd {\n",
       "  padding: 0;\n",
       "  margin: 0;\n",
       "  float: left;\n",
       "  padding-right: 10px;\n",
       "  width: auto;\n",
       "}\n",
       "\n",
       ".xr-attrs dt {\n",
       "  font-weight: normal;\n",
       "  grid-column: 1;\n",
       "}\n",
       "\n",
       ".xr-attrs dt:hover span {\n",
       "  display: inline-block;\n",
       "  background: var(--xr-background-color);\n",
       "  padding-right: 10px;\n",
       "}\n",
       "\n",
       ".xr-attrs dd {\n",
       "  grid-column: 2;\n",
       "  white-space: pre-wrap;\n",
       "  word-break: break-all;\n",
       "}\n",
       "\n",
       ".xr-icon-database,\n",
       ".xr-icon-file-text2 {\n",
       "  display: inline-block;\n",
       "  vertical-align: middle;\n",
       "  width: 1em;\n",
       "  height: 1.5em !important;\n",
       "  stroke-width: 0;\n",
       "  stroke: currentColor;\n",
       "  fill: currentColor;\n",
       "}\n",
       "</style><pre class='xr-text-repr-fallback'>&lt;xarray.DataArray &#x27;dem&#x27; ()&gt;\n",
       "array(0.32636989)</pre><div class='xr-wrap' hidden><div class='xr-header'><div class='xr-obj-type'>xarray.DataArray</div><div class='xr-array-name'>'dem'</div></div><ul class='xr-sections'><li class='xr-section-item'><div class='xr-array-wrap'><input id='section-1e45bd56-45d8-45e5-ab79-c087a5b43e91' class='xr-array-in' type='checkbox' checked><label for='section-1e45bd56-45d8-45e5-ab79-c087a5b43e91' title='Show/hide data repr'><svg class='icon xr-icon-database'><use xlink:href='#icon-database'></use></svg></label><div class='xr-array-preview xr-preview'><span>0.3264</span></div><div class='xr-array-data'><pre>array(0.32636989)</pre></div></div></li><li class='xr-section-item'><input id='section-c17159e7-c74e-43f4-819f-a4a3bcfa3967' class='xr-section-summary-in' type='checkbox' disabled ><label for='section-c17159e7-c74e-43f4-819f-a4a3bcfa3967' class='xr-section-summary'  title='Expand/collapse section'>Coordinates: <span>(0)</span></label><div class='xr-section-inline-details'></div><div class='xr-section-details'><ul class='xr-var-list'></ul></div></li><li class='xr-section-item'><input id='section-84e1e8b1-e01d-4a14-995c-9018328d7333' class='xr-section-summary-in' type='checkbox' disabled ><label for='section-84e1e8b1-e01d-4a14-995c-9018328d7333' class='xr-section-summary'  title='Expand/collapse section'>Attributes: <span>(0)</span></label><div class='xr-section-inline-details'></div><div class='xr-section-details'><dl class='xr-attrs'></dl></div></li></ul></div></div>"
      ],
      "text/plain": [
       "<xarray.DataArray 'dem' ()>\n",
       "array(0.32636989)"
      ]
     },
     "execution_count": 35,
     "metadata": {},
     "output_type": "execute_result"
    }
   ],
   "source": [
    "hier_post = trace.posterior.stack(chain_draw=(\"chain\", \"draw\"))\n",
    "hier_post['dem'].mean()"
   ]
  },
  {
   "cell_type": "code",
   "execution_count": 37,
   "id": "891dae5a",
   "metadata": {},
   "outputs": [
    {
     "data": {
      "text/plain": [
       "0.63"
      ]
     },
     "execution_count": 37,
     "metadata": {},
     "output_type": "execute_result"
    }
   ],
   "source": [
    "failures = pm.Bernoulli.dist(pm.math.sigmoid(0.5))\n",
    "failures.random(size=100).mean()"
   ]
  },
  {
   "cell_type": "code",
   "execution_count": 38,
   "id": "7d1953cc",
   "metadata": {},
   "outputs": [
    {
     "data": {
      "text/plain": [
       "0.49839743177508444"
      ]
     },
     "execution_count": 38,
     "metadata": {},
     "output_type": "execute_result"
    }
   ],
   "source": [
    "failures.random(size=100).std()"
   ]
  }
 ],
 "metadata": {
  "celltoolbar": "Slideshow",
  "kernelspec": {
   "display_name": "Python 3.9.12 ('septic')",
   "language": "python",
   "name": "python3"
  },
  "language_info": {
   "codemirror_mode": {
    "name": "ipython",
    "version": 3
   },
   "file_extension": ".py",
   "mimetype": "text/x-python",
   "name": "python",
   "nbconvert_exporter": "python",
   "pygments_lexer": "ipython3",
   "version": "3.9.12"
  },
  "vscode": {
   "interpreter": {
    "hash": "d8da36faa6c94f2357043bbcae61484f1ae39aaf546ae8feb986ac87967df3e3"
   }
  }
 },
 "nbformat": 4,
 "nbformat_minor": 5
}
